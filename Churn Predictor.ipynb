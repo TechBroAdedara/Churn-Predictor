{
 "cells": [
  {
   "cell_type": "code",
   "execution_count": 213,
   "metadata": {},
   "outputs": [],
   "source": [
    "import pandas as pd\n",
    "import numpy as np\n",
    "import matplotlib.pyplot as plt\n",
    "import plotly.express as px \n",
    "from sklearn.preprocessing import MinMaxScaler\n",
    "\n",
    "%matplotlib inline\n",
    "\n",
    "data_df = pd.read_csv(\"data/WA_Fn-UseC_-Telco-Customer-Churn.csv\")"
   ]
  },
  {
   "cell_type": "code",
   "execution_count": 214,
   "metadata": {},
   "outputs": [],
   "source": [
    "def dataoveriew(df):\n",
    "    print(\"Overview of data set:\\n\")\n",
    "    print('Number of rows: ', df.shape[0])\n",
    "    print(\"\\nNumber of features:\", df.shape[1])\n",
    "    print(\"\\nData Features:\")\n",
    "    print(df.columns.tolist())\n",
    "    print(\"\\nMissing values:\", df.isnull().sum().values.sum())\n",
    "    print(\"\\nUnique values:\")\n",
    "    print(df.nunique())"
   ]
  },
  {
   "cell_type": "code",
   "execution_count": 215,
   "metadata": {},
   "outputs": [
    {
     "name": "stdout",
     "output_type": "stream",
     "text": [
      "Overview of data set:\n",
      "\n",
      "Number of rows:  5517\n",
      "\n",
      "Number of features: 21\n",
      "\n",
      "Data Features:\n",
      "['customerID', 'gender', 'SeniorCitizen', 'Partner', 'Dependents', 'tenure', 'PhoneService', 'MultipleLines', 'InternetService', 'OnlineSecurity', 'OnlineBackup', 'DeviceProtection', 'TechSupport', 'StreamingTV', 'StreamingMovies', 'Contract', 'PaperlessBilling', 'PaymentMethod', 'MonthlyCharges', 'TotalCharges', 'Churn']\n",
      "\n",
      "Missing values: 0\n",
      "\n",
      "Unique values:\n",
      "customerID          5517\n",
      "gender                 2\n",
      "SeniorCitizen          2\n",
      "Partner                2\n",
      "Dependents             2\n",
      "tenure                73\n",
      "PhoneService           2\n",
      "MultipleLines          2\n",
      "InternetService        2\n",
      "OnlineSecurity         2\n",
      "OnlineBackup           2\n",
      "DeviceProtection       2\n",
      "TechSupport            2\n",
      "StreamingTV            2\n",
      "StreamingMovies        2\n",
      "Contract               3\n",
      "PaperlessBilling       2\n",
      "PaymentMethod          4\n",
      "MonthlyCharges      1494\n",
      "TotalCharges        5259\n",
      "Churn                  2\n",
      "dtype: int64\n"
     ]
    }
   ],
   "source": [
    "#Necessary Preprocessing steps before visualization. Combining users that dont have internet service with customers that didnt subscribe to a particular service.\n",
    "replace_dict = {'No internet service': 'No',\n",
    "                'No phone service': 'No'}\n",
    "\n",
    "# Replace values in all columns using the replace() method\n",
    "data_df.replace(replace_dict, inplace=True)\n",
    "\n",
    "data_df = data_df.drop(data_df[data_df['InternetService'] == 'No'].index)\n",
    "\n",
    "dataoveriew(data_df)"
   ]
  },
  {
   "cell_type": "markdown",
   "metadata": {},
   "source": [
    "-----------------------------------------------------\n",
    "<h1>Visually exploring the data set</h1>"
   ]
  },
  {
   "cell_type": "code",
   "execution_count": 216,
   "metadata": {},
   "outputs": [],
   "source": [
    "def bar(feature):\n",
    "    temp_df = data_df.groupby([feature, \"Churn\"]).size().reset_index()\n",
    "    temp_df = temp_df.rename({0: \"count\"}, axis=1)\n",
    "    fig = px.bar(temp_df, \n",
    "                 y=\"count\", \n",
    "                 x=feature, \n",
    "                 color=\"Churn\", \n",
    "                 barmode='group', \n",
    "                 color_discrete_sequence=['Green', 'Red'],\n",
    "                 title=f\"Analysis of {feature}\",\n",
    "                 height=400,\n",
    "                 width=700)\n",
    "    fig.show()\n"
   ]
  },
  {
   "cell_type": "code",
   "execution_count": 217,
   "metadata": {},
   "outputs": [
    {
     "name": "stderr",
     "output_type": "stream",
     "text": [
      "C:\\Users\\Adedara\\AppData\\Local\\Temp\\ipykernel_13208\\250664690.py:1: FutureWarning:\n",
      "\n",
      "Setting an item of incompatible dtype is deprecated and will raise in a future error of pandas. Value 'No' has dtype incompatible with int64, please explicitly cast to a compatible dtype first.\n",
      "\n"
     ]
    }
   ],
   "source": [
    "data_df.loc[data_df[\"SeniorCitizen\"]==0, \"SeniorCitizen\"] = \"No\"\n",
    "data_df.loc[data_df[\"SeniorCitizen\"]==1, \"SeniorCitizen\"] = \"Yes\"\n"
   ]
  },
  {
   "cell_type": "markdown",
   "metadata": {},
   "source": [
    "<h3>Demographic Visualization</h3>"
   ]
  },
  {
   "cell_type": "code",
   "execution_count": 218,
   "metadata": {},
   "outputs": [
    {
     "name": "stdout",
     "output_type": "stream",
     "text": [
      "  Churn  count\n",
      "0    No   3761\n",
      "1   Yes   1756\n"
     ]
    },
    {
     "data": {
      "application/vnd.plotly.v1+json": {
       "config": {
        "plotlyServerURL": "https://plot.ly"
       },
       "data": [
        {
         "domain": {
          "x": [
           0,
           1
          ],
          "y": [
           0,
           1
          ]
         },
         "hovertemplate": "Churn=%{label}<br>count=%{value}<extra></extra>",
         "labels": [
          "No",
          "Yes"
         ],
         "legendgroup": "",
         "name": "",
         "showlegend": true,
         "type": "pie",
         "values": [
          3761,
          1756
         ]
        }
       ],
       "layout": {
        "legend": {
         "tracegroupgap": 0
        },
        "piecolorway": [
         "green",
         "red"
        ],
        "template": {
         "data": {
          "bar": [
           {
            "error_x": {
             "color": "#2a3f5f"
            },
            "error_y": {
             "color": "#2a3f5f"
            },
            "marker": {
             "line": {
              "color": "#E5ECF6",
              "width": 0.5
             },
             "pattern": {
              "fillmode": "overlay",
              "size": 10,
              "solidity": 0.2
             }
            },
            "type": "bar"
           }
          ],
          "barpolar": [
           {
            "marker": {
             "line": {
              "color": "#E5ECF6",
              "width": 0.5
             },
             "pattern": {
              "fillmode": "overlay",
              "size": 10,
              "solidity": 0.2
             }
            },
            "type": "barpolar"
           }
          ],
          "carpet": [
           {
            "aaxis": {
             "endlinecolor": "#2a3f5f",
             "gridcolor": "white",
             "linecolor": "white",
             "minorgridcolor": "white",
             "startlinecolor": "#2a3f5f"
            },
            "baxis": {
             "endlinecolor": "#2a3f5f",
             "gridcolor": "white",
             "linecolor": "white",
             "minorgridcolor": "white",
             "startlinecolor": "#2a3f5f"
            },
            "type": "carpet"
           }
          ],
          "choropleth": [
           {
            "colorbar": {
             "outlinewidth": 0,
             "ticks": ""
            },
            "type": "choropleth"
           }
          ],
          "contour": [
           {
            "colorbar": {
             "outlinewidth": 0,
             "ticks": ""
            },
            "colorscale": [
             [
              0,
              "#0d0887"
             ],
             [
              0.1111111111111111,
              "#46039f"
             ],
             [
              0.2222222222222222,
              "#7201a8"
             ],
             [
              0.3333333333333333,
              "#9c179e"
             ],
             [
              0.4444444444444444,
              "#bd3786"
             ],
             [
              0.5555555555555556,
              "#d8576b"
             ],
             [
              0.6666666666666666,
              "#ed7953"
             ],
             [
              0.7777777777777778,
              "#fb9f3a"
             ],
             [
              0.8888888888888888,
              "#fdca26"
             ],
             [
              1,
              "#f0f921"
             ]
            ],
            "type": "contour"
           }
          ],
          "contourcarpet": [
           {
            "colorbar": {
             "outlinewidth": 0,
             "ticks": ""
            },
            "type": "contourcarpet"
           }
          ],
          "heatmap": [
           {
            "colorbar": {
             "outlinewidth": 0,
             "ticks": ""
            },
            "colorscale": [
             [
              0,
              "#0d0887"
             ],
             [
              0.1111111111111111,
              "#46039f"
             ],
             [
              0.2222222222222222,
              "#7201a8"
             ],
             [
              0.3333333333333333,
              "#9c179e"
             ],
             [
              0.4444444444444444,
              "#bd3786"
             ],
             [
              0.5555555555555556,
              "#d8576b"
             ],
             [
              0.6666666666666666,
              "#ed7953"
             ],
             [
              0.7777777777777778,
              "#fb9f3a"
             ],
             [
              0.8888888888888888,
              "#fdca26"
             ],
             [
              1,
              "#f0f921"
             ]
            ],
            "type": "heatmap"
           }
          ],
          "heatmapgl": [
           {
            "colorbar": {
             "outlinewidth": 0,
             "ticks": ""
            },
            "colorscale": [
             [
              0,
              "#0d0887"
             ],
             [
              0.1111111111111111,
              "#46039f"
             ],
             [
              0.2222222222222222,
              "#7201a8"
             ],
             [
              0.3333333333333333,
              "#9c179e"
             ],
             [
              0.4444444444444444,
              "#bd3786"
             ],
             [
              0.5555555555555556,
              "#d8576b"
             ],
             [
              0.6666666666666666,
              "#ed7953"
             ],
             [
              0.7777777777777778,
              "#fb9f3a"
             ],
             [
              0.8888888888888888,
              "#fdca26"
             ],
             [
              1,
              "#f0f921"
             ]
            ],
            "type": "heatmapgl"
           }
          ],
          "histogram": [
           {
            "marker": {
             "pattern": {
              "fillmode": "overlay",
              "size": 10,
              "solidity": 0.2
             }
            },
            "type": "histogram"
           }
          ],
          "histogram2d": [
           {
            "colorbar": {
             "outlinewidth": 0,
             "ticks": ""
            },
            "colorscale": [
             [
              0,
              "#0d0887"
             ],
             [
              0.1111111111111111,
              "#46039f"
             ],
             [
              0.2222222222222222,
              "#7201a8"
             ],
             [
              0.3333333333333333,
              "#9c179e"
             ],
             [
              0.4444444444444444,
              "#bd3786"
             ],
             [
              0.5555555555555556,
              "#d8576b"
             ],
             [
              0.6666666666666666,
              "#ed7953"
             ],
             [
              0.7777777777777778,
              "#fb9f3a"
             ],
             [
              0.8888888888888888,
              "#fdca26"
             ],
             [
              1,
              "#f0f921"
             ]
            ],
            "type": "histogram2d"
           }
          ],
          "histogram2dcontour": [
           {
            "colorbar": {
             "outlinewidth": 0,
             "ticks": ""
            },
            "colorscale": [
             [
              0,
              "#0d0887"
             ],
             [
              0.1111111111111111,
              "#46039f"
             ],
             [
              0.2222222222222222,
              "#7201a8"
             ],
             [
              0.3333333333333333,
              "#9c179e"
             ],
             [
              0.4444444444444444,
              "#bd3786"
             ],
             [
              0.5555555555555556,
              "#d8576b"
             ],
             [
              0.6666666666666666,
              "#ed7953"
             ],
             [
              0.7777777777777778,
              "#fb9f3a"
             ],
             [
              0.8888888888888888,
              "#fdca26"
             ],
             [
              1,
              "#f0f921"
             ]
            ],
            "type": "histogram2dcontour"
           }
          ],
          "mesh3d": [
           {
            "colorbar": {
             "outlinewidth": 0,
             "ticks": ""
            },
            "type": "mesh3d"
           }
          ],
          "parcoords": [
           {
            "line": {
             "colorbar": {
              "outlinewidth": 0,
              "ticks": ""
             }
            },
            "type": "parcoords"
           }
          ],
          "pie": [
           {
            "automargin": true,
            "type": "pie"
           }
          ],
          "scatter": [
           {
            "fillpattern": {
             "fillmode": "overlay",
             "size": 10,
             "solidity": 0.2
            },
            "type": "scatter"
           }
          ],
          "scatter3d": [
           {
            "line": {
             "colorbar": {
              "outlinewidth": 0,
              "ticks": ""
             }
            },
            "marker": {
             "colorbar": {
              "outlinewidth": 0,
              "ticks": ""
             }
            },
            "type": "scatter3d"
           }
          ],
          "scattercarpet": [
           {
            "marker": {
             "colorbar": {
              "outlinewidth": 0,
              "ticks": ""
             }
            },
            "type": "scattercarpet"
           }
          ],
          "scattergeo": [
           {
            "marker": {
             "colorbar": {
              "outlinewidth": 0,
              "ticks": ""
             }
            },
            "type": "scattergeo"
           }
          ],
          "scattergl": [
           {
            "marker": {
             "colorbar": {
              "outlinewidth": 0,
              "ticks": ""
             }
            },
            "type": "scattergl"
           }
          ],
          "scattermapbox": [
           {
            "marker": {
             "colorbar": {
              "outlinewidth": 0,
              "ticks": ""
             }
            },
            "type": "scattermapbox"
           }
          ],
          "scatterpolar": [
           {
            "marker": {
             "colorbar": {
              "outlinewidth": 0,
              "ticks": ""
             }
            },
            "type": "scatterpolar"
           }
          ],
          "scatterpolargl": [
           {
            "marker": {
             "colorbar": {
              "outlinewidth": 0,
              "ticks": ""
             }
            },
            "type": "scatterpolargl"
           }
          ],
          "scatterternary": [
           {
            "marker": {
             "colorbar": {
              "outlinewidth": 0,
              "ticks": ""
             }
            },
            "type": "scatterternary"
           }
          ],
          "surface": [
           {
            "colorbar": {
             "outlinewidth": 0,
             "ticks": ""
            },
            "colorscale": [
             [
              0,
              "#0d0887"
             ],
             [
              0.1111111111111111,
              "#46039f"
             ],
             [
              0.2222222222222222,
              "#7201a8"
             ],
             [
              0.3333333333333333,
              "#9c179e"
             ],
             [
              0.4444444444444444,
              "#bd3786"
             ],
             [
              0.5555555555555556,
              "#d8576b"
             ],
             [
              0.6666666666666666,
              "#ed7953"
             ],
             [
              0.7777777777777778,
              "#fb9f3a"
             ],
             [
              0.8888888888888888,
              "#fdca26"
             ],
             [
              1,
              "#f0f921"
             ]
            ],
            "type": "surface"
           }
          ],
          "table": [
           {
            "cells": {
             "fill": {
              "color": "#EBF0F8"
             },
             "line": {
              "color": "white"
             }
            },
            "header": {
             "fill": {
              "color": "#C8D4E3"
             },
             "line": {
              "color": "white"
             }
            },
            "type": "table"
           }
          ]
         },
         "layout": {
          "annotationdefaults": {
           "arrowcolor": "#2a3f5f",
           "arrowhead": 0,
           "arrowwidth": 1
          },
          "autotypenumbers": "strict",
          "coloraxis": {
           "colorbar": {
            "outlinewidth": 0,
            "ticks": ""
           }
          },
          "colorscale": {
           "diverging": [
            [
             0,
             "#8e0152"
            ],
            [
             0.1,
             "#c51b7d"
            ],
            [
             0.2,
             "#de77ae"
            ],
            [
             0.3,
             "#f1b6da"
            ],
            [
             0.4,
             "#fde0ef"
            ],
            [
             0.5,
             "#f7f7f7"
            ],
            [
             0.6,
             "#e6f5d0"
            ],
            [
             0.7,
             "#b8e186"
            ],
            [
             0.8,
             "#7fbc41"
            ],
            [
             0.9,
             "#4d9221"
            ],
            [
             1,
             "#276419"
            ]
           ],
           "sequential": [
            [
             0,
             "#0d0887"
            ],
            [
             0.1111111111111111,
             "#46039f"
            ],
            [
             0.2222222222222222,
             "#7201a8"
            ],
            [
             0.3333333333333333,
             "#9c179e"
            ],
            [
             0.4444444444444444,
             "#bd3786"
            ],
            [
             0.5555555555555556,
             "#d8576b"
            ],
            [
             0.6666666666666666,
             "#ed7953"
            ],
            [
             0.7777777777777778,
             "#fb9f3a"
            ],
            [
             0.8888888888888888,
             "#fdca26"
            ],
            [
             1,
             "#f0f921"
            ]
           ],
           "sequentialminus": [
            [
             0,
             "#0d0887"
            ],
            [
             0.1111111111111111,
             "#46039f"
            ],
            [
             0.2222222222222222,
             "#7201a8"
            ],
            [
             0.3333333333333333,
             "#9c179e"
            ],
            [
             0.4444444444444444,
             "#bd3786"
            ],
            [
             0.5555555555555556,
             "#d8576b"
            ],
            [
             0.6666666666666666,
             "#ed7953"
            ],
            [
             0.7777777777777778,
             "#fb9f3a"
            ],
            [
             0.8888888888888888,
             "#fdca26"
            ],
            [
             1,
             "#f0f921"
            ]
           ]
          },
          "colorway": [
           "#636efa",
           "#EF553B",
           "#00cc96",
           "#ab63fa",
           "#FFA15A",
           "#19d3f3",
           "#FF6692",
           "#B6E880",
           "#FF97FF",
           "#FECB52"
          ],
          "font": {
           "color": "#2a3f5f"
          },
          "geo": {
           "bgcolor": "white",
           "lakecolor": "white",
           "landcolor": "#E5ECF6",
           "showlakes": true,
           "showland": true,
           "subunitcolor": "white"
          },
          "hoverlabel": {
           "align": "left"
          },
          "hovermode": "closest",
          "mapbox": {
           "style": "light"
          },
          "paper_bgcolor": "white",
          "plot_bgcolor": "#E5ECF6",
          "polar": {
           "angularaxis": {
            "gridcolor": "white",
            "linecolor": "white",
            "ticks": ""
           },
           "bgcolor": "#E5ECF6",
           "radialaxis": {
            "gridcolor": "white",
            "linecolor": "white",
            "ticks": ""
           }
          },
          "scene": {
           "xaxis": {
            "backgroundcolor": "#E5ECF6",
            "gridcolor": "white",
            "gridwidth": 2,
            "linecolor": "white",
            "showbackground": true,
            "ticks": "",
            "zerolinecolor": "white"
           },
           "yaxis": {
            "backgroundcolor": "#E5ECF6",
            "gridcolor": "white",
            "gridwidth": 2,
            "linecolor": "white",
            "showbackground": true,
            "ticks": "",
            "zerolinecolor": "white"
           },
           "zaxis": {
            "backgroundcolor": "#E5ECF6",
            "gridcolor": "white",
            "gridwidth": 2,
            "linecolor": "white",
            "showbackground": true,
            "ticks": "",
            "zerolinecolor": "white"
           }
          },
          "shapedefaults": {
           "line": {
            "color": "#2a3f5f"
           }
          },
          "ternary": {
           "aaxis": {
            "gridcolor": "white",
            "linecolor": "white",
            "ticks": ""
           },
           "baxis": {
            "gridcolor": "white",
            "linecolor": "white",
            "ticks": ""
           },
           "bgcolor": "#E5ECF6",
           "caxis": {
            "gridcolor": "white",
            "linecolor": "white",
            "ticks": ""
           }
          },
          "title": {
           "x": 0.05
          },
          "xaxis": {
           "automargin": true,
           "gridcolor": "white",
           "linecolor": "white",
           "ticks": "",
           "title": {
            "standoff": 15
           },
           "zerolinecolor": "white",
           "zerolinewidth": 2
          },
          "yaxis": {
           "automargin": true,
           "gridcolor": "white",
           "linecolor": "white",
           "ticks": "",
           "title": {
            "standoff": 15
           },
           "zerolinecolor": "white",
           "zerolinewidth": 2
          }
         }
        },
        "title": {
         "text": "Distribution of Churn"
        }
       }
      }
     },
     "metadata": {},
     "output_type": "display_data"
    }
   ],
   "source": [
    "target_instance = data_df[\"Churn\"].value_counts().to_frame().reset_index()\n",
    "print(target_instance)\n",
    "fig = px.pie(target_instance, values='count', names='Churn', color_discrete_sequence=[\"green\", \"red\"],\n",
    "             title='Distribution of Churn')\n",
    "fig.show()"
   ]
  },
  {
   "cell_type": "code",
   "execution_count": 219,
   "metadata": {},
   "outputs": [
    {
     "data": {
      "application/vnd.plotly.v1+json": {
       "config": {
        "plotlyServerURL": "https://plot.ly"
       },
       "data": [
        {
         "alignmentgroup": "True",
         "hovertemplate": "Churn=No<br>gender=%{x}<br>count=%{y}<extra></extra>",
         "legendgroup": "No",
         "marker": {
          "color": "Green",
          "pattern": {
           "shape": ""
          }
         },
         "name": "No",
         "offsetgroup": "No",
         "orientation": "v",
         "showlegend": true,
         "textposition": "auto",
         "type": "bar",
         "x": [
          "Female",
          "Male"
         ],
         "xaxis": "x",
         "y": [
          1858,
          1903
         ],
         "yaxis": "y"
        },
        {
         "alignmentgroup": "True",
         "hovertemplate": "Churn=Yes<br>gender=%{x}<br>count=%{y}<extra></extra>",
         "legendgroup": "Yes",
         "marker": {
          "color": "Red",
          "pattern": {
           "shape": ""
          }
         },
         "name": "Yes",
         "offsetgroup": "Yes",
         "orientation": "v",
         "showlegend": true,
         "textposition": "auto",
         "type": "bar",
         "x": [
          "Female",
          "Male"
         ],
         "xaxis": "x",
         "y": [
          883,
          873
         ],
         "yaxis": "y"
        }
       ],
       "layout": {
        "barmode": "group",
        "height": 400,
        "legend": {
         "title": {
          "text": "Churn"
         },
         "tracegroupgap": 0
        },
        "template": {
         "data": {
          "bar": [
           {
            "error_x": {
             "color": "#2a3f5f"
            },
            "error_y": {
             "color": "#2a3f5f"
            },
            "marker": {
             "line": {
              "color": "#E5ECF6",
              "width": 0.5
             },
             "pattern": {
              "fillmode": "overlay",
              "size": 10,
              "solidity": 0.2
             }
            },
            "type": "bar"
           }
          ],
          "barpolar": [
           {
            "marker": {
             "line": {
              "color": "#E5ECF6",
              "width": 0.5
             },
             "pattern": {
              "fillmode": "overlay",
              "size": 10,
              "solidity": 0.2
             }
            },
            "type": "barpolar"
           }
          ],
          "carpet": [
           {
            "aaxis": {
             "endlinecolor": "#2a3f5f",
             "gridcolor": "white",
             "linecolor": "white",
             "minorgridcolor": "white",
             "startlinecolor": "#2a3f5f"
            },
            "baxis": {
             "endlinecolor": "#2a3f5f",
             "gridcolor": "white",
             "linecolor": "white",
             "minorgridcolor": "white",
             "startlinecolor": "#2a3f5f"
            },
            "type": "carpet"
           }
          ],
          "choropleth": [
           {
            "colorbar": {
             "outlinewidth": 0,
             "ticks": ""
            },
            "type": "choropleth"
           }
          ],
          "contour": [
           {
            "colorbar": {
             "outlinewidth": 0,
             "ticks": ""
            },
            "colorscale": [
             [
              0,
              "#0d0887"
             ],
             [
              0.1111111111111111,
              "#46039f"
             ],
             [
              0.2222222222222222,
              "#7201a8"
             ],
             [
              0.3333333333333333,
              "#9c179e"
             ],
             [
              0.4444444444444444,
              "#bd3786"
             ],
             [
              0.5555555555555556,
              "#d8576b"
             ],
             [
              0.6666666666666666,
              "#ed7953"
             ],
             [
              0.7777777777777778,
              "#fb9f3a"
             ],
             [
              0.8888888888888888,
              "#fdca26"
             ],
             [
              1,
              "#f0f921"
             ]
            ],
            "type": "contour"
           }
          ],
          "contourcarpet": [
           {
            "colorbar": {
             "outlinewidth": 0,
             "ticks": ""
            },
            "type": "contourcarpet"
           }
          ],
          "heatmap": [
           {
            "colorbar": {
             "outlinewidth": 0,
             "ticks": ""
            },
            "colorscale": [
             [
              0,
              "#0d0887"
             ],
             [
              0.1111111111111111,
              "#46039f"
             ],
             [
              0.2222222222222222,
              "#7201a8"
             ],
             [
              0.3333333333333333,
              "#9c179e"
             ],
             [
              0.4444444444444444,
              "#bd3786"
             ],
             [
              0.5555555555555556,
              "#d8576b"
             ],
             [
              0.6666666666666666,
              "#ed7953"
             ],
             [
              0.7777777777777778,
              "#fb9f3a"
             ],
             [
              0.8888888888888888,
              "#fdca26"
             ],
             [
              1,
              "#f0f921"
             ]
            ],
            "type": "heatmap"
           }
          ],
          "heatmapgl": [
           {
            "colorbar": {
             "outlinewidth": 0,
             "ticks": ""
            },
            "colorscale": [
             [
              0,
              "#0d0887"
             ],
             [
              0.1111111111111111,
              "#46039f"
             ],
             [
              0.2222222222222222,
              "#7201a8"
             ],
             [
              0.3333333333333333,
              "#9c179e"
             ],
             [
              0.4444444444444444,
              "#bd3786"
             ],
             [
              0.5555555555555556,
              "#d8576b"
             ],
             [
              0.6666666666666666,
              "#ed7953"
             ],
             [
              0.7777777777777778,
              "#fb9f3a"
             ],
             [
              0.8888888888888888,
              "#fdca26"
             ],
             [
              1,
              "#f0f921"
             ]
            ],
            "type": "heatmapgl"
           }
          ],
          "histogram": [
           {
            "marker": {
             "pattern": {
              "fillmode": "overlay",
              "size": 10,
              "solidity": 0.2
             }
            },
            "type": "histogram"
           }
          ],
          "histogram2d": [
           {
            "colorbar": {
             "outlinewidth": 0,
             "ticks": ""
            },
            "colorscale": [
             [
              0,
              "#0d0887"
             ],
             [
              0.1111111111111111,
              "#46039f"
             ],
             [
              0.2222222222222222,
              "#7201a8"
             ],
             [
              0.3333333333333333,
              "#9c179e"
             ],
             [
              0.4444444444444444,
              "#bd3786"
             ],
             [
              0.5555555555555556,
              "#d8576b"
             ],
             [
              0.6666666666666666,
              "#ed7953"
             ],
             [
              0.7777777777777778,
              "#fb9f3a"
             ],
             [
              0.8888888888888888,
              "#fdca26"
             ],
             [
              1,
              "#f0f921"
             ]
            ],
            "type": "histogram2d"
           }
          ],
          "histogram2dcontour": [
           {
            "colorbar": {
             "outlinewidth": 0,
             "ticks": ""
            },
            "colorscale": [
             [
              0,
              "#0d0887"
             ],
             [
              0.1111111111111111,
              "#46039f"
             ],
             [
              0.2222222222222222,
              "#7201a8"
             ],
             [
              0.3333333333333333,
              "#9c179e"
             ],
             [
              0.4444444444444444,
              "#bd3786"
             ],
             [
              0.5555555555555556,
              "#d8576b"
             ],
             [
              0.6666666666666666,
              "#ed7953"
             ],
             [
              0.7777777777777778,
              "#fb9f3a"
             ],
             [
              0.8888888888888888,
              "#fdca26"
             ],
             [
              1,
              "#f0f921"
             ]
            ],
            "type": "histogram2dcontour"
           }
          ],
          "mesh3d": [
           {
            "colorbar": {
             "outlinewidth": 0,
             "ticks": ""
            },
            "type": "mesh3d"
           }
          ],
          "parcoords": [
           {
            "line": {
             "colorbar": {
              "outlinewidth": 0,
              "ticks": ""
             }
            },
            "type": "parcoords"
           }
          ],
          "pie": [
           {
            "automargin": true,
            "type": "pie"
           }
          ],
          "scatter": [
           {
            "fillpattern": {
             "fillmode": "overlay",
             "size": 10,
             "solidity": 0.2
            },
            "type": "scatter"
           }
          ],
          "scatter3d": [
           {
            "line": {
             "colorbar": {
              "outlinewidth": 0,
              "ticks": ""
             }
            },
            "marker": {
             "colorbar": {
              "outlinewidth": 0,
              "ticks": ""
             }
            },
            "type": "scatter3d"
           }
          ],
          "scattercarpet": [
           {
            "marker": {
             "colorbar": {
              "outlinewidth": 0,
              "ticks": ""
             }
            },
            "type": "scattercarpet"
           }
          ],
          "scattergeo": [
           {
            "marker": {
             "colorbar": {
              "outlinewidth": 0,
              "ticks": ""
             }
            },
            "type": "scattergeo"
           }
          ],
          "scattergl": [
           {
            "marker": {
             "colorbar": {
              "outlinewidth": 0,
              "ticks": ""
             }
            },
            "type": "scattergl"
           }
          ],
          "scattermapbox": [
           {
            "marker": {
             "colorbar": {
              "outlinewidth": 0,
              "ticks": ""
             }
            },
            "type": "scattermapbox"
           }
          ],
          "scatterpolar": [
           {
            "marker": {
             "colorbar": {
              "outlinewidth": 0,
              "ticks": ""
             }
            },
            "type": "scatterpolar"
           }
          ],
          "scatterpolargl": [
           {
            "marker": {
             "colorbar": {
              "outlinewidth": 0,
              "ticks": ""
             }
            },
            "type": "scatterpolargl"
           }
          ],
          "scatterternary": [
           {
            "marker": {
             "colorbar": {
              "outlinewidth": 0,
              "ticks": ""
             }
            },
            "type": "scatterternary"
           }
          ],
          "surface": [
           {
            "colorbar": {
             "outlinewidth": 0,
             "ticks": ""
            },
            "colorscale": [
             [
              0,
              "#0d0887"
             ],
             [
              0.1111111111111111,
              "#46039f"
             ],
             [
              0.2222222222222222,
              "#7201a8"
             ],
             [
              0.3333333333333333,
              "#9c179e"
             ],
             [
              0.4444444444444444,
              "#bd3786"
             ],
             [
              0.5555555555555556,
              "#d8576b"
             ],
             [
              0.6666666666666666,
              "#ed7953"
             ],
             [
              0.7777777777777778,
              "#fb9f3a"
             ],
             [
              0.8888888888888888,
              "#fdca26"
             ],
             [
              1,
              "#f0f921"
             ]
            ],
            "type": "surface"
           }
          ],
          "table": [
           {
            "cells": {
             "fill": {
              "color": "#EBF0F8"
             },
             "line": {
              "color": "white"
             }
            },
            "header": {
             "fill": {
              "color": "#C8D4E3"
             },
             "line": {
              "color": "white"
             }
            },
            "type": "table"
           }
          ]
         },
         "layout": {
          "annotationdefaults": {
           "arrowcolor": "#2a3f5f",
           "arrowhead": 0,
           "arrowwidth": 1
          },
          "autotypenumbers": "strict",
          "coloraxis": {
           "colorbar": {
            "outlinewidth": 0,
            "ticks": ""
           }
          },
          "colorscale": {
           "diverging": [
            [
             0,
             "#8e0152"
            ],
            [
             0.1,
             "#c51b7d"
            ],
            [
             0.2,
             "#de77ae"
            ],
            [
             0.3,
             "#f1b6da"
            ],
            [
             0.4,
             "#fde0ef"
            ],
            [
             0.5,
             "#f7f7f7"
            ],
            [
             0.6,
             "#e6f5d0"
            ],
            [
             0.7,
             "#b8e186"
            ],
            [
             0.8,
             "#7fbc41"
            ],
            [
             0.9,
             "#4d9221"
            ],
            [
             1,
             "#276419"
            ]
           ],
           "sequential": [
            [
             0,
             "#0d0887"
            ],
            [
             0.1111111111111111,
             "#46039f"
            ],
            [
             0.2222222222222222,
             "#7201a8"
            ],
            [
             0.3333333333333333,
             "#9c179e"
            ],
            [
             0.4444444444444444,
             "#bd3786"
            ],
            [
             0.5555555555555556,
             "#d8576b"
            ],
            [
             0.6666666666666666,
             "#ed7953"
            ],
            [
             0.7777777777777778,
             "#fb9f3a"
            ],
            [
             0.8888888888888888,
             "#fdca26"
            ],
            [
             1,
             "#f0f921"
            ]
           ],
           "sequentialminus": [
            [
             0,
             "#0d0887"
            ],
            [
             0.1111111111111111,
             "#46039f"
            ],
            [
             0.2222222222222222,
             "#7201a8"
            ],
            [
             0.3333333333333333,
             "#9c179e"
            ],
            [
             0.4444444444444444,
             "#bd3786"
            ],
            [
             0.5555555555555556,
             "#d8576b"
            ],
            [
             0.6666666666666666,
             "#ed7953"
            ],
            [
             0.7777777777777778,
             "#fb9f3a"
            ],
            [
             0.8888888888888888,
             "#fdca26"
            ],
            [
             1,
             "#f0f921"
            ]
           ]
          },
          "colorway": [
           "#636efa",
           "#EF553B",
           "#00cc96",
           "#ab63fa",
           "#FFA15A",
           "#19d3f3",
           "#FF6692",
           "#B6E880",
           "#FF97FF",
           "#FECB52"
          ],
          "font": {
           "color": "#2a3f5f"
          },
          "geo": {
           "bgcolor": "white",
           "lakecolor": "white",
           "landcolor": "#E5ECF6",
           "showlakes": true,
           "showland": true,
           "subunitcolor": "white"
          },
          "hoverlabel": {
           "align": "left"
          },
          "hovermode": "closest",
          "mapbox": {
           "style": "light"
          },
          "paper_bgcolor": "white",
          "plot_bgcolor": "#E5ECF6",
          "polar": {
           "angularaxis": {
            "gridcolor": "white",
            "linecolor": "white",
            "ticks": ""
           },
           "bgcolor": "#E5ECF6",
           "radialaxis": {
            "gridcolor": "white",
            "linecolor": "white",
            "ticks": ""
           }
          },
          "scene": {
           "xaxis": {
            "backgroundcolor": "#E5ECF6",
            "gridcolor": "white",
            "gridwidth": 2,
            "linecolor": "white",
            "showbackground": true,
            "ticks": "",
            "zerolinecolor": "white"
           },
           "yaxis": {
            "backgroundcolor": "#E5ECF6",
            "gridcolor": "white",
            "gridwidth": 2,
            "linecolor": "white",
            "showbackground": true,
            "ticks": "",
            "zerolinecolor": "white"
           },
           "zaxis": {
            "backgroundcolor": "#E5ECF6",
            "gridcolor": "white",
            "gridwidth": 2,
            "linecolor": "white",
            "showbackground": true,
            "ticks": "",
            "zerolinecolor": "white"
           }
          },
          "shapedefaults": {
           "line": {
            "color": "#2a3f5f"
           }
          },
          "ternary": {
           "aaxis": {
            "gridcolor": "white",
            "linecolor": "white",
            "ticks": ""
           },
           "baxis": {
            "gridcolor": "white",
            "linecolor": "white",
            "ticks": ""
           },
           "bgcolor": "#E5ECF6",
           "caxis": {
            "gridcolor": "white",
            "linecolor": "white",
            "ticks": ""
           }
          },
          "title": {
           "x": 0.05
          },
          "xaxis": {
           "automargin": true,
           "gridcolor": "white",
           "linecolor": "white",
           "ticks": "",
           "title": {
            "standoff": 15
           },
           "zerolinecolor": "white",
           "zerolinewidth": 2
          },
          "yaxis": {
           "automargin": true,
           "gridcolor": "white",
           "linecolor": "white",
           "ticks": "",
           "title": {
            "standoff": 15
           },
           "zerolinecolor": "white",
           "zerolinewidth": 2
          }
         }
        },
        "title": {
         "text": "Analysis of gender"
        },
        "width": 700,
        "xaxis": {
         "anchor": "y",
         "domain": [
          0,
          1
         ],
         "title": {
          "text": "gender"
         }
        },
        "yaxis": {
         "anchor": "x",
         "domain": [
          0,
          1
         ],
         "title": {
          "text": "count"
         }
        }
       }
      }
     },
     "metadata": {},
     "output_type": "display_data"
    },
    {
     "data": {
      "application/vnd.plotly.v1+json": {
       "config": {
        "plotlyServerURL": "https://plot.ly"
       },
       "data": [
        {
         "alignmentgroup": "True",
         "hovertemplate": "Churn=No<br>SeniorCitizen=%{x}<br>count=%{y}<extra></extra>",
         "legendgroup": "No",
         "marker": {
          "color": "Green",
          "pattern": {
           "shape": ""
          }
         },
         "name": "No",
         "offsetgroup": "No",
         "orientation": "v",
         "showlegend": true,
         "textposition": "auto",
         "type": "bar",
         "x": [
          "No",
          "Yes"
         ],
         "xaxis": "x",
         "y": [
          3142,
          619
         ],
         "yaxis": "y"
        },
        {
         "alignmentgroup": "True",
         "hovertemplate": "Churn=Yes<br>SeniorCitizen=%{x}<br>count=%{y}<extra></extra>",
         "legendgroup": "Yes",
         "marker": {
          "color": "Red",
          "pattern": {
           "shape": ""
          }
         },
         "name": "Yes",
         "offsetgroup": "Yes",
         "orientation": "v",
         "showlegend": true,
         "textposition": "auto",
         "type": "bar",
         "x": [
          "No",
          "Yes"
         ],
         "xaxis": "x",
         "y": [
          1285,
          471
         ],
         "yaxis": "y"
        }
       ],
       "layout": {
        "barmode": "group",
        "height": 400,
        "legend": {
         "title": {
          "text": "Churn"
         },
         "tracegroupgap": 0
        },
        "template": {
         "data": {
          "bar": [
           {
            "error_x": {
             "color": "#2a3f5f"
            },
            "error_y": {
             "color": "#2a3f5f"
            },
            "marker": {
             "line": {
              "color": "#E5ECF6",
              "width": 0.5
             },
             "pattern": {
              "fillmode": "overlay",
              "size": 10,
              "solidity": 0.2
             }
            },
            "type": "bar"
           }
          ],
          "barpolar": [
           {
            "marker": {
             "line": {
              "color": "#E5ECF6",
              "width": 0.5
             },
             "pattern": {
              "fillmode": "overlay",
              "size": 10,
              "solidity": 0.2
             }
            },
            "type": "barpolar"
           }
          ],
          "carpet": [
           {
            "aaxis": {
             "endlinecolor": "#2a3f5f",
             "gridcolor": "white",
             "linecolor": "white",
             "minorgridcolor": "white",
             "startlinecolor": "#2a3f5f"
            },
            "baxis": {
             "endlinecolor": "#2a3f5f",
             "gridcolor": "white",
             "linecolor": "white",
             "minorgridcolor": "white",
             "startlinecolor": "#2a3f5f"
            },
            "type": "carpet"
           }
          ],
          "choropleth": [
           {
            "colorbar": {
             "outlinewidth": 0,
             "ticks": ""
            },
            "type": "choropleth"
           }
          ],
          "contour": [
           {
            "colorbar": {
             "outlinewidth": 0,
             "ticks": ""
            },
            "colorscale": [
             [
              0,
              "#0d0887"
             ],
             [
              0.1111111111111111,
              "#46039f"
             ],
             [
              0.2222222222222222,
              "#7201a8"
             ],
             [
              0.3333333333333333,
              "#9c179e"
             ],
             [
              0.4444444444444444,
              "#bd3786"
             ],
             [
              0.5555555555555556,
              "#d8576b"
             ],
             [
              0.6666666666666666,
              "#ed7953"
             ],
             [
              0.7777777777777778,
              "#fb9f3a"
             ],
             [
              0.8888888888888888,
              "#fdca26"
             ],
             [
              1,
              "#f0f921"
             ]
            ],
            "type": "contour"
           }
          ],
          "contourcarpet": [
           {
            "colorbar": {
             "outlinewidth": 0,
             "ticks": ""
            },
            "type": "contourcarpet"
           }
          ],
          "heatmap": [
           {
            "colorbar": {
             "outlinewidth": 0,
             "ticks": ""
            },
            "colorscale": [
             [
              0,
              "#0d0887"
             ],
             [
              0.1111111111111111,
              "#46039f"
             ],
             [
              0.2222222222222222,
              "#7201a8"
             ],
             [
              0.3333333333333333,
              "#9c179e"
             ],
             [
              0.4444444444444444,
              "#bd3786"
             ],
             [
              0.5555555555555556,
              "#d8576b"
             ],
             [
              0.6666666666666666,
              "#ed7953"
             ],
             [
              0.7777777777777778,
              "#fb9f3a"
             ],
             [
              0.8888888888888888,
              "#fdca26"
             ],
             [
              1,
              "#f0f921"
             ]
            ],
            "type": "heatmap"
           }
          ],
          "heatmapgl": [
           {
            "colorbar": {
             "outlinewidth": 0,
             "ticks": ""
            },
            "colorscale": [
             [
              0,
              "#0d0887"
             ],
             [
              0.1111111111111111,
              "#46039f"
             ],
             [
              0.2222222222222222,
              "#7201a8"
             ],
             [
              0.3333333333333333,
              "#9c179e"
             ],
             [
              0.4444444444444444,
              "#bd3786"
             ],
             [
              0.5555555555555556,
              "#d8576b"
             ],
             [
              0.6666666666666666,
              "#ed7953"
             ],
             [
              0.7777777777777778,
              "#fb9f3a"
             ],
             [
              0.8888888888888888,
              "#fdca26"
             ],
             [
              1,
              "#f0f921"
             ]
            ],
            "type": "heatmapgl"
           }
          ],
          "histogram": [
           {
            "marker": {
             "pattern": {
              "fillmode": "overlay",
              "size": 10,
              "solidity": 0.2
             }
            },
            "type": "histogram"
           }
          ],
          "histogram2d": [
           {
            "colorbar": {
             "outlinewidth": 0,
             "ticks": ""
            },
            "colorscale": [
             [
              0,
              "#0d0887"
             ],
             [
              0.1111111111111111,
              "#46039f"
             ],
             [
              0.2222222222222222,
              "#7201a8"
             ],
             [
              0.3333333333333333,
              "#9c179e"
             ],
             [
              0.4444444444444444,
              "#bd3786"
             ],
             [
              0.5555555555555556,
              "#d8576b"
             ],
             [
              0.6666666666666666,
              "#ed7953"
             ],
             [
              0.7777777777777778,
              "#fb9f3a"
             ],
             [
              0.8888888888888888,
              "#fdca26"
             ],
             [
              1,
              "#f0f921"
             ]
            ],
            "type": "histogram2d"
           }
          ],
          "histogram2dcontour": [
           {
            "colorbar": {
             "outlinewidth": 0,
             "ticks": ""
            },
            "colorscale": [
             [
              0,
              "#0d0887"
             ],
             [
              0.1111111111111111,
              "#46039f"
             ],
             [
              0.2222222222222222,
              "#7201a8"
             ],
             [
              0.3333333333333333,
              "#9c179e"
             ],
             [
              0.4444444444444444,
              "#bd3786"
             ],
             [
              0.5555555555555556,
              "#d8576b"
             ],
             [
              0.6666666666666666,
              "#ed7953"
             ],
             [
              0.7777777777777778,
              "#fb9f3a"
             ],
             [
              0.8888888888888888,
              "#fdca26"
             ],
             [
              1,
              "#f0f921"
             ]
            ],
            "type": "histogram2dcontour"
           }
          ],
          "mesh3d": [
           {
            "colorbar": {
             "outlinewidth": 0,
             "ticks": ""
            },
            "type": "mesh3d"
           }
          ],
          "parcoords": [
           {
            "line": {
             "colorbar": {
              "outlinewidth": 0,
              "ticks": ""
             }
            },
            "type": "parcoords"
           }
          ],
          "pie": [
           {
            "automargin": true,
            "type": "pie"
           }
          ],
          "scatter": [
           {
            "fillpattern": {
             "fillmode": "overlay",
             "size": 10,
             "solidity": 0.2
            },
            "type": "scatter"
           }
          ],
          "scatter3d": [
           {
            "line": {
             "colorbar": {
              "outlinewidth": 0,
              "ticks": ""
             }
            },
            "marker": {
             "colorbar": {
              "outlinewidth": 0,
              "ticks": ""
             }
            },
            "type": "scatter3d"
           }
          ],
          "scattercarpet": [
           {
            "marker": {
             "colorbar": {
              "outlinewidth": 0,
              "ticks": ""
             }
            },
            "type": "scattercarpet"
           }
          ],
          "scattergeo": [
           {
            "marker": {
             "colorbar": {
              "outlinewidth": 0,
              "ticks": ""
             }
            },
            "type": "scattergeo"
           }
          ],
          "scattergl": [
           {
            "marker": {
             "colorbar": {
              "outlinewidth": 0,
              "ticks": ""
             }
            },
            "type": "scattergl"
           }
          ],
          "scattermapbox": [
           {
            "marker": {
             "colorbar": {
              "outlinewidth": 0,
              "ticks": ""
             }
            },
            "type": "scattermapbox"
           }
          ],
          "scatterpolar": [
           {
            "marker": {
             "colorbar": {
              "outlinewidth": 0,
              "ticks": ""
             }
            },
            "type": "scatterpolar"
           }
          ],
          "scatterpolargl": [
           {
            "marker": {
             "colorbar": {
              "outlinewidth": 0,
              "ticks": ""
             }
            },
            "type": "scatterpolargl"
           }
          ],
          "scatterternary": [
           {
            "marker": {
             "colorbar": {
              "outlinewidth": 0,
              "ticks": ""
             }
            },
            "type": "scatterternary"
           }
          ],
          "surface": [
           {
            "colorbar": {
             "outlinewidth": 0,
             "ticks": ""
            },
            "colorscale": [
             [
              0,
              "#0d0887"
             ],
             [
              0.1111111111111111,
              "#46039f"
             ],
             [
              0.2222222222222222,
              "#7201a8"
             ],
             [
              0.3333333333333333,
              "#9c179e"
             ],
             [
              0.4444444444444444,
              "#bd3786"
             ],
             [
              0.5555555555555556,
              "#d8576b"
             ],
             [
              0.6666666666666666,
              "#ed7953"
             ],
             [
              0.7777777777777778,
              "#fb9f3a"
             ],
             [
              0.8888888888888888,
              "#fdca26"
             ],
             [
              1,
              "#f0f921"
             ]
            ],
            "type": "surface"
           }
          ],
          "table": [
           {
            "cells": {
             "fill": {
              "color": "#EBF0F8"
             },
             "line": {
              "color": "white"
             }
            },
            "header": {
             "fill": {
              "color": "#C8D4E3"
             },
             "line": {
              "color": "white"
             }
            },
            "type": "table"
           }
          ]
         },
         "layout": {
          "annotationdefaults": {
           "arrowcolor": "#2a3f5f",
           "arrowhead": 0,
           "arrowwidth": 1
          },
          "autotypenumbers": "strict",
          "coloraxis": {
           "colorbar": {
            "outlinewidth": 0,
            "ticks": ""
           }
          },
          "colorscale": {
           "diverging": [
            [
             0,
             "#8e0152"
            ],
            [
             0.1,
             "#c51b7d"
            ],
            [
             0.2,
             "#de77ae"
            ],
            [
             0.3,
             "#f1b6da"
            ],
            [
             0.4,
             "#fde0ef"
            ],
            [
             0.5,
             "#f7f7f7"
            ],
            [
             0.6,
             "#e6f5d0"
            ],
            [
             0.7,
             "#b8e186"
            ],
            [
             0.8,
             "#7fbc41"
            ],
            [
             0.9,
             "#4d9221"
            ],
            [
             1,
             "#276419"
            ]
           ],
           "sequential": [
            [
             0,
             "#0d0887"
            ],
            [
             0.1111111111111111,
             "#46039f"
            ],
            [
             0.2222222222222222,
             "#7201a8"
            ],
            [
             0.3333333333333333,
             "#9c179e"
            ],
            [
             0.4444444444444444,
             "#bd3786"
            ],
            [
             0.5555555555555556,
             "#d8576b"
            ],
            [
             0.6666666666666666,
             "#ed7953"
            ],
            [
             0.7777777777777778,
             "#fb9f3a"
            ],
            [
             0.8888888888888888,
             "#fdca26"
            ],
            [
             1,
             "#f0f921"
            ]
           ],
           "sequentialminus": [
            [
             0,
             "#0d0887"
            ],
            [
             0.1111111111111111,
             "#46039f"
            ],
            [
             0.2222222222222222,
             "#7201a8"
            ],
            [
             0.3333333333333333,
             "#9c179e"
            ],
            [
             0.4444444444444444,
             "#bd3786"
            ],
            [
             0.5555555555555556,
             "#d8576b"
            ],
            [
             0.6666666666666666,
             "#ed7953"
            ],
            [
             0.7777777777777778,
             "#fb9f3a"
            ],
            [
             0.8888888888888888,
             "#fdca26"
            ],
            [
             1,
             "#f0f921"
            ]
           ]
          },
          "colorway": [
           "#636efa",
           "#EF553B",
           "#00cc96",
           "#ab63fa",
           "#FFA15A",
           "#19d3f3",
           "#FF6692",
           "#B6E880",
           "#FF97FF",
           "#FECB52"
          ],
          "font": {
           "color": "#2a3f5f"
          },
          "geo": {
           "bgcolor": "white",
           "lakecolor": "white",
           "landcolor": "#E5ECF6",
           "showlakes": true,
           "showland": true,
           "subunitcolor": "white"
          },
          "hoverlabel": {
           "align": "left"
          },
          "hovermode": "closest",
          "mapbox": {
           "style": "light"
          },
          "paper_bgcolor": "white",
          "plot_bgcolor": "#E5ECF6",
          "polar": {
           "angularaxis": {
            "gridcolor": "white",
            "linecolor": "white",
            "ticks": ""
           },
           "bgcolor": "#E5ECF6",
           "radialaxis": {
            "gridcolor": "white",
            "linecolor": "white",
            "ticks": ""
           }
          },
          "scene": {
           "xaxis": {
            "backgroundcolor": "#E5ECF6",
            "gridcolor": "white",
            "gridwidth": 2,
            "linecolor": "white",
            "showbackground": true,
            "ticks": "",
            "zerolinecolor": "white"
           },
           "yaxis": {
            "backgroundcolor": "#E5ECF6",
            "gridcolor": "white",
            "gridwidth": 2,
            "linecolor": "white",
            "showbackground": true,
            "ticks": "",
            "zerolinecolor": "white"
           },
           "zaxis": {
            "backgroundcolor": "#E5ECF6",
            "gridcolor": "white",
            "gridwidth": 2,
            "linecolor": "white",
            "showbackground": true,
            "ticks": "",
            "zerolinecolor": "white"
           }
          },
          "shapedefaults": {
           "line": {
            "color": "#2a3f5f"
           }
          },
          "ternary": {
           "aaxis": {
            "gridcolor": "white",
            "linecolor": "white",
            "ticks": ""
           },
           "baxis": {
            "gridcolor": "white",
            "linecolor": "white",
            "ticks": ""
           },
           "bgcolor": "#E5ECF6",
           "caxis": {
            "gridcolor": "white",
            "linecolor": "white",
            "ticks": ""
           }
          },
          "title": {
           "x": 0.05
          },
          "xaxis": {
           "automargin": true,
           "gridcolor": "white",
           "linecolor": "white",
           "ticks": "",
           "title": {
            "standoff": 15
           },
           "zerolinecolor": "white",
           "zerolinewidth": 2
          },
          "yaxis": {
           "automargin": true,
           "gridcolor": "white",
           "linecolor": "white",
           "ticks": "",
           "title": {
            "standoff": 15
           },
           "zerolinecolor": "white",
           "zerolinewidth": 2
          }
         }
        },
        "title": {
         "text": "Analysis of SeniorCitizen"
        },
        "width": 700,
        "xaxis": {
         "anchor": "y",
         "domain": [
          0,
          1
         ],
         "title": {
          "text": "SeniorCitizen"
         }
        },
        "yaxis": {
         "anchor": "x",
         "domain": [
          0,
          1
         ],
         "title": {
          "text": "count"
         }
        }
       }
      }
     },
     "metadata": {},
     "output_type": "display_data"
    },
    {
     "data": {
      "application/vnd.plotly.v1+json": {
       "config": {
        "plotlyServerURL": "https://plot.ly"
       },
       "data": [
        {
         "alignmentgroup": "True",
         "hovertemplate": "Churn=No<br>Partner=%{x}<br>count=%{y}<extra></extra>",
         "legendgroup": "No",
         "marker": {
          "color": "Green",
          "pattern": {
           "shape": ""
          }
         },
         "name": "No",
         "offsetgroup": "No",
         "orientation": "v",
         "showlegend": true,
         "textposition": "auto",
         "type": "bar",
         "x": [
          "No",
          "Yes"
         ],
         "xaxis": "x",
         "y": [
          1737,
          2024
         ],
         "yaxis": "y"
        },
        {
         "alignmentgroup": "True",
         "hovertemplate": "Churn=Yes<br>Partner=%{x}<br>count=%{y}<extra></extra>",
         "legendgroup": "Yes",
         "marker": {
          "color": "Red",
          "pattern": {
           "shape": ""
          }
         },
         "name": "Yes",
         "offsetgroup": "Yes",
         "orientation": "v",
         "showlegend": true,
         "textposition": "auto",
         "type": "bar",
         "x": [
          "No",
          "Yes"
         ],
         "xaxis": "x",
         "y": [
          1116,
          640
         ],
         "yaxis": "y"
        }
       ],
       "layout": {
        "barmode": "group",
        "height": 400,
        "legend": {
         "title": {
          "text": "Churn"
         },
         "tracegroupgap": 0
        },
        "template": {
         "data": {
          "bar": [
           {
            "error_x": {
             "color": "#2a3f5f"
            },
            "error_y": {
             "color": "#2a3f5f"
            },
            "marker": {
             "line": {
              "color": "#E5ECF6",
              "width": 0.5
             },
             "pattern": {
              "fillmode": "overlay",
              "size": 10,
              "solidity": 0.2
             }
            },
            "type": "bar"
           }
          ],
          "barpolar": [
           {
            "marker": {
             "line": {
              "color": "#E5ECF6",
              "width": 0.5
             },
             "pattern": {
              "fillmode": "overlay",
              "size": 10,
              "solidity": 0.2
             }
            },
            "type": "barpolar"
           }
          ],
          "carpet": [
           {
            "aaxis": {
             "endlinecolor": "#2a3f5f",
             "gridcolor": "white",
             "linecolor": "white",
             "minorgridcolor": "white",
             "startlinecolor": "#2a3f5f"
            },
            "baxis": {
             "endlinecolor": "#2a3f5f",
             "gridcolor": "white",
             "linecolor": "white",
             "minorgridcolor": "white",
             "startlinecolor": "#2a3f5f"
            },
            "type": "carpet"
           }
          ],
          "choropleth": [
           {
            "colorbar": {
             "outlinewidth": 0,
             "ticks": ""
            },
            "type": "choropleth"
           }
          ],
          "contour": [
           {
            "colorbar": {
             "outlinewidth": 0,
             "ticks": ""
            },
            "colorscale": [
             [
              0,
              "#0d0887"
             ],
             [
              0.1111111111111111,
              "#46039f"
             ],
             [
              0.2222222222222222,
              "#7201a8"
             ],
             [
              0.3333333333333333,
              "#9c179e"
             ],
             [
              0.4444444444444444,
              "#bd3786"
             ],
             [
              0.5555555555555556,
              "#d8576b"
             ],
             [
              0.6666666666666666,
              "#ed7953"
             ],
             [
              0.7777777777777778,
              "#fb9f3a"
             ],
             [
              0.8888888888888888,
              "#fdca26"
             ],
             [
              1,
              "#f0f921"
             ]
            ],
            "type": "contour"
           }
          ],
          "contourcarpet": [
           {
            "colorbar": {
             "outlinewidth": 0,
             "ticks": ""
            },
            "type": "contourcarpet"
           }
          ],
          "heatmap": [
           {
            "colorbar": {
             "outlinewidth": 0,
             "ticks": ""
            },
            "colorscale": [
             [
              0,
              "#0d0887"
             ],
             [
              0.1111111111111111,
              "#46039f"
             ],
             [
              0.2222222222222222,
              "#7201a8"
             ],
             [
              0.3333333333333333,
              "#9c179e"
             ],
             [
              0.4444444444444444,
              "#bd3786"
             ],
             [
              0.5555555555555556,
              "#d8576b"
             ],
             [
              0.6666666666666666,
              "#ed7953"
             ],
             [
              0.7777777777777778,
              "#fb9f3a"
             ],
             [
              0.8888888888888888,
              "#fdca26"
             ],
             [
              1,
              "#f0f921"
             ]
            ],
            "type": "heatmap"
           }
          ],
          "heatmapgl": [
           {
            "colorbar": {
             "outlinewidth": 0,
             "ticks": ""
            },
            "colorscale": [
             [
              0,
              "#0d0887"
             ],
             [
              0.1111111111111111,
              "#46039f"
             ],
             [
              0.2222222222222222,
              "#7201a8"
             ],
             [
              0.3333333333333333,
              "#9c179e"
             ],
             [
              0.4444444444444444,
              "#bd3786"
             ],
             [
              0.5555555555555556,
              "#d8576b"
             ],
             [
              0.6666666666666666,
              "#ed7953"
             ],
             [
              0.7777777777777778,
              "#fb9f3a"
             ],
             [
              0.8888888888888888,
              "#fdca26"
             ],
             [
              1,
              "#f0f921"
             ]
            ],
            "type": "heatmapgl"
           }
          ],
          "histogram": [
           {
            "marker": {
             "pattern": {
              "fillmode": "overlay",
              "size": 10,
              "solidity": 0.2
             }
            },
            "type": "histogram"
           }
          ],
          "histogram2d": [
           {
            "colorbar": {
             "outlinewidth": 0,
             "ticks": ""
            },
            "colorscale": [
             [
              0,
              "#0d0887"
             ],
             [
              0.1111111111111111,
              "#46039f"
             ],
             [
              0.2222222222222222,
              "#7201a8"
             ],
             [
              0.3333333333333333,
              "#9c179e"
             ],
             [
              0.4444444444444444,
              "#bd3786"
             ],
             [
              0.5555555555555556,
              "#d8576b"
             ],
             [
              0.6666666666666666,
              "#ed7953"
             ],
             [
              0.7777777777777778,
              "#fb9f3a"
             ],
             [
              0.8888888888888888,
              "#fdca26"
             ],
             [
              1,
              "#f0f921"
             ]
            ],
            "type": "histogram2d"
           }
          ],
          "histogram2dcontour": [
           {
            "colorbar": {
             "outlinewidth": 0,
             "ticks": ""
            },
            "colorscale": [
             [
              0,
              "#0d0887"
             ],
             [
              0.1111111111111111,
              "#46039f"
             ],
             [
              0.2222222222222222,
              "#7201a8"
             ],
             [
              0.3333333333333333,
              "#9c179e"
             ],
             [
              0.4444444444444444,
              "#bd3786"
             ],
             [
              0.5555555555555556,
              "#d8576b"
             ],
             [
              0.6666666666666666,
              "#ed7953"
             ],
             [
              0.7777777777777778,
              "#fb9f3a"
             ],
             [
              0.8888888888888888,
              "#fdca26"
             ],
             [
              1,
              "#f0f921"
             ]
            ],
            "type": "histogram2dcontour"
           }
          ],
          "mesh3d": [
           {
            "colorbar": {
             "outlinewidth": 0,
             "ticks": ""
            },
            "type": "mesh3d"
           }
          ],
          "parcoords": [
           {
            "line": {
             "colorbar": {
              "outlinewidth": 0,
              "ticks": ""
             }
            },
            "type": "parcoords"
           }
          ],
          "pie": [
           {
            "automargin": true,
            "type": "pie"
           }
          ],
          "scatter": [
           {
            "fillpattern": {
             "fillmode": "overlay",
             "size": 10,
             "solidity": 0.2
            },
            "type": "scatter"
           }
          ],
          "scatter3d": [
           {
            "line": {
             "colorbar": {
              "outlinewidth": 0,
              "ticks": ""
             }
            },
            "marker": {
             "colorbar": {
              "outlinewidth": 0,
              "ticks": ""
             }
            },
            "type": "scatter3d"
           }
          ],
          "scattercarpet": [
           {
            "marker": {
             "colorbar": {
              "outlinewidth": 0,
              "ticks": ""
             }
            },
            "type": "scattercarpet"
           }
          ],
          "scattergeo": [
           {
            "marker": {
             "colorbar": {
              "outlinewidth": 0,
              "ticks": ""
             }
            },
            "type": "scattergeo"
           }
          ],
          "scattergl": [
           {
            "marker": {
             "colorbar": {
              "outlinewidth": 0,
              "ticks": ""
             }
            },
            "type": "scattergl"
           }
          ],
          "scattermapbox": [
           {
            "marker": {
             "colorbar": {
              "outlinewidth": 0,
              "ticks": ""
             }
            },
            "type": "scattermapbox"
           }
          ],
          "scatterpolar": [
           {
            "marker": {
             "colorbar": {
              "outlinewidth": 0,
              "ticks": ""
             }
            },
            "type": "scatterpolar"
           }
          ],
          "scatterpolargl": [
           {
            "marker": {
             "colorbar": {
              "outlinewidth": 0,
              "ticks": ""
             }
            },
            "type": "scatterpolargl"
           }
          ],
          "scatterternary": [
           {
            "marker": {
             "colorbar": {
              "outlinewidth": 0,
              "ticks": ""
             }
            },
            "type": "scatterternary"
           }
          ],
          "surface": [
           {
            "colorbar": {
             "outlinewidth": 0,
             "ticks": ""
            },
            "colorscale": [
             [
              0,
              "#0d0887"
             ],
             [
              0.1111111111111111,
              "#46039f"
             ],
             [
              0.2222222222222222,
              "#7201a8"
             ],
             [
              0.3333333333333333,
              "#9c179e"
             ],
             [
              0.4444444444444444,
              "#bd3786"
             ],
             [
              0.5555555555555556,
              "#d8576b"
             ],
             [
              0.6666666666666666,
              "#ed7953"
             ],
             [
              0.7777777777777778,
              "#fb9f3a"
             ],
             [
              0.8888888888888888,
              "#fdca26"
             ],
             [
              1,
              "#f0f921"
             ]
            ],
            "type": "surface"
           }
          ],
          "table": [
           {
            "cells": {
             "fill": {
              "color": "#EBF0F8"
             },
             "line": {
              "color": "white"
             }
            },
            "header": {
             "fill": {
              "color": "#C8D4E3"
             },
             "line": {
              "color": "white"
             }
            },
            "type": "table"
           }
          ]
         },
         "layout": {
          "annotationdefaults": {
           "arrowcolor": "#2a3f5f",
           "arrowhead": 0,
           "arrowwidth": 1
          },
          "autotypenumbers": "strict",
          "coloraxis": {
           "colorbar": {
            "outlinewidth": 0,
            "ticks": ""
           }
          },
          "colorscale": {
           "diverging": [
            [
             0,
             "#8e0152"
            ],
            [
             0.1,
             "#c51b7d"
            ],
            [
             0.2,
             "#de77ae"
            ],
            [
             0.3,
             "#f1b6da"
            ],
            [
             0.4,
             "#fde0ef"
            ],
            [
             0.5,
             "#f7f7f7"
            ],
            [
             0.6,
             "#e6f5d0"
            ],
            [
             0.7,
             "#b8e186"
            ],
            [
             0.8,
             "#7fbc41"
            ],
            [
             0.9,
             "#4d9221"
            ],
            [
             1,
             "#276419"
            ]
           ],
           "sequential": [
            [
             0,
             "#0d0887"
            ],
            [
             0.1111111111111111,
             "#46039f"
            ],
            [
             0.2222222222222222,
             "#7201a8"
            ],
            [
             0.3333333333333333,
             "#9c179e"
            ],
            [
             0.4444444444444444,
             "#bd3786"
            ],
            [
             0.5555555555555556,
             "#d8576b"
            ],
            [
             0.6666666666666666,
             "#ed7953"
            ],
            [
             0.7777777777777778,
             "#fb9f3a"
            ],
            [
             0.8888888888888888,
             "#fdca26"
            ],
            [
             1,
             "#f0f921"
            ]
           ],
           "sequentialminus": [
            [
             0,
             "#0d0887"
            ],
            [
             0.1111111111111111,
             "#46039f"
            ],
            [
             0.2222222222222222,
             "#7201a8"
            ],
            [
             0.3333333333333333,
             "#9c179e"
            ],
            [
             0.4444444444444444,
             "#bd3786"
            ],
            [
             0.5555555555555556,
             "#d8576b"
            ],
            [
             0.6666666666666666,
             "#ed7953"
            ],
            [
             0.7777777777777778,
             "#fb9f3a"
            ],
            [
             0.8888888888888888,
             "#fdca26"
            ],
            [
             1,
             "#f0f921"
            ]
           ]
          },
          "colorway": [
           "#636efa",
           "#EF553B",
           "#00cc96",
           "#ab63fa",
           "#FFA15A",
           "#19d3f3",
           "#FF6692",
           "#B6E880",
           "#FF97FF",
           "#FECB52"
          ],
          "font": {
           "color": "#2a3f5f"
          },
          "geo": {
           "bgcolor": "white",
           "lakecolor": "white",
           "landcolor": "#E5ECF6",
           "showlakes": true,
           "showland": true,
           "subunitcolor": "white"
          },
          "hoverlabel": {
           "align": "left"
          },
          "hovermode": "closest",
          "mapbox": {
           "style": "light"
          },
          "paper_bgcolor": "white",
          "plot_bgcolor": "#E5ECF6",
          "polar": {
           "angularaxis": {
            "gridcolor": "white",
            "linecolor": "white",
            "ticks": ""
           },
           "bgcolor": "#E5ECF6",
           "radialaxis": {
            "gridcolor": "white",
            "linecolor": "white",
            "ticks": ""
           }
          },
          "scene": {
           "xaxis": {
            "backgroundcolor": "#E5ECF6",
            "gridcolor": "white",
            "gridwidth": 2,
            "linecolor": "white",
            "showbackground": true,
            "ticks": "",
            "zerolinecolor": "white"
           },
           "yaxis": {
            "backgroundcolor": "#E5ECF6",
            "gridcolor": "white",
            "gridwidth": 2,
            "linecolor": "white",
            "showbackground": true,
            "ticks": "",
            "zerolinecolor": "white"
           },
           "zaxis": {
            "backgroundcolor": "#E5ECF6",
            "gridcolor": "white",
            "gridwidth": 2,
            "linecolor": "white",
            "showbackground": true,
            "ticks": "",
            "zerolinecolor": "white"
           }
          },
          "shapedefaults": {
           "line": {
            "color": "#2a3f5f"
           }
          },
          "ternary": {
           "aaxis": {
            "gridcolor": "white",
            "linecolor": "white",
            "ticks": ""
           },
           "baxis": {
            "gridcolor": "white",
            "linecolor": "white",
            "ticks": ""
           },
           "bgcolor": "#E5ECF6",
           "caxis": {
            "gridcolor": "white",
            "linecolor": "white",
            "ticks": ""
           }
          },
          "title": {
           "x": 0.05
          },
          "xaxis": {
           "automargin": true,
           "gridcolor": "white",
           "linecolor": "white",
           "ticks": "",
           "title": {
            "standoff": 15
           },
           "zerolinecolor": "white",
           "zerolinewidth": 2
          },
          "yaxis": {
           "automargin": true,
           "gridcolor": "white",
           "linecolor": "white",
           "ticks": "",
           "title": {
            "standoff": 15
           },
           "zerolinecolor": "white",
           "zerolinewidth": 2
          }
         }
        },
        "title": {
         "text": "Analysis of Partner"
        },
        "width": 700,
        "xaxis": {
         "anchor": "y",
         "domain": [
          0,
          1
         ],
         "title": {
          "text": "Partner"
         }
        },
        "yaxis": {
         "anchor": "x",
         "domain": [
          0,
          1
         ],
         "title": {
          "text": "count"
         }
        }
       }
      }
     },
     "metadata": {},
     "output_type": "display_data"
    },
    {
     "data": {
      "application/vnd.plotly.v1+json": {
       "config": {
        "plotlyServerURL": "https://plot.ly"
       },
       "data": [
        {
         "alignmentgroup": "True",
         "hovertemplate": "Churn=No<br>Dependents=%{x}<br>count=%{y}<extra></extra>",
         "legendgroup": "No",
         "marker": {
          "color": "Green",
          "pattern": {
           "shape": ""
          }
         },
         "name": "No",
         "offsetgroup": "No",
         "orientation": "v",
         "showlegend": true,
         "textposition": "auto",
         "type": "bar",
         "x": [
          "No",
          "Yes"
         ],
         "xaxis": "x",
         "y": [
          2592,
          1169
         ],
         "yaxis": "y"
        },
        {
         "alignmentgroup": "True",
         "hovertemplate": "Churn=Yes<br>Dependents=%{x}<br>count=%{y}<extra></extra>",
         "legendgroup": "Yes",
         "marker": {
          "color": "Red",
          "pattern": {
           "shape": ""
          }
         },
         "name": "Yes",
         "offsetgroup": "Yes",
         "orientation": "v",
         "showlegend": true,
         "textposition": "auto",
         "type": "bar",
         "x": [
          "No",
          "Yes"
         ],
         "xaxis": "x",
         "y": [
          1458,
          298
         ],
         "yaxis": "y"
        }
       ],
       "layout": {
        "barmode": "group",
        "height": 400,
        "legend": {
         "title": {
          "text": "Churn"
         },
         "tracegroupgap": 0
        },
        "template": {
         "data": {
          "bar": [
           {
            "error_x": {
             "color": "#2a3f5f"
            },
            "error_y": {
             "color": "#2a3f5f"
            },
            "marker": {
             "line": {
              "color": "#E5ECF6",
              "width": 0.5
             },
             "pattern": {
              "fillmode": "overlay",
              "size": 10,
              "solidity": 0.2
             }
            },
            "type": "bar"
           }
          ],
          "barpolar": [
           {
            "marker": {
             "line": {
              "color": "#E5ECF6",
              "width": 0.5
             },
             "pattern": {
              "fillmode": "overlay",
              "size": 10,
              "solidity": 0.2
             }
            },
            "type": "barpolar"
           }
          ],
          "carpet": [
           {
            "aaxis": {
             "endlinecolor": "#2a3f5f",
             "gridcolor": "white",
             "linecolor": "white",
             "minorgridcolor": "white",
             "startlinecolor": "#2a3f5f"
            },
            "baxis": {
             "endlinecolor": "#2a3f5f",
             "gridcolor": "white",
             "linecolor": "white",
             "minorgridcolor": "white",
             "startlinecolor": "#2a3f5f"
            },
            "type": "carpet"
           }
          ],
          "choropleth": [
           {
            "colorbar": {
             "outlinewidth": 0,
             "ticks": ""
            },
            "type": "choropleth"
           }
          ],
          "contour": [
           {
            "colorbar": {
             "outlinewidth": 0,
             "ticks": ""
            },
            "colorscale": [
             [
              0,
              "#0d0887"
             ],
             [
              0.1111111111111111,
              "#46039f"
             ],
             [
              0.2222222222222222,
              "#7201a8"
             ],
             [
              0.3333333333333333,
              "#9c179e"
             ],
             [
              0.4444444444444444,
              "#bd3786"
             ],
             [
              0.5555555555555556,
              "#d8576b"
             ],
             [
              0.6666666666666666,
              "#ed7953"
             ],
             [
              0.7777777777777778,
              "#fb9f3a"
             ],
             [
              0.8888888888888888,
              "#fdca26"
             ],
             [
              1,
              "#f0f921"
             ]
            ],
            "type": "contour"
           }
          ],
          "contourcarpet": [
           {
            "colorbar": {
             "outlinewidth": 0,
             "ticks": ""
            },
            "type": "contourcarpet"
           }
          ],
          "heatmap": [
           {
            "colorbar": {
             "outlinewidth": 0,
             "ticks": ""
            },
            "colorscale": [
             [
              0,
              "#0d0887"
             ],
             [
              0.1111111111111111,
              "#46039f"
             ],
             [
              0.2222222222222222,
              "#7201a8"
             ],
             [
              0.3333333333333333,
              "#9c179e"
             ],
             [
              0.4444444444444444,
              "#bd3786"
             ],
             [
              0.5555555555555556,
              "#d8576b"
             ],
             [
              0.6666666666666666,
              "#ed7953"
             ],
             [
              0.7777777777777778,
              "#fb9f3a"
             ],
             [
              0.8888888888888888,
              "#fdca26"
             ],
             [
              1,
              "#f0f921"
             ]
            ],
            "type": "heatmap"
           }
          ],
          "heatmapgl": [
           {
            "colorbar": {
             "outlinewidth": 0,
             "ticks": ""
            },
            "colorscale": [
             [
              0,
              "#0d0887"
             ],
             [
              0.1111111111111111,
              "#46039f"
             ],
             [
              0.2222222222222222,
              "#7201a8"
             ],
             [
              0.3333333333333333,
              "#9c179e"
             ],
             [
              0.4444444444444444,
              "#bd3786"
             ],
             [
              0.5555555555555556,
              "#d8576b"
             ],
             [
              0.6666666666666666,
              "#ed7953"
             ],
             [
              0.7777777777777778,
              "#fb9f3a"
             ],
             [
              0.8888888888888888,
              "#fdca26"
             ],
             [
              1,
              "#f0f921"
             ]
            ],
            "type": "heatmapgl"
           }
          ],
          "histogram": [
           {
            "marker": {
             "pattern": {
              "fillmode": "overlay",
              "size": 10,
              "solidity": 0.2
             }
            },
            "type": "histogram"
           }
          ],
          "histogram2d": [
           {
            "colorbar": {
             "outlinewidth": 0,
             "ticks": ""
            },
            "colorscale": [
             [
              0,
              "#0d0887"
             ],
             [
              0.1111111111111111,
              "#46039f"
             ],
             [
              0.2222222222222222,
              "#7201a8"
             ],
             [
              0.3333333333333333,
              "#9c179e"
             ],
             [
              0.4444444444444444,
              "#bd3786"
             ],
             [
              0.5555555555555556,
              "#d8576b"
             ],
             [
              0.6666666666666666,
              "#ed7953"
             ],
             [
              0.7777777777777778,
              "#fb9f3a"
             ],
             [
              0.8888888888888888,
              "#fdca26"
             ],
             [
              1,
              "#f0f921"
             ]
            ],
            "type": "histogram2d"
           }
          ],
          "histogram2dcontour": [
           {
            "colorbar": {
             "outlinewidth": 0,
             "ticks": ""
            },
            "colorscale": [
             [
              0,
              "#0d0887"
             ],
             [
              0.1111111111111111,
              "#46039f"
             ],
             [
              0.2222222222222222,
              "#7201a8"
             ],
             [
              0.3333333333333333,
              "#9c179e"
             ],
             [
              0.4444444444444444,
              "#bd3786"
             ],
             [
              0.5555555555555556,
              "#d8576b"
             ],
             [
              0.6666666666666666,
              "#ed7953"
             ],
             [
              0.7777777777777778,
              "#fb9f3a"
             ],
             [
              0.8888888888888888,
              "#fdca26"
             ],
             [
              1,
              "#f0f921"
             ]
            ],
            "type": "histogram2dcontour"
           }
          ],
          "mesh3d": [
           {
            "colorbar": {
             "outlinewidth": 0,
             "ticks": ""
            },
            "type": "mesh3d"
           }
          ],
          "parcoords": [
           {
            "line": {
             "colorbar": {
              "outlinewidth": 0,
              "ticks": ""
             }
            },
            "type": "parcoords"
           }
          ],
          "pie": [
           {
            "automargin": true,
            "type": "pie"
           }
          ],
          "scatter": [
           {
            "fillpattern": {
             "fillmode": "overlay",
             "size": 10,
             "solidity": 0.2
            },
            "type": "scatter"
           }
          ],
          "scatter3d": [
           {
            "line": {
             "colorbar": {
              "outlinewidth": 0,
              "ticks": ""
             }
            },
            "marker": {
             "colorbar": {
              "outlinewidth": 0,
              "ticks": ""
             }
            },
            "type": "scatter3d"
           }
          ],
          "scattercarpet": [
           {
            "marker": {
             "colorbar": {
              "outlinewidth": 0,
              "ticks": ""
             }
            },
            "type": "scattercarpet"
           }
          ],
          "scattergeo": [
           {
            "marker": {
             "colorbar": {
              "outlinewidth": 0,
              "ticks": ""
             }
            },
            "type": "scattergeo"
           }
          ],
          "scattergl": [
           {
            "marker": {
             "colorbar": {
              "outlinewidth": 0,
              "ticks": ""
             }
            },
            "type": "scattergl"
           }
          ],
          "scattermapbox": [
           {
            "marker": {
             "colorbar": {
              "outlinewidth": 0,
              "ticks": ""
             }
            },
            "type": "scattermapbox"
           }
          ],
          "scatterpolar": [
           {
            "marker": {
             "colorbar": {
              "outlinewidth": 0,
              "ticks": ""
             }
            },
            "type": "scatterpolar"
           }
          ],
          "scatterpolargl": [
           {
            "marker": {
             "colorbar": {
              "outlinewidth": 0,
              "ticks": ""
             }
            },
            "type": "scatterpolargl"
           }
          ],
          "scatterternary": [
           {
            "marker": {
             "colorbar": {
              "outlinewidth": 0,
              "ticks": ""
             }
            },
            "type": "scatterternary"
           }
          ],
          "surface": [
           {
            "colorbar": {
             "outlinewidth": 0,
             "ticks": ""
            },
            "colorscale": [
             [
              0,
              "#0d0887"
             ],
             [
              0.1111111111111111,
              "#46039f"
             ],
             [
              0.2222222222222222,
              "#7201a8"
             ],
             [
              0.3333333333333333,
              "#9c179e"
             ],
             [
              0.4444444444444444,
              "#bd3786"
             ],
             [
              0.5555555555555556,
              "#d8576b"
             ],
             [
              0.6666666666666666,
              "#ed7953"
             ],
             [
              0.7777777777777778,
              "#fb9f3a"
             ],
             [
              0.8888888888888888,
              "#fdca26"
             ],
             [
              1,
              "#f0f921"
             ]
            ],
            "type": "surface"
           }
          ],
          "table": [
           {
            "cells": {
             "fill": {
              "color": "#EBF0F8"
             },
             "line": {
              "color": "white"
             }
            },
            "header": {
             "fill": {
              "color": "#C8D4E3"
             },
             "line": {
              "color": "white"
             }
            },
            "type": "table"
           }
          ]
         },
         "layout": {
          "annotationdefaults": {
           "arrowcolor": "#2a3f5f",
           "arrowhead": 0,
           "arrowwidth": 1
          },
          "autotypenumbers": "strict",
          "coloraxis": {
           "colorbar": {
            "outlinewidth": 0,
            "ticks": ""
           }
          },
          "colorscale": {
           "diverging": [
            [
             0,
             "#8e0152"
            ],
            [
             0.1,
             "#c51b7d"
            ],
            [
             0.2,
             "#de77ae"
            ],
            [
             0.3,
             "#f1b6da"
            ],
            [
             0.4,
             "#fde0ef"
            ],
            [
             0.5,
             "#f7f7f7"
            ],
            [
             0.6,
             "#e6f5d0"
            ],
            [
             0.7,
             "#b8e186"
            ],
            [
             0.8,
             "#7fbc41"
            ],
            [
             0.9,
             "#4d9221"
            ],
            [
             1,
             "#276419"
            ]
           ],
           "sequential": [
            [
             0,
             "#0d0887"
            ],
            [
             0.1111111111111111,
             "#46039f"
            ],
            [
             0.2222222222222222,
             "#7201a8"
            ],
            [
             0.3333333333333333,
             "#9c179e"
            ],
            [
             0.4444444444444444,
             "#bd3786"
            ],
            [
             0.5555555555555556,
             "#d8576b"
            ],
            [
             0.6666666666666666,
             "#ed7953"
            ],
            [
             0.7777777777777778,
             "#fb9f3a"
            ],
            [
             0.8888888888888888,
             "#fdca26"
            ],
            [
             1,
             "#f0f921"
            ]
           ],
           "sequentialminus": [
            [
             0,
             "#0d0887"
            ],
            [
             0.1111111111111111,
             "#46039f"
            ],
            [
             0.2222222222222222,
             "#7201a8"
            ],
            [
             0.3333333333333333,
             "#9c179e"
            ],
            [
             0.4444444444444444,
             "#bd3786"
            ],
            [
             0.5555555555555556,
             "#d8576b"
            ],
            [
             0.6666666666666666,
             "#ed7953"
            ],
            [
             0.7777777777777778,
             "#fb9f3a"
            ],
            [
             0.8888888888888888,
             "#fdca26"
            ],
            [
             1,
             "#f0f921"
            ]
           ]
          },
          "colorway": [
           "#636efa",
           "#EF553B",
           "#00cc96",
           "#ab63fa",
           "#FFA15A",
           "#19d3f3",
           "#FF6692",
           "#B6E880",
           "#FF97FF",
           "#FECB52"
          ],
          "font": {
           "color": "#2a3f5f"
          },
          "geo": {
           "bgcolor": "white",
           "lakecolor": "white",
           "landcolor": "#E5ECF6",
           "showlakes": true,
           "showland": true,
           "subunitcolor": "white"
          },
          "hoverlabel": {
           "align": "left"
          },
          "hovermode": "closest",
          "mapbox": {
           "style": "light"
          },
          "paper_bgcolor": "white",
          "plot_bgcolor": "#E5ECF6",
          "polar": {
           "angularaxis": {
            "gridcolor": "white",
            "linecolor": "white",
            "ticks": ""
           },
           "bgcolor": "#E5ECF6",
           "radialaxis": {
            "gridcolor": "white",
            "linecolor": "white",
            "ticks": ""
           }
          },
          "scene": {
           "xaxis": {
            "backgroundcolor": "#E5ECF6",
            "gridcolor": "white",
            "gridwidth": 2,
            "linecolor": "white",
            "showbackground": true,
            "ticks": "",
            "zerolinecolor": "white"
           },
           "yaxis": {
            "backgroundcolor": "#E5ECF6",
            "gridcolor": "white",
            "gridwidth": 2,
            "linecolor": "white",
            "showbackground": true,
            "ticks": "",
            "zerolinecolor": "white"
           },
           "zaxis": {
            "backgroundcolor": "#E5ECF6",
            "gridcolor": "white",
            "gridwidth": 2,
            "linecolor": "white",
            "showbackground": true,
            "ticks": "",
            "zerolinecolor": "white"
           }
          },
          "shapedefaults": {
           "line": {
            "color": "#2a3f5f"
           }
          },
          "ternary": {
           "aaxis": {
            "gridcolor": "white",
            "linecolor": "white",
            "ticks": ""
           },
           "baxis": {
            "gridcolor": "white",
            "linecolor": "white",
            "ticks": ""
           },
           "bgcolor": "#E5ECF6",
           "caxis": {
            "gridcolor": "white",
            "linecolor": "white",
            "ticks": ""
           }
          },
          "title": {
           "x": 0.05
          },
          "xaxis": {
           "automargin": true,
           "gridcolor": "white",
           "linecolor": "white",
           "ticks": "",
           "title": {
            "standoff": 15
           },
           "zerolinecolor": "white",
           "zerolinewidth": 2
          },
          "yaxis": {
           "automargin": true,
           "gridcolor": "white",
           "linecolor": "white",
           "ticks": "",
           "title": {
            "standoff": 15
           },
           "zerolinecolor": "white",
           "zerolinewidth": 2
          }
         }
        },
        "title": {
         "text": "Analysis of Dependents"
        },
        "width": 700,
        "xaxis": {
         "anchor": "y",
         "domain": [
          0,
          1
         ],
         "title": {
          "text": "Dependents"
         }
        },
        "yaxis": {
         "anchor": "x",
         "domain": [
          0,
          1
         ],
         "title": {
          "text": "count"
         }
        }
       }
      }
     },
     "metadata": {},
     "output_type": "display_data"
    }
   ],
   "source": [
    "fig1 = bar(\"gender\")\n",
    "fig2 = bar(\"SeniorCitizen\")\n",
    "fig3 = bar(\"Partner\")\n",
    "fig4 = bar(\"Dependents\")\n"
   ]
  },
  {
   "cell_type": "markdown",
   "metadata": {},
   "source": [
    "<h3>Insight on Demographic charts: </h3>\n",
    "\n",
    "For male and female customers, the proportion of churn is slightly higher in females, but the slight difference can be ignored.\n",
    "<br>Our analysis also shows that a higher proportion of younger citizens are more likely to churn compared to seniors. The same case is true for citizens without a partner. <br>Citizens without dependents are also more likely to churn as seen in the chart above.\n",
    "    \n",
    "---------------------------------------------------------------------------------------------------------"
   ]
  },
  {
   "cell_type": "markdown",
   "metadata": {},
   "source": [
    "<h3>Now for the analysis on customers based on the services they signed up for: </h3>"
   ]
  },
  {
   "cell_type": "code",
   "execution_count": 220,
   "metadata": {},
   "outputs": [
    {
     "data": {
      "application/vnd.plotly.v1+json": {
       "config": {
        "plotlyServerURL": "https://plot.ly"
       },
       "data": [
        {
         "alignmentgroup": "True",
         "hovertemplate": "Churn=No<br>PhoneService=%{x}<br>count=%{y}<extra></extra>",
         "legendgroup": "No",
         "marker": {
          "color": "Green",
          "pattern": {
           "shape": ""
          }
         },
         "name": "No",
         "offsetgroup": "No",
         "orientation": "v",
         "showlegend": true,
         "textposition": "auto",
         "type": "bar",
         "x": [
          "No",
          "Yes"
         ],
         "xaxis": "x",
         "y": [
          512,
          3249
         ],
         "yaxis": "y"
        },
        {
         "alignmentgroup": "True",
         "hovertemplate": "Churn=Yes<br>PhoneService=%{x}<br>count=%{y}<extra></extra>",
         "legendgroup": "Yes",
         "marker": {
          "color": "Red",
          "pattern": {
           "shape": ""
          }
         },
         "name": "Yes",
         "offsetgroup": "Yes",
         "orientation": "v",
         "showlegend": true,
         "textposition": "auto",
         "type": "bar",
         "x": [
          "No",
          "Yes"
         ],
         "xaxis": "x",
         "y": [
          170,
          1586
         ],
         "yaxis": "y"
        }
       ],
       "layout": {
        "barmode": "group",
        "height": 400,
        "legend": {
         "title": {
          "text": "Churn"
         },
         "tracegroupgap": 0
        },
        "template": {
         "data": {
          "bar": [
           {
            "error_x": {
             "color": "#2a3f5f"
            },
            "error_y": {
             "color": "#2a3f5f"
            },
            "marker": {
             "line": {
              "color": "#E5ECF6",
              "width": 0.5
             },
             "pattern": {
              "fillmode": "overlay",
              "size": 10,
              "solidity": 0.2
             }
            },
            "type": "bar"
           }
          ],
          "barpolar": [
           {
            "marker": {
             "line": {
              "color": "#E5ECF6",
              "width": 0.5
             },
             "pattern": {
              "fillmode": "overlay",
              "size": 10,
              "solidity": 0.2
             }
            },
            "type": "barpolar"
           }
          ],
          "carpet": [
           {
            "aaxis": {
             "endlinecolor": "#2a3f5f",
             "gridcolor": "white",
             "linecolor": "white",
             "minorgridcolor": "white",
             "startlinecolor": "#2a3f5f"
            },
            "baxis": {
             "endlinecolor": "#2a3f5f",
             "gridcolor": "white",
             "linecolor": "white",
             "minorgridcolor": "white",
             "startlinecolor": "#2a3f5f"
            },
            "type": "carpet"
           }
          ],
          "choropleth": [
           {
            "colorbar": {
             "outlinewidth": 0,
             "ticks": ""
            },
            "type": "choropleth"
           }
          ],
          "contour": [
           {
            "colorbar": {
             "outlinewidth": 0,
             "ticks": ""
            },
            "colorscale": [
             [
              0,
              "#0d0887"
             ],
             [
              0.1111111111111111,
              "#46039f"
             ],
             [
              0.2222222222222222,
              "#7201a8"
             ],
             [
              0.3333333333333333,
              "#9c179e"
             ],
             [
              0.4444444444444444,
              "#bd3786"
             ],
             [
              0.5555555555555556,
              "#d8576b"
             ],
             [
              0.6666666666666666,
              "#ed7953"
             ],
             [
              0.7777777777777778,
              "#fb9f3a"
             ],
             [
              0.8888888888888888,
              "#fdca26"
             ],
             [
              1,
              "#f0f921"
             ]
            ],
            "type": "contour"
           }
          ],
          "contourcarpet": [
           {
            "colorbar": {
             "outlinewidth": 0,
             "ticks": ""
            },
            "type": "contourcarpet"
           }
          ],
          "heatmap": [
           {
            "colorbar": {
             "outlinewidth": 0,
             "ticks": ""
            },
            "colorscale": [
             [
              0,
              "#0d0887"
             ],
             [
              0.1111111111111111,
              "#46039f"
             ],
             [
              0.2222222222222222,
              "#7201a8"
             ],
             [
              0.3333333333333333,
              "#9c179e"
             ],
             [
              0.4444444444444444,
              "#bd3786"
             ],
             [
              0.5555555555555556,
              "#d8576b"
             ],
             [
              0.6666666666666666,
              "#ed7953"
             ],
             [
              0.7777777777777778,
              "#fb9f3a"
             ],
             [
              0.8888888888888888,
              "#fdca26"
             ],
             [
              1,
              "#f0f921"
             ]
            ],
            "type": "heatmap"
           }
          ],
          "heatmapgl": [
           {
            "colorbar": {
             "outlinewidth": 0,
             "ticks": ""
            },
            "colorscale": [
             [
              0,
              "#0d0887"
             ],
             [
              0.1111111111111111,
              "#46039f"
             ],
             [
              0.2222222222222222,
              "#7201a8"
             ],
             [
              0.3333333333333333,
              "#9c179e"
             ],
             [
              0.4444444444444444,
              "#bd3786"
             ],
             [
              0.5555555555555556,
              "#d8576b"
             ],
             [
              0.6666666666666666,
              "#ed7953"
             ],
             [
              0.7777777777777778,
              "#fb9f3a"
             ],
             [
              0.8888888888888888,
              "#fdca26"
             ],
             [
              1,
              "#f0f921"
             ]
            ],
            "type": "heatmapgl"
           }
          ],
          "histogram": [
           {
            "marker": {
             "pattern": {
              "fillmode": "overlay",
              "size": 10,
              "solidity": 0.2
             }
            },
            "type": "histogram"
           }
          ],
          "histogram2d": [
           {
            "colorbar": {
             "outlinewidth": 0,
             "ticks": ""
            },
            "colorscale": [
             [
              0,
              "#0d0887"
             ],
             [
              0.1111111111111111,
              "#46039f"
             ],
             [
              0.2222222222222222,
              "#7201a8"
             ],
             [
              0.3333333333333333,
              "#9c179e"
             ],
             [
              0.4444444444444444,
              "#bd3786"
             ],
             [
              0.5555555555555556,
              "#d8576b"
             ],
             [
              0.6666666666666666,
              "#ed7953"
             ],
             [
              0.7777777777777778,
              "#fb9f3a"
             ],
             [
              0.8888888888888888,
              "#fdca26"
             ],
             [
              1,
              "#f0f921"
             ]
            ],
            "type": "histogram2d"
           }
          ],
          "histogram2dcontour": [
           {
            "colorbar": {
             "outlinewidth": 0,
             "ticks": ""
            },
            "colorscale": [
             [
              0,
              "#0d0887"
             ],
             [
              0.1111111111111111,
              "#46039f"
             ],
             [
              0.2222222222222222,
              "#7201a8"
             ],
             [
              0.3333333333333333,
              "#9c179e"
             ],
             [
              0.4444444444444444,
              "#bd3786"
             ],
             [
              0.5555555555555556,
              "#d8576b"
             ],
             [
              0.6666666666666666,
              "#ed7953"
             ],
             [
              0.7777777777777778,
              "#fb9f3a"
             ],
             [
              0.8888888888888888,
              "#fdca26"
             ],
             [
              1,
              "#f0f921"
             ]
            ],
            "type": "histogram2dcontour"
           }
          ],
          "mesh3d": [
           {
            "colorbar": {
             "outlinewidth": 0,
             "ticks": ""
            },
            "type": "mesh3d"
           }
          ],
          "parcoords": [
           {
            "line": {
             "colorbar": {
              "outlinewidth": 0,
              "ticks": ""
             }
            },
            "type": "parcoords"
           }
          ],
          "pie": [
           {
            "automargin": true,
            "type": "pie"
           }
          ],
          "scatter": [
           {
            "fillpattern": {
             "fillmode": "overlay",
             "size": 10,
             "solidity": 0.2
            },
            "type": "scatter"
           }
          ],
          "scatter3d": [
           {
            "line": {
             "colorbar": {
              "outlinewidth": 0,
              "ticks": ""
             }
            },
            "marker": {
             "colorbar": {
              "outlinewidth": 0,
              "ticks": ""
             }
            },
            "type": "scatter3d"
           }
          ],
          "scattercarpet": [
           {
            "marker": {
             "colorbar": {
              "outlinewidth": 0,
              "ticks": ""
             }
            },
            "type": "scattercarpet"
           }
          ],
          "scattergeo": [
           {
            "marker": {
             "colorbar": {
              "outlinewidth": 0,
              "ticks": ""
             }
            },
            "type": "scattergeo"
           }
          ],
          "scattergl": [
           {
            "marker": {
             "colorbar": {
              "outlinewidth": 0,
              "ticks": ""
             }
            },
            "type": "scattergl"
           }
          ],
          "scattermapbox": [
           {
            "marker": {
             "colorbar": {
              "outlinewidth": 0,
              "ticks": ""
             }
            },
            "type": "scattermapbox"
           }
          ],
          "scatterpolar": [
           {
            "marker": {
             "colorbar": {
              "outlinewidth": 0,
              "ticks": ""
             }
            },
            "type": "scatterpolar"
           }
          ],
          "scatterpolargl": [
           {
            "marker": {
             "colorbar": {
              "outlinewidth": 0,
              "ticks": ""
             }
            },
            "type": "scatterpolargl"
           }
          ],
          "scatterternary": [
           {
            "marker": {
             "colorbar": {
              "outlinewidth": 0,
              "ticks": ""
             }
            },
            "type": "scatterternary"
           }
          ],
          "surface": [
           {
            "colorbar": {
             "outlinewidth": 0,
             "ticks": ""
            },
            "colorscale": [
             [
              0,
              "#0d0887"
             ],
             [
              0.1111111111111111,
              "#46039f"
             ],
             [
              0.2222222222222222,
              "#7201a8"
             ],
             [
              0.3333333333333333,
              "#9c179e"
             ],
             [
              0.4444444444444444,
              "#bd3786"
             ],
             [
              0.5555555555555556,
              "#d8576b"
             ],
             [
              0.6666666666666666,
              "#ed7953"
             ],
             [
              0.7777777777777778,
              "#fb9f3a"
             ],
             [
              0.8888888888888888,
              "#fdca26"
             ],
             [
              1,
              "#f0f921"
             ]
            ],
            "type": "surface"
           }
          ],
          "table": [
           {
            "cells": {
             "fill": {
              "color": "#EBF0F8"
             },
             "line": {
              "color": "white"
             }
            },
            "header": {
             "fill": {
              "color": "#C8D4E3"
             },
             "line": {
              "color": "white"
             }
            },
            "type": "table"
           }
          ]
         },
         "layout": {
          "annotationdefaults": {
           "arrowcolor": "#2a3f5f",
           "arrowhead": 0,
           "arrowwidth": 1
          },
          "autotypenumbers": "strict",
          "coloraxis": {
           "colorbar": {
            "outlinewidth": 0,
            "ticks": ""
           }
          },
          "colorscale": {
           "diverging": [
            [
             0,
             "#8e0152"
            ],
            [
             0.1,
             "#c51b7d"
            ],
            [
             0.2,
             "#de77ae"
            ],
            [
             0.3,
             "#f1b6da"
            ],
            [
             0.4,
             "#fde0ef"
            ],
            [
             0.5,
             "#f7f7f7"
            ],
            [
             0.6,
             "#e6f5d0"
            ],
            [
             0.7,
             "#b8e186"
            ],
            [
             0.8,
             "#7fbc41"
            ],
            [
             0.9,
             "#4d9221"
            ],
            [
             1,
             "#276419"
            ]
           ],
           "sequential": [
            [
             0,
             "#0d0887"
            ],
            [
             0.1111111111111111,
             "#46039f"
            ],
            [
             0.2222222222222222,
             "#7201a8"
            ],
            [
             0.3333333333333333,
             "#9c179e"
            ],
            [
             0.4444444444444444,
             "#bd3786"
            ],
            [
             0.5555555555555556,
             "#d8576b"
            ],
            [
             0.6666666666666666,
             "#ed7953"
            ],
            [
             0.7777777777777778,
             "#fb9f3a"
            ],
            [
             0.8888888888888888,
             "#fdca26"
            ],
            [
             1,
             "#f0f921"
            ]
           ],
           "sequentialminus": [
            [
             0,
             "#0d0887"
            ],
            [
             0.1111111111111111,
             "#46039f"
            ],
            [
             0.2222222222222222,
             "#7201a8"
            ],
            [
             0.3333333333333333,
             "#9c179e"
            ],
            [
             0.4444444444444444,
             "#bd3786"
            ],
            [
             0.5555555555555556,
             "#d8576b"
            ],
            [
             0.6666666666666666,
             "#ed7953"
            ],
            [
             0.7777777777777778,
             "#fb9f3a"
            ],
            [
             0.8888888888888888,
             "#fdca26"
            ],
            [
             1,
             "#f0f921"
            ]
           ]
          },
          "colorway": [
           "#636efa",
           "#EF553B",
           "#00cc96",
           "#ab63fa",
           "#FFA15A",
           "#19d3f3",
           "#FF6692",
           "#B6E880",
           "#FF97FF",
           "#FECB52"
          ],
          "font": {
           "color": "#2a3f5f"
          },
          "geo": {
           "bgcolor": "white",
           "lakecolor": "white",
           "landcolor": "#E5ECF6",
           "showlakes": true,
           "showland": true,
           "subunitcolor": "white"
          },
          "hoverlabel": {
           "align": "left"
          },
          "hovermode": "closest",
          "mapbox": {
           "style": "light"
          },
          "paper_bgcolor": "white",
          "plot_bgcolor": "#E5ECF6",
          "polar": {
           "angularaxis": {
            "gridcolor": "white",
            "linecolor": "white",
            "ticks": ""
           },
           "bgcolor": "#E5ECF6",
           "radialaxis": {
            "gridcolor": "white",
            "linecolor": "white",
            "ticks": ""
           }
          },
          "scene": {
           "xaxis": {
            "backgroundcolor": "#E5ECF6",
            "gridcolor": "white",
            "gridwidth": 2,
            "linecolor": "white",
            "showbackground": true,
            "ticks": "",
            "zerolinecolor": "white"
           },
           "yaxis": {
            "backgroundcolor": "#E5ECF6",
            "gridcolor": "white",
            "gridwidth": 2,
            "linecolor": "white",
            "showbackground": true,
            "ticks": "",
            "zerolinecolor": "white"
           },
           "zaxis": {
            "backgroundcolor": "#E5ECF6",
            "gridcolor": "white",
            "gridwidth": 2,
            "linecolor": "white",
            "showbackground": true,
            "ticks": "",
            "zerolinecolor": "white"
           }
          },
          "shapedefaults": {
           "line": {
            "color": "#2a3f5f"
           }
          },
          "ternary": {
           "aaxis": {
            "gridcolor": "white",
            "linecolor": "white",
            "ticks": ""
           },
           "baxis": {
            "gridcolor": "white",
            "linecolor": "white",
            "ticks": ""
           },
           "bgcolor": "#E5ECF6",
           "caxis": {
            "gridcolor": "white",
            "linecolor": "white",
            "ticks": ""
           }
          },
          "title": {
           "x": 0.05
          },
          "xaxis": {
           "automargin": true,
           "gridcolor": "white",
           "linecolor": "white",
           "ticks": "",
           "title": {
            "standoff": 15
           },
           "zerolinecolor": "white",
           "zerolinewidth": 2
          },
          "yaxis": {
           "automargin": true,
           "gridcolor": "white",
           "linecolor": "white",
           "ticks": "",
           "title": {
            "standoff": 15
           },
           "zerolinecolor": "white",
           "zerolinewidth": 2
          }
         }
        },
        "title": {
         "text": "Analysis of PhoneService"
        },
        "width": 700,
        "xaxis": {
         "anchor": "y",
         "domain": [
          0,
          1
         ],
         "title": {
          "text": "PhoneService"
         }
        },
        "yaxis": {
         "anchor": "x",
         "domain": [
          0,
          1
         ],
         "title": {
          "text": "count"
         }
        }
       }
      }
     },
     "metadata": {},
     "output_type": "display_data"
    },
    {
     "data": {
      "application/vnd.plotly.v1+json": {
       "config": {
        "plotlyServerURL": "https://plot.ly"
       },
       "data": [
        {
         "alignmentgroup": "True",
         "hovertemplate": "Churn=No<br>MultipleLines=%{x}<br>count=%{y}<extra></extra>",
         "legendgroup": "No",
         "marker": {
          "color": "Green",
          "pattern": {
           "shape": ""
          }
         },
         "name": "No",
         "offsetgroup": "No",
         "orientation": "v",
         "showlegend": true,
         "textposition": "auto",
         "type": "bar",
         "x": [
          "No",
          "Yes"
         ],
         "xaxis": "x",
         "y": [
          1972,
          1789
         ],
         "yaxis": "y"
        },
        {
         "alignmentgroup": "True",
         "hovertemplate": "Churn=Yes<br>MultipleLines=%{x}<br>count=%{y}<extra></extra>",
         "legendgroup": "Yes",
         "marker": {
          "color": "Red",
          "pattern": {
           "shape": ""
          }
         },
         "name": "Yes",
         "offsetgroup": "Yes",
         "orientation": "v",
         "showlegend": true,
         "textposition": "auto",
         "type": "bar",
         "x": [
          "No",
          "Yes"
         ],
         "xaxis": "x",
         "y": [
          916,
          840
         ],
         "yaxis": "y"
        }
       ],
       "layout": {
        "barmode": "group",
        "height": 400,
        "legend": {
         "title": {
          "text": "Churn"
         },
         "tracegroupgap": 0
        },
        "template": {
         "data": {
          "bar": [
           {
            "error_x": {
             "color": "#2a3f5f"
            },
            "error_y": {
             "color": "#2a3f5f"
            },
            "marker": {
             "line": {
              "color": "#E5ECF6",
              "width": 0.5
             },
             "pattern": {
              "fillmode": "overlay",
              "size": 10,
              "solidity": 0.2
             }
            },
            "type": "bar"
           }
          ],
          "barpolar": [
           {
            "marker": {
             "line": {
              "color": "#E5ECF6",
              "width": 0.5
             },
             "pattern": {
              "fillmode": "overlay",
              "size": 10,
              "solidity": 0.2
             }
            },
            "type": "barpolar"
           }
          ],
          "carpet": [
           {
            "aaxis": {
             "endlinecolor": "#2a3f5f",
             "gridcolor": "white",
             "linecolor": "white",
             "minorgridcolor": "white",
             "startlinecolor": "#2a3f5f"
            },
            "baxis": {
             "endlinecolor": "#2a3f5f",
             "gridcolor": "white",
             "linecolor": "white",
             "minorgridcolor": "white",
             "startlinecolor": "#2a3f5f"
            },
            "type": "carpet"
           }
          ],
          "choropleth": [
           {
            "colorbar": {
             "outlinewidth": 0,
             "ticks": ""
            },
            "type": "choropleth"
           }
          ],
          "contour": [
           {
            "colorbar": {
             "outlinewidth": 0,
             "ticks": ""
            },
            "colorscale": [
             [
              0,
              "#0d0887"
             ],
             [
              0.1111111111111111,
              "#46039f"
             ],
             [
              0.2222222222222222,
              "#7201a8"
             ],
             [
              0.3333333333333333,
              "#9c179e"
             ],
             [
              0.4444444444444444,
              "#bd3786"
             ],
             [
              0.5555555555555556,
              "#d8576b"
             ],
             [
              0.6666666666666666,
              "#ed7953"
             ],
             [
              0.7777777777777778,
              "#fb9f3a"
             ],
             [
              0.8888888888888888,
              "#fdca26"
             ],
             [
              1,
              "#f0f921"
             ]
            ],
            "type": "contour"
           }
          ],
          "contourcarpet": [
           {
            "colorbar": {
             "outlinewidth": 0,
             "ticks": ""
            },
            "type": "contourcarpet"
           }
          ],
          "heatmap": [
           {
            "colorbar": {
             "outlinewidth": 0,
             "ticks": ""
            },
            "colorscale": [
             [
              0,
              "#0d0887"
             ],
             [
              0.1111111111111111,
              "#46039f"
             ],
             [
              0.2222222222222222,
              "#7201a8"
             ],
             [
              0.3333333333333333,
              "#9c179e"
             ],
             [
              0.4444444444444444,
              "#bd3786"
             ],
             [
              0.5555555555555556,
              "#d8576b"
             ],
             [
              0.6666666666666666,
              "#ed7953"
             ],
             [
              0.7777777777777778,
              "#fb9f3a"
             ],
             [
              0.8888888888888888,
              "#fdca26"
             ],
             [
              1,
              "#f0f921"
             ]
            ],
            "type": "heatmap"
           }
          ],
          "heatmapgl": [
           {
            "colorbar": {
             "outlinewidth": 0,
             "ticks": ""
            },
            "colorscale": [
             [
              0,
              "#0d0887"
             ],
             [
              0.1111111111111111,
              "#46039f"
             ],
             [
              0.2222222222222222,
              "#7201a8"
             ],
             [
              0.3333333333333333,
              "#9c179e"
             ],
             [
              0.4444444444444444,
              "#bd3786"
             ],
             [
              0.5555555555555556,
              "#d8576b"
             ],
             [
              0.6666666666666666,
              "#ed7953"
             ],
             [
              0.7777777777777778,
              "#fb9f3a"
             ],
             [
              0.8888888888888888,
              "#fdca26"
             ],
             [
              1,
              "#f0f921"
             ]
            ],
            "type": "heatmapgl"
           }
          ],
          "histogram": [
           {
            "marker": {
             "pattern": {
              "fillmode": "overlay",
              "size": 10,
              "solidity": 0.2
             }
            },
            "type": "histogram"
           }
          ],
          "histogram2d": [
           {
            "colorbar": {
             "outlinewidth": 0,
             "ticks": ""
            },
            "colorscale": [
             [
              0,
              "#0d0887"
             ],
             [
              0.1111111111111111,
              "#46039f"
             ],
             [
              0.2222222222222222,
              "#7201a8"
             ],
             [
              0.3333333333333333,
              "#9c179e"
             ],
             [
              0.4444444444444444,
              "#bd3786"
             ],
             [
              0.5555555555555556,
              "#d8576b"
             ],
             [
              0.6666666666666666,
              "#ed7953"
             ],
             [
              0.7777777777777778,
              "#fb9f3a"
             ],
             [
              0.8888888888888888,
              "#fdca26"
             ],
             [
              1,
              "#f0f921"
             ]
            ],
            "type": "histogram2d"
           }
          ],
          "histogram2dcontour": [
           {
            "colorbar": {
             "outlinewidth": 0,
             "ticks": ""
            },
            "colorscale": [
             [
              0,
              "#0d0887"
             ],
             [
              0.1111111111111111,
              "#46039f"
             ],
             [
              0.2222222222222222,
              "#7201a8"
             ],
             [
              0.3333333333333333,
              "#9c179e"
             ],
             [
              0.4444444444444444,
              "#bd3786"
             ],
             [
              0.5555555555555556,
              "#d8576b"
             ],
             [
              0.6666666666666666,
              "#ed7953"
             ],
             [
              0.7777777777777778,
              "#fb9f3a"
             ],
             [
              0.8888888888888888,
              "#fdca26"
             ],
             [
              1,
              "#f0f921"
             ]
            ],
            "type": "histogram2dcontour"
           }
          ],
          "mesh3d": [
           {
            "colorbar": {
             "outlinewidth": 0,
             "ticks": ""
            },
            "type": "mesh3d"
           }
          ],
          "parcoords": [
           {
            "line": {
             "colorbar": {
              "outlinewidth": 0,
              "ticks": ""
             }
            },
            "type": "parcoords"
           }
          ],
          "pie": [
           {
            "automargin": true,
            "type": "pie"
           }
          ],
          "scatter": [
           {
            "fillpattern": {
             "fillmode": "overlay",
             "size": 10,
             "solidity": 0.2
            },
            "type": "scatter"
           }
          ],
          "scatter3d": [
           {
            "line": {
             "colorbar": {
              "outlinewidth": 0,
              "ticks": ""
             }
            },
            "marker": {
             "colorbar": {
              "outlinewidth": 0,
              "ticks": ""
             }
            },
            "type": "scatter3d"
           }
          ],
          "scattercarpet": [
           {
            "marker": {
             "colorbar": {
              "outlinewidth": 0,
              "ticks": ""
             }
            },
            "type": "scattercarpet"
           }
          ],
          "scattergeo": [
           {
            "marker": {
             "colorbar": {
              "outlinewidth": 0,
              "ticks": ""
             }
            },
            "type": "scattergeo"
           }
          ],
          "scattergl": [
           {
            "marker": {
             "colorbar": {
              "outlinewidth": 0,
              "ticks": ""
             }
            },
            "type": "scattergl"
           }
          ],
          "scattermapbox": [
           {
            "marker": {
             "colorbar": {
              "outlinewidth": 0,
              "ticks": ""
             }
            },
            "type": "scattermapbox"
           }
          ],
          "scatterpolar": [
           {
            "marker": {
             "colorbar": {
              "outlinewidth": 0,
              "ticks": ""
             }
            },
            "type": "scatterpolar"
           }
          ],
          "scatterpolargl": [
           {
            "marker": {
             "colorbar": {
              "outlinewidth": 0,
              "ticks": ""
             }
            },
            "type": "scatterpolargl"
           }
          ],
          "scatterternary": [
           {
            "marker": {
             "colorbar": {
              "outlinewidth": 0,
              "ticks": ""
             }
            },
            "type": "scatterternary"
           }
          ],
          "surface": [
           {
            "colorbar": {
             "outlinewidth": 0,
             "ticks": ""
            },
            "colorscale": [
             [
              0,
              "#0d0887"
             ],
             [
              0.1111111111111111,
              "#46039f"
             ],
             [
              0.2222222222222222,
              "#7201a8"
             ],
             [
              0.3333333333333333,
              "#9c179e"
             ],
             [
              0.4444444444444444,
              "#bd3786"
             ],
             [
              0.5555555555555556,
              "#d8576b"
             ],
             [
              0.6666666666666666,
              "#ed7953"
             ],
             [
              0.7777777777777778,
              "#fb9f3a"
             ],
             [
              0.8888888888888888,
              "#fdca26"
             ],
             [
              1,
              "#f0f921"
             ]
            ],
            "type": "surface"
           }
          ],
          "table": [
           {
            "cells": {
             "fill": {
              "color": "#EBF0F8"
             },
             "line": {
              "color": "white"
             }
            },
            "header": {
             "fill": {
              "color": "#C8D4E3"
             },
             "line": {
              "color": "white"
             }
            },
            "type": "table"
           }
          ]
         },
         "layout": {
          "annotationdefaults": {
           "arrowcolor": "#2a3f5f",
           "arrowhead": 0,
           "arrowwidth": 1
          },
          "autotypenumbers": "strict",
          "coloraxis": {
           "colorbar": {
            "outlinewidth": 0,
            "ticks": ""
           }
          },
          "colorscale": {
           "diverging": [
            [
             0,
             "#8e0152"
            ],
            [
             0.1,
             "#c51b7d"
            ],
            [
             0.2,
             "#de77ae"
            ],
            [
             0.3,
             "#f1b6da"
            ],
            [
             0.4,
             "#fde0ef"
            ],
            [
             0.5,
             "#f7f7f7"
            ],
            [
             0.6,
             "#e6f5d0"
            ],
            [
             0.7,
             "#b8e186"
            ],
            [
             0.8,
             "#7fbc41"
            ],
            [
             0.9,
             "#4d9221"
            ],
            [
             1,
             "#276419"
            ]
           ],
           "sequential": [
            [
             0,
             "#0d0887"
            ],
            [
             0.1111111111111111,
             "#46039f"
            ],
            [
             0.2222222222222222,
             "#7201a8"
            ],
            [
             0.3333333333333333,
             "#9c179e"
            ],
            [
             0.4444444444444444,
             "#bd3786"
            ],
            [
             0.5555555555555556,
             "#d8576b"
            ],
            [
             0.6666666666666666,
             "#ed7953"
            ],
            [
             0.7777777777777778,
             "#fb9f3a"
            ],
            [
             0.8888888888888888,
             "#fdca26"
            ],
            [
             1,
             "#f0f921"
            ]
           ],
           "sequentialminus": [
            [
             0,
             "#0d0887"
            ],
            [
             0.1111111111111111,
             "#46039f"
            ],
            [
             0.2222222222222222,
             "#7201a8"
            ],
            [
             0.3333333333333333,
             "#9c179e"
            ],
            [
             0.4444444444444444,
             "#bd3786"
            ],
            [
             0.5555555555555556,
             "#d8576b"
            ],
            [
             0.6666666666666666,
             "#ed7953"
            ],
            [
             0.7777777777777778,
             "#fb9f3a"
            ],
            [
             0.8888888888888888,
             "#fdca26"
            ],
            [
             1,
             "#f0f921"
            ]
           ]
          },
          "colorway": [
           "#636efa",
           "#EF553B",
           "#00cc96",
           "#ab63fa",
           "#FFA15A",
           "#19d3f3",
           "#FF6692",
           "#B6E880",
           "#FF97FF",
           "#FECB52"
          ],
          "font": {
           "color": "#2a3f5f"
          },
          "geo": {
           "bgcolor": "white",
           "lakecolor": "white",
           "landcolor": "#E5ECF6",
           "showlakes": true,
           "showland": true,
           "subunitcolor": "white"
          },
          "hoverlabel": {
           "align": "left"
          },
          "hovermode": "closest",
          "mapbox": {
           "style": "light"
          },
          "paper_bgcolor": "white",
          "plot_bgcolor": "#E5ECF6",
          "polar": {
           "angularaxis": {
            "gridcolor": "white",
            "linecolor": "white",
            "ticks": ""
           },
           "bgcolor": "#E5ECF6",
           "radialaxis": {
            "gridcolor": "white",
            "linecolor": "white",
            "ticks": ""
           }
          },
          "scene": {
           "xaxis": {
            "backgroundcolor": "#E5ECF6",
            "gridcolor": "white",
            "gridwidth": 2,
            "linecolor": "white",
            "showbackground": true,
            "ticks": "",
            "zerolinecolor": "white"
           },
           "yaxis": {
            "backgroundcolor": "#E5ECF6",
            "gridcolor": "white",
            "gridwidth": 2,
            "linecolor": "white",
            "showbackground": true,
            "ticks": "",
            "zerolinecolor": "white"
           },
           "zaxis": {
            "backgroundcolor": "#E5ECF6",
            "gridcolor": "white",
            "gridwidth": 2,
            "linecolor": "white",
            "showbackground": true,
            "ticks": "",
            "zerolinecolor": "white"
           }
          },
          "shapedefaults": {
           "line": {
            "color": "#2a3f5f"
           }
          },
          "ternary": {
           "aaxis": {
            "gridcolor": "white",
            "linecolor": "white",
            "ticks": ""
           },
           "baxis": {
            "gridcolor": "white",
            "linecolor": "white",
            "ticks": ""
           },
           "bgcolor": "#E5ECF6",
           "caxis": {
            "gridcolor": "white",
            "linecolor": "white",
            "ticks": ""
           }
          },
          "title": {
           "x": 0.05
          },
          "xaxis": {
           "automargin": true,
           "gridcolor": "white",
           "linecolor": "white",
           "ticks": "",
           "title": {
            "standoff": 15
           },
           "zerolinecolor": "white",
           "zerolinewidth": 2
          },
          "yaxis": {
           "automargin": true,
           "gridcolor": "white",
           "linecolor": "white",
           "ticks": "",
           "title": {
            "standoff": 15
           },
           "zerolinecolor": "white",
           "zerolinewidth": 2
          }
         }
        },
        "title": {
         "text": "Analysis of MultipleLines"
        },
        "width": 700,
        "xaxis": {
         "anchor": "y",
         "domain": [
          0,
          1
         ],
         "title": {
          "text": "MultipleLines"
         }
        },
        "yaxis": {
         "anchor": "x",
         "domain": [
          0,
          1
         ],
         "title": {
          "text": "count"
         }
        }
       }
      }
     },
     "metadata": {},
     "output_type": "display_data"
    },
    {
     "data": {
      "application/vnd.plotly.v1+json": {
       "config": {
        "plotlyServerURL": "https://plot.ly"
       },
       "data": [
        {
         "alignmentgroup": "True",
         "hovertemplate": "Churn=No<br>InternetService=%{x}<br>count=%{y}<extra></extra>",
         "legendgroup": "No",
         "marker": {
          "color": "Green",
          "pattern": {
           "shape": ""
          }
         },
         "name": "No",
         "offsetgroup": "No",
         "orientation": "v",
         "showlegend": true,
         "textposition": "auto",
         "type": "bar",
         "x": [
          "DSL",
          "Fiber optic"
         ],
         "xaxis": "x",
         "y": [
          1962,
          1799
         ],
         "yaxis": "y"
        },
        {
         "alignmentgroup": "True",
         "hovertemplate": "Churn=Yes<br>InternetService=%{x}<br>count=%{y}<extra></extra>",
         "legendgroup": "Yes",
         "marker": {
          "color": "Red",
          "pattern": {
           "shape": ""
          }
         },
         "name": "Yes",
         "offsetgroup": "Yes",
         "orientation": "v",
         "showlegend": true,
         "textposition": "auto",
         "type": "bar",
         "x": [
          "DSL",
          "Fiber optic"
         ],
         "xaxis": "x",
         "y": [
          459,
          1297
         ],
         "yaxis": "y"
        }
       ],
       "layout": {
        "barmode": "group",
        "height": 400,
        "legend": {
         "title": {
          "text": "Churn"
         },
         "tracegroupgap": 0
        },
        "template": {
         "data": {
          "bar": [
           {
            "error_x": {
             "color": "#2a3f5f"
            },
            "error_y": {
             "color": "#2a3f5f"
            },
            "marker": {
             "line": {
              "color": "#E5ECF6",
              "width": 0.5
             },
             "pattern": {
              "fillmode": "overlay",
              "size": 10,
              "solidity": 0.2
             }
            },
            "type": "bar"
           }
          ],
          "barpolar": [
           {
            "marker": {
             "line": {
              "color": "#E5ECF6",
              "width": 0.5
             },
             "pattern": {
              "fillmode": "overlay",
              "size": 10,
              "solidity": 0.2
             }
            },
            "type": "barpolar"
           }
          ],
          "carpet": [
           {
            "aaxis": {
             "endlinecolor": "#2a3f5f",
             "gridcolor": "white",
             "linecolor": "white",
             "minorgridcolor": "white",
             "startlinecolor": "#2a3f5f"
            },
            "baxis": {
             "endlinecolor": "#2a3f5f",
             "gridcolor": "white",
             "linecolor": "white",
             "minorgridcolor": "white",
             "startlinecolor": "#2a3f5f"
            },
            "type": "carpet"
           }
          ],
          "choropleth": [
           {
            "colorbar": {
             "outlinewidth": 0,
             "ticks": ""
            },
            "type": "choropleth"
           }
          ],
          "contour": [
           {
            "colorbar": {
             "outlinewidth": 0,
             "ticks": ""
            },
            "colorscale": [
             [
              0,
              "#0d0887"
             ],
             [
              0.1111111111111111,
              "#46039f"
             ],
             [
              0.2222222222222222,
              "#7201a8"
             ],
             [
              0.3333333333333333,
              "#9c179e"
             ],
             [
              0.4444444444444444,
              "#bd3786"
             ],
             [
              0.5555555555555556,
              "#d8576b"
             ],
             [
              0.6666666666666666,
              "#ed7953"
             ],
             [
              0.7777777777777778,
              "#fb9f3a"
             ],
             [
              0.8888888888888888,
              "#fdca26"
             ],
             [
              1,
              "#f0f921"
             ]
            ],
            "type": "contour"
           }
          ],
          "contourcarpet": [
           {
            "colorbar": {
             "outlinewidth": 0,
             "ticks": ""
            },
            "type": "contourcarpet"
           }
          ],
          "heatmap": [
           {
            "colorbar": {
             "outlinewidth": 0,
             "ticks": ""
            },
            "colorscale": [
             [
              0,
              "#0d0887"
             ],
             [
              0.1111111111111111,
              "#46039f"
             ],
             [
              0.2222222222222222,
              "#7201a8"
             ],
             [
              0.3333333333333333,
              "#9c179e"
             ],
             [
              0.4444444444444444,
              "#bd3786"
             ],
             [
              0.5555555555555556,
              "#d8576b"
             ],
             [
              0.6666666666666666,
              "#ed7953"
             ],
             [
              0.7777777777777778,
              "#fb9f3a"
             ],
             [
              0.8888888888888888,
              "#fdca26"
             ],
             [
              1,
              "#f0f921"
             ]
            ],
            "type": "heatmap"
           }
          ],
          "heatmapgl": [
           {
            "colorbar": {
             "outlinewidth": 0,
             "ticks": ""
            },
            "colorscale": [
             [
              0,
              "#0d0887"
             ],
             [
              0.1111111111111111,
              "#46039f"
             ],
             [
              0.2222222222222222,
              "#7201a8"
             ],
             [
              0.3333333333333333,
              "#9c179e"
             ],
             [
              0.4444444444444444,
              "#bd3786"
             ],
             [
              0.5555555555555556,
              "#d8576b"
             ],
             [
              0.6666666666666666,
              "#ed7953"
             ],
             [
              0.7777777777777778,
              "#fb9f3a"
             ],
             [
              0.8888888888888888,
              "#fdca26"
             ],
             [
              1,
              "#f0f921"
             ]
            ],
            "type": "heatmapgl"
           }
          ],
          "histogram": [
           {
            "marker": {
             "pattern": {
              "fillmode": "overlay",
              "size": 10,
              "solidity": 0.2
             }
            },
            "type": "histogram"
           }
          ],
          "histogram2d": [
           {
            "colorbar": {
             "outlinewidth": 0,
             "ticks": ""
            },
            "colorscale": [
             [
              0,
              "#0d0887"
             ],
             [
              0.1111111111111111,
              "#46039f"
             ],
             [
              0.2222222222222222,
              "#7201a8"
             ],
             [
              0.3333333333333333,
              "#9c179e"
             ],
             [
              0.4444444444444444,
              "#bd3786"
             ],
             [
              0.5555555555555556,
              "#d8576b"
             ],
             [
              0.6666666666666666,
              "#ed7953"
             ],
             [
              0.7777777777777778,
              "#fb9f3a"
             ],
             [
              0.8888888888888888,
              "#fdca26"
             ],
             [
              1,
              "#f0f921"
             ]
            ],
            "type": "histogram2d"
           }
          ],
          "histogram2dcontour": [
           {
            "colorbar": {
             "outlinewidth": 0,
             "ticks": ""
            },
            "colorscale": [
             [
              0,
              "#0d0887"
             ],
             [
              0.1111111111111111,
              "#46039f"
             ],
             [
              0.2222222222222222,
              "#7201a8"
             ],
             [
              0.3333333333333333,
              "#9c179e"
             ],
             [
              0.4444444444444444,
              "#bd3786"
             ],
             [
              0.5555555555555556,
              "#d8576b"
             ],
             [
              0.6666666666666666,
              "#ed7953"
             ],
             [
              0.7777777777777778,
              "#fb9f3a"
             ],
             [
              0.8888888888888888,
              "#fdca26"
             ],
             [
              1,
              "#f0f921"
             ]
            ],
            "type": "histogram2dcontour"
           }
          ],
          "mesh3d": [
           {
            "colorbar": {
             "outlinewidth": 0,
             "ticks": ""
            },
            "type": "mesh3d"
           }
          ],
          "parcoords": [
           {
            "line": {
             "colorbar": {
              "outlinewidth": 0,
              "ticks": ""
             }
            },
            "type": "parcoords"
           }
          ],
          "pie": [
           {
            "automargin": true,
            "type": "pie"
           }
          ],
          "scatter": [
           {
            "fillpattern": {
             "fillmode": "overlay",
             "size": 10,
             "solidity": 0.2
            },
            "type": "scatter"
           }
          ],
          "scatter3d": [
           {
            "line": {
             "colorbar": {
              "outlinewidth": 0,
              "ticks": ""
             }
            },
            "marker": {
             "colorbar": {
              "outlinewidth": 0,
              "ticks": ""
             }
            },
            "type": "scatter3d"
           }
          ],
          "scattercarpet": [
           {
            "marker": {
             "colorbar": {
              "outlinewidth": 0,
              "ticks": ""
             }
            },
            "type": "scattercarpet"
           }
          ],
          "scattergeo": [
           {
            "marker": {
             "colorbar": {
              "outlinewidth": 0,
              "ticks": ""
             }
            },
            "type": "scattergeo"
           }
          ],
          "scattergl": [
           {
            "marker": {
             "colorbar": {
              "outlinewidth": 0,
              "ticks": ""
             }
            },
            "type": "scattergl"
           }
          ],
          "scattermapbox": [
           {
            "marker": {
             "colorbar": {
              "outlinewidth": 0,
              "ticks": ""
             }
            },
            "type": "scattermapbox"
           }
          ],
          "scatterpolar": [
           {
            "marker": {
             "colorbar": {
              "outlinewidth": 0,
              "ticks": ""
             }
            },
            "type": "scatterpolar"
           }
          ],
          "scatterpolargl": [
           {
            "marker": {
             "colorbar": {
              "outlinewidth": 0,
              "ticks": ""
             }
            },
            "type": "scatterpolargl"
           }
          ],
          "scatterternary": [
           {
            "marker": {
             "colorbar": {
              "outlinewidth": 0,
              "ticks": ""
             }
            },
            "type": "scatterternary"
           }
          ],
          "surface": [
           {
            "colorbar": {
             "outlinewidth": 0,
             "ticks": ""
            },
            "colorscale": [
             [
              0,
              "#0d0887"
             ],
             [
              0.1111111111111111,
              "#46039f"
             ],
             [
              0.2222222222222222,
              "#7201a8"
             ],
             [
              0.3333333333333333,
              "#9c179e"
             ],
             [
              0.4444444444444444,
              "#bd3786"
             ],
             [
              0.5555555555555556,
              "#d8576b"
             ],
             [
              0.6666666666666666,
              "#ed7953"
             ],
             [
              0.7777777777777778,
              "#fb9f3a"
             ],
             [
              0.8888888888888888,
              "#fdca26"
             ],
             [
              1,
              "#f0f921"
             ]
            ],
            "type": "surface"
           }
          ],
          "table": [
           {
            "cells": {
             "fill": {
              "color": "#EBF0F8"
             },
             "line": {
              "color": "white"
             }
            },
            "header": {
             "fill": {
              "color": "#C8D4E3"
             },
             "line": {
              "color": "white"
             }
            },
            "type": "table"
           }
          ]
         },
         "layout": {
          "annotationdefaults": {
           "arrowcolor": "#2a3f5f",
           "arrowhead": 0,
           "arrowwidth": 1
          },
          "autotypenumbers": "strict",
          "coloraxis": {
           "colorbar": {
            "outlinewidth": 0,
            "ticks": ""
           }
          },
          "colorscale": {
           "diverging": [
            [
             0,
             "#8e0152"
            ],
            [
             0.1,
             "#c51b7d"
            ],
            [
             0.2,
             "#de77ae"
            ],
            [
             0.3,
             "#f1b6da"
            ],
            [
             0.4,
             "#fde0ef"
            ],
            [
             0.5,
             "#f7f7f7"
            ],
            [
             0.6,
             "#e6f5d0"
            ],
            [
             0.7,
             "#b8e186"
            ],
            [
             0.8,
             "#7fbc41"
            ],
            [
             0.9,
             "#4d9221"
            ],
            [
             1,
             "#276419"
            ]
           ],
           "sequential": [
            [
             0,
             "#0d0887"
            ],
            [
             0.1111111111111111,
             "#46039f"
            ],
            [
             0.2222222222222222,
             "#7201a8"
            ],
            [
             0.3333333333333333,
             "#9c179e"
            ],
            [
             0.4444444444444444,
             "#bd3786"
            ],
            [
             0.5555555555555556,
             "#d8576b"
            ],
            [
             0.6666666666666666,
             "#ed7953"
            ],
            [
             0.7777777777777778,
             "#fb9f3a"
            ],
            [
             0.8888888888888888,
             "#fdca26"
            ],
            [
             1,
             "#f0f921"
            ]
           ],
           "sequentialminus": [
            [
             0,
             "#0d0887"
            ],
            [
             0.1111111111111111,
             "#46039f"
            ],
            [
             0.2222222222222222,
             "#7201a8"
            ],
            [
             0.3333333333333333,
             "#9c179e"
            ],
            [
             0.4444444444444444,
             "#bd3786"
            ],
            [
             0.5555555555555556,
             "#d8576b"
            ],
            [
             0.6666666666666666,
             "#ed7953"
            ],
            [
             0.7777777777777778,
             "#fb9f3a"
            ],
            [
             0.8888888888888888,
             "#fdca26"
            ],
            [
             1,
             "#f0f921"
            ]
           ]
          },
          "colorway": [
           "#636efa",
           "#EF553B",
           "#00cc96",
           "#ab63fa",
           "#FFA15A",
           "#19d3f3",
           "#FF6692",
           "#B6E880",
           "#FF97FF",
           "#FECB52"
          ],
          "font": {
           "color": "#2a3f5f"
          },
          "geo": {
           "bgcolor": "white",
           "lakecolor": "white",
           "landcolor": "#E5ECF6",
           "showlakes": true,
           "showland": true,
           "subunitcolor": "white"
          },
          "hoverlabel": {
           "align": "left"
          },
          "hovermode": "closest",
          "mapbox": {
           "style": "light"
          },
          "paper_bgcolor": "white",
          "plot_bgcolor": "#E5ECF6",
          "polar": {
           "angularaxis": {
            "gridcolor": "white",
            "linecolor": "white",
            "ticks": ""
           },
           "bgcolor": "#E5ECF6",
           "radialaxis": {
            "gridcolor": "white",
            "linecolor": "white",
            "ticks": ""
           }
          },
          "scene": {
           "xaxis": {
            "backgroundcolor": "#E5ECF6",
            "gridcolor": "white",
            "gridwidth": 2,
            "linecolor": "white",
            "showbackground": true,
            "ticks": "",
            "zerolinecolor": "white"
           },
           "yaxis": {
            "backgroundcolor": "#E5ECF6",
            "gridcolor": "white",
            "gridwidth": 2,
            "linecolor": "white",
            "showbackground": true,
            "ticks": "",
            "zerolinecolor": "white"
           },
           "zaxis": {
            "backgroundcolor": "#E5ECF6",
            "gridcolor": "white",
            "gridwidth": 2,
            "linecolor": "white",
            "showbackground": true,
            "ticks": "",
            "zerolinecolor": "white"
           }
          },
          "shapedefaults": {
           "line": {
            "color": "#2a3f5f"
           }
          },
          "ternary": {
           "aaxis": {
            "gridcolor": "white",
            "linecolor": "white",
            "ticks": ""
           },
           "baxis": {
            "gridcolor": "white",
            "linecolor": "white",
            "ticks": ""
           },
           "bgcolor": "#E5ECF6",
           "caxis": {
            "gridcolor": "white",
            "linecolor": "white",
            "ticks": ""
           }
          },
          "title": {
           "x": 0.05
          },
          "xaxis": {
           "automargin": true,
           "gridcolor": "white",
           "linecolor": "white",
           "ticks": "",
           "title": {
            "standoff": 15
           },
           "zerolinecolor": "white",
           "zerolinewidth": 2
          },
          "yaxis": {
           "automargin": true,
           "gridcolor": "white",
           "linecolor": "white",
           "ticks": "",
           "title": {
            "standoff": 15
           },
           "zerolinecolor": "white",
           "zerolinewidth": 2
          }
         }
        },
        "title": {
         "text": "Analysis of InternetService"
        },
        "width": 700,
        "xaxis": {
         "anchor": "y",
         "domain": [
          0,
          1
         ],
         "title": {
          "text": "InternetService"
         }
        },
        "yaxis": {
         "anchor": "x",
         "domain": [
          0,
          1
         ],
         "title": {
          "text": "count"
         }
        }
       }
      }
     },
     "metadata": {},
     "output_type": "display_data"
    },
    {
     "data": {
      "application/vnd.plotly.v1+json": {
       "config": {
        "plotlyServerURL": "https://plot.ly"
       },
       "data": [
        {
         "alignmentgroup": "True",
         "hovertemplate": "Churn=No<br>OnlineSecurity=%{x}<br>count=%{y}<extra></extra>",
         "legendgroup": "No",
         "marker": {
          "color": "Green",
          "pattern": {
           "shape": ""
          }
         },
         "name": "No",
         "offsetgroup": "No",
         "orientation": "v",
         "showlegend": true,
         "textposition": "auto",
         "type": "bar",
         "x": [
          "No",
          "Yes"
         ],
         "xaxis": "x",
         "y": [
          2037,
          1724
         ],
         "yaxis": "y"
        },
        {
         "alignmentgroup": "True",
         "hovertemplate": "Churn=Yes<br>OnlineSecurity=%{x}<br>count=%{y}<extra></extra>",
         "legendgroup": "Yes",
         "marker": {
          "color": "Red",
          "pattern": {
           "shape": ""
          }
         },
         "name": "Yes",
         "offsetgroup": "Yes",
         "orientation": "v",
         "showlegend": true,
         "textposition": "auto",
         "type": "bar",
         "x": [
          "No",
          "Yes"
         ],
         "xaxis": "x",
         "y": [
          1461,
          295
         ],
         "yaxis": "y"
        }
       ],
       "layout": {
        "barmode": "group",
        "height": 400,
        "legend": {
         "title": {
          "text": "Churn"
         },
         "tracegroupgap": 0
        },
        "template": {
         "data": {
          "bar": [
           {
            "error_x": {
             "color": "#2a3f5f"
            },
            "error_y": {
             "color": "#2a3f5f"
            },
            "marker": {
             "line": {
              "color": "#E5ECF6",
              "width": 0.5
             },
             "pattern": {
              "fillmode": "overlay",
              "size": 10,
              "solidity": 0.2
             }
            },
            "type": "bar"
           }
          ],
          "barpolar": [
           {
            "marker": {
             "line": {
              "color": "#E5ECF6",
              "width": 0.5
             },
             "pattern": {
              "fillmode": "overlay",
              "size": 10,
              "solidity": 0.2
             }
            },
            "type": "barpolar"
           }
          ],
          "carpet": [
           {
            "aaxis": {
             "endlinecolor": "#2a3f5f",
             "gridcolor": "white",
             "linecolor": "white",
             "minorgridcolor": "white",
             "startlinecolor": "#2a3f5f"
            },
            "baxis": {
             "endlinecolor": "#2a3f5f",
             "gridcolor": "white",
             "linecolor": "white",
             "minorgridcolor": "white",
             "startlinecolor": "#2a3f5f"
            },
            "type": "carpet"
           }
          ],
          "choropleth": [
           {
            "colorbar": {
             "outlinewidth": 0,
             "ticks": ""
            },
            "type": "choropleth"
           }
          ],
          "contour": [
           {
            "colorbar": {
             "outlinewidth": 0,
             "ticks": ""
            },
            "colorscale": [
             [
              0,
              "#0d0887"
             ],
             [
              0.1111111111111111,
              "#46039f"
             ],
             [
              0.2222222222222222,
              "#7201a8"
             ],
             [
              0.3333333333333333,
              "#9c179e"
             ],
             [
              0.4444444444444444,
              "#bd3786"
             ],
             [
              0.5555555555555556,
              "#d8576b"
             ],
             [
              0.6666666666666666,
              "#ed7953"
             ],
             [
              0.7777777777777778,
              "#fb9f3a"
             ],
             [
              0.8888888888888888,
              "#fdca26"
             ],
             [
              1,
              "#f0f921"
             ]
            ],
            "type": "contour"
           }
          ],
          "contourcarpet": [
           {
            "colorbar": {
             "outlinewidth": 0,
             "ticks": ""
            },
            "type": "contourcarpet"
           }
          ],
          "heatmap": [
           {
            "colorbar": {
             "outlinewidth": 0,
             "ticks": ""
            },
            "colorscale": [
             [
              0,
              "#0d0887"
             ],
             [
              0.1111111111111111,
              "#46039f"
             ],
             [
              0.2222222222222222,
              "#7201a8"
             ],
             [
              0.3333333333333333,
              "#9c179e"
             ],
             [
              0.4444444444444444,
              "#bd3786"
             ],
             [
              0.5555555555555556,
              "#d8576b"
             ],
             [
              0.6666666666666666,
              "#ed7953"
             ],
             [
              0.7777777777777778,
              "#fb9f3a"
             ],
             [
              0.8888888888888888,
              "#fdca26"
             ],
             [
              1,
              "#f0f921"
             ]
            ],
            "type": "heatmap"
           }
          ],
          "heatmapgl": [
           {
            "colorbar": {
             "outlinewidth": 0,
             "ticks": ""
            },
            "colorscale": [
             [
              0,
              "#0d0887"
             ],
             [
              0.1111111111111111,
              "#46039f"
             ],
             [
              0.2222222222222222,
              "#7201a8"
             ],
             [
              0.3333333333333333,
              "#9c179e"
             ],
             [
              0.4444444444444444,
              "#bd3786"
             ],
             [
              0.5555555555555556,
              "#d8576b"
             ],
             [
              0.6666666666666666,
              "#ed7953"
             ],
             [
              0.7777777777777778,
              "#fb9f3a"
             ],
             [
              0.8888888888888888,
              "#fdca26"
             ],
             [
              1,
              "#f0f921"
             ]
            ],
            "type": "heatmapgl"
           }
          ],
          "histogram": [
           {
            "marker": {
             "pattern": {
              "fillmode": "overlay",
              "size": 10,
              "solidity": 0.2
             }
            },
            "type": "histogram"
           }
          ],
          "histogram2d": [
           {
            "colorbar": {
             "outlinewidth": 0,
             "ticks": ""
            },
            "colorscale": [
             [
              0,
              "#0d0887"
             ],
             [
              0.1111111111111111,
              "#46039f"
             ],
             [
              0.2222222222222222,
              "#7201a8"
             ],
             [
              0.3333333333333333,
              "#9c179e"
             ],
             [
              0.4444444444444444,
              "#bd3786"
             ],
             [
              0.5555555555555556,
              "#d8576b"
             ],
             [
              0.6666666666666666,
              "#ed7953"
             ],
             [
              0.7777777777777778,
              "#fb9f3a"
             ],
             [
              0.8888888888888888,
              "#fdca26"
             ],
             [
              1,
              "#f0f921"
             ]
            ],
            "type": "histogram2d"
           }
          ],
          "histogram2dcontour": [
           {
            "colorbar": {
             "outlinewidth": 0,
             "ticks": ""
            },
            "colorscale": [
             [
              0,
              "#0d0887"
             ],
             [
              0.1111111111111111,
              "#46039f"
             ],
             [
              0.2222222222222222,
              "#7201a8"
             ],
             [
              0.3333333333333333,
              "#9c179e"
             ],
             [
              0.4444444444444444,
              "#bd3786"
             ],
             [
              0.5555555555555556,
              "#d8576b"
             ],
             [
              0.6666666666666666,
              "#ed7953"
             ],
             [
              0.7777777777777778,
              "#fb9f3a"
             ],
             [
              0.8888888888888888,
              "#fdca26"
             ],
             [
              1,
              "#f0f921"
             ]
            ],
            "type": "histogram2dcontour"
           }
          ],
          "mesh3d": [
           {
            "colorbar": {
             "outlinewidth": 0,
             "ticks": ""
            },
            "type": "mesh3d"
           }
          ],
          "parcoords": [
           {
            "line": {
             "colorbar": {
              "outlinewidth": 0,
              "ticks": ""
             }
            },
            "type": "parcoords"
           }
          ],
          "pie": [
           {
            "automargin": true,
            "type": "pie"
           }
          ],
          "scatter": [
           {
            "fillpattern": {
             "fillmode": "overlay",
             "size": 10,
             "solidity": 0.2
            },
            "type": "scatter"
           }
          ],
          "scatter3d": [
           {
            "line": {
             "colorbar": {
              "outlinewidth": 0,
              "ticks": ""
             }
            },
            "marker": {
             "colorbar": {
              "outlinewidth": 0,
              "ticks": ""
             }
            },
            "type": "scatter3d"
           }
          ],
          "scattercarpet": [
           {
            "marker": {
             "colorbar": {
              "outlinewidth": 0,
              "ticks": ""
             }
            },
            "type": "scattercarpet"
           }
          ],
          "scattergeo": [
           {
            "marker": {
             "colorbar": {
              "outlinewidth": 0,
              "ticks": ""
             }
            },
            "type": "scattergeo"
           }
          ],
          "scattergl": [
           {
            "marker": {
             "colorbar": {
              "outlinewidth": 0,
              "ticks": ""
             }
            },
            "type": "scattergl"
           }
          ],
          "scattermapbox": [
           {
            "marker": {
             "colorbar": {
              "outlinewidth": 0,
              "ticks": ""
             }
            },
            "type": "scattermapbox"
           }
          ],
          "scatterpolar": [
           {
            "marker": {
             "colorbar": {
              "outlinewidth": 0,
              "ticks": ""
             }
            },
            "type": "scatterpolar"
           }
          ],
          "scatterpolargl": [
           {
            "marker": {
             "colorbar": {
              "outlinewidth": 0,
              "ticks": ""
             }
            },
            "type": "scatterpolargl"
           }
          ],
          "scatterternary": [
           {
            "marker": {
             "colorbar": {
              "outlinewidth": 0,
              "ticks": ""
             }
            },
            "type": "scatterternary"
           }
          ],
          "surface": [
           {
            "colorbar": {
             "outlinewidth": 0,
             "ticks": ""
            },
            "colorscale": [
             [
              0,
              "#0d0887"
             ],
             [
              0.1111111111111111,
              "#46039f"
             ],
             [
              0.2222222222222222,
              "#7201a8"
             ],
             [
              0.3333333333333333,
              "#9c179e"
             ],
             [
              0.4444444444444444,
              "#bd3786"
             ],
             [
              0.5555555555555556,
              "#d8576b"
             ],
             [
              0.6666666666666666,
              "#ed7953"
             ],
             [
              0.7777777777777778,
              "#fb9f3a"
             ],
             [
              0.8888888888888888,
              "#fdca26"
             ],
             [
              1,
              "#f0f921"
             ]
            ],
            "type": "surface"
           }
          ],
          "table": [
           {
            "cells": {
             "fill": {
              "color": "#EBF0F8"
             },
             "line": {
              "color": "white"
             }
            },
            "header": {
             "fill": {
              "color": "#C8D4E3"
             },
             "line": {
              "color": "white"
             }
            },
            "type": "table"
           }
          ]
         },
         "layout": {
          "annotationdefaults": {
           "arrowcolor": "#2a3f5f",
           "arrowhead": 0,
           "arrowwidth": 1
          },
          "autotypenumbers": "strict",
          "coloraxis": {
           "colorbar": {
            "outlinewidth": 0,
            "ticks": ""
           }
          },
          "colorscale": {
           "diverging": [
            [
             0,
             "#8e0152"
            ],
            [
             0.1,
             "#c51b7d"
            ],
            [
             0.2,
             "#de77ae"
            ],
            [
             0.3,
             "#f1b6da"
            ],
            [
             0.4,
             "#fde0ef"
            ],
            [
             0.5,
             "#f7f7f7"
            ],
            [
             0.6,
             "#e6f5d0"
            ],
            [
             0.7,
             "#b8e186"
            ],
            [
             0.8,
             "#7fbc41"
            ],
            [
             0.9,
             "#4d9221"
            ],
            [
             1,
             "#276419"
            ]
           ],
           "sequential": [
            [
             0,
             "#0d0887"
            ],
            [
             0.1111111111111111,
             "#46039f"
            ],
            [
             0.2222222222222222,
             "#7201a8"
            ],
            [
             0.3333333333333333,
             "#9c179e"
            ],
            [
             0.4444444444444444,
             "#bd3786"
            ],
            [
             0.5555555555555556,
             "#d8576b"
            ],
            [
             0.6666666666666666,
             "#ed7953"
            ],
            [
             0.7777777777777778,
             "#fb9f3a"
            ],
            [
             0.8888888888888888,
             "#fdca26"
            ],
            [
             1,
             "#f0f921"
            ]
           ],
           "sequentialminus": [
            [
             0,
             "#0d0887"
            ],
            [
             0.1111111111111111,
             "#46039f"
            ],
            [
             0.2222222222222222,
             "#7201a8"
            ],
            [
             0.3333333333333333,
             "#9c179e"
            ],
            [
             0.4444444444444444,
             "#bd3786"
            ],
            [
             0.5555555555555556,
             "#d8576b"
            ],
            [
             0.6666666666666666,
             "#ed7953"
            ],
            [
             0.7777777777777778,
             "#fb9f3a"
            ],
            [
             0.8888888888888888,
             "#fdca26"
            ],
            [
             1,
             "#f0f921"
            ]
           ]
          },
          "colorway": [
           "#636efa",
           "#EF553B",
           "#00cc96",
           "#ab63fa",
           "#FFA15A",
           "#19d3f3",
           "#FF6692",
           "#B6E880",
           "#FF97FF",
           "#FECB52"
          ],
          "font": {
           "color": "#2a3f5f"
          },
          "geo": {
           "bgcolor": "white",
           "lakecolor": "white",
           "landcolor": "#E5ECF6",
           "showlakes": true,
           "showland": true,
           "subunitcolor": "white"
          },
          "hoverlabel": {
           "align": "left"
          },
          "hovermode": "closest",
          "mapbox": {
           "style": "light"
          },
          "paper_bgcolor": "white",
          "plot_bgcolor": "#E5ECF6",
          "polar": {
           "angularaxis": {
            "gridcolor": "white",
            "linecolor": "white",
            "ticks": ""
           },
           "bgcolor": "#E5ECF6",
           "radialaxis": {
            "gridcolor": "white",
            "linecolor": "white",
            "ticks": ""
           }
          },
          "scene": {
           "xaxis": {
            "backgroundcolor": "#E5ECF6",
            "gridcolor": "white",
            "gridwidth": 2,
            "linecolor": "white",
            "showbackground": true,
            "ticks": "",
            "zerolinecolor": "white"
           },
           "yaxis": {
            "backgroundcolor": "#E5ECF6",
            "gridcolor": "white",
            "gridwidth": 2,
            "linecolor": "white",
            "showbackground": true,
            "ticks": "",
            "zerolinecolor": "white"
           },
           "zaxis": {
            "backgroundcolor": "#E5ECF6",
            "gridcolor": "white",
            "gridwidth": 2,
            "linecolor": "white",
            "showbackground": true,
            "ticks": "",
            "zerolinecolor": "white"
           }
          },
          "shapedefaults": {
           "line": {
            "color": "#2a3f5f"
           }
          },
          "ternary": {
           "aaxis": {
            "gridcolor": "white",
            "linecolor": "white",
            "ticks": ""
           },
           "baxis": {
            "gridcolor": "white",
            "linecolor": "white",
            "ticks": ""
           },
           "bgcolor": "#E5ECF6",
           "caxis": {
            "gridcolor": "white",
            "linecolor": "white",
            "ticks": ""
           }
          },
          "title": {
           "x": 0.05
          },
          "xaxis": {
           "automargin": true,
           "gridcolor": "white",
           "linecolor": "white",
           "ticks": "",
           "title": {
            "standoff": 15
           },
           "zerolinecolor": "white",
           "zerolinewidth": 2
          },
          "yaxis": {
           "automargin": true,
           "gridcolor": "white",
           "linecolor": "white",
           "ticks": "",
           "title": {
            "standoff": 15
           },
           "zerolinecolor": "white",
           "zerolinewidth": 2
          }
         }
        },
        "title": {
         "text": "Analysis of OnlineSecurity"
        },
        "width": 700,
        "xaxis": {
         "anchor": "y",
         "domain": [
          0,
          1
         ],
         "title": {
          "text": "OnlineSecurity"
         }
        },
        "yaxis": {
         "anchor": "x",
         "domain": [
          0,
          1
         ],
         "title": {
          "text": "count"
         }
        }
       }
      }
     },
     "metadata": {},
     "output_type": "display_data"
    },
    {
     "data": {
      "application/vnd.plotly.v1+json": {
       "config": {
        "plotlyServerURL": "https://plot.ly"
       },
       "data": [
        {
         "alignmentgroup": "True",
         "hovertemplate": "Churn=No<br>OnlineBackup=%{x}<br>count=%{y}<extra></extra>",
         "legendgroup": "No",
         "marker": {
          "color": "Green",
          "pattern": {
           "shape": ""
          }
         },
         "name": "No",
         "offsetgroup": "No",
         "orientation": "v",
         "showlegend": true,
         "textposition": "auto",
         "type": "bar",
         "x": [
          "No",
          "Yes"
         ],
         "xaxis": "x",
         "y": [
          1855,
          1906
         ],
         "yaxis": "y"
        },
        {
         "alignmentgroup": "True",
         "hovertemplate": "Churn=Yes<br>OnlineBackup=%{x}<br>count=%{y}<extra></extra>",
         "legendgroup": "Yes",
         "marker": {
          "color": "Red",
          "pattern": {
           "shape": ""
          }
         },
         "name": "Yes",
         "offsetgroup": "Yes",
         "orientation": "v",
         "showlegend": true,
         "textposition": "auto",
         "type": "bar",
         "x": [
          "No",
          "Yes"
         ],
         "xaxis": "x",
         "y": [
          1233,
          523
         ],
         "yaxis": "y"
        }
       ],
       "layout": {
        "barmode": "group",
        "height": 400,
        "legend": {
         "title": {
          "text": "Churn"
         },
         "tracegroupgap": 0
        },
        "template": {
         "data": {
          "bar": [
           {
            "error_x": {
             "color": "#2a3f5f"
            },
            "error_y": {
             "color": "#2a3f5f"
            },
            "marker": {
             "line": {
              "color": "#E5ECF6",
              "width": 0.5
             },
             "pattern": {
              "fillmode": "overlay",
              "size": 10,
              "solidity": 0.2
             }
            },
            "type": "bar"
           }
          ],
          "barpolar": [
           {
            "marker": {
             "line": {
              "color": "#E5ECF6",
              "width": 0.5
             },
             "pattern": {
              "fillmode": "overlay",
              "size": 10,
              "solidity": 0.2
             }
            },
            "type": "barpolar"
           }
          ],
          "carpet": [
           {
            "aaxis": {
             "endlinecolor": "#2a3f5f",
             "gridcolor": "white",
             "linecolor": "white",
             "minorgridcolor": "white",
             "startlinecolor": "#2a3f5f"
            },
            "baxis": {
             "endlinecolor": "#2a3f5f",
             "gridcolor": "white",
             "linecolor": "white",
             "minorgridcolor": "white",
             "startlinecolor": "#2a3f5f"
            },
            "type": "carpet"
           }
          ],
          "choropleth": [
           {
            "colorbar": {
             "outlinewidth": 0,
             "ticks": ""
            },
            "type": "choropleth"
           }
          ],
          "contour": [
           {
            "colorbar": {
             "outlinewidth": 0,
             "ticks": ""
            },
            "colorscale": [
             [
              0,
              "#0d0887"
             ],
             [
              0.1111111111111111,
              "#46039f"
             ],
             [
              0.2222222222222222,
              "#7201a8"
             ],
             [
              0.3333333333333333,
              "#9c179e"
             ],
             [
              0.4444444444444444,
              "#bd3786"
             ],
             [
              0.5555555555555556,
              "#d8576b"
             ],
             [
              0.6666666666666666,
              "#ed7953"
             ],
             [
              0.7777777777777778,
              "#fb9f3a"
             ],
             [
              0.8888888888888888,
              "#fdca26"
             ],
             [
              1,
              "#f0f921"
             ]
            ],
            "type": "contour"
           }
          ],
          "contourcarpet": [
           {
            "colorbar": {
             "outlinewidth": 0,
             "ticks": ""
            },
            "type": "contourcarpet"
           }
          ],
          "heatmap": [
           {
            "colorbar": {
             "outlinewidth": 0,
             "ticks": ""
            },
            "colorscale": [
             [
              0,
              "#0d0887"
             ],
             [
              0.1111111111111111,
              "#46039f"
             ],
             [
              0.2222222222222222,
              "#7201a8"
             ],
             [
              0.3333333333333333,
              "#9c179e"
             ],
             [
              0.4444444444444444,
              "#bd3786"
             ],
             [
              0.5555555555555556,
              "#d8576b"
             ],
             [
              0.6666666666666666,
              "#ed7953"
             ],
             [
              0.7777777777777778,
              "#fb9f3a"
             ],
             [
              0.8888888888888888,
              "#fdca26"
             ],
             [
              1,
              "#f0f921"
             ]
            ],
            "type": "heatmap"
           }
          ],
          "heatmapgl": [
           {
            "colorbar": {
             "outlinewidth": 0,
             "ticks": ""
            },
            "colorscale": [
             [
              0,
              "#0d0887"
             ],
             [
              0.1111111111111111,
              "#46039f"
             ],
             [
              0.2222222222222222,
              "#7201a8"
             ],
             [
              0.3333333333333333,
              "#9c179e"
             ],
             [
              0.4444444444444444,
              "#bd3786"
             ],
             [
              0.5555555555555556,
              "#d8576b"
             ],
             [
              0.6666666666666666,
              "#ed7953"
             ],
             [
              0.7777777777777778,
              "#fb9f3a"
             ],
             [
              0.8888888888888888,
              "#fdca26"
             ],
             [
              1,
              "#f0f921"
             ]
            ],
            "type": "heatmapgl"
           }
          ],
          "histogram": [
           {
            "marker": {
             "pattern": {
              "fillmode": "overlay",
              "size": 10,
              "solidity": 0.2
             }
            },
            "type": "histogram"
           }
          ],
          "histogram2d": [
           {
            "colorbar": {
             "outlinewidth": 0,
             "ticks": ""
            },
            "colorscale": [
             [
              0,
              "#0d0887"
             ],
             [
              0.1111111111111111,
              "#46039f"
             ],
             [
              0.2222222222222222,
              "#7201a8"
             ],
             [
              0.3333333333333333,
              "#9c179e"
             ],
             [
              0.4444444444444444,
              "#bd3786"
             ],
             [
              0.5555555555555556,
              "#d8576b"
             ],
             [
              0.6666666666666666,
              "#ed7953"
             ],
             [
              0.7777777777777778,
              "#fb9f3a"
             ],
             [
              0.8888888888888888,
              "#fdca26"
             ],
             [
              1,
              "#f0f921"
             ]
            ],
            "type": "histogram2d"
           }
          ],
          "histogram2dcontour": [
           {
            "colorbar": {
             "outlinewidth": 0,
             "ticks": ""
            },
            "colorscale": [
             [
              0,
              "#0d0887"
             ],
             [
              0.1111111111111111,
              "#46039f"
             ],
             [
              0.2222222222222222,
              "#7201a8"
             ],
             [
              0.3333333333333333,
              "#9c179e"
             ],
             [
              0.4444444444444444,
              "#bd3786"
             ],
             [
              0.5555555555555556,
              "#d8576b"
             ],
             [
              0.6666666666666666,
              "#ed7953"
             ],
             [
              0.7777777777777778,
              "#fb9f3a"
             ],
             [
              0.8888888888888888,
              "#fdca26"
             ],
             [
              1,
              "#f0f921"
             ]
            ],
            "type": "histogram2dcontour"
           }
          ],
          "mesh3d": [
           {
            "colorbar": {
             "outlinewidth": 0,
             "ticks": ""
            },
            "type": "mesh3d"
           }
          ],
          "parcoords": [
           {
            "line": {
             "colorbar": {
              "outlinewidth": 0,
              "ticks": ""
             }
            },
            "type": "parcoords"
           }
          ],
          "pie": [
           {
            "automargin": true,
            "type": "pie"
           }
          ],
          "scatter": [
           {
            "fillpattern": {
             "fillmode": "overlay",
             "size": 10,
             "solidity": 0.2
            },
            "type": "scatter"
           }
          ],
          "scatter3d": [
           {
            "line": {
             "colorbar": {
              "outlinewidth": 0,
              "ticks": ""
             }
            },
            "marker": {
             "colorbar": {
              "outlinewidth": 0,
              "ticks": ""
             }
            },
            "type": "scatter3d"
           }
          ],
          "scattercarpet": [
           {
            "marker": {
             "colorbar": {
              "outlinewidth": 0,
              "ticks": ""
             }
            },
            "type": "scattercarpet"
           }
          ],
          "scattergeo": [
           {
            "marker": {
             "colorbar": {
              "outlinewidth": 0,
              "ticks": ""
             }
            },
            "type": "scattergeo"
           }
          ],
          "scattergl": [
           {
            "marker": {
             "colorbar": {
              "outlinewidth": 0,
              "ticks": ""
             }
            },
            "type": "scattergl"
           }
          ],
          "scattermapbox": [
           {
            "marker": {
             "colorbar": {
              "outlinewidth": 0,
              "ticks": ""
             }
            },
            "type": "scattermapbox"
           }
          ],
          "scatterpolar": [
           {
            "marker": {
             "colorbar": {
              "outlinewidth": 0,
              "ticks": ""
             }
            },
            "type": "scatterpolar"
           }
          ],
          "scatterpolargl": [
           {
            "marker": {
             "colorbar": {
              "outlinewidth": 0,
              "ticks": ""
             }
            },
            "type": "scatterpolargl"
           }
          ],
          "scatterternary": [
           {
            "marker": {
             "colorbar": {
              "outlinewidth": 0,
              "ticks": ""
             }
            },
            "type": "scatterternary"
           }
          ],
          "surface": [
           {
            "colorbar": {
             "outlinewidth": 0,
             "ticks": ""
            },
            "colorscale": [
             [
              0,
              "#0d0887"
             ],
             [
              0.1111111111111111,
              "#46039f"
             ],
             [
              0.2222222222222222,
              "#7201a8"
             ],
             [
              0.3333333333333333,
              "#9c179e"
             ],
             [
              0.4444444444444444,
              "#bd3786"
             ],
             [
              0.5555555555555556,
              "#d8576b"
             ],
             [
              0.6666666666666666,
              "#ed7953"
             ],
             [
              0.7777777777777778,
              "#fb9f3a"
             ],
             [
              0.8888888888888888,
              "#fdca26"
             ],
             [
              1,
              "#f0f921"
             ]
            ],
            "type": "surface"
           }
          ],
          "table": [
           {
            "cells": {
             "fill": {
              "color": "#EBF0F8"
             },
             "line": {
              "color": "white"
             }
            },
            "header": {
             "fill": {
              "color": "#C8D4E3"
             },
             "line": {
              "color": "white"
             }
            },
            "type": "table"
           }
          ]
         },
         "layout": {
          "annotationdefaults": {
           "arrowcolor": "#2a3f5f",
           "arrowhead": 0,
           "arrowwidth": 1
          },
          "autotypenumbers": "strict",
          "coloraxis": {
           "colorbar": {
            "outlinewidth": 0,
            "ticks": ""
           }
          },
          "colorscale": {
           "diverging": [
            [
             0,
             "#8e0152"
            ],
            [
             0.1,
             "#c51b7d"
            ],
            [
             0.2,
             "#de77ae"
            ],
            [
             0.3,
             "#f1b6da"
            ],
            [
             0.4,
             "#fde0ef"
            ],
            [
             0.5,
             "#f7f7f7"
            ],
            [
             0.6,
             "#e6f5d0"
            ],
            [
             0.7,
             "#b8e186"
            ],
            [
             0.8,
             "#7fbc41"
            ],
            [
             0.9,
             "#4d9221"
            ],
            [
             1,
             "#276419"
            ]
           ],
           "sequential": [
            [
             0,
             "#0d0887"
            ],
            [
             0.1111111111111111,
             "#46039f"
            ],
            [
             0.2222222222222222,
             "#7201a8"
            ],
            [
             0.3333333333333333,
             "#9c179e"
            ],
            [
             0.4444444444444444,
             "#bd3786"
            ],
            [
             0.5555555555555556,
             "#d8576b"
            ],
            [
             0.6666666666666666,
             "#ed7953"
            ],
            [
             0.7777777777777778,
             "#fb9f3a"
            ],
            [
             0.8888888888888888,
             "#fdca26"
            ],
            [
             1,
             "#f0f921"
            ]
           ],
           "sequentialminus": [
            [
             0,
             "#0d0887"
            ],
            [
             0.1111111111111111,
             "#46039f"
            ],
            [
             0.2222222222222222,
             "#7201a8"
            ],
            [
             0.3333333333333333,
             "#9c179e"
            ],
            [
             0.4444444444444444,
             "#bd3786"
            ],
            [
             0.5555555555555556,
             "#d8576b"
            ],
            [
             0.6666666666666666,
             "#ed7953"
            ],
            [
             0.7777777777777778,
             "#fb9f3a"
            ],
            [
             0.8888888888888888,
             "#fdca26"
            ],
            [
             1,
             "#f0f921"
            ]
           ]
          },
          "colorway": [
           "#636efa",
           "#EF553B",
           "#00cc96",
           "#ab63fa",
           "#FFA15A",
           "#19d3f3",
           "#FF6692",
           "#B6E880",
           "#FF97FF",
           "#FECB52"
          ],
          "font": {
           "color": "#2a3f5f"
          },
          "geo": {
           "bgcolor": "white",
           "lakecolor": "white",
           "landcolor": "#E5ECF6",
           "showlakes": true,
           "showland": true,
           "subunitcolor": "white"
          },
          "hoverlabel": {
           "align": "left"
          },
          "hovermode": "closest",
          "mapbox": {
           "style": "light"
          },
          "paper_bgcolor": "white",
          "plot_bgcolor": "#E5ECF6",
          "polar": {
           "angularaxis": {
            "gridcolor": "white",
            "linecolor": "white",
            "ticks": ""
           },
           "bgcolor": "#E5ECF6",
           "radialaxis": {
            "gridcolor": "white",
            "linecolor": "white",
            "ticks": ""
           }
          },
          "scene": {
           "xaxis": {
            "backgroundcolor": "#E5ECF6",
            "gridcolor": "white",
            "gridwidth": 2,
            "linecolor": "white",
            "showbackground": true,
            "ticks": "",
            "zerolinecolor": "white"
           },
           "yaxis": {
            "backgroundcolor": "#E5ECF6",
            "gridcolor": "white",
            "gridwidth": 2,
            "linecolor": "white",
            "showbackground": true,
            "ticks": "",
            "zerolinecolor": "white"
           },
           "zaxis": {
            "backgroundcolor": "#E5ECF6",
            "gridcolor": "white",
            "gridwidth": 2,
            "linecolor": "white",
            "showbackground": true,
            "ticks": "",
            "zerolinecolor": "white"
           }
          },
          "shapedefaults": {
           "line": {
            "color": "#2a3f5f"
           }
          },
          "ternary": {
           "aaxis": {
            "gridcolor": "white",
            "linecolor": "white",
            "ticks": ""
           },
           "baxis": {
            "gridcolor": "white",
            "linecolor": "white",
            "ticks": ""
           },
           "bgcolor": "#E5ECF6",
           "caxis": {
            "gridcolor": "white",
            "linecolor": "white",
            "ticks": ""
           }
          },
          "title": {
           "x": 0.05
          },
          "xaxis": {
           "automargin": true,
           "gridcolor": "white",
           "linecolor": "white",
           "ticks": "",
           "title": {
            "standoff": 15
           },
           "zerolinecolor": "white",
           "zerolinewidth": 2
          },
          "yaxis": {
           "automargin": true,
           "gridcolor": "white",
           "linecolor": "white",
           "ticks": "",
           "title": {
            "standoff": 15
           },
           "zerolinecolor": "white",
           "zerolinewidth": 2
          }
         }
        },
        "title": {
         "text": "Analysis of OnlineBackup"
        },
        "width": 700,
        "xaxis": {
         "anchor": "y",
         "domain": [
          0,
          1
         ],
         "title": {
          "text": "OnlineBackup"
         }
        },
        "yaxis": {
         "anchor": "x",
         "domain": [
          0,
          1
         ],
         "title": {
          "text": "count"
         }
        }
       }
      }
     },
     "metadata": {},
     "output_type": "display_data"
    },
    {
     "data": {
      "application/vnd.plotly.v1+json": {
       "config": {
        "plotlyServerURL": "https://plot.ly"
       },
       "data": [
        {
         "alignmentgroup": "True",
         "hovertemplate": "Churn=No<br>DeviceProtection=%{x}<br>count=%{y}<extra></extra>",
         "legendgroup": "No",
         "marker": {
          "color": "Green",
          "pattern": {
           "shape": ""
          }
         },
         "name": "No",
         "offsetgroup": "No",
         "orientation": "v",
         "showlegend": true,
         "textposition": "auto",
         "type": "bar",
         "x": [
          "No",
          "Yes"
         ],
         "xaxis": "x",
         "y": [
          1884,
          1877
         ],
         "yaxis": "y"
        },
        {
         "alignmentgroup": "True",
         "hovertemplate": "Churn=Yes<br>DeviceProtection=%{x}<br>count=%{y}<extra></extra>",
         "legendgroup": "Yes",
         "marker": {
          "color": "Red",
          "pattern": {
           "shape": ""
          }
         },
         "name": "Yes",
         "offsetgroup": "Yes",
         "orientation": "v",
         "showlegend": true,
         "textposition": "auto",
         "type": "bar",
         "x": [
          "No",
          "Yes"
         ],
         "xaxis": "x",
         "y": [
          1211,
          545
         ],
         "yaxis": "y"
        }
       ],
       "layout": {
        "barmode": "group",
        "height": 400,
        "legend": {
         "title": {
          "text": "Churn"
         },
         "tracegroupgap": 0
        },
        "template": {
         "data": {
          "bar": [
           {
            "error_x": {
             "color": "#2a3f5f"
            },
            "error_y": {
             "color": "#2a3f5f"
            },
            "marker": {
             "line": {
              "color": "#E5ECF6",
              "width": 0.5
             },
             "pattern": {
              "fillmode": "overlay",
              "size": 10,
              "solidity": 0.2
             }
            },
            "type": "bar"
           }
          ],
          "barpolar": [
           {
            "marker": {
             "line": {
              "color": "#E5ECF6",
              "width": 0.5
             },
             "pattern": {
              "fillmode": "overlay",
              "size": 10,
              "solidity": 0.2
             }
            },
            "type": "barpolar"
           }
          ],
          "carpet": [
           {
            "aaxis": {
             "endlinecolor": "#2a3f5f",
             "gridcolor": "white",
             "linecolor": "white",
             "minorgridcolor": "white",
             "startlinecolor": "#2a3f5f"
            },
            "baxis": {
             "endlinecolor": "#2a3f5f",
             "gridcolor": "white",
             "linecolor": "white",
             "minorgridcolor": "white",
             "startlinecolor": "#2a3f5f"
            },
            "type": "carpet"
           }
          ],
          "choropleth": [
           {
            "colorbar": {
             "outlinewidth": 0,
             "ticks": ""
            },
            "type": "choropleth"
           }
          ],
          "contour": [
           {
            "colorbar": {
             "outlinewidth": 0,
             "ticks": ""
            },
            "colorscale": [
             [
              0,
              "#0d0887"
             ],
             [
              0.1111111111111111,
              "#46039f"
             ],
             [
              0.2222222222222222,
              "#7201a8"
             ],
             [
              0.3333333333333333,
              "#9c179e"
             ],
             [
              0.4444444444444444,
              "#bd3786"
             ],
             [
              0.5555555555555556,
              "#d8576b"
             ],
             [
              0.6666666666666666,
              "#ed7953"
             ],
             [
              0.7777777777777778,
              "#fb9f3a"
             ],
             [
              0.8888888888888888,
              "#fdca26"
             ],
             [
              1,
              "#f0f921"
             ]
            ],
            "type": "contour"
           }
          ],
          "contourcarpet": [
           {
            "colorbar": {
             "outlinewidth": 0,
             "ticks": ""
            },
            "type": "contourcarpet"
           }
          ],
          "heatmap": [
           {
            "colorbar": {
             "outlinewidth": 0,
             "ticks": ""
            },
            "colorscale": [
             [
              0,
              "#0d0887"
             ],
             [
              0.1111111111111111,
              "#46039f"
             ],
             [
              0.2222222222222222,
              "#7201a8"
             ],
             [
              0.3333333333333333,
              "#9c179e"
             ],
             [
              0.4444444444444444,
              "#bd3786"
             ],
             [
              0.5555555555555556,
              "#d8576b"
             ],
             [
              0.6666666666666666,
              "#ed7953"
             ],
             [
              0.7777777777777778,
              "#fb9f3a"
             ],
             [
              0.8888888888888888,
              "#fdca26"
             ],
             [
              1,
              "#f0f921"
             ]
            ],
            "type": "heatmap"
           }
          ],
          "heatmapgl": [
           {
            "colorbar": {
             "outlinewidth": 0,
             "ticks": ""
            },
            "colorscale": [
             [
              0,
              "#0d0887"
             ],
             [
              0.1111111111111111,
              "#46039f"
             ],
             [
              0.2222222222222222,
              "#7201a8"
             ],
             [
              0.3333333333333333,
              "#9c179e"
             ],
             [
              0.4444444444444444,
              "#bd3786"
             ],
             [
              0.5555555555555556,
              "#d8576b"
             ],
             [
              0.6666666666666666,
              "#ed7953"
             ],
             [
              0.7777777777777778,
              "#fb9f3a"
             ],
             [
              0.8888888888888888,
              "#fdca26"
             ],
             [
              1,
              "#f0f921"
             ]
            ],
            "type": "heatmapgl"
           }
          ],
          "histogram": [
           {
            "marker": {
             "pattern": {
              "fillmode": "overlay",
              "size": 10,
              "solidity": 0.2
             }
            },
            "type": "histogram"
           }
          ],
          "histogram2d": [
           {
            "colorbar": {
             "outlinewidth": 0,
             "ticks": ""
            },
            "colorscale": [
             [
              0,
              "#0d0887"
             ],
             [
              0.1111111111111111,
              "#46039f"
             ],
             [
              0.2222222222222222,
              "#7201a8"
             ],
             [
              0.3333333333333333,
              "#9c179e"
             ],
             [
              0.4444444444444444,
              "#bd3786"
             ],
             [
              0.5555555555555556,
              "#d8576b"
             ],
             [
              0.6666666666666666,
              "#ed7953"
             ],
             [
              0.7777777777777778,
              "#fb9f3a"
             ],
             [
              0.8888888888888888,
              "#fdca26"
             ],
             [
              1,
              "#f0f921"
             ]
            ],
            "type": "histogram2d"
           }
          ],
          "histogram2dcontour": [
           {
            "colorbar": {
             "outlinewidth": 0,
             "ticks": ""
            },
            "colorscale": [
             [
              0,
              "#0d0887"
             ],
             [
              0.1111111111111111,
              "#46039f"
             ],
             [
              0.2222222222222222,
              "#7201a8"
             ],
             [
              0.3333333333333333,
              "#9c179e"
             ],
             [
              0.4444444444444444,
              "#bd3786"
             ],
             [
              0.5555555555555556,
              "#d8576b"
             ],
             [
              0.6666666666666666,
              "#ed7953"
             ],
             [
              0.7777777777777778,
              "#fb9f3a"
             ],
             [
              0.8888888888888888,
              "#fdca26"
             ],
             [
              1,
              "#f0f921"
             ]
            ],
            "type": "histogram2dcontour"
           }
          ],
          "mesh3d": [
           {
            "colorbar": {
             "outlinewidth": 0,
             "ticks": ""
            },
            "type": "mesh3d"
           }
          ],
          "parcoords": [
           {
            "line": {
             "colorbar": {
              "outlinewidth": 0,
              "ticks": ""
             }
            },
            "type": "parcoords"
           }
          ],
          "pie": [
           {
            "automargin": true,
            "type": "pie"
           }
          ],
          "scatter": [
           {
            "fillpattern": {
             "fillmode": "overlay",
             "size": 10,
             "solidity": 0.2
            },
            "type": "scatter"
           }
          ],
          "scatter3d": [
           {
            "line": {
             "colorbar": {
              "outlinewidth": 0,
              "ticks": ""
             }
            },
            "marker": {
             "colorbar": {
              "outlinewidth": 0,
              "ticks": ""
             }
            },
            "type": "scatter3d"
           }
          ],
          "scattercarpet": [
           {
            "marker": {
             "colorbar": {
              "outlinewidth": 0,
              "ticks": ""
             }
            },
            "type": "scattercarpet"
           }
          ],
          "scattergeo": [
           {
            "marker": {
             "colorbar": {
              "outlinewidth": 0,
              "ticks": ""
             }
            },
            "type": "scattergeo"
           }
          ],
          "scattergl": [
           {
            "marker": {
             "colorbar": {
              "outlinewidth": 0,
              "ticks": ""
             }
            },
            "type": "scattergl"
           }
          ],
          "scattermapbox": [
           {
            "marker": {
             "colorbar": {
              "outlinewidth": 0,
              "ticks": ""
             }
            },
            "type": "scattermapbox"
           }
          ],
          "scatterpolar": [
           {
            "marker": {
             "colorbar": {
              "outlinewidth": 0,
              "ticks": ""
             }
            },
            "type": "scatterpolar"
           }
          ],
          "scatterpolargl": [
           {
            "marker": {
             "colorbar": {
              "outlinewidth": 0,
              "ticks": ""
             }
            },
            "type": "scatterpolargl"
           }
          ],
          "scatterternary": [
           {
            "marker": {
             "colorbar": {
              "outlinewidth": 0,
              "ticks": ""
             }
            },
            "type": "scatterternary"
           }
          ],
          "surface": [
           {
            "colorbar": {
             "outlinewidth": 0,
             "ticks": ""
            },
            "colorscale": [
             [
              0,
              "#0d0887"
             ],
             [
              0.1111111111111111,
              "#46039f"
             ],
             [
              0.2222222222222222,
              "#7201a8"
             ],
             [
              0.3333333333333333,
              "#9c179e"
             ],
             [
              0.4444444444444444,
              "#bd3786"
             ],
             [
              0.5555555555555556,
              "#d8576b"
             ],
             [
              0.6666666666666666,
              "#ed7953"
             ],
             [
              0.7777777777777778,
              "#fb9f3a"
             ],
             [
              0.8888888888888888,
              "#fdca26"
             ],
             [
              1,
              "#f0f921"
             ]
            ],
            "type": "surface"
           }
          ],
          "table": [
           {
            "cells": {
             "fill": {
              "color": "#EBF0F8"
             },
             "line": {
              "color": "white"
             }
            },
            "header": {
             "fill": {
              "color": "#C8D4E3"
             },
             "line": {
              "color": "white"
             }
            },
            "type": "table"
           }
          ]
         },
         "layout": {
          "annotationdefaults": {
           "arrowcolor": "#2a3f5f",
           "arrowhead": 0,
           "arrowwidth": 1
          },
          "autotypenumbers": "strict",
          "coloraxis": {
           "colorbar": {
            "outlinewidth": 0,
            "ticks": ""
           }
          },
          "colorscale": {
           "diverging": [
            [
             0,
             "#8e0152"
            ],
            [
             0.1,
             "#c51b7d"
            ],
            [
             0.2,
             "#de77ae"
            ],
            [
             0.3,
             "#f1b6da"
            ],
            [
             0.4,
             "#fde0ef"
            ],
            [
             0.5,
             "#f7f7f7"
            ],
            [
             0.6,
             "#e6f5d0"
            ],
            [
             0.7,
             "#b8e186"
            ],
            [
             0.8,
             "#7fbc41"
            ],
            [
             0.9,
             "#4d9221"
            ],
            [
             1,
             "#276419"
            ]
           ],
           "sequential": [
            [
             0,
             "#0d0887"
            ],
            [
             0.1111111111111111,
             "#46039f"
            ],
            [
             0.2222222222222222,
             "#7201a8"
            ],
            [
             0.3333333333333333,
             "#9c179e"
            ],
            [
             0.4444444444444444,
             "#bd3786"
            ],
            [
             0.5555555555555556,
             "#d8576b"
            ],
            [
             0.6666666666666666,
             "#ed7953"
            ],
            [
             0.7777777777777778,
             "#fb9f3a"
            ],
            [
             0.8888888888888888,
             "#fdca26"
            ],
            [
             1,
             "#f0f921"
            ]
           ],
           "sequentialminus": [
            [
             0,
             "#0d0887"
            ],
            [
             0.1111111111111111,
             "#46039f"
            ],
            [
             0.2222222222222222,
             "#7201a8"
            ],
            [
             0.3333333333333333,
             "#9c179e"
            ],
            [
             0.4444444444444444,
             "#bd3786"
            ],
            [
             0.5555555555555556,
             "#d8576b"
            ],
            [
             0.6666666666666666,
             "#ed7953"
            ],
            [
             0.7777777777777778,
             "#fb9f3a"
            ],
            [
             0.8888888888888888,
             "#fdca26"
            ],
            [
             1,
             "#f0f921"
            ]
           ]
          },
          "colorway": [
           "#636efa",
           "#EF553B",
           "#00cc96",
           "#ab63fa",
           "#FFA15A",
           "#19d3f3",
           "#FF6692",
           "#B6E880",
           "#FF97FF",
           "#FECB52"
          ],
          "font": {
           "color": "#2a3f5f"
          },
          "geo": {
           "bgcolor": "white",
           "lakecolor": "white",
           "landcolor": "#E5ECF6",
           "showlakes": true,
           "showland": true,
           "subunitcolor": "white"
          },
          "hoverlabel": {
           "align": "left"
          },
          "hovermode": "closest",
          "mapbox": {
           "style": "light"
          },
          "paper_bgcolor": "white",
          "plot_bgcolor": "#E5ECF6",
          "polar": {
           "angularaxis": {
            "gridcolor": "white",
            "linecolor": "white",
            "ticks": ""
           },
           "bgcolor": "#E5ECF6",
           "radialaxis": {
            "gridcolor": "white",
            "linecolor": "white",
            "ticks": ""
           }
          },
          "scene": {
           "xaxis": {
            "backgroundcolor": "#E5ECF6",
            "gridcolor": "white",
            "gridwidth": 2,
            "linecolor": "white",
            "showbackground": true,
            "ticks": "",
            "zerolinecolor": "white"
           },
           "yaxis": {
            "backgroundcolor": "#E5ECF6",
            "gridcolor": "white",
            "gridwidth": 2,
            "linecolor": "white",
            "showbackground": true,
            "ticks": "",
            "zerolinecolor": "white"
           },
           "zaxis": {
            "backgroundcolor": "#E5ECF6",
            "gridcolor": "white",
            "gridwidth": 2,
            "linecolor": "white",
            "showbackground": true,
            "ticks": "",
            "zerolinecolor": "white"
           }
          },
          "shapedefaults": {
           "line": {
            "color": "#2a3f5f"
           }
          },
          "ternary": {
           "aaxis": {
            "gridcolor": "white",
            "linecolor": "white",
            "ticks": ""
           },
           "baxis": {
            "gridcolor": "white",
            "linecolor": "white",
            "ticks": ""
           },
           "bgcolor": "#E5ECF6",
           "caxis": {
            "gridcolor": "white",
            "linecolor": "white",
            "ticks": ""
           }
          },
          "title": {
           "x": 0.05
          },
          "xaxis": {
           "automargin": true,
           "gridcolor": "white",
           "linecolor": "white",
           "ticks": "",
           "title": {
            "standoff": 15
           },
           "zerolinecolor": "white",
           "zerolinewidth": 2
          },
          "yaxis": {
           "automargin": true,
           "gridcolor": "white",
           "linecolor": "white",
           "ticks": "",
           "title": {
            "standoff": 15
           },
           "zerolinecolor": "white",
           "zerolinewidth": 2
          }
         }
        },
        "title": {
         "text": "Analysis of DeviceProtection"
        },
        "width": 700,
        "xaxis": {
         "anchor": "y",
         "domain": [
          0,
          1
         ],
         "title": {
          "text": "DeviceProtection"
         }
        },
        "yaxis": {
         "anchor": "x",
         "domain": [
          0,
          1
         ],
         "title": {
          "text": "count"
         }
        }
       }
      }
     },
     "metadata": {},
     "output_type": "display_data"
    },
    {
     "data": {
      "application/vnd.plotly.v1+json": {
       "config": {
        "plotlyServerURL": "https://plot.ly"
       },
       "data": [
        {
         "alignmentgroup": "True",
         "hovertemplate": "Churn=No<br>TechSupport=%{x}<br>count=%{y}<extra></extra>",
         "legendgroup": "No",
         "marker": {
          "color": "Green",
          "pattern": {
           "shape": ""
          }
         },
         "name": "No",
         "offsetgroup": "No",
         "orientation": "v",
         "showlegend": true,
         "textposition": "auto",
         "type": "bar",
         "x": [
          "No",
          "Yes"
         ],
         "xaxis": "x",
         "y": [
          2027,
          1734
         ],
         "yaxis": "y"
        },
        {
         "alignmentgroup": "True",
         "hovertemplate": "Churn=Yes<br>TechSupport=%{x}<br>count=%{y}<extra></extra>",
         "legendgroup": "Yes",
         "marker": {
          "color": "Red",
          "pattern": {
           "shape": ""
          }
         },
         "name": "Yes",
         "offsetgroup": "Yes",
         "orientation": "v",
         "showlegend": true,
         "textposition": "auto",
         "type": "bar",
         "x": [
          "No",
          "Yes"
         ],
         "xaxis": "x",
         "y": [
          1446,
          310
         ],
         "yaxis": "y"
        }
       ],
       "layout": {
        "barmode": "group",
        "height": 400,
        "legend": {
         "title": {
          "text": "Churn"
         },
         "tracegroupgap": 0
        },
        "template": {
         "data": {
          "bar": [
           {
            "error_x": {
             "color": "#2a3f5f"
            },
            "error_y": {
             "color": "#2a3f5f"
            },
            "marker": {
             "line": {
              "color": "#E5ECF6",
              "width": 0.5
             },
             "pattern": {
              "fillmode": "overlay",
              "size": 10,
              "solidity": 0.2
             }
            },
            "type": "bar"
           }
          ],
          "barpolar": [
           {
            "marker": {
             "line": {
              "color": "#E5ECF6",
              "width": 0.5
             },
             "pattern": {
              "fillmode": "overlay",
              "size": 10,
              "solidity": 0.2
             }
            },
            "type": "barpolar"
           }
          ],
          "carpet": [
           {
            "aaxis": {
             "endlinecolor": "#2a3f5f",
             "gridcolor": "white",
             "linecolor": "white",
             "minorgridcolor": "white",
             "startlinecolor": "#2a3f5f"
            },
            "baxis": {
             "endlinecolor": "#2a3f5f",
             "gridcolor": "white",
             "linecolor": "white",
             "minorgridcolor": "white",
             "startlinecolor": "#2a3f5f"
            },
            "type": "carpet"
           }
          ],
          "choropleth": [
           {
            "colorbar": {
             "outlinewidth": 0,
             "ticks": ""
            },
            "type": "choropleth"
           }
          ],
          "contour": [
           {
            "colorbar": {
             "outlinewidth": 0,
             "ticks": ""
            },
            "colorscale": [
             [
              0,
              "#0d0887"
             ],
             [
              0.1111111111111111,
              "#46039f"
             ],
             [
              0.2222222222222222,
              "#7201a8"
             ],
             [
              0.3333333333333333,
              "#9c179e"
             ],
             [
              0.4444444444444444,
              "#bd3786"
             ],
             [
              0.5555555555555556,
              "#d8576b"
             ],
             [
              0.6666666666666666,
              "#ed7953"
             ],
             [
              0.7777777777777778,
              "#fb9f3a"
             ],
             [
              0.8888888888888888,
              "#fdca26"
             ],
             [
              1,
              "#f0f921"
             ]
            ],
            "type": "contour"
           }
          ],
          "contourcarpet": [
           {
            "colorbar": {
             "outlinewidth": 0,
             "ticks": ""
            },
            "type": "contourcarpet"
           }
          ],
          "heatmap": [
           {
            "colorbar": {
             "outlinewidth": 0,
             "ticks": ""
            },
            "colorscale": [
             [
              0,
              "#0d0887"
             ],
             [
              0.1111111111111111,
              "#46039f"
             ],
             [
              0.2222222222222222,
              "#7201a8"
             ],
             [
              0.3333333333333333,
              "#9c179e"
             ],
             [
              0.4444444444444444,
              "#bd3786"
             ],
             [
              0.5555555555555556,
              "#d8576b"
             ],
             [
              0.6666666666666666,
              "#ed7953"
             ],
             [
              0.7777777777777778,
              "#fb9f3a"
             ],
             [
              0.8888888888888888,
              "#fdca26"
             ],
             [
              1,
              "#f0f921"
             ]
            ],
            "type": "heatmap"
           }
          ],
          "heatmapgl": [
           {
            "colorbar": {
             "outlinewidth": 0,
             "ticks": ""
            },
            "colorscale": [
             [
              0,
              "#0d0887"
             ],
             [
              0.1111111111111111,
              "#46039f"
             ],
             [
              0.2222222222222222,
              "#7201a8"
             ],
             [
              0.3333333333333333,
              "#9c179e"
             ],
             [
              0.4444444444444444,
              "#bd3786"
             ],
             [
              0.5555555555555556,
              "#d8576b"
             ],
             [
              0.6666666666666666,
              "#ed7953"
             ],
             [
              0.7777777777777778,
              "#fb9f3a"
             ],
             [
              0.8888888888888888,
              "#fdca26"
             ],
             [
              1,
              "#f0f921"
             ]
            ],
            "type": "heatmapgl"
           }
          ],
          "histogram": [
           {
            "marker": {
             "pattern": {
              "fillmode": "overlay",
              "size": 10,
              "solidity": 0.2
             }
            },
            "type": "histogram"
           }
          ],
          "histogram2d": [
           {
            "colorbar": {
             "outlinewidth": 0,
             "ticks": ""
            },
            "colorscale": [
             [
              0,
              "#0d0887"
             ],
             [
              0.1111111111111111,
              "#46039f"
             ],
             [
              0.2222222222222222,
              "#7201a8"
             ],
             [
              0.3333333333333333,
              "#9c179e"
             ],
             [
              0.4444444444444444,
              "#bd3786"
             ],
             [
              0.5555555555555556,
              "#d8576b"
             ],
             [
              0.6666666666666666,
              "#ed7953"
             ],
             [
              0.7777777777777778,
              "#fb9f3a"
             ],
             [
              0.8888888888888888,
              "#fdca26"
             ],
             [
              1,
              "#f0f921"
             ]
            ],
            "type": "histogram2d"
           }
          ],
          "histogram2dcontour": [
           {
            "colorbar": {
             "outlinewidth": 0,
             "ticks": ""
            },
            "colorscale": [
             [
              0,
              "#0d0887"
             ],
             [
              0.1111111111111111,
              "#46039f"
             ],
             [
              0.2222222222222222,
              "#7201a8"
             ],
             [
              0.3333333333333333,
              "#9c179e"
             ],
             [
              0.4444444444444444,
              "#bd3786"
             ],
             [
              0.5555555555555556,
              "#d8576b"
             ],
             [
              0.6666666666666666,
              "#ed7953"
             ],
             [
              0.7777777777777778,
              "#fb9f3a"
             ],
             [
              0.8888888888888888,
              "#fdca26"
             ],
             [
              1,
              "#f0f921"
             ]
            ],
            "type": "histogram2dcontour"
           }
          ],
          "mesh3d": [
           {
            "colorbar": {
             "outlinewidth": 0,
             "ticks": ""
            },
            "type": "mesh3d"
           }
          ],
          "parcoords": [
           {
            "line": {
             "colorbar": {
              "outlinewidth": 0,
              "ticks": ""
             }
            },
            "type": "parcoords"
           }
          ],
          "pie": [
           {
            "automargin": true,
            "type": "pie"
           }
          ],
          "scatter": [
           {
            "fillpattern": {
             "fillmode": "overlay",
             "size": 10,
             "solidity": 0.2
            },
            "type": "scatter"
           }
          ],
          "scatter3d": [
           {
            "line": {
             "colorbar": {
              "outlinewidth": 0,
              "ticks": ""
             }
            },
            "marker": {
             "colorbar": {
              "outlinewidth": 0,
              "ticks": ""
             }
            },
            "type": "scatter3d"
           }
          ],
          "scattercarpet": [
           {
            "marker": {
             "colorbar": {
              "outlinewidth": 0,
              "ticks": ""
             }
            },
            "type": "scattercarpet"
           }
          ],
          "scattergeo": [
           {
            "marker": {
             "colorbar": {
              "outlinewidth": 0,
              "ticks": ""
             }
            },
            "type": "scattergeo"
           }
          ],
          "scattergl": [
           {
            "marker": {
             "colorbar": {
              "outlinewidth": 0,
              "ticks": ""
             }
            },
            "type": "scattergl"
           }
          ],
          "scattermapbox": [
           {
            "marker": {
             "colorbar": {
              "outlinewidth": 0,
              "ticks": ""
             }
            },
            "type": "scattermapbox"
           }
          ],
          "scatterpolar": [
           {
            "marker": {
             "colorbar": {
              "outlinewidth": 0,
              "ticks": ""
             }
            },
            "type": "scatterpolar"
           }
          ],
          "scatterpolargl": [
           {
            "marker": {
             "colorbar": {
              "outlinewidth": 0,
              "ticks": ""
             }
            },
            "type": "scatterpolargl"
           }
          ],
          "scatterternary": [
           {
            "marker": {
             "colorbar": {
              "outlinewidth": 0,
              "ticks": ""
             }
            },
            "type": "scatterternary"
           }
          ],
          "surface": [
           {
            "colorbar": {
             "outlinewidth": 0,
             "ticks": ""
            },
            "colorscale": [
             [
              0,
              "#0d0887"
             ],
             [
              0.1111111111111111,
              "#46039f"
             ],
             [
              0.2222222222222222,
              "#7201a8"
             ],
             [
              0.3333333333333333,
              "#9c179e"
             ],
             [
              0.4444444444444444,
              "#bd3786"
             ],
             [
              0.5555555555555556,
              "#d8576b"
             ],
             [
              0.6666666666666666,
              "#ed7953"
             ],
             [
              0.7777777777777778,
              "#fb9f3a"
             ],
             [
              0.8888888888888888,
              "#fdca26"
             ],
             [
              1,
              "#f0f921"
             ]
            ],
            "type": "surface"
           }
          ],
          "table": [
           {
            "cells": {
             "fill": {
              "color": "#EBF0F8"
             },
             "line": {
              "color": "white"
             }
            },
            "header": {
             "fill": {
              "color": "#C8D4E3"
             },
             "line": {
              "color": "white"
             }
            },
            "type": "table"
           }
          ]
         },
         "layout": {
          "annotationdefaults": {
           "arrowcolor": "#2a3f5f",
           "arrowhead": 0,
           "arrowwidth": 1
          },
          "autotypenumbers": "strict",
          "coloraxis": {
           "colorbar": {
            "outlinewidth": 0,
            "ticks": ""
           }
          },
          "colorscale": {
           "diverging": [
            [
             0,
             "#8e0152"
            ],
            [
             0.1,
             "#c51b7d"
            ],
            [
             0.2,
             "#de77ae"
            ],
            [
             0.3,
             "#f1b6da"
            ],
            [
             0.4,
             "#fde0ef"
            ],
            [
             0.5,
             "#f7f7f7"
            ],
            [
             0.6,
             "#e6f5d0"
            ],
            [
             0.7,
             "#b8e186"
            ],
            [
             0.8,
             "#7fbc41"
            ],
            [
             0.9,
             "#4d9221"
            ],
            [
             1,
             "#276419"
            ]
           ],
           "sequential": [
            [
             0,
             "#0d0887"
            ],
            [
             0.1111111111111111,
             "#46039f"
            ],
            [
             0.2222222222222222,
             "#7201a8"
            ],
            [
             0.3333333333333333,
             "#9c179e"
            ],
            [
             0.4444444444444444,
             "#bd3786"
            ],
            [
             0.5555555555555556,
             "#d8576b"
            ],
            [
             0.6666666666666666,
             "#ed7953"
            ],
            [
             0.7777777777777778,
             "#fb9f3a"
            ],
            [
             0.8888888888888888,
             "#fdca26"
            ],
            [
             1,
             "#f0f921"
            ]
           ],
           "sequentialminus": [
            [
             0,
             "#0d0887"
            ],
            [
             0.1111111111111111,
             "#46039f"
            ],
            [
             0.2222222222222222,
             "#7201a8"
            ],
            [
             0.3333333333333333,
             "#9c179e"
            ],
            [
             0.4444444444444444,
             "#bd3786"
            ],
            [
             0.5555555555555556,
             "#d8576b"
            ],
            [
             0.6666666666666666,
             "#ed7953"
            ],
            [
             0.7777777777777778,
             "#fb9f3a"
            ],
            [
             0.8888888888888888,
             "#fdca26"
            ],
            [
             1,
             "#f0f921"
            ]
           ]
          },
          "colorway": [
           "#636efa",
           "#EF553B",
           "#00cc96",
           "#ab63fa",
           "#FFA15A",
           "#19d3f3",
           "#FF6692",
           "#B6E880",
           "#FF97FF",
           "#FECB52"
          ],
          "font": {
           "color": "#2a3f5f"
          },
          "geo": {
           "bgcolor": "white",
           "lakecolor": "white",
           "landcolor": "#E5ECF6",
           "showlakes": true,
           "showland": true,
           "subunitcolor": "white"
          },
          "hoverlabel": {
           "align": "left"
          },
          "hovermode": "closest",
          "mapbox": {
           "style": "light"
          },
          "paper_bgcolor": "white",
          "plot_bgcolor": "#E5ECF6",
          "polar": {
           "angularaxis": {
            "gridcolor": "white",
            "linecolor": "white",
            "ticks": ""
           },
           "bgcolor": "#E5ECF6",
           "radialaxis": {
            "gridcolor": "white",
            "linecolor": "white",
            "ticks": ""
           }
          },
          "scene": {
           "xaxis": {
            "backgroundcolor": "#E5ECF6",
            "gridcolor": "white",
            "gridwidth": 2,
            "linecolor": "white",
            "showbackground": true,
            "ticks": "",
            "zerolinecolor": "white"
           },
           "yaxis": {
            "backgroundcolor": "#E5ECF6",
            "gridcolor": "white",
            "gridwidth": 2,
            "linecolor": "white",
            "showbackground": true,
            "ticks": "",
            "zerolinecolor": "white"
           },
           "zaxis": {
            "backgroundcolor": "#E5ECF6",
            "gridcolor": "white",
            "gridwidth": 2,
            "linecolor": "white",
            "showbackground": true,
            "ticks": "",
            "zerolinecolor": "white"
           }
          },
          "shapedefaults": {
           "line": {
            "color": "#2a3f5f"
           }
          },
          "ternary": {
           "aaxis": {
            "gridcolor": "white",
            "linecolor": "white",
            "ticks": ""
           },
           "baxis": {
            "gridcolor": "white",
            "linecolor": "white",
            "ticks": ""
           },
           "bgcolor": "#E5ECF6",
           "caxis": {
            "gridcolor": "white",
            "linecolor": "white",
            "ticks": ""
           }
          },
          "title": {
           "x": 0.05
          },
          "xaxis": {
           "automargin": true,
           "gridcolor": "white",
           "linecolor": "white",
           "ticks": "",
           "title": {
            "standoff": 15
           },
           "zerolinecolor": "white",
           "zerolinewidth": 2
          },
          "yaxis": {
           "automargin": true,
           "gridcolor": "white",
           "linecolor": "white",
           "ticks": "",
           "title": {
            "standoff": 15
           },
           "zerolinecolor": "white",
           "zerolinewidth": 2
          }
         }
        },
        "title": {
         "text": "Analysis of TechSupport"
        },
        "width": 700,
        "xaxis": {
         "anchor": "y",
         "domain": [
          0,
          1
         ],
         "title": {
          "text": "TechSupport"
         }
        },
        "yaxis": {
         "anchor": "x",
         "domain": [
          0,
          1
         ],
         "title": {
          "text": "count"
         }
        }
       }
      }
     },
     "metadata": {},
     "output_type": "display_data"
    },
    {
     "data": {
      "application/vnd.plotly.v1+json": {
       "config": {
        "plotlyServerURL": "https://plot.ly"
       },
       "data": [
        {
         "alignmentgroup": "True",
         "hovertemplate": "Churn=No<br>StreamingTV=%{x}<br>count=%{y}<extra></extra>",
         "legendgroup": "No",
         "marker": {
          "color": "Green",
          "pattern": {
           "shape": ""
          }
         },
         "name": "No",
         "offsetgroup": "No",
         "orientation": "v",
         "showlegend": true,
         "textposition": "auto",
         "type": "bar",
         "x": [
          "No",
          "Yes"
         ],
         "xaxis": "x",
         "y": [
          1868,
          1893
         ],
         "yaxis": "y"
        },
        {
         "alignmentgroup": "True",
         "hovertemplate": "Churn=Yes<br>StreamingTV=%{x}<br>count=%{y}<extra></extra>",
         "legendgroup": "Yes",
         "marker": {
          "color": "Red",
          "pattern": {
           "shape": ""
          }
         },
         "name": "Yes",
         "offsetgroup": "Yes",
         "orientation": "v",
         "showlegend": true,
         "textposition": "auto",
         "type": "bar",
         "x": [
          "No",
          "Yes"
         ],
         "xaxis": "x",
         "y": [
          942,
          814
         ],
         "yaxis": "y"
        }
       ],
       "layout": {
        "barmode": "group",
        "height": 400,
        "legend": {
         "title": {
          "text": "Churn"
         },
         "tracegroupgap": 0
        },
        "template": {
         "data": {
          "bar": [
           {
            "error_x": {
             "color": "#2a3f5f"
            },
            "error_y": {
             "color": "#2a3f5f"
            },
            "marker": {
             "line": {
              "color": "#E5ECF6",
              "width": 0.5
             },
             "pattern": {
              "fillmode": "overlay",
              "size": 10,
              "solidity": 0.2
             }
            },
            "type": "bar"
           }
          ],
          "barpolar": [
           {
            "marker": {
             "line": {
              "color": "#E5ECF6",
              "width": 0.5
             },
             "pattern": {
              "fillmode": "overlay",
              "size": 10,
              "solidity": 0.2
             }
            },
            "type": "barpolar"
           }
          ],
          "carpet": [
           {
            "aaxis": {
             "endlinecolor": "#2a3f5f",
             "gridcolor": "white",
             "linecolor": "white",
             "minorgridcolor": "white",
             "startlinecolor": "#2a3f5f"
            },
            "baxis": {
             "endlinecolor": "#2a3f5f",
             "gridcolor": "white",
             "linecolor": "white",
             "minorgridcolor": "white",
             "startlinecolor": "#2a3f5f"
            },
            "type": "carpet"
           }
          ],
          "choropleth": [
           {
            "colorbar": {
             "outlinewidth": 0,
             "ticks": ""
            },
            "type": "choropleth"
           }
          ],
          "contour": [
           {
            "colorbar": {
             "outlinewidth": 0,
             "ticks": ""
            },
            "colorscale": [
             [
              0,
              "#0d0887"
             ],
             [
              0.1111111111111111,
              "#46039f"
             ],
             [
              0.2222222222222222,
              "#7201a8"
             ],
             [
              0.3333333333333333,
              "#9c179e"
             ],
             [
              0.4444444444444444,
              "#bd3786"
             ],
             [
              0.5555555555555556,
              "#d8576b"
             ],
             [
              0.6666666666666666,
              "#ed7953"
             ],
             [
              0.7777777777777778,
              "#fb9f3a"
             ],
             [
              0.8888888888888888,
              "#fdca26"
             ],
             [
              1,
              "#f0f921"
             ]
            ],
            "type": "contour"
           }
          ],
          "contourcarpet": [
           {
            "colorbar": {
             "outlinewidth": 0,
             "ticks": ""
            },
            "type": "contourcarpet"
           }
          ],
          "heatmap": [
           {
            "colorbar": {
             "outlinewidth": 0,
             "ticks": ""
            },
            "colorscale": [
             [
              0,
              "#0d0887"
             ],
             [
              0.1111111111111111,
              "#46039f"
             ],
             [
              0.2222222222222222,
              "#7201a8"
             ],
             [
              0.3333333333333333,
              "#9c179e"
             ],
             [
              0.4444444444444444,
              "#bd3786"
             ],
             [
              0.5555555555555556,
              "#d8576b"
             ],
             [
              0.6666666666666666,
              "#ed7953"
             ],
             [
              0.7777777777777778,
              "#fb9f3a"
             ],
             [
              0.8888888888888888,
              "#fdca26"
             ],
             [
              1,
              "#f0f921"
             ]
            ],
            "type": "heatmap"
           }
          ],
          "heatmapgl": [
           {
            "colorbar": {
             "outlinewidth": 0,
             "ticks": ""
            },
            "colorscale": [
             [
              0,
              "#0d0887"
             ],
             [
              0.1111111111111111,
              "#46039f"
             ],
             [
              0.2222222222222222,
              "#7201a8"
             ],
             [
              0.3333333333333333,
              "#9c179e"
             ],
             [
              0.4444444444444444,
              "#bd3786"
             ],
             [
              0.5555555555555556,
              "#d8576b"
             ],
             [
              0.6666666666666666,
              "#ed7953"
             ],
             [
              0.7777777777777778,
              "#fb9f3a"
             ],
             [
              0.8888888888888888,
              "#fdca26"
             ],
             [
              1,
              "#f0f921"
             ]
            ],
            "type": "heatmapgl"
           }
          ],
          "histogram": [
           {
            "marker": {
             "pattern": {
              "fillmode": "overlay",
              "size": 10,
              "solidity": 0.2
             }
            },
            "type": "histogram"
           }
          ],
          "histogram2d": [
           {
            "colorbar": {
             "outlinewidth": 0,
             "ticks": ""
            },
            "colorscale": [
             [
              0,
              "#0d0887"
             ],
             [
              0.1111111111111111,
              "#46039f"
             ],
             [
              0.2222222222222222,
              "#7201a8"
             ],
             [
              0.3333333333333333,
              "#9c179e"
             ],
             [
              0.4444444444444444,
              "#bd3786"
             ],
             [
              0.5555555555555556,
              "#d8576b"
             ],
             [
              0.6666666666666666,
              "#ed7953"
             ],
             [
              0.7777777777777778,
              "#fb9f3a"
             ],
             [
              0.8888888888888888,
              "#fdca26"
             ],
             [
              1,
              "#f0f921"
             ]
            ],
            "type": "histogram2d"
           }
          ],
          "histogram2dcontour": [
           {
            "colorbar": {
             "outlinewidth": 0,
             "ticks": ""
            },
            "colorscale": [
             [
              0,
              "#0d0887"
             ],
             [
              0.1111111111111111,
              "#46039f"
             ],
             [
              0.2222222222222222,
              "#7201a8"
             ],
             [
              0.3333333333333333,
              "#9c179e"
             ],
             [
              0.4444444444444444,
              "#bd3786"
             ],
             [
              0.5555555555555556,
              "#d8576b"
             ],
             [
              0.6666666666666666,
              "#ed7953"
             ],
             [
              0.7777777777777778,
              "#fb9f3a"
             ],
             [
              0.8888888888888888,
              "#fdca26"
             ],
             [
              1,
              "#f0f921"
             ]
            ],
            "type": "histogram2dcontour"
           }
          ],
          "mesh3d": [
           {
            "colorbar": {
             "outlinewidth": 0,
             "ticks": ""
            },
            "type": "mesh3d"
           }
          ],
          "parcoords": [
           {
            "line": {
             "colorbar": {
              "outlinewidth": 0,
              "ticks": ""
             }
            },
            "type": "parcoords"
           }
          ],
          "pie": [
           {
            "automargin": true,
            "type": "pie"
           }
          ],
          "scatter": [
           {
            "fillpattern": {
             "fillmode": "overlay",
             "size": 10,
             "solidity": 0.2
            },
            "type": "scatter"
           }
          ],
          "scatter3d": [
           {
            "line": {
             "colorbar": {
              "outlinewidth": 0,
              "ticks": ""
             }
            },
            "marker": {
             "colorbar": {
              "outlinewidth": 0,
              "ticks": ""
             }
            },
            "type": "scatter3d"
           }
          ],
          "scattercarpet": [
           {
            "marker": {
             "colorbar": {
              "outlinewidth": 0,
              "ticks": ""
             }
            },
            "type": "scattercarpet"
           }
          ],
          "scattergeo": [
           {
            "marker": {
             "colorbar": {
              "outlinewidth": 0,
              "ticks": ""
             }
            },
            "type": "scattergeo"
           }
          ],
          "scattergl": [
           {
            "marker": {
             "colorbar": {
              "outlinewidth": 0,
              "ticks": ""
             }
            },
            "type": "scattergl"
           }
          ],
          "scattermapbox": [
           {
            "marker": {
             "colorbar": {
              "outlinewidth": 0,
              "ticks": ""
             }
            },
            "type": "scattermapbox"
           }
          ],
          "scatterpolar": [
           {
            "marker": {
             "colorbar": {
              "outlinewidth": 0,
              "ticks": ""
             }
            },
            "type": "scatterpolar"
           }
          ],
          "scatterpolargl": [
           {
            "marker": {
             "colorbar": {
              "outlinewidth": 0,
              "ticks": ""
             }
            },
            "type": "scatterpolargl"
           }
          ],
          "scatterternary": [
           {
            "marker": {
             "colorbar": {
              "outlinewidth": 0,
              "ticks": ""
             }
            },
            "type": "scatterternary"
           }
          ],
          "surface": [
           {
            "colorbar": {
             "outlinewidth": 0,
             "ticks": ""
            },
            "colorscale": [
             [
              0,
              "#0d0887"
             ],
             [
              0.1111111111111111,
              "#46039f"
             ],
             [
              0.2222222222222222,
              "#7201a8"
             ],
             [
              0.3333333333333333,
              "#9c179e"
             ],
             [
              0.4444444444444444,
              "#bd3786"
             ],
             [
              0.5555555555555556,
              "#d8576b"
             ],
             [
              0.6666666666666666,
              "#ed7953"
             ],
             [
              0.7777777777777778,
              "#fb9f3a"
             ],
             [
              0.8888888888888888,
              "#fdca26"
             ],
             [
              1,
              "#f0f921"
             ]
            ],
            "type": "surface"
           }
          ],
          "table": [
           {
            "cells": {
             "fill": {
              "color": "#EBF0F8"
             },
             "line": {
              "color": "white"
             }
            },
            "header": {
             "fill": {
              "color": "#C8D4E3"
             },
             "line": {
              "color": "white"
             }
            },
            "type": "table"
           }
          ]
         },
         "layout": {
          "annotationdefaults": {
           "arrowcolor": "#2a3f5f",
           "arrowhead": 0,
           "arrowwidth": 1
          },
          "autotypenumbers": "strict",
          "coloraxis": {
           "colorbar": {
            "outlinewidth": 0,
            "ticks": ""
           }
          },
          "colorscale": {
           "diverging": [
            [
             0,
             "#8e0152"
            ],
            [
             0.1,
             "#c51b7d"
            ],
            [
             0.2,
             "#de77ae"
            ],
            [
             0.3,
             "#f1b6da"
            ],
            [
             0.4,
             "#fde0ef"
            ],
            [
             0.5,
             "#f7f7f7"
            ],
            [
             0.6,
             "#e6f5d0"
            ],
            [
             0.7,
             "#b8e186"
            ],
            [
             0.8,
             "#7fbc41"
            ],
            [
             0.9,
             "#4d9221"
            ],
            [
             1,
             "#276419"
            ]
           ],
           "sequential": [
            [
             0,
             "#0d0887"
            ],
            [
             0.1111111111111111,
             "#46039f"
            ],
            [
             0.2222222222222222,
             "#7201a8"
            ],
            [
             0.3333333333333333,
             "#9c179e"
            ],
            [
             0.4444444444444444,
             "#bd3786"
            ],
            [
             0.5555555555555556,
             "#d8576b"
            ],
            [
             0.6666666666666666,
             "#ed7953"
            ],
            [
             0.7777777777777778,
             "#fb9f3a"
            ],
            [
             0.8888888888888888,
             "#fdca26"
            ],
            [
             1,
             "#f0f921"
            ]
           ],
           "sequentialminus": [
            [
             0,
             "#0d0887"
            ],
            [
             0.1111111111111111,
             "#46039f"
            ],
            [
             0.2222222222222222,
             "#7201a8"
            ],
            [
             0.3333333333333333,
             "#9c179e"
            ],
            [
             0.4444444444444444,
             "#bd3786"
            ],
            [
             0.5555555555555556,
             "#d8576b"
            ],
            [
             0.6666666666666666,
             "#ed7953"
            ],
            [
             0.7777777777777778,
             "#fb9f3a"
            ],
            [
             0.8888888888888888,
             "#fdca26"
            ],
            [
             1,
             "#f0f921"
            ]
           ]
          },
          "colorway": [
           "#636efa",
           "#EF553B",
           "#00cc96",
           "#ab63fa",
           "#FFA15A",
           "#19d3f3",
           "#FF6692",
           "#B6E880",
           "#FF97FF",
           "#FECB52"
          ],
          "font": {
           "color": "#2a3f5f"
          },
          "geo": {
           "bgcolor": "white",
           "lakecolor": "white",
           "landcolor": "#E5ECF6",
           "showlakes": true,
           "showland": true,
           "subunitcolor": "white"
          },
          "hoverlabel": {
           "align": "left"
          },
          "hovermode": "closest",
          "mapbox": {
           "style": "light"
          },
          "paper_bgcolor": "white",
          "plot_bgcolor": "#E5ECF6",
          "polar": {
           "angularaxis": {
            "gridcolor": "white",
            "linecolor": "white",
            "ticks": ""
           },
           "bgcolor": "#E5ECF6",
           "radialaxis": {
            "gridcolor": "white",
            "linecolor": "white",
            "ticks": ""
           }
          },
          "scene": {
           "xaxis": {
            "backgroundcolor": "#E5ECF6",
            "gridcolor": "white",
            "gridwidth": 2,
            "linecolor": "white",
            "showbackground": true,
            "ticks": "",
            "zerolinecolor": "white"
           },
           "yaxis": {
            "backgroundcolor": "#E5ECF6",
            "gridcolor": "white",
            "gridwidth": 2,
            "linecolor": "white",
            "showbackground": true,
            "ticks": "",
            "zerolinecolor": "white"
           },
           "zaxis": {
            "backgroundcolor": "#E5ECF6",
            "gridcolor": "white",
            "gridwidth": 2,
            "linecolor": "white",
            "showbackground": true,
            "ticks": "",
            "zerolinecolor": "white"
           }
          },
          "shapedefaults": {
           "line": {
            "color": "#2a3f5f"
           }
          },
          "ternary": {
           "aaxis": {
            "gridcolor": "white",
            "linecolor": "white",
            "ticks": ""
           },
           "baxis": {
            "gridcolor": "white",
            "linecolor": "white",
            "ticks": ""
           },
           "bgcolor": "#E5ECF6",
           "caxis": {
            "gridcolor": "white",
            "linecolor": "white",
            "ticks": ""
           }
          },
          "title": {
           "x": 0.05
          },
          "xaxis": {
           "automargin": true,
           "gridcolor": "white",
           "linecolor": "white",
           "ticks": "",
           "title": {
            "standoff": 15
           },
           "zerolinecolor": "white",
           "zerolinewidth": 2
          },
          "yaxis": {
           "automargin": true,
           "gridcolor": "white",
           "linecolor": "white",
           "ticks": "",
           "title": {
            "standoff": 15
           },
           "zerolinecolor": "white",
           "zerolinewidth": 2
          }
         }
        },
        "title": {
         "text": "Analysis of StreamingTV"
        },
        "width": 700,
        "xaxis": {
         "anchor": "y",
         "domain": [
          0,
          1
         ],
         "title": {
          "text": "StreamingTV"
         }
        },
        "yaxis": {
         "anchor": "x",
         "domain": [
          0,
          1
         ],
         "title": {
          "text": "count"
         }
        }
       }
      }
     },
     "metadata": {},
     "output_type": "display_data"
    },
    {
     "data": {
      "application/vnd.plotly.v1+json": {
       "config": {
        "plotlyServerURL": "https://plot.ly"
       },
       "data": [
        {
         "alignmentgroup": "True",
         "hovertemplate": "Churn=No<br>StreamingMovies=%{x}<br>count=%{y}<extra></extra>",
         "legendgroup": "No",
         "marker": {
          "color": "Green",
          "pattern": {
           "shape": ""
          }
         },
         "name": "No",
         "offsetgroup": "No",
         "orientation": "v",
         "showlegend": true,
         "textposition": "auto",
         "type": "bar",
         "x": [
          "No",
          "Yes"
         ],
         "xaxis": "x",
         "y": [
          1847,
          1914
         ],
         "yaxis": "y"
        },
        {
         "alignmentgroup": "True",
         "hovertemplate": "Churn=Yes<br>StreamingMovies=%{x}<br>count=%{y}<extra></extra>",
         "legendgroup": "Yes",
         "marker": {
          "color": "Red",
          "pattern": {
           "shape": ""
          }
         },
         "name": "Yes",
         "offsetgroup": "Yes",
         "orientation": "v",
         "showlegend": true,
         "textposition": "auto",
         "type": "bar",
         "x": [
          "No",
          "Yes"
         ],
         "xaxis": "x",
         "y": [
          938,
          818
         ],
         "yaxis": "y"
        }
       ],
       "layout": {
        "barmode": "group",
        "height": 400,
        "legend": {
         "title": {
          "text": "Churn"
         },
         "tracegroupgap": 0
        },
        "template": {
         "data": {
          "bar": [
           {
            "error_x": {
             "color": "#2a3f5f"
            },
            "error_y": {
             "color": "#2a3f5f"
            },
            "marker": {
             "line": {
              "color": "#E5ECF6",
              "width": 0.5
             },
             "pattern": {
              "fillmode": "overlay",
              "size": 10,
              "solidity": 0.2
             }
            },
            "type": "bar"
           }
          ],
          "barpolar": [
           {
            "marker": {
             "line": {
              "color": "#E5ECF6",
              "width": 0.5
             },
             "pattern": {
              "fillmode": "overlay",
              "size": 10,
              "solidity": 0.2
             }
            },
            "type": "barpolar"
           }
          ],
          "carpet": [
           {
            "aaxis": {
             "endlinecolor": "#2a3f5f",
             "gridcolor": "white",
             "linecolor": "white",
             "minorgridcolor": "white",
             "startlinecolor": "#2a3f5f"
            },
            "baxis": {
             "endlinecolor": "#2a3f5f",
             "gridcolor": "white",
             "linecolor": "white",
             "minorgridcolor": "white",
             "startlinecolor": "#2a3f5f"
            },
            "type": "carpet"
           }
          ],
          "choropleth": [
           {
            "colorbar": {
             "outlinewidth": 0,
             "ticks": ""
            },
            "type": "choropleth"
           }
          ],
          "contour": [
           {
            "colorbar": {
             "outlinewidth": 0,
             "ticks": ""
            },
            "colorscale": [
             [
              0,
              "#0d0887"
             ],
             [
              0.1111111111111111,
              "#46039f"
             ],
             [
              0.2222222222222222,
              "#7201a8"
             ],
             [
              0.3333333333333333,
              "#9c179e"
             ],
             [
              0.4444444444444444,
              "#bd3786"
             ],
             [
              0.5555555555555556,
              "#d8576b"
             ],
             [
              0.6666666666666666,
              "#ed7953"
             ],
             [
              0.7777777777777778,
              "#fb9f3a"
             ],
             [
              0.8888888888888888,
              "#fdca26"
             ],
             [
              1,
              "#f0f921"
             ]
            ],
            "type": "contour"
           }
          ],
          "contourcarpet": [
           {
            "colorbar": {
             "outlinewidth": 0,
             "ticks": ""
            },
            "type": "contourcarpet"
           }
          ],
          "heatmap": [
           {
            "colorbar": {
             "outlinewidth": 0,
             "ticks": ""
            },
            "colorscale": [
             [
              0,
              "#0d0887"
             ],
             [
              0.1111111111111111,
              "#46039f"
             ],
             [
              0.2222222222222222,
              "#7201a8"
             ],
             [
              0.3333333333333333,
              "#9c179e"
             ],
             [
              0.4444444444444444,
              "#bd3786"
             ],
             [
              0.5555555555555556,
              "#d8576b"
             ],
             [
              0.6666666666666666,
              "#ed7953"
             ],
             [
              0.7777777777777778,
              "#fb9f3a"
             ],
             [
              0.8888888888888888,
              "#fdca26"
             ],
             [
              1,
              "#f0f921"
             ]
            ],
            "type": "heatmap"
           }
          ],
          "heatmapgl": [
           {
            "colorbar": {
             "outlinewidth": 0,
             "ticks": ""
            },
            "colorscale": [
             [
              0,
              "#0d0887"
             ],
             [
              0.1111111111111111,
              "#46039f"
             ],
             [
              0.2222222222222222,
              "#7201a8"
             ],
             [
              0.3333333333333333,
              "#9c179e"
             ],
             [
              0.4444444444444444,
              "#bd3786"
             ],
             [
              0.5555555555555556,
              "#d8576b"
             ],
             [
              0.6666666666666666,
              "#ed7953"
             ],
             [
              0.7777777777777778,
              "#fb9f3a"
             ],
             [
              0.8888888888888888,
              "#fdca26"
             ],
             [
              1,
              "#f0f921"
             ]
            ],
            "type": "heatmapgl"
           }
          ],
          "histogram": [
           {
            "marker": {
             "pattern": {
              "fillmode": "overlay",
              "size": 10,
              "solidity": 0.2
             }
            },
            "type": "histogram"
           }
          ],
          "histogram2d": [
           {
            "colorbar": {
             "outlinewidth": 0,
             "ticks": ""
            },
            "colorscale": [
             [
              0,
              "#0d0887"
             ],
             [
              0.1111111111111111,
              "#46039f"
             ],
             [
              0.2222222222222222,
              "#7201a8"
             ],
             [
              0.3333333333333333,
              "#9c179e"
             ],
             [
              0.4444444444444444,
              "#bd3786"
             ],
             [
              0.5555555555555556,
              "#d8576b"
             ],
             [
              0.6666666666666666,
              "#ed7953"
             ],
             [
              0.7777777777777778,
              "#fb9f3a"
             ],
             [
              0.8888888888888888,
              "#fdca26"
             ],
             [
              1,
              "#f0f921"
             ]
            ],
            "type": "histogram2d"
           }
          ],
          "histogram2dcontour": [
           {
            "colorbar": {
             "outlinewidth": 0,
             "ticks": ""
            },
            "colorscale": [
             [
              0,
              "#0d0887"
             ],
             [
              0.1111111111111111,
              "#46039f"
             ],
             [
              0.2222222222222222,
              "#7201a8"
             ],
             [
              0.3333333333333333,
              "#9c179e"
             ],
             [
              0.4444444444444444,
              "#bd3786"
             ],
             [
              0.5555555555555556,
              "#d8576b"
             ],
             [
              0.6666666666666666,
              "#ed7953"
             ],
             [
              0.7777777777777778,
              "#fb9f3a"
             ],
             [
              0.8888888888888888,
              "#fdca26"
             ],
             [
              1,
              "#f0f921"
             ]
            ],
            "type": "histogram2dcontour"
           }
          ],
          "mesh3d": [
           {
            "colorbar": {
             "outlinewidth": 0,
             "ticks": ""
            },
            "type": "mesh3d"
           }
          ],
          "parcoords": [
           {
            "line": {
             "colorbar": {
              "outlinewidth": 0,
              "ticks": ""
             }
            },
            "type": "parcoords"
           }
          ],
          "pie": [
           {
            "automargin": true,
            "type": "pie"
           }
          ],
          "scatter": [
           {
            "fillpattern": {
             "fillmode": "overlay",
             "size": 10,
             "solidity": 0.2
            },
            "type": "scatter"
           }
          ],
          "scatter3d": [
           {
            "line": {
             "colorbar": {
              "outlinewidth": 0,
              "ticks": ""
             }
            },
            "marker": {
             "colorbar": {
              "outlinewidth": 0,
              "ticks": ""
             }
            },
            "type": "scatter3d"
           }
          ],
          "scattercarpet": [
           {
            "marker": {
             "colorbar": {
              "outlinewidth": 0,
              "ticks": ""
             }
            },
            "type": "scattercarpet"
           }
          ],
          "scattergeo": [
           {
            "marker": {
             "colorbar": {
              "outlinewidth": 0,
              "ticks": ""
             }
            },
            "type": "scattergeo"
           }
          ],
          "scattergl": [
           {
            "marker": {
             "colorbar": {
              "outlinewidth": 0,
              "ticks": ""
             }
            },
            "type": "scattergl"
           }
          ],
          "scattermapbox": [
           {
            "marker": {
             "colorbar": {
              "outlinewidth": 0,
              "ticks": ""
             }
            },
            "type": "scattermapbox"
           }
          ],
          "scatterpolar": [
           {
            "marker": {
             "colorbar": {
              "outlinewidth": 0,
              "ticks": ""
             }
            },
            "type": "scatterpolar"
           }
          ],
          "scatterpolargl": [
           {
            "marker": {
             "colorbar": {
              "outlinewidth": 0,
              "ticks": ""
             }
            },
            "type": "scatterpolargl"
           }
          ],
          "scatterternary": [
           {
            "marker": {
             "colorbar": {
              "outlinewidth": 0,
              "ticks": ""
             }
            },
            "type": "scatterternary"
           }
          ],
          "surface": [
           {
            "colorbar": {
             "outlinewidth": 0,
             "ticks": ""
            },
            "colorscale": [
             [
              0,
              "#0d0887"
             ],
             [
              0.1111111111111111,
              "#46039f"
             ],
             [
              0.2222222222222222,
              "#7201a8"
             ],
             [
              0.3333333333333333,
              "#9c179e"
             ],
             [
              0.4444444444444444,
              "#bd3786"
             ],
             [
              0.5555555555555556,
              "#d8576b"
             ],
             [
              0.6666666666666666,
              "#ed7953"
             ],
             [
              0.7777777777777778,
              "#fb9f3a"
             ],
             [
              0.8888888888888888,
              "#fdca26"
             ],
             [
              1,
              "#f0f921"
             ]
            ],
            "type": "surface"
           }
          ],
          "table": [
           {
            "cells": {
             "fill": {
              "color": "#EBF0F8"
             },
             "line": {
              "color": "white"
             }
            },
            "header": {
             "fill": {
              "color": "#C8D4E3"
             },
             "line": {
              "color": "white"
             }
            },
            "type": "table"
           }
          ]
         },
         "layout": {
          "annotationdefaults": {
           "arrowcolor": "#2a3f5f",
           "arrowhead": 0,
           "arrowwidth": 1
          },
          "autotypenumbers": "strict",
          "coloraxis": {
           "colorbar": {
            "outlinewidth": 0,
            "ticks": ""
           }
          },
          "colorscale": {
           "diverging": [
            [
             0,
             "#8e0152"
            ],
            [
             0.1,
             "#c51b7d"
            ],
            [
             0.2,
             "#de77ae"
            ],
            [
             0.3,
             "#f1b6da"
            ],
            [
             0.4,
             "#fde0ef"
            ],
            [
             0.5,
             "#f7f7f7"
            ],
            [
             0.6,
             "#e6f5d0"
            ],
            [
             0.7,
             "#b8e186"
            ],
            [
             0.8,
             "#7fbc41"
            ],
            [
             0.9,
             "#4d9221"
            ],
            [
             1,
             "#276419"
            ]
           ],
           "sequential": [
            [
             0,
             "#0d0887"
            ],
            [
             0.1111111111111111,
             "#46039f"
            ],
            [
             0.2222222222222222,
             "#7201a8"
            ],
            [
             0.3333333333333333,
             "#9c179e"
            ],
            [
             0.4444444444444444,
             "#bd3786"
            ],
            [
             0.5555555555555556,
             "#d8576b"
            ],
            [
             0.6666666666666666,
             "#ed7953"
            ],
            [
             0.7777777777777778,
             "#fb9f3a"
            ],
            [
             0.8888888888888888,
             "#fdca26"
            ],
            [
             1,
             "#f0f921"
            ]
           ],
           "sequentialminus": [
            [
             0,
             "#0d0887"
            ],
            [
             0.1111111111111111,
             "#46039f"
            ],
            [
             0.2222222222222222,
             "#7201a8"
            ],
            [
             0.3333333333333333,
             "#9c179e"
            ],
            [
             0.4444444444444444,
             "#bd3786"
            ],
            [
             0.5555555555555556,
             "#d8576b"
            ],
            [
             0.6666666666666666,
             "#ed7953"
            ],
            [
             0.7777777777777778,
             "#fb9f3a"
            ],
            [
             0.8888888888888888,
             "#fdca26"
            ],
            [
             1,
             "#f0f921"
            ]
           ]
          },
          "colorway": [
           "#636efa",
           "#EF553B",
           "#00cc96",
           "#ab63fa",
           "#FFA15A",
           "#19d3f3",
           "#FF6692",
           "#B6E880",
           "#FF97FF",
           "#FECB52"
          ],
          "font": {
           "color": "#2a3f5f"
          },
          "geo": {
           "bgcolor": "white",
           "lakecolor": "white",
           "landcolor": "#E5ECF6",
           "showlakes": true,
           "showland": true,
           "subunitcolor": "white"
          },
          "hoverlabel": {
           "align": "left"
          },
          "hovermode": "closest",
          "mapbox": {
           "style": "light"
          },
          "paper_bgcolor": "white",
          "plot_bgcolor": "#E5ECF6",
          "polar": {
           "angularaxis": {
            "gridcolor": "white",
            "linecolor": "white",
            "ticks": ""
           },
           "bgcolor": "#E5ECF6",
           "radialaxis": {
            "gridcolor": "white",
            "linecolor": "white",
            "ticks": ""
           }
          },
          "scene": {
           "xaxis": {
            "backgroundcolor": "#E5ECF6",
            "gridcolor": "white",
            "gridwidth": 2,
            "linecolor": "white",
            "showbackground": true,
            "ticks": "",
            "zerolinecolor": "white"
           },
           "yaxis": {
            "backgroundcolor": "#E5ECF6",
            "gridcolor": "white",
            "gridwidth": 2,
            "linecolor": "white",
            "showbackground": true,
            "ticks": "",
            "zerolinecolor": "white"
           },
           "zaxis": {
            "backgroundcolor": "#E5ECF6",
            "gridcolor": "white",
            "gridwidth": 2,
            "linecolor": "white",
            "showbackground": true,
            "ticks": "",
            "zerolinecolor": "white"
           }
          },
          "shapedefaults": {
           "line": {
            "color": "#2a3f5f"
           }
          },
          "ternary": {
           "aaxis": {
            "gridcolor": "white",
            "linecolor": "white",
            "ticks": ""
           },
           "baxis": {
            "gridcolor": "white",
            "linecolor": "white",
            "ticks": ""
           },
           "bgcolor": "#E5ECF6",
           "caxis": {
            "gridcolor": "white",
            "linecolor": "white",
            "ticks": ""
           }
          },
          "title": {
           "x": 0.05
          },
          "xaxis": {
           "automargin": true,
           "gridcolor": "white",
           "linecolor": "white",
           "ticks": "",
           "title": {
            "standoff": 15
           },
           "zerolinecolor": "white",
           "zerolinewidth": 2
          },
          "yaxis": {
           "automargin": true,
           "gridcolor": "white",
           "linecolor": "white",
           "ticks": "",
           "title": {
            "standoff": 15
           },
           "zerolinecolor": "white",
           "zerolinewidth": 2
          }
         }
        },
        "title": {
         "text": "Analysis of StreamingMovies"
        },
        "width": 700,
        "xaxis": {
         "anchor": "y",
         "domain": [
          0,
          1
         ],
         "title": {
          "text": "StreamingMovies"
         }
        },
        "yaxis": {
         "anchor": "x",
         "domain": [
          0,
          1
         ],
         "title": {
          "text": "count"
         }
        }
       }
      }
     },
     "metadata": {},
     "output_type": "display_data"
    }
   ],
   "source": [
    "bar('PhoneService')\n",
    "bar('MultipleLines')\n",
    "bar('InternetService')\n",
    "bar('OnlineSecurity')\n",
    "bar('OnlineBackup')\n",
    "bar('DeviceProtection')\n",
    "bar('TechSupport')\n",
    "bar('StreamingTV')\n",
    "bar('StreamingMovies')"
   ]
  },
  {
   "cell_type": "markdown",
   "metadata": {},
   "source": [
    "<h3>Insight on customer services charts: </h3>\n",
    "        We can see from the charts that customers that subscribed to a phone service are more likely to churn. \n",
    "    While the customers that subscribed to multiple phone lines and those that didn't have similar rates of churning, so this might not be a good predictor of churn. <br><br>\n",
    "    Customers that are subscribed to a fiber optic internet service are also more likely to churn; this could be a consequence of the higher price rates for fiber optic internet. <br><br>\n",
    "    Customers that <b>didn't</b> subscribe to online security services, online backup services, device protection services, or tech support services are also more likely to churn. <br><br>\n",
    "\n",
    "-----------------------------------------------------------------------------------------------------------------------------"
   ]
  },
  {
   "cell_type": "markdown",
   "metadata": {},
   "source": [
    "<h3>Analysis on Payment methods:</h3>"
   ]
  },
  {
   "cell_type": "code",
   "execution_count": 221,
   "metadata": {},
   "outputs": [
    {
     "data": {
      "application/vnd.plotly.v1+json": {
       "config": {
        "plotlyServerURL": "https://plot.ly"
       },
       "data": [
        {
         "alignmentgroup": "True",
         "hovertemplate": "Churn=No<br>PaperlessBilling=%{x}<br>count=%{y}<extra></extra>",
         "legendgroup": "No",
         "marker": {
          "color": "Green",
          "pattern": {
           "shape": ""
          }
         },
         "name": "No",
         "offsetgroup": "No",
         "orientation": "v",
         "showlegend": true,
         "textposition": "auto",
         "type": "bar",
         "x": [
          "No",
          "Yes"
         ],
         "xaxis": "x",
         "y": [
          1394,
          2367
         ],
         "yaxis": "y"
        },
        {
         "alignmentgroup": "True",
         "hovertemplate": "Churn=Yes<br>PaperlessBilling=%{x}<br>count=%{y}<extra></extra>",
         "legendgroup": "Yes",
         "marker": {
          "color": "Red",
          "pattern": {
           "shape": ""
          }
         },
         "name": "Yes",
         "offsetgroup": "Yes",
         "orientation": "v",
         "showlegend": true,
         "textposition": "auto",
         "type": "bar",
         "x": [
          "No",
          "Yes"
         ],
         "xaxis": "x",
         "y": [
          398,
          1358
         ],
         "yaxis": "y"
        }
       ],
       "layout": {
        "barmode": "group",
        "height": 400,
        "legend": {
         "title": {
          "text": "Churn"
         },
         "tracegroupgap": 0
        },
        "template": {
         "data": {
          "bar": [
           {
            "error_x": {
             "color": "#2a3f5f"
            },
            "error_y": {
             "color": "#2a3f5f"
            },
            "marker": {
             "line": {
              "color": "#E5ECF6",
              "width": 0.5
             },
             "pattern": {
              "fillmode": "overlay",
              "size": 10,
              "solidity": 0.2
             }
            },
            "type": "bar"
           }
          ],
          "barpolar": [
           {
            "marker": {
             "line": {
              "color": "#E5ECF6",
              "width": 0.5
             },
             "pattern": {
              "fillmode": "overlay",
              "size": 10,
              "solidity": 0.2
             }
            },
            "type": "barpolar"
           }
          ],
          "carpet": [
           {
            "aaxis": {
             "endlinecolor": "#2a3f5f",
             "gridcolor": "white",
             "linecolor": "white",
             "minorgridcolor": "white",
             "startlinecolor": "#2a3f5f"
            },
            "baxis": {
             "endlinecolor": "#2a3f5f",
             "gridcolor": "white",
             "linecolor": "white",
             "minorgridcolor": "white",
             "startlinecolor": "#2a3f5f"
            },
            "type": "carpet"
           }
          ],
          "choropleth": [
           {
            "colorbar": {
             "outlinewidth": 0,
             "ticks": ""
            },
            "type": "choropleth"
           }
          ],
          "contour": [
           {
            "colorbar": {
             "outlinewidth": 0,
             "ticks": ""
            },
            "colorscale": [
             [
              0,
              "#0d0887"
             ],
             [
              0.1111111111111111,
              "#46039f"
             ],
             [
              0.2222222222222222,
              "#7201a8"
             ],
             [
              0.3333333333333333,
              "#9c179e"
             ],
             [
              0.4444444444444444,
              "#bd3786"
             ],
             [
              0.5555555555555556,
              "#d8576b"
             ],
             [
              0.6666666666666666,
              "#ed7953"
             ],
             [
              0.7777777777777778,
              "#fb9f3a"
             ],
             [
              0.8888888888888888,
              "#fdca26"
             ],
             [
              1,
              "#f0f921"
             ]
            ],
            "type": "contour"
           }
          ],
          "contourcarpet": [
           {
            "colorbar": {
             "outlinewidth": 0,
             "ticks": ""
            },
            "type": "contourcarpet"
           }
          ],
          "heatmap": [
           {
            "colorbar": {
             "outlinewidth": 0,
             "ticks": ""
            },
            "colorscale": [
             [
              0,
              "#0d0887"
             ],
             [
              0.1111111111111111,
              "#46039f"
             ],
             [
              0.2222222222222222,
              "#7201a8"
             ],
             [
              0.3333333333333333,
              "#9c179e"
             ],
             [
              0.4444444444444444,
              "#bd3786"
             ],
             [
              0.5555555555555556,
              "#d8576b"
             ],
             [
              0.6666666666666666,
              "#ed7953"
             ],
             [
              0.7777777777777778,
              "#fb9f3a"
             ],
             [
              0.8888888888888888,
              "#fdca26"
             ],
             [
              1,
              "#f0f921"
             ]
            ],
            "type": "heatmap"
           }
          ],
          "heatmapgl": [
           {
            "colorbar": {
             "outlinewidth": 0,
             "ticks": ""
            },
            "colorscale": [
             [
              0,
              "#0d0887"
             ],
             [
              0.1111111111111111,
              "#46039f"
             ],
             [
              0.2222222222222222,
              "#7201a8"
             ],
             [
              0.3333333333333333,
              "#9c179e"
             ],
             [
              0.4444444444444444,
              "#bd3786"
             ],
             [
              0.5555555555555556,
              "#d8576b"
             ],
             [
              0.6666666666666666,
              "#ed7953"
             ],
             [
              0.7777777777777778,
              "#fb9f3a"
             ],
             [
              0.8888888888888888,
              "#fdca26"
             ],
             [
              1,
              "#f0f921"
             ]
            ],
            "type": "heatmapgl"
           }
          ],
          "histogram": [
           {
            "marker": {
             "pattern": {
              "fillmode": "overlay",
              "size": 10,
              "solidity": 0.2
             }
            },
            "type": "histogram"
           }
          ],
          "histogram2d": [
           {
            "colorbar": {
             "outlinewidth": 0,
             "ticks": ""
            },
            "colorscale": [
             [
              0,
              "#0d0887"
             ],
             [
              0.1111111111111111,
              "#46039f"
             ],
             [
              0.2222222222222222,
              "#7201a8"
             ],
             [
              0.3333333333333333,
              "#9c179e"
             ],
             [
              0.4444444444444444,
              "#bd3786"
             ],
             [
              0.5555555555555556,
              "#d8576b"
             ],
             [
              0.6666666666666666,
              "#ed7953"
             ],
             [
              0.7777777777777778,
              "#fb9f3a"
             ],
             [
              0.8888888888888888,
              "#fdca26"
             ],
             [
              1,
              "#f0f921"
             ]
            ],
            "type": "histogram2d"
           }
          ],
          "histogram2dcontour": [
           {
            "colorbar": {
             "outlinewidth": 0,
             "ticks": ""
            },
            "colorscale": [
             [
              0,
              "#0d0887"
             ],
             [
              0.1111111111111111,
              "#46039f"
             ],
             [
              0.2222222222222222,
              "#7201a8"
             ],
             [
              0.3333333333333333,
              "#9c179e"
             ],
             [
              0.4444444444444444,
              "#bd3786"
             ],
             [
              0.5555555555555556,
              "#d8576b"
             ],
             [
              0.6666666666666666,
              "#ed7953"
             ],
             [
              0.7777777777777778,
              "#fb9f3a"
             ],
             [
              0.8888888888888888,
              "#fdca26"
             ],
             [
              1,
              "#f0f921"
             ]
            ],
            "type": "histogram2dcontour"
           }
          ],
          "mesh3d": [
           {
            "colorbar": {
             "outlinewidth": 0,
             "ticks": ""
            },
            "type": "mesh3d"
           }
          ],
          "parcoords": [
           {
            "line": {
             "colorbar": {
              "outlinewidth": 0,
              "ticks": ""
             }
            },
            "type": "parcoords"
           }
          ],
          "pie": [
           {
            "automargin": true,
            "type": "pie"
           }
          ],
          "scatter": [
           {
            "fillpattern": {
             "fillmode": "overlay",
             "size": 10,
             "solidity": 0.2
            },
            "type": "scatter"
           }
          ],
          "scatter3d": [
           {
            "line": {
             "colorbar": {
              "outlinewidth": 0,
              "ticks": ""
             }
            },
            "marker": {
             "colorbar": {
              "outlinewidth": 0,
              "ticks": ""
             }
            },
            "type": "scatter3d"
           }
          ],
          "scattercarpet": [
           {
            "marker": {
             "colorbar": {
              "outlinewidth": 0,
              "ticks": ""
             }
            },
            "type": "scattercarpet"
           }
          ],
          "scattergeo": [
           {
            "marker": {
             "colorbar": {
              "outlinewidth": 0,
              "ticks": ""
             }
            },
            "type": "scattergeo"
           }
          ],
          "scattergl": [
           {
            "marker": {
             "colorbar": {
              "outlinewidth": 0,
              "ticks": ""
             }
            },
            "type": "scattergl"
           }
          ],
          "scattermapbox": [
           {
            "marker": {
             "colorbar": {
              "outlinewidth": 0,
              "ticks": ""
             }
            },
            "type": "scattermapbox"
           }
          ],
          "scatterpolar": [
           {
            "marker": {
             "colorbar": {
              "outlinewidth": 0,
              "ticks": ""
             }
            },
            "type": "scatterpolar"
           }
          ],
          "scatterpolargl": [
           {
            "marker": {
             "colorbar": {
              "outlinewidth": 0,
              "ticks": ""
             }
            },
            "type": "scatterpolargl"
           }
          ],
          "scatterternary": [
           {
            "marker": {
             "colorbar": {
              "outlinewidth": 0,
              "ticks": ""
             }
            },
            "type": "scatterternary"
           }
          ],
          "surface": [
           {
            "colorbar": {
             "outlinewidth": 0,
             "ticks": ""
            },
            "colorscale": [
             [
              0,
              "#0d0887"
             ],
             [
              0.1111111111111111,
              "#46039f"
             ],
             [
              0.2222222222222222,
              "#7201a8"
             ],
             [
              0.3333333333333333,
              "#9c179e"
             ],
             [
              0.4444444444444444,
              "#bd3786"
             ],
             [
              0.5555555555555556,
              "#d8576b"
             ],
             [
              0.6666666666666666,
              "#ed7953"
             ],
             [
              0.7777777777777778,
              "#fb9f3a"
             ],
             [
              0.8888888888888888,
              "#fdca26"
             ],
             [
              1,
              "#f0f921"
             ]
            ],
            "type": "surface"
           }
          ],
          "table": [
           {
            "cells": {
             "fill": {
              "color": "#EBF0F8"
             },
             "line": {
              "color": "white"
             }
            },
            "header": {
             "fill": {
              "color": "#C8D4E3"
             },
             "line": {
              "color": "white"
             }
            },
            "type": "table"
           }
          ]
         },
         "layout": {
          "annotationdefaults": {
           "arrowcolor": "#2a3f5f",
           "arrowhead": 0,
           "arrowwidth": 1
          },
          "autotypenumbers": "strict",
          "coloraxis": {
           "colorbar": {
            "outlinewidth": 0,
            "ticks": ""
           }
          },
          "colorscale": {
           "diverging": [
            [
             0,
             "#8e0152"
            ],
            [
             0.1,
             "#c51b7d"
            ],
            [
             0.2,
             "#de77ae"
            ],
            [
             0.3,
             "#f1b6da"
            ],
            [
             0.4,
             "#fde0ef"
            ],
            [
             0.5,
             "#f7f7f7"
            ],
            [
             0.6,
             "#e6f5d0"
            ],
            [
             0.7,
             "#b8e186"
            ],
            [
             0.8,
             "#7fbc41"
            ],
            [
             0.9,
             "#4d9221"
            ],
            [
             1,
             "#276419"
            ]
           ],
           "sequential": [
            [
             0,
             "#0d0887"
            ],
            [
             0.1111111111111111,
             "#46039f"
            ],
            [
             0.2222222222222222,
             "#7201a8"
            ],
            [
             0.3333333333333333,
             "#9c179e"
            ],
            [
             0.4444444444444444,
             "#bd3786"
            ],
            [
             0.5555555555555556,
             "#d8576b"
            ],
            [
             0.6666666666666666,
             "#ed7953"
            ],
            [
             0.7777777777777778,
             "#fb9f3a"
            ],
            [
             0.8888888888888888,
             "#fdca26"
            ],
            [
             1,
             "#f0f921"
            ]
           ],
           "sequentialminus": [
            [
             0,
             "#0d0887"
            ],
            [
             0.1111111111111111,
             "#46039f"
            ],
            [
             0.2222222222222222,
             "#7201a8"
            ],
            [
             0.3333333333333333,
             "#9c179e"
            ],
            [
             0.4444444444444444,
             "#bd3786"
            ],
            [
             0.5555555555555556,
             "#d8576b"
            ],
            [
             0.6666666666666666,
             "#ed7953"
            ],
            [
             0.7777777777777778,
             "#fb9f3a"
            ],
            [
             0.8888888888888888,
             "#fdca26"
            ],
            [
             1,
             "#f0f921"
            ]
           ]
          },
          "colorway": [
           "#636efa",
           "#EF553B",
           "#00cc96",
           "#ab63fa",
           "#FFA15A",
           "#19d3f3",
           "#FF6692",
           "#B6E880",
           "#FF97FF",
           "#FECB52"
          ],
          "font": {
           "color": "#2a3f5f"
          },
          "geo": {
           "bgcolor": "white",
           "lakecolor": "white",
           "landcolor": "#E5ECF6",
           "showlakes": true,
           "showland": true,
           "subunitcolor": "white"
          },
          "hoverlabel": {
           "align": "left"
          },
          "hovermode": "closest",
          "mapbox": {
           "style": "light"
          },
          "paper_bgcolor": "white",
          "plot_bgcolor": "#E5ECF6",
          "polar": {
           "angularaxis": {
            "gridcolor": "white",
            "linecolor": "white",
            "ticks": ""
           },
           "bgcolor": "#E5ECF6",
           "radialaxis": {
            "gridcolor": "white",
            "linecolor": "white",
            "ticks": ""
           }
          },
          "scene": {
           "xaxis": {
            "backgroundcolor": "#E5ECF6",
            "gridcolor": "white",
            "gridwidth": 2,
            "linecolor": "white",
            "showbackground": true,
            "ticks": "",
            "zerolinecolor": "white"
           },
           "yaxis": {
            "backgroundcolor": "#E5ECF6",
            "gridcolor": "white",
            "gridwidth": 2,
            "linecolor": "white",
            "showbackground": true,
            "ticks": "",
            "zerolinecolor": "white"
           },
           "zaxis": {
            "backgroundcolor": "#E5ECF6",
            "gridcolor": "white",
            "gridwidth": 2,
            "linecolor": "white",
            "showbackground": true,
            "ticks": "",
            "zerolinecolor": "white"
           }
          },
          "shapedefaults": {
           "line": {
            "color": "#2a3f5f"
           }
          },
          "ternary": {
           "aaxis": {
            "gridcolor": "white",
            "linecolor": "white",
            "ticks": ""
           },
           "baxis": {
            "gridcolor": "white",
            "linecolor": "white",
            "ticks": ""
           },
           "bgcolor": "#E5ECF6",
           "caxis": {
            "gridcolor": "white",
            "linecolor": "white",
            "ticks": ""
           }
          },
          "title": {
           "x": 0.05
          },
          "xaxis": {
           "automargin": true,
           "gridcolor": "white",
           "linecolor": "white",
           "ticks": "",
           "title": {
            "standoff": 15
           },
           "zerolinecolor": "white",
           "zerolinewidth": 2
          },
          "yaxis": {
           "automargin": true,
           "gridcolor": "white",
           "linecolor": "white",
           "ticks": "",
           "title": {
            "standoff": 15
           },
           "zerolinecolor": "white",
           "zerolinewidth": 2
          }
         }
        },
        "title": {
         "text": "Analysis of PaperlessBilling"
        },
        "width": 700,
        "xaxis": {
         "anchor": "y",
         "domain": [
          0,
          1
         ],
         "title": {
          "text": "PaperlessBilling"
         }
        },
        "yaxis": {
         "anchor": "x",
         "domain": [
          0,
          1
         ],
         "title": {
          "text": "count"
         }
        }
       }
      }
     },
     "metadata": {},
     "output_type": "display_data"
    },
    {
     "data": {
      "application/vnd.plotly.v1+json": {
       "config": {
        "plotlyServerURL": "https://plot.ly"
       },
       "data": [
        {
         "alignmentgroup": "True",
         "hovertemplate": "Churn=No<br>PaymentMethod=%{x}<br>count=%{y}<extra></extra>",
         "legendgroup": "No",
         "marker": {
          "color": "Green",
          "pattern": {
           "shape": ""
          }
         },
         "name": "No",
         "offsetgroup": "No",
         "orientation": "v",
         "showlegend": true,
         "textposition": "auto",
         "type": "bar",
         "x": [
          "Bank transfer (automatic)",
          "Credit card (automatic)",
          "Electronic check",
          "Mailed check"
         ],
         "xaxis": "x",
         "y": [
          972,
          968,
          1187,
          634
         ],
         "yaxis": "y"
        },
        {
         "alignmentgroup": "True",
         "hovertemplate": "Churn=Yes<br>PaymentMethod=%{x}<br>count=%{y}<extra></extra>",
         "legendgroup": "Yes",
         "marker": {
          "color": "Red",
          "pattern": {
           "shape": ""
          }
         },
         "name": "Yes",
         "offsetgroup": "Yes",
         "orientation": "v",
         "showlegend": true,
         "textposition": "auto",
         "type": "bar",
         "x": [
          "Bank transfer (automatic)",
          "Credit card (automatic)",
          "Electronic check",
          "Mailed check"
         ],
         "xaxis": "x",
         "y": [
          240,
          223,
          1056,
          237
         ],
         "yaxis": "y"
        }
       ],
       "layout": {
        "barmode": "group",
        "height": 400,
        "legend": {
         "title": {
          "text": "Churn"
         },
         "tracegroupgap": 0
        },
        "template": {
         "data": {
          "bar": [
           {
            "error_x": {
             "color": "#2a3f5f"
            },
            "error_y": {
             "color": "#2a3f5f"
            },
            "marker": {
             "line": {
              "color": "#E5ECF6",
              "width": 0.5
             },
             "pattern": {
              "fillmode": "overlay",
              "size": 10,
              "solidity": 0.2
             }
            },
            "type": "bar"
           }
          ],
          "barpolar": [
           {
            "marker": {
             "line": {
              "color": "#E5ECF6",
              "width": 0.5
             },
             "pattern": {
              "fillmode": "overlay",
              "size": 10,
              "solidity": 0.2
             }
            },
            "type": "barpolar"
           }
          ],
          "carpet": [
           {
            "aaxis": {
             "endlinecolor": "#2a3f5f",
             "gridcolor": "white",
             "linecolor": "white",
             "minorgridcolor": "white",
             "startlinecolor": "#2a3f5f"
            },
            "baxis": {
             "endlinecolor": "#2a3f5f",
             "gridcolor": "white",
             "linecolor": "white",
             "minorgridcolor": "white",
             "startlinecolor": "#2a3f5f"
            },
            "type": "carpet"
           }
          ],
          "choropleth": [
           {
            "colorbar": {
             "outlinewidth": 0,
             "ticks": ""
            },
            "type": "choropleth"
           }
          ],
          "contour": [
           {
            "colorbar": {
             "outlinewidth": 0,
             "ticks": ""
            },
            "colorscale": [
             [
              0,
              "#0d0887"
             ],
             [
              0.1111111111111111,
              "#46039f"
             ],
             [
              0.2222222222222222,
              "#7201a8"
             ],
             [
              0.3333333333333333,
              "#9c179e"
             ],
             [
              0.4444444444444444,
              "#bd3786"
             ],
             [
              0.5555555555555556,
              "#d8576b"
             ],
             [
              0.6666666666666666,
              "#ed7953"
             ],
             [
              0.7777777777777778,
              "#fb9f3a"
             ],
             [
              0.8888888888888888,
              "#fdca26"
             ],
             [
              1,
              "#f0f921"
             ]
            ],
            "type": "contour"
           }
          ],
          "contourcarpet": [
           {
            "colorbar": {
             "outlinewidth": 0,
             "ticks": ""
            },
            "type": "contourcarpet"
           }
          ],
          "heatmap": [
           {
            "colorbar": {
             "outlinewidth": 0,
             "ticks": ""
            },
            "colorscale": [
             [
              0,
              "#0d0887"
             ],
             [
              0.1111111111111111,
              "#46039f"
             ],
             [
              0.2222222222222222,
              "#7201a8"
             ],
             [
              0.3333333333333333,
              "#9c179e"
             ],
             [
              0.4444444444444444,
              "#bd3786"
             ],
             [
              0.5555555555555556,
              "#d8576b"
             ],
             [
              0.6666666666666666,
              "#ed7953"
             ],
             [
              0.7777777777777778,
              "#fb9f3a"
             ],
             [
              0.8888888888888888,
              "#fdca26"
             ],
             [
              1,
              "#f0f921"
             ]
            ],
            "type": "heatmap"
           }
          ],
          "heatmapgl": [
           {
            "colorbar": {
             "outlinewidth": 0,
             "ticks": ""
            },
            "colorscale": [
             [
              0,
              "#0d0887"
             ],
             [
              0.1111111111111111,
              "#46039f"
             ],
             [
              0.2222222222222222,
              "#7201a8"
             ],
             [
              0.3333333333333333,
              "#9c179e"
             ],
             [
              0.4444444444444444,
              "#bd3786"
             ],
             [
              0.5555555555555556,
              "#d8576b"
             ],
             [
              0.6666666666666666,
              "#ed7953"
             ],
             [
              0.7777777777777778,
              "#fb9f3a"
             ],
             [
              0.8888888888888888,
              "#fdca26"
             ],
             [
              1,
              "#f0f921"
             ]
            ],
            "type": "heatmapgl"
           }
          ],
          "histogram": [
           {
            "marker": {
             "pattern": {
              "fillmode": "overlay",
              "size": 10,
              "solidity": 0.2
             }
            },
            "type": "histogram"
           }
          ],
          "histogram2d": [
           {
            "colorbar": {
             "outlinewidth": 0,
             "ticks": ""
            },
            "colorscale": [
             [
              0,
              "#0d0887"
             ],
             [
              0.1111111111111111,
              "#46039f"
             ],
             [
              0.2222222222222222,
              "#7201a8"
             ],
             [
              0.3333333333333333,
              "#9c179e"
             ],
             [
              0.4444444444444444,
              "#bd3786"
             ],
             [
              0.5555555555555556,
              "#d8576b"
             ],
             [
              0.6666666666666666,
              "#ed7953"
             ],
             [
              0.7777777777777778,
              "#fb9f3a"
             ],
             [
              0.8888888888888888,
              "#fdca26"
             ],
             [
              1,
              "#f0f921"
             ]
            ],
            "type": "histogram2d"
           }
          ],
          "histogram2dcontour": [
           {
            "colorbar": {
             "outlinewidth": 0,
             "ticks": ""
            },
            "colorscale": [
             [
              0,
              "#0d0887"
             ],
             [
              0.1111111111111111,
              "#46039f"
             ],
             [
              0.2222222222222222,
              "#7201a8"
             ],
             [
              0.3333333333333333,
              "#9c179e"
             ],
             [
              0.4444444444444444,
              "#bd3786"
             ],
             [
              0.5555555555555556,
              "#d8576b"
             ],
             [
              0.6666666666666666,
              "#ed7953"
             ],
             [
              0.7777777777777778,
              "#fb9f3a"
             ],
             [
              0.8888888888888888,
              "#fdca26"
             ],
             [
              1,
              "#f0f921"
             ]
            ],
            "type": "histogram2dcontour"
           }
          ],
          "mesh3d": [
           {
            "colorbar": {
             "outlinewidth": 0,
             "ticks": ""
            },
            "type": "mesh3d"
           }
          ],
          "parcoords": [
           {
            "line": {
             "colorbar": {
              "outlinewidth": 0,
              "ticks": ""
             }
            },
            "type": "parcoords"
           }
          ],
          "pie": [
           {
            "automargin": true,
            "type": "pie"
           }
          ],
          "scatter": [
           {
            "fillpattern": {
             "fillmode": "overlay",
             "size": 10,
             "solidity": 0.2
            },
            "type": "scatter"
           }
          ],
          "scatter3d": [
           {
            "line": {
             "colorbar": {
              "outlinewidth": 0,
              "ticks": ""
             }
            },
            "marker": {
             "colorbar": {
              "outlinewidth": 0,
              "ticks": ""
             }
            },
            "type": "scatter3d"
           }
          ],
          "scattercarpet": [
           {
            "marker": {
             "colorbar": {
              "outlinewidth": 0,
              "ticks": ""
             }
            },
            "type": "scattercarpet"
           }
          ],
          "scattergeo": [
           {
            "marker": {
             "colorbar": {
              "outlinewidth": 0,
              "ticks": ""
             }
            },
            "type": "scattergeo"
           }
          ],
          "scattergl": [
           {
            "marker": {
             "colorbar": {
              "outlinewidth": 0,
              "ticks": ""
             }
            },
            "type": "scattergl"
           }
          ],
          "scattermapbox": [
           {
            "marker": {
             "colorbar": {
              "outlinewidth": 0,
              "ticks": ""
             }
            },
            "type": "scattermapbox"
           }
          ],
          "scatterpolar": [
           {
            "marker": {
             "colorbar": {
              "outlinewidth": 0,
              "ticks": ""
             }
            },
            "type": "scatterpolar"
           }
          ],
          "scatterpolargl": [
           {
            "marker": {
             "colorbar": {
              "outlinewidth": 0,
              "ticks": ""
             }
            },
            "type": "scatterpolargl"
           }
          ],
          "scatterternary": [
           {
            "marker": {
             "colorbar": {
              "outlinewidth": 0,
              "ticks": ""
             }
            },
            "type": "scatterternary"
           }
          ],
          "surface": [
           {
            "colorbar": {
             "outlinewidth": 0,
             "ticks": ""
            },
            "colorscale": [
             [
              0,
              "#0d0887"
             ],
             [
              0.1111111111111111,
              "#46039f"
             ],
             [
              0.2222222222222222,
              "#7201a8"
             ],
             [
              0.3333333333333333,
              "#9c179e"
             ],
             [
              0.4444444444444444,
              "#bd3786"
             ],
             [
              0.5555555555555556,
              "#d8576b"
             ],
             [
              0.6666666666666666,
              "#ed7953"
             ],
             [
              0.7777777777777778,
              "#fb9f3a"
             ],
             [
              0.8888888888888888,
              "#fdca26"
             ],
             [
              1,
              "#f0f921"
             ]
            ],
            "type": "surface"
           }
          ],
          "table": [
           {
            "cells": {
             "fill": {
              "color": "#EBF0F8"
             },
             "line": {
              "color": "white"
             }
            },
            "header": {
             "fill": {
              "color": "#C8D4E3"
             },
             "line": {
              "color": "white"
             }
            },
            "type": "table"
           }
          ]
         },
         "layout": {
          "annotationdefaults": {
           "arrowcolor": "#2a3f5f",
           "arrowhead": 0,
           "arrowwidth": 1
          },
          "autotypenumbers": "strict",
          "coloraxis": {
           "colorbar": {
            "outlinewidth": 0,
            "ticks": ""
           }
          },
          "colorscale": {
           "diverging": [
            [
             0,
             "#8e0152"
            ],
            [
             0.1,
             "#c51b7d"
            ],
            [
             0.2,
             "#de77ae"
            ],
            [
             0.3,
             "#f1b6da"
            ],
            [
             0.4,
             "#fde0ef"
            ],
            [
             0.5,
             "#f7f7f7"
            ],
            [
             0.6,
             "#e6f5d0"
            ],
            [
             0.7,
             "#b8e186"
            ],
            [
             0.8,
             "#7fbc41"
            ],
            [
             0.9,
             "#4d9221"
            ],
            [
             1,
             "#276419"
            ]
           ],
           "sequential": [
            [
             0,
             "#0d0887"
            ],
            [
             0.1111111111111111,
             "#46039f"
            ],
            [
             0.2222222222222222,
             "#7201a8"
            ],
            [
             0.3333333333333333,
             "#9c179e"
            ],
            [
             0.4444444444444444,
             "#bd3786"
            ],
            [
             0.5555555555555556,
             "#d8576b"
            ],
            [
             0.6666666666666666,
             "#ed7953"
            ],
            [
             0.7777777777777778,
             "#fb9f3a"
            ],
            [
             0.8888888888888888,
             "#fdca26"
            ],
            [
             1,
             "#f0f921"
            ]
           ],
           "sequentialminus": [
            [
             0,
             "#0d0887"
            ],
            [
             0.1111111111111111,
             "#46039f"
            ],
            [
             0.2222222222222222,
             "#7201a8"
            ],
            [
             0.3333333333333333,
             "#9c179e"
            ],
            [
             0.4444444444444444,
             "#bd3786"
            ],
            [
             0.5555555555555556,
             "#d8576b"
            ],
            [
             0.6666666666666666,
             "#ed7953"
            ],
            [
             0.7777777777777778,
             "#fb9f3a"
            ],
            [
             0.8888888888888888,
             "#fdca26"
            ],
            [
             1,
             "#f0f921"
            ]
           ]
          },
          "colorway": [
           "#636efa",
           "#EF553B",
           "#00cc96",
           "#ab63fa",
           "#FFA15A",
           "#19d3f3",
           "#FF6692",
           "#B6E880",
           "#FF97FF",
           "#FECB52"
          ],
          "font": {
           "color": "#2a3f5f"
          },
          "geo": {
           "bgcolor": "white",
           "lakecolor": "white",
           "landcolor": "#E5ECF6",
           "showlakes": true,
           "showland": true,
           "subunitcolor": "white"
          },
          "hoverlabel": {
           "align": "left"
          },
          "hovermode": "closest",
          "mapbox": {
           "style": "light"
          },
          "paper_bgcolor": "white",
          "plot_bgcolor": "#E5ECF6",
          "polar": {
           "angularaxis": {
            "gridcolor": "white",
            "linecolor": "white",
            "ticks": ""
           },
           "bgcolor": "#E5ECF6",
           "radialaxis": {
            "gridcolor": "white",
            "linecolor": "white",
            "ticks": ""
           }
          },
          "scene": {
           "xaxis": {
            "backgroundcolor": "#E5ECF6",
            "gridcolor": "white",
            "gridwidth": 2,
            "linecolor": "white",
            "showbackground": true,
            "ticks": "",
            "zerolinecolor": "white"
           },
           "yaxis": {
            "backgroundcolor": "#E5ECF6",
            "gridcolor": "white",
            "gridwidth": 2,
            "linecolor": "white",
            "showbackground": true,
            "ticks": "",
            "zerolinecolor": "white"
           },
           "zaxis": {
            "backgroundcolor": "#E5ECF6",
            "gridcolor": "white",
            "gridwidth": 2,
            "linecolor": "white",
            "showbackground": true,
            "ticks": "",
            "zerolinecolor": "white"
           }
          },
          "shapedefaults": {
           "line": {
            "color": "#2a3f5f"
           }
          },
          "ternary": {
           "aaxis": {
            "gridcolor": "white",
            "linecolor": "white",
            "ticks": ""
           },
           "baxis": {
            "gridcolor": "white",
            "linecolor": "white",
            "ticks": ""
           },
           "bgcolor": "#E5ECF6",
           "caxis": {
            "gridcolor": "white",
            "linecolor": "white",
            "ticks": ""
           }
          },
          "title": {
           "x": 0.05
          },
          "xaxis": {
           "automargin": true,
           "gridcolor": "white",
           "linecolor": "white",
           "ticks": "",
           "title": {
            "standoff": 15
           },
           "zerolinecolor": "white",
           "zerolinewidth": 2
          },
          "yaxis": {
           "automargin": true,
           "gridcolor": "white",
           "linecolor": "white",
           "ticks": "",
           "title": {
            "standoff": 15
           },
           "zerolinecolor": "white",
           "zerolinewidth": 2
          }
         }
        },
        "title": {
         "text": "Analysis of PaymentMethod"
        },
        "width": 700,
        "xaxis": {
         "anchor": "y",
         "domain": [
          0,
          1
         ],
         "title": {
          "text": "PaymentMethod"
         }
        },
        "yaxis": {
         "anchor": "x",
         "domain": [
          0,
          1
         ],
         "title": {
          "text": "count"
         }
        }
       }
      }
     },
     "metadata": {},
     "output_type": "display_data"
    },
    {
     "data": {
      "application/vnd.plotly.v1+json": {
       "config": {
        "plotlyServerURL": "https://plot.ly"
       },
       "data": [
        {
         "alignmentgroup": "True",
         "hovertemplate": "Churn=No<br>Contract=%{x}<br>count=%{y}<extra></extra>",
         "legendgroup": "No",
         "marker": {
          "color": "Green",
          "pattern": {
           "shape": ""
          }
         },
         "name": "No",
         "offsetgroup": "No",
         "orientation": "v",
         "showlegend": true,
         "textposition": "auto",
         "type": "bar",
         "x": [
          "Month-to-month",
          "One year",
          "Two year"
         ],
         "xaxis": "x",
         "y": [
          1795,
          952,
          1014
         ],
         "yaxis": "y"
        },
        {
         "alignmentgroup": "True",
         "hovertemplate": "Churn=Yes<br>Contract=%{x}<br>count=%{y}<extra></extra>",
         "legendgroup": "Yes",
         "marker": {
          "color": "Red",
          "pattern": {
           "shape": ""
          }
         },
         "name": "Yes",
         "offsetgroup": "Yes",
         "orientation": "v",
         "showlegend": true,
         "textposition": "auto",
         "type": "bar",
         "x": [
          "Month-to-month",
          "One year",
          "Two year"
         ],
         "xaxis": "x",
         "y": [
          1556,
          157,
          43
         ],
         "yaxis": "y"
        }
       ],
       "layout": {
        "barmode": "group",
        "height": 400,
        "legend": {
         "title": {
          "text": "Churn"
         },
         "tracegroupgap": 0
        },
        "template": {
         "data": {
          "bar": [
           {
            "error_x": {
             "color": "#2a3f5f"
            },
            "error_y": {
             "color": "#2a3f5f"
            },
            "marker": {
             "line": {
              "color": "#E5ECF6",
              "width": 0.5
             },
             "pattern": {
              "fillmode": "overlay",
              "size": 10,
              "solidity": 0.2
             }
            },
            "type": "bar"
           }
          ],
          "barpolar": [
           {
            "marker": {
             "line": {
              "color": "#E5ECF6",
              "width": 0.5
             },
             "pattern": {
              "fillmode": "overlay",
              "size": 10,
              "solidity": 0.2
             }
            },
            "type": "barpolar"
           }
          ],
          "carpet": [
           {
            "aaxis": {
             "endlinecolor": "#2a3f5f",
             "gridcolor": "white",
             "linecolor": "white",
             "minorgridcolor": "white",
             "startlinecolor": "#2a3f5f"
            },
            "baxis": {
             "endlinecolor": "#2a3f5f",
             "gridcolor": "white",
             "linecolor": "white",
             "minorgridcolor": "white",
             "startlinecolor": "#2a3f5f"
            },
            "type": "carpet"
           }
          ],
          "choropleth": [
           {
            "colorbar": {
             "outlinewidth": 0,
             "ticks": ""
            },
            "type": "choropleth"
           }
          ],
          "contour": [
           {
            "colorbar": {
             "outlinewidth": 0,
             "ticks": ""
            },
            "colorscale": [
             [
              0,
              "#0d0887"
             ],
             [
              0.1111111111111111,
              "#46039f"
             ],
             [
              0.2222222222222222,
              "#7201a8"
             ],
             [
              0.3333333333333333,
              "#9c179e"
             ],
             [
              0.4444444444444444,
              "#bd3786"
             ],
             [
              0.5555555555555556,
              "#d8576b"
             ],
             [
              0.6666666666666666,
              "#ed7953"
             ],
             [
              0.7777777777777778,
              "#fb9f3a"
             ],
             [
              0.8888888888888888,
              "#fdca26"
             ],
             [
              1,
              "#f0f921"
             ]
            ],
            "type": "contour"
           }
          ],
          "contourcarpet": [
           {
            "colorbar": {
             "outlinewidth": 0,
             "ticks": ""
            },
            "type": "contourcarpet"
           }
          ],
          "heatmap": [
           {
            "colorbar": {
             "outlinewidth": 0,
             "ticks": ""
            },
            "colorscale": [
             [
              0,
              "#0d0887"
             ],
             [
              0.1111111111111111,
              "#46039f"
             ],
             [
              0.2222222222222222,
              "#7201a8"
             ],
             [
              0.3333333333333333,
              "#9c179e"
             ],
             [
              0.4444444444444444,
              "#bd3786"
             ],
             [
              0.5555555555555556,
              "#d8576b"
             ],
             [
              0.6666666666666666,
              "#ed7953"
             ],
             [
              0.7777777777777778,
              "#fb9f3a"
             ],
             [
              0.8888888888888888,
              "#fdca26"
             ],
             [
              1,
              "#f0f921"
             ]
            ],
            "type": "heatmap"
           }
          ],
          "heatmapgl": [
           {
            "colorbar": {
             "outlinewidth": 0,
             "ticks": ""
            },
            "colorscale": [
             [
              0,
              "#0d0887"
             ],
             [
              0.1111111111111111,
              "#46039f"
             ],
             [
              0.2222222222222222,
              "#7201a8"
             ],
             [
              0.3333333333333333,
              "#9c179e"
             ],
             [
              0.4444444444444444,
              "#bd3786"
             ],
             [
              0.5555555555555556,
              "#d8576b"
             ],
             [
              0.6666666666666666,
              "#ed7953"
             ],
             [
              0.7777777777777778,
              "#fb9f3a"
             ],
             [
              0.8888888888888888,
              "#fdca26"
             ],
             [
              1,
              "#f0f921"
             ]
            ],
            "type": "heatmapgl"
           }
          ],
          "histogram": [
           {
            "marker": {
             "pattern": {
              "fillmode": "overlay",
              "size": 10,
              "solidity": 0.2
             }
            },
            "type": "histogram"
           }
          ],
          "histogram2d": [
           {
            "colorbar": {
             "outlinewidth": 0,
             "ticks": ""
            },
            "colorscale": [
             [
              0,
              "#0d0887"
             ],
             [
              0.1111111111111111,
              "#46039f"
             ],
             [
              0.2222222222222222,
              "#7201a8"
             ],
             [
              0.3333333333333333,
              "#9c179e"
             ],
             [
              0.4444444444444444,
              "#bd3786"
             ],
             [
              0.5555555555555556,
              "#d8576b"
             ],
             [
              0.6666666666666666,
              "#ed7953"
             ],
             [
              0.7777777777777778,
              "#fb9f3a"
             ],
             [
              0.8888888888888888,
              "#fdca26"
             ],
             [
              1,
              "#f0f921"
             ]
            ],
            "type": "histogram2d"
           }
          ],
          "histogram2dcontour": [
           {
            "colorbar": {
             "outlinewidth": 0,
             "ticks": ""
            },
            "colorscale": [
             [
              0,
              "#0d0887"
             ],
             [
              0.1111111111111111,
              "#46039f"
             ],
             [
              0.2222222222222222,
              "#7201a8"
             ],
             [
              0.3333333333333333,
              "#9c179e"
             ],
             [
              0.4444444444444444,
              "#bd3786"
             ],
             [
              0.5555555555555556,
              "#d8576b"
             ],
             [
              0.6666666666666666,
              "#ed7953"
             ],
             [
              0.7777777777777778,
              "#fb9f3a"
             ],
             [
              0.8888888888888888,
              "#fdca26"
             ],
             [
              1,
              "#f0f921"
             ]
            ],
            "type": "histogram2dcontour"
           }
          ],
          "mesh3d": [
           {
            "colorbar": {
             "outlinewidth": 0,
             "ticks": ""
            },
            "type": "mesh3d"
           }
          ],
          "parcoords": [
           {
            "line": {
             "colorbar": {
              "outlinewidth": 0,
              "ticks": ""
             }
            },
            "type": "parcoords"
           }
          ],
          "pie": [
           {
            "automargin": true,
            "type": "pie"
           }
          ],
          "scatter": [
           {
            "fillpattern": {
             "fillmode": "overlay",
             "size": 10,
             "solidity": 0.2
            },
            "type": "scatter"
           }
          ],
          "scatter3d": [
           {
            "line": {
             "colorbar": {
              "outlinewidth": 0,
              "ticks": ""
             }
            },
            "marker": {
             "colorbar": {
              "outlinewidth": 0,
              "ticks": ""
             }
            },
            "type": "scatter3d"
           }
          ],
          "scattercarpet": [
           {
            "marker": {
             "colorbar": {
              "outlinewidth": 0,
              "ticks": ""
             }
            },
            "type": "scattercarpet"
           }
          ],
          "scattergeo": [
           {
            "marker": {
             "colorbar": {
              "outlinewidth": 0,
              "ticks": ""
             }
            },
            "type": "scattergeo"
           }
          ],
          "scattergl": [
           {
            "marker": {
             "colorbar": {
              "outlinewidth": 0,
              "ticks": ""
             }
            },
            "type": "scattergl"
           }
          ],
          "scattermapbox": [
           {
            "marker": {
             "colorbar": {
              "outlinewidth": 0,
              "ticks": ""
             }
            },
            "type": "scattermapbox"
           }
          ],
          "scatterpolar": [
           {
            "marker": {
             "colorbar": {
              "outlinewidth": 0,
              "ticks": ""
             }
            },
            "type": "scatterpolar"
           }
          ],
          "scatterpolargl": [
           {
            "marker": {
             "colorbar": {
              "outlinewidth": 0,
              "ticks": ""
             }
            },
            "type": "scatterpolargl"
           }
          ],
          "scatterternary": [
           {
            "marker": {
             "colorbar": {
              "outlinewidth": 0,
              "ticks": ""
             }
            },
            "type": "scatterternary"
           }
          ],
          "surface": [
           {
            "colorbar": {
             "outlinewidth": 0,
             "ticks": ""
            },
            "colorscale": [
             [
              0,
              "#0d0887"
             ],
             [
              0.1111111111111111,
              "#46039f"
             ],
             [
              0.2222222222222222,
              "#7201a8"
             ],
             [
              0.3333333333333333,
              "#9c179e"
             ],
             [
              0.4444444444444444,
              "#bd3786"
             ],
             [
              0.5555555555555556,
              "#d8576b"
             ],
             [
              0.6666666666666666,
              "#ed7953"
             ],
             [
              0.7777777777777778,
              "#fb9f3a"
             ],
             [
              0.8888888888888888,
              "#fdca26"
             ],
             [
              1,
              "#f0f921"
             ]
            ],
            "type": "surface"
           }
          ],
          "table": [
           {
            "cells": {
             "fill": {
              "color": "#EBF0F8"
             },
             "line": {
              "color": "white"
             }
            },
            "header": {
             "fill": {
              "color": "#C8D4E3"
             },
             "line": {
              "color": "white"
             }
            },
            "type": "table"
           }
          ]
         },
         "layout": {
          "annotationdefaults": {
           "arrowcolor": "#2a3f5f",
           "arrowhead": 0,
           "arrowwidth": 1
          },
          "autotypenumbers": "strict",
          "coloraxis": {
           "colorbar": {
            "outlinewidth": 0,
            "ticks": ""
           }
          },
          "colorscale": {
           "diverging": [
            [
             0,
             "#8e0152"
            ],
            [
             0.1,
             "#c51b7d"
            ],
            [
             0.2,
             "#de77ae"
            ],
            [
             0.3,
             "#f1b6da"
            ],
            [
             0.4,
             "#fde0ef"
            ],
            [
             0.5,
             "#f7f7f7"
            ],
            [
             0.6,
             "#e6f5d0"
            ],
            [
             0.7,
             "#b8e186"
            ],
            [
             0.8,
             "#7fbc41"
            ],
            [
             0.9,
             "#4d9221"
            ],
            [
             1,
             "#276419"
            ]
           ],
           "sequential": [
            [
             0,
             "#0d0887"
            ],
            [
             0.1111111111111111,
             "#46039f"
            ],
            [
             0.2222222222222222,
             "#7201a8"
            ],
            [
             0.3333333333333333,
             "#9c179e"
            ],
            [
             0.4444444444444444,
             "#bd3786"
            ],
            [
             0.5555555555555556,
             "#d8576b"
            ],
            [
             0.6666666666666666,
             "#ed7953"
            ],
            [
             0.7777777777777778,
             "#fb9f3a"
            ],
            [
             0.8888888888888888,
             "#fdca26"
            ],
            [
             1,
             "#f0f921"
            ]
           ],
           "sequentialminus": [
            [
             0,
             "#0d0887"
            ],
            [
             0.1111111111111111,
             "#46039f"
            ],
            [
             0.2222222222222222,
             "#7201a8"
            ],
            [
             0.3333333333333333,
             "#9c179e"
            ],
            [
             0.4444444444444444,
             "#bd3786"
            ],
            [
             0.5555555555555556,
             "#d8576b"
            ],
            [
             0.6666666666666666,
             "#ed7953"
            ],
            [
             0.7777777777777778,
             "#fb9f3a"
            ],
            [
             0.8888888888888888,
             "#fdca26"
            ],
            [
             1,
             "#f0f921"
            ]
           ]
          },
          "colorway": [
           "#636efa",
           "#EF553B",
           "#00cc96",
           "#ab63fa",
           "#FFA15A",
           "#19d3f3",
           "#FF6692",
           "#B6E880",
           "#FF97FF",
           "#FECB52"
          ],
          "font": {
           "color": "#2a3f5f"
          },
          "geo": {
           "bgcolor": "white",
           "lakecolor": "white",
           "landcolor": "#E5ECF6",
           "showlakes": true,
           "showland": true,
           "subunitcolor": "white"
          },
          "hoverlabel": {
           "align": "left"
          },
          "hovermode": "closest",
          "mapbox": {
           "style": "light"
          },
          "paper_bgcolor": "white",
          "plot_bgcolor": "#E5ECF6",
          "polar": {
           "angularaxis": {
            "gridcolor": "white",
            "linecolor": "white",
            "ticks": ""
           },
           "bgcolor": "#E5ECF6",
           "radialaxis": {
            "gridcolor": "white",
            "linecolor": "white",
            "ticks": ""
           }
          },
          "scene": {
           "xaxis": {
            "backgroundcolor": "#E5ECF6",
            "gridcolor": "white",
            "gridwidth": 2,
            "linecolor": "white",
            "showbackground": true,
            "ticks": "",
            "zerolinecolor": "white"
           },
           "yaxis": {
            "backgroundcolor": "#E5ECF6",
            "gridcolor": "white",
            "gridwidth": 2,
            "linecolor": "white",
            "showbackground": true,
            "ticks": "",
            "zerolinecolor": "white"
           },
           "zaxis": {
            "backgroundcolor": "#E5ECF6",
            "gridcolor": "white",
            "gridwidth": 2,
            "linecolor": "white",
            "showbackground": true,
            "ticks": "",
            "zerolinecolor": "white"
           }
          },
          "shapedefaults": {
           "line": {
            "color": "#2a3f5f"
           }
          },
          "ternary": {
           "aaxis": {
            "gridcolor": "white",
            "linecolor": "white",
            "ticks": ""
           },
           "baxis": {
            "gridcolor": "white",
            "linecolor": "white",
            "ticks": ""
           },
           "bgcolor": "#E5ECF6",
           "caxis": {
            "gridcolor": "white",
            "linecolor": "white",
            "ticks": ""
           }
          },
          "title": {
           "x": 0.05
          },
          "xaxis": {
           "automargin": true,
           "gridcolor": "white",
           "linecolor": "white",
           "ticks": "",
           "title": {
            "standoff": 15
           },
           "zerolinecolor": "white",
           "zerolinewidth": 2
          },
          "yaxis": {
           "automargin": true,
           "gridcolor": "white",
           "linecolor": "white",
           "ticks": "",
           "title": {
            "standoff": 15
           },
           "zerolinecolor": "white",
           "zerolinewidth": 2
          }
         }
        },
        "title": {
         "text": "Analysis of Contract"
        },
        "width": 700,
        "xaxis": {
         "anchor": "y",
         "domain": [
          0,
          1
         ],
         "title": {
          "text": "Contract"
         }
        },
        "yaxis": {
         "anchor": "x",
         "domain": [
          0,
          1
         ],
         "title": {
          "text": "count"
         }
        }
       }
      }
     },
     "metadata": {},
     "output_type": "display_data"
    }
   ],
   "source": [
    "bar(\"PaperlessBilling\")\n",
    "bar(\"PaymentMethod\")\n",
    "bar(\"Contract\")"
   ]
  },
  {
   "cell_type": "markdown",
   "metadata": {},
   "source": [
    "<h3>Insight on the payment information charts</h3>\n",
    "\n",
    "The charts let us know that customers with paperless billing are more likely to churn than customers without. <br><br>\n",
    "And as for the payment methods, the churn rate among all payment records is relatively low, <b>except</b> customers that use electronic checks to pay for services. <br><br>\n",
    "And as for contract length, the chart shows higher churn rates with customers that opt for month-to-month payments, and very low churn rates for customers that have opted for more extended and lower payment frequency. Noting this, companies might want to consider encouraging customers to build longer term relationships with them.\n",
    "\n",
    "------------------------------------------------------------------------------------------------------------"
   ]
  },
  {
   "cell_type": "markdown",
   "metadata": {},
   "source": [
    "<h3>Now for analysis on numerical features</h3>"
   ]
  },
  {
   "cell_type": "code",
   "execution_count": 222,
   "metadata": {},
   "outputs": [],
   "source": [
    "data_df.TotalCharges = pd.to_numeric(data_df.TotalCharges, errors=\"coerce\")\n",
    "data_df.TotalCharges = data_df.TotalCharges.fillna(data_df.TotalCharges.median())"
   ]
  },
  {
   "cell_type": "code",
   "execution_count": 223,
   "metadata": {},
   "outputs": [],
   "source": [
    "def hist(feature):\n",
    "    group_df = data_df.groupby([feature, 'Churn']).size().reset_index()\n",
    "    group_df = group_df.rename(columns={0: 'Count'})\n",
    "    fig = px.histogram(group_df, x=feature, y='Count', color='Churn', marginal='box', title=f'Churn rate frequency to {feature} distribution', color_discrete_sequence=[\"green\", \"red\"])\n",
    "    fig.show()"
   ]
  },
  {
   "cell_type": "code",
   "execution_count": 224,
   "metadata": {},
   "outputs": [
    {
     "data": {
      "application/vnd.plotly.v1+json": {
       "config": {
        "plotlyServerURL": "https://plot.ly"
       },
       "data": [
        {
         "alignmentgroup": "True",
         "bingroup": "x",
         "histfunc": "sum",
         "hovertemplate": "Churn=No<br>tenure=%{x}<br>sum of Count=%{y}<extra></extra>",
         "legendgroup": "No",
         "marker": {
          "color": "green",
          "pattern": {
           "shape": ""
          }
         },
         "name": "No",
         "offsetgroup": "No",
         "orientation": "v",
         "showlegend": true,
         "type": "histogram",
         "x": [
          0,
          1,
          2,
          3,
          4,
          5,
          6,
          7,
          8,
          9,
          10,
          11,
          12,
          13,
          14,
          15,
          16,
          17,
          18,
          19,
          20,
          21,
          22,
          23,
          24,
          25,
          26,
          27,
          28,
          29,
          30,
          31,
          32,
          33,
          34,
          35,
          36,
          37,
          38,
          39,
          40,
          41,
          42,
          43,
          44,
          45,
          46,
          47,
          48,
          49,
          50,
          51,
          52,
          53,
          54,
          55,
          56,
          57,
          58,
          59,
          60,
          61,
          62,
          63,
          64,
          65,
          66,
          67,
          68,
          69,
          70,
          71,
          72
         ],
         "xaxis": "x",
         "y": [
          5,
          125,
          74,
          73,
          58,
          48,
          41,
          58,
          53,
          54,
          42,
          49,
          48,
          48,
          37,
          39,
          35,
          42,
          53,
          35,
          34,
          35,
          42,
          51,
          49,
          34,
          51,
          41,
          37,
          43,
          45,
          41,
          38,
          37,
          42,
          48,
          30,
          36,
          30,
          30,
          39,
          41,
          37,
          41,
          33,
          44,
          44,
          37,
          39,
          42,
          44,
          45,
          55,
          40,
          45,
          43,
          57,
          45,
          41,
          41,
          58,
          53,
          48,
          54,
          60,
          55,
          63,
          68,
          73,
          64,
          88,
          123,
          290
         ],
         "yaxis": "y"
        },
        {
         "alignmentgroup": "True",
         "hovertemplate": "Churn=No<br>tenure=%{x}<extra></extra>",
         "legendgroup": "No",
         "marker": {
          "color": "green"
         },
         "name": "No",
         "notched": true,
         "offsetgroup": "No",
         "showlegend": false,
         "type": "box",
         "x": [
          0,
          1,
          2,
          3,
          4,
          5,
          6,
          7,
          8,
          9,
          10,
          11,
          12,
          13,
          14,
          15,
          16,
          17,
          18,
          19,
          20,
          21,
          22,
          23,
          24,
          25,
          26,
          27,
          28,
          29,
          30,
          31,
          32,
          33,
          34,
          35,
          36,
          37,
          38,
          39,
          40,
          41,
          42,
          43,
          44,
          45,
          46,
          47,
          48,
          49,
          50,
          51,
          52,
          53,
          54,
          55,
          56,
          57,
          58,
          59,
          60,
          61,
          62,
          63,
          64,
          65,
          66,
          67,
          68,
          69,
          70,
          71,
          72
         ],
         "xaxis": "x2",
         "yaxis": "y2"
        },
        {
         "alignmentgroup": "True",
         "bingroup": "x",
         "histfunc": "sum",
         "hovertemplate": "Churn=Yes<br>tenure=%{x}<br>sum of Count=%{y}<extra></extra>",
         "legendgroup": "Yes",
         "marker": {
          "color": "red",
          "pattern": {
           "shape": ""
          }
         },
         "name": "Yes",
         "offsetgroup": "Yes",
         "orientation": "v",
         "showlegend": true,
         "type": "histogram",
         "x": [
          1,
          2,
          3,
          4,
          5,
          6,
          7,
          8,
          9,
          10,
          11,
          12,
          13,
          14,
          15,
          16,
          17,
          18,
          19,
          20,
          21,
          22,
          23,
          24,
          25,
          26,
          27,
          28,
          29,
          30,
          31,
          32,
          33,
          34,
          35,
          36,
          37,
          38,
          39,
          40,
          41,
          42,
          43,
          44,
          45,
          46,
          47,
          48,
          49,
          50,
          51,
          52,
          53,
          54,
          55,
          56,
          57,
          58,
          59,
          60,
          61,
          62,
          63,
          64,
          65,
          66,
          67,
          68,
          69,
          70,
          71,
          72
         ],
         "xaxis": "x",
         "y": [
          322,
          117,
          88,
          80,
          60,
          39,
          48,
          39,
          44,
          45,
          27,
          36,
          38,
          24,
          33,
          26,
          25,
          23,
          19,
          17,
          17,
          27,
          13,
          23,
          21,
          15,
          13,
          12,
          15,
          15,
          15,
          19,
          13,
          12,
          15,
          10,
          15,
          13,
          14,
          13,
          14,
          14,
          15,
          6,
          5,
          12,
          14,
          9,
          15,
          10,
          8,
          8,
          12,
          13,
          9,
          8,
          8,
          11,
          7,
          6,
          7,
          5,
          4,
          4,
          9,
          13,
          10,
          9,
          8,
          11,
          6,
          6
         ],
         "yaxis": "y"
        },
        {
         "alignmentgroup": "True",
         "hovertemplate": "Churn=Yes<br>tenure=%{x}<extra></extra>",
         "legendgroup": "Yes",
         "marker": {
          "color": "red"
         },
         "name": "Yes",
         "notched": true,
         "offsetgroup": "Yes",
         "showlegend": false,
         "type": "box",
         "x": [
          1,
          2,
          3,
          4,
          5,
          6,
          7,
          8,
          9,
          10,
          11,
          12,
          13,
          14,
          15,
          16,
          17,
          18,
          19,
          20,
          21,
          22,
          23,
          24,
          25,
          26,
          27,
          28,
          29,
          30,
          31,
          32,
          33,
          34,
          35,
          36,
          37,
          38,
          39,
          40,
          41,
          42,
          43,
          44,
          45,
          46,
          47,
          48,
          49,
          50,
          51,
          52,
          53,
          54,
          55,
          56,
          57,
          58,
          59,
          60,
          61,
          62,
          63,
          64,
          65,
          66,
          67,
          68,
          69,
          70,
          71,
          72
         ],
         "xaxis": "x2",
         "yaxis": "y2"
        }
       ],
       "layout": {
        "barmode": "relative",
        "legend": {
         "title": {
          "text": "Churn"
         },
         "tracegroupgap": 0
        },
        "template": {
         "data": {
          "bar": [
           {
            "error_x": {
             "color": "#2a3f5f"
            },
            "error_y": {
             "color": "#2a3f5f"
            },
            "marker": {
             "line": {
              "color": "#E5ECF6",
              "width": 0.5
             },
             "pattern": {
              "fillmode": "overlay",
              "size": 10,
              "solidity": 0.2
             }
            },
            "type": "bar"
           }
          ],
          "barpolar": [
           {
            "marker": {
             "line": {
              "color": "#E5ECF6",
              "width": 0.5
             },
             "pattern": {
              "fillmode": "overlay",
              "size": 10,
              "solidity": 0.2
             }
            },
            "type": "barpolar"
           }
          ],
          "carpet": [
           {
            "aaxis": {
             "endlinecolor": "#2a3f5f",
             "gridcolor": "white",
             "linecolor": "white",
             "minorgridcolor": "white",
             "startlinecolor": "#2a3f5f"
            },
            "baxis": {
             "endlinecolor": "#2a3f5f",
             "gridcolor": "white",
             "linecolor": "white",
             "minorgridcolor": "white",
             "startlinecolor": "#2a3f5f"
            },
            "type": "carpet"
           }
          ],
          "choropleth": [
           {
            "colorbar": {
             "outlinewidth": 0,
             "ticks": ""
            },
            "type": "choropleth"
           }
          ],
          "contour": [
           {
            "colorbar": {
             "outlinewidth": 0,
             "ticks": ""
            },
            "colorscale": [
             [
              0,
              "#0d0887"
             ],
             [
              0.1111111111111111,
              "#46039f"
             ],
             [
              0.2222222222222222,
              "#7201a8"
             ],
             [
              0.3333333333333333,
              "#9c179e"
             ],
             [
              0.4444444444444444,
              "#bd3786"
             ],
             [
              0.5555555555555556,
              "#d8576b"
             ],
             [
              0.6666666666666666,
              "#ed7953"
             ],
             [
              0.7777777777777778,
              "#fb9f3a"
             ],
             [
              0.8888888888888888,
              "#fdca26"
             ],
             [
              1,
              "#f0f921"
             ]
            ],
            "type": "contour"
           }
          ],
          "contourcarpet": [
           {
            "colorbar": {
             "outlinewidth": 0,
             "ticks": ""
            },
            "type": "contourcarpet"
           }
          ],
          "heatmap": [
           {
            "colorbar": {
             "outlinewidth": 0,
             "ticks": ""
            },
            "colorscale": [
             [
              0,
              "#0d0887"
             ],
             [
              0.1111111111111111,
              "#46039f"
             ],
             [
              0.2222222222222222,
              "#7201a8"
             ],
             [
              0.3333333333333333,
              "#9c179e"
             ],
             [
              0.4444444444444444,
              "#bd3786"
             ],
             [
              0.5555555555555556,
              "#d8576b"
             ],
             [
              0.6666666666666666,
              "#ed7953"
             ],
             [
              0.7777777777777778,
              "#fb9f3a"
             ],
             [
              0.8888888888888888,
              "#fdca26"
             ],
             [
              1,
              "#f0f921"
             ]
            ],
            "type": "heatmap"
           }
          ],
          "heatmapgl": [
           {
            "colorbar": {
             "outlinewidth": 0,
             "ticks": ""
            },
            "colorscale": [
             [
              0,
              "#0d0887"
             ],
             [
              0.1111111111111111,
              "#46039f"
             ],
             [
              0.2222222222222222,
              "#7201a8"
             ],
             [
              0.3333333333333333,
              "#9c179e"
             ],
             [
              0.4444444444444444,
              "#bd3786"
             ],
             [
              0.5555555555555556,
              "#d8576b"
             ],
             [
              0.6666666666666666,
              "#ed7953"
             ],
             [
              0.7777777777777778,
              "#fb9f3a"
             ],
             [
              0.8888888888888888,
              "#fdca26"
             ],
             [
              1,
              "#f0f921"
             ]
            ],
            "type": "heatmapgl"
           }
          ],
          "histogram": [
           {
            "marker": {
             "pattern": {
              "fillmode": "overlay",
              "size": 10,
              "solidity": 0.2
             }
            },
            "type": "histogram"
           }
          ],
          "histogram2d": [
           {
            "colorbar": {
             "outlinewidth": 0,
             "ticks": ""
            },
            "colorscale": [
             [
              0,
              "#0d0887"
             ],
             [
              0.1111111111111111,
              "#46039f"
             ],
             [
              0.2222222222222222,
              "#7201a8"
             ],
             [
              0.3333333333333333,
              "#9c179e"
             ],
             [
              0.4444444444444444,
              "#bd3786"
             ],
             [
              0.5555555555555556,
              "#d8576b"
             ],
             [
              0.6666666666666666,
              "#ed7953"
             ],
             [
              0.7777777777777778,
              "#fb9f3a"
             ],
             [
              0.8888888888888888,
              "#fdca26"
             ],
             [
              1,
              "#f0f921"
             ]
            ],
            "type": "histogram2d"
           }
          ],
          "histogram2dcontour": [
           {
            "colorbar": {
             "outlinewidth": 0,
             "ticks": ""
            },
            "colorscale": [
             [
              0,
              "#0d0887"
             ],
             [
              0.1111111111111111,
              "#46039f"
             ],
             [
              0.2222222222222222,
              "#7201a8"
             ],
             [
              0.3333333333333333,
              "#9c179e"
             ],
             [
              0.4444444444444444,
              "#bd3786"
             ],
             [
              0.5555555555555556,
              "#d8576b"
             ],
             [
              0.6666666666666666,
              "#ed7953"
             ],
             [
              0.7777777777777778,
              "#fb9f3a"
             ],
             [
              0.8888888888888888,
              "#fdca26"
             ],
             [
              1,
              "#f0f921"
             ]
            ],
            "type": "histogram2dcontour"
           }
          ],
          "mesh3d": [
           {
            "colorbar": {
             "outlinewidth": 0,
             "ticks": ""
            },
            "type": "mesh3d"
           }
          ],
          "parcoords": [
           {
            "line": {
             "colorbar": {
              "outlinewidth": 0,
              "ticks": ""
             }
            },
            "type": "parcoords"
           }
          ],
          "pie": [
           {
            "automargin": true,
            "type": "pie"
           }
          ],
          "scatter": [
           {
            "fillpattern": {
             "fillmode": "overlay",
             "size": 10,
             "solidity": 0.2
            },
            "type": "scatter"
           }
          ],
          "scatter3d": [
           {
            "line": {
             "colorbar": {
              "outlinewidth": 0,
              "ticks": ""
             }
            },
            "marker": {
             "colorbar": {
              "outlinewidth": 0,
              "ticks": ""
             }
            },
            "type": "scatter3d"
           }
          ],
          "scattercarpet": [
           {
            "marker": {
             "colorbar": {
              "outlinewidth": 0,
              "ticks": ""
             }
            },
            "type": "scattercarpet"
           }
          ],
          "scattergeo": [
           {
            "marker": {
             "colorbar": {
              "outlinewidth": 0,
              "ticks": ""
             }
            },
            "type": "scattergeo"
           }
          ],
          "scattergl": [
           {
            "marker": {
             "colorbar": {
              "outlinewidth": 0,
              "ticks": ""
             }
            },
            "type": "scattergl"
           }
          ],
          "scattermapbox": [
           {
            "marker": {
             "colorbar": {
              "outlinewidth": 0,
              "ticks": ""
             }
            },
            "type": "scattermapbox"
           }
          ],
          "scatterpolar": [
           {
            "marker": {
             "colorbar": {
              "outlinewidth": 0,
              "ticks": ""
             }
            },
            "type": "scatterpolar"
           }
          ],
          "scatterpolargl": [
           {
            "marker": {
             "colorbar": {
              "outlinewidth": 0,
              "ticks": ""
             }
            },
            "type": "scatterpolargl"
           }
          ],
          "scatterternary": [
           {
            "marker": {
             "colorbar": {
              "outlinewidth": 0,
              "ticks": ""
             }
            },
            "type": "scatterternary"
           }
          ],
          "surface": [
           {
            "colorbar": {
             "outlinewidth": 0,
             "ticks": ""
            },
            "colorscale": [
             [
              0,
              "#0d0887"
             ],
             [
              0.1111111111111111,
              "#46039f"
             ],
             [
              0.2222222222222222,
              "#7201a8"
             ],
             [
              0.3333333333333333,
              "#9c179e"
             ],
             [
              0.4444444444444444,
              "#bd3786"
             ],
             [
              0.5555555555555556,
              "#d8576b"
             ],
             [
              0.6666666666666666,
              "#ed7953"
             ],
             [
              0.7777777777777778,
              "#fb9f3a"
             ],
             [
              0.8888888888888888,
              "#fdca26"
             ],
             [
              1,
              "#f0f921"
             ]
            ],
            "type": "surface"
           }
          ],
          "table": [
           {
            "cells": {
             "fill": {
              "color": "#EBF0F8"
             },
             "line": {
              "color": "white"
             }
            },
            "header": {
             "fill": {
              "color": "#C8D4E3"
             },
             "line": {
              "color": "white"
             }
            },
            "type": "table"
           }
          ]
         },
         "layout": {
          "annotationdefaults": {
           "arrowcolor": "#2a3f5f",
           "arrowhead": 0,
           "arrowwidth": 1
          },
          "autotypenumbers": "strict",
          "coloraxis": {
           "colorbar": {
            "outlinewidth": 0,
            "ticks": ""
           }
          },
          "colorscale": {
           "diverging": [
            [
             0,
             "#8e0152"
            ],
            [
             0.1,
             "#c51b7d"
            ],
            [
             0.2,
             "#de77ae"
            ],
            [
             0.3,
             "#f1b6da"
            ],
            [
             0.4,
             "#fde0ef"
            ],
            [
             0.5,
             "#f7f7f7"
            ],
            [
             0.6,
             "#e6f5d0"
            ],
            [
             0.7,
             "#b8e186"
            ],
            [
             0.8,
             "#7fbc41"
            ],
            [
             0.9,
             "#4d9221"
            ],
            [
             1,
             "#276419"
            ]
           ],
           "sequential": [
            [
             0,
             "#0d0887"
            ],
            [
             0.1111111111111111,
             "#46039f"
            ],
            [
             0.2222222222222222,
             "#7201a8"
            ],
            [
             0.3333333333333333,
             "#9c179e"
            ],
            [
             0.4444444444444444,
             "#bd3786"
            ],
            [
             0.5555555555555556,
             "#d8576b"
            ],
            [
             0.6666666666666666,
             "#ed7953"
            ],
            [
             0.7777777777777778,
             "#fb9f3a"
            ],
            [
             0.8888888888888888,
             "#fdca26"
            ],
            [
             1,
             "#f0f921"
            ]
           ],
           "sequentialminus": [
            [
             0,
             "#0d0887"
            ],
            [
             0.1111111111111111,
             "#46039f"
            ],
            [
             0.2222222222222222,
             "#7201a8"
            ],
            [
             0.3333333333333333,
             "#9c179e"
            ],
            [
             0.4444444444444444,
             "#bd3786"
            ],
            [
             0.5555555555555556,
             "#d8576b"
            ],
            [
             0.6666666666666666,
             "#ed7953"
            ],
            [
             0.7777777777777778,
             "#fb9f3a"
            ],
            [
             0.8888888888888888,
             "#fdca26"
            ],
            [
             1,
             "#f0f921"
            ]
           ]
          },
          "colorway": [
           "#636efa",
           "#EF553B",
           "#00cc96",
           "#ab63fa",
           "#FFA15A",
           "#19d3f3",
           "#FF6692",
           "#B6E880",
           "#FF97FF",
           "#FECB52"
          ],
          "font": {
           "color": "#2a3f5f"
          },
          "geo": {
           "bgcolor": "white",
           "lakecolor": "white",
           "landcolor": "#E5ECF6",
           "showlakes": true,
           "showland": true,
           "subunitcolor": "white"
          },
          "hoverlabel": {
           "align": "left"
          },
          "hovermode": "closest",
          "mapbox": {
           "style": "light"
          },
          "paper_bgcolor": "white",
          "plot_bgcolor": "#E5ECF6",
          "polar": {
           "angularaxis": {
            "gridcolor": "white",
            "linecolor": "white",
            "ticks": ""
           },
           "bgcolor": "#E5ECF6",
           "radialaxis": {
            "gridcolor": "white",
            "linecolor": "white",
            "ticks": ""
           }
          },
          "scene": {
           "xaxis": {
            "backgroundcolor": "#E5ECF6",
            "gridcolor": "white",
            "gridwidth": 2,
            "linecolor": "white",
            "showbackground": true,
            "ticks": "",
            "zerolinecolor": "white"
           },
           "yaxis": {
            "backgroundcolor": "#E5ECF6",
            "gridcolor": "white",
            "gridwidth": 2,
            "linecolor": "white",
            "showbackground": true,
            "ticks": "",
            "zerolinecolor": "white"
           },
           "zaxis": {
            "backgroundcolor": "#E5ECF6",
            "gridcolor": "white",
            "gridwidth": 2,
            "linecolor": "white",
            "showbackground": true,
            "ticks": "",
            "zerolinecolor": "white"
           }
          },
          "shapedefaults": {
           "line": {
            "color": "#2a3f5f"
           }
          },
          "ternary": {
           "aaxis": {
            "gridcolor": "white",
            "linecolor": "white",
            "ticks": ""
           },
           "baxis": {
            "gridcolor": "white",
            "linecolor": "white",
            "ticks": ""
           },
           "bgcolor": "#E5ECF6",
           "caxis": {
            "gridcolor": "white",
            "linecolor": "white",
            "ticks": ""
           }
          },
          "title": {
           "x": 0.05
          },
          "xaxis": {
           "automargin": true,
           "gridcolor": "white",
           "linecolor": "white",
           "ticks": "",
           "title": {
            "standoff": 15
           },
           "zerolinecolor": "white",
           "zerolinewidth": 2
          },
          "yaxis": {
           "automargin": true,
           "gridcolor": "white",
           "linecolor": "white",
           "ticks": "",
           "title": {
            "standoff": 15
           },
           "zerolinecolor": "white",
           "zerolinewidth": 2
          }
         }
        },
        "title": {
         "text": "Churn rate frequency to tenure distribution"
        },
        "xaxis": {
         "anchor": "y",
         "domain": [
          0,
          1
         ],
         "title": {
          "text": "tenure"
         }
        },
        "xaxis2": {
         "anchor": "y2",
         "domain": [
          0,
          1
         ],
         "matches": "x",
         "showgrid": true,
         "showticklabels": false
        },
        "yaxis": {
         "anchor": "x",
         "domain": [
          0,
          0.7326
         ],
         "title": {
          "text": "sum of Count"
         }
        },
        "yaxis2": {
         "anchor": "x2",
         "domain": [
          0.7426,
          1
         ],
         "matches": "y2",
         "showgrid": false,
         "showline": false,
         "showticklabels": false,
         "ticks": ""
        }
       }
      }
     },
     "metadata": {},
     "output_type": "display_data"
    },
    {
     "data": {
      "application/vnd.plotly.v1+json": {
       "config": {
        "plotlyServerURL": "https://plot.ly"
       },
       "data": [
        {
         "alignmentgroup": "True",
         "bingroup": "x",
         "histfunc": "sum",
         "hovertemplate": "Churn=Yes<br>MonthlyCharges=%{x}<br>sum of Count=%{y}<extra></extra>",
         "legendgroup": "Yes",
         "marker": {
          "color": "green",
          "pattern": {
           "shape": ""
          }
         },
         "name": "Yes",
         "offsetgroup": "Yes",
         "orientation": "v",
         "showlegend": true,
         "type": "histogram",
         "x": [
          23.45,
          23.9,
          24.1,
          24.25,
          24.35,
          24.4,
          24.45,
          24.6,
          24.75,
          24.8,
          24.95,
          25.05,
          25.1,
          25.15,
          25.2,
          25.25,
          25.3,
          25.5,
          25.7,
          25.8,
          28.45,
          28.6,
          29.2,
          29.4,
          29.5,
          29.6,
          29.65,
          29.7,
          29.85,
          29.95,
          30.1,
          30.2,
          30.3,
          30.35,
          30.4,
          30.45,
          30.5,
          30.6,
          30.75,
          30.9,
          31,
          31.05,
          31.35,
          33.5,
          33.55,
          33.65,
          33.9,
          34,
          34.25,
          34.5,
          34.7,
          35,
          35.05,
          35.1,
          35.15,
          35.2,
          35.25,
          35.4,
          35.45,
          35.55,
          35.75,
          35.9,
          36.45,
          36.5,
          36.85,
          39,
          39.05,
          39.1,
          39.3,
          39.5,
          39.65,
          40,
          40.05,
          40.1,
          40.15,
          40.2,
          40.3,
          40.4,
          40.65,
          41.05,
          41.15,
          41.6,
          41.9,
          42.35,
          42.6,
          42.9,
          43.25,
          43.3,
          43.65,
          43.75,
          43.95,
          44.05,
          44.1,
          44.15,
          44.2,
          44.3,
          44.35,
          44.4,
          44.45,
          44.55,
          44.6,
          44.65,
          44.7,
          44.75,
          44.85,
          44.9,
          44.95,
          45,
          45.05,
          45.1,
          45.15,
          45.25,
          45.3,
          45.35,
          45.4,
          45.55,
          45.6,
          45.65,
          45.7,
          45.75,
          45.8,
          45.85,
          45.95,
          46,
          46.05,
          46.2,
          46.3,
          46.35,
          47.15,
          47.8,
          47.85,
          47.95,
          48.35,
          48.55,
          48.6,
          48.7,
          48.75,
          48.8,
          48.95,
          49.05,
          49.1,
          49.15,
          49.2,
          49.25,
          49.35,
          49.4,
          49.55,
          49.6,
          49.65,
          49.75,
          49.85,
          49.9,
          49.95,
          50.05,
          50.1,
          50.15,
          50.25,
          50.35,
          50.4,
          50.45,
          50.5,
          50.55,
          50.6,
          50.65,
          50.7,
          50.75,
          50.8,
          50.85,
          50.9,
          51,
          51.05,
          51.2,
          51.25,
          51.5,
          51.55,
          51.75,
          51.8,
          52.2,
          53.4,
          53.5,
          53.55,
          53.65,
          53.75,
          53.85,
          53.9,
          53.95,
          54.15,
          54.2,
          54.3,
          54.35,
          54.4,
          54.45,
          54.55,
          54.7,
          54.75,
          54.85,
          54.9,
          55,
          55.05,
          55.1,
          55.15,
          55.2,
          55.25,
          55.3,
          55.35,
          55.4,
          55.55,
          55.65,
          55.7,
          55.8,
          55.85,
          55.9,
          55.95,
          56.15,
          56.25,
          56.5,
          56.65,
          56.7,
          57.15,
          57.45,
          57.55,
          58.5,
          58.6,
          59,
          59.2,
          59.3,
          59.4,
          59.45,
          59.5,
          59.75,
          59.8,
          59.85,
          59.9,
          60,
          60.05,
          60.1,
          60.15,
          60.3,
          60.35,
          60.4,
          60.45,
          61.15,
          61.45,
          61.6,
          61.65,
          62.05,
          62.3,
          62.65,
          62.7,
          63.6,
          64.4,
          64.65,
          64.7,
          64.75,
          65,
          65.2,
          65.25,
          65.3,
          65.4,
          65.45,
          65.7,
          66.25,
          66.35,
          66.4,
          66.5,
          67.5,
          67.75,
          67.95,
          68.25,
          68.5,
          68.65,
          68.85,
          68.95,
          69,
          69.05,
          69.1,
          69.15,
          69.2,
          69.25,
          69.35,
          69.4,
          69.5,
          69.55,
          69.6,
          69.65,
          69.7,
          69.75,
          69.8,
          69.85,
          69.9,
          69.95,
          70,
          70.05,
          70.1,
          70.15,
          70.2,
          70.25,
          70.3,
          70.35,
          70.4,
          70.45,
          70.5,
          70.55,
          70.6,
          70.65,
          70.7,
          70.75,
          70.8,
          70.85,
          70.9,
          70.95,
          71,
          71.05,
          71.1,
          71.15,
          71.3,
          71.35,
          71.55,
          71.65,
          71.8,
          72.15,
          72.2,
          72.25,
          72.45,
          72.65,
          72.85,
          72.9,
          73,
          73.2,
          73.25,
          73.5,
          73.55,
          73.6,
          73.65,
          73.75,
          73.85,
          73.9,
          73.95,
          74.05,
          74.1,
          74.15,
          74.2,
          74.25,
          74.3,
          74.35,
          74.4,
          74.45,
          74.5,
          74.55,
          74.6,
          74.65,
          74.7,
          74.75,
          74.8,
          74.85,
          74.9,
          74.95,
          75,
          75.05,
          75.1,
          75.15,
          75.2,
          75.25,
          75.3,
          75.35,
          75.4,
          75.45,
          75.5,
          75.55,
          75.6,
          75.65,
          75.7,
          75.75,
          75.8,
          75.85,
          75.9,
          76,
          76.05,
          76.1,
          76.2,
          76.25,
          76.35,
          76.4,
          76.45,
          76.5,
          76.65,
          76.95,
          77,
          77.15,
          77.5,
          77.65,
          77.75,
          77.85,
          77.95,
          78.05,
          78.1,
          78.25,
          78.3,
          78.45,
          78.5,
          78.55,
          78.6,
          78.65,
          78.75,
          78.8,
          78.85,
          78.9,
          78.95,
          79,
          79.05,
          79.1,
          79.15,
          79.2,
          79.25,
          79.3,
          79.35,
          79.4,
          79.45,
          79.5,
          79.55,
          79.6,
          79.65,
          79.7,
          79.75,
          79.8,
          79.85,
          79.9,
          79.95,
          80,
          80.05,
          80.1,
          80.15,
          80.2,
          80.25,
          80.3,
          80.35,
          80.4,
          80.45,
          80.5,
          80.55,
          80.6,
          80.65,
          80.7,
          80.75,
          80.8,
          80.85,
          80.95,
          81,
          81.05,
          81.1,
          81.15,
          81.25,
          81.3,
          81.35,
          81.45,
          81.5,
          81.7,
          81.95,
          82,
          82.05,
          82.3,
          82.35,
          82.4,
          82.45,
          82.85,
          83,
          83.05,
          83.15,
          83.2,
          83.3,
          83.35,
          83.55,
          83.6,
          83.65,
          83.75,
          83.8,
          83.85,
          83.9,
          83.95,
          84,
          84.05,
          84.1,
          84.15,
          84.2,
          84.25,
          84.3,
          84.35,
          84.4,
          84.45,
          84.5,
          84.55,
          84.6,
          84.65,
          84.7,
          84.75,
          84.8,
          84.85,
          84.9,
          84.95,
          85,
          85.05,
          85.1,
          85.15,
          85.2,
          85.25,
          85.3,
          85.35,
          85.4,
          85.45,
          85.5,
          85.55,
          85.6,
          85.65,
          85.7,
          85.75,
          85.8,
          85.85,
          85.9,
          85.95,
          86,
          86.05,
          86.1,
          86.15,
          86.2,
          86.25,
          86.3,
          86.45,
          86.5,
          86.55,
          86.6,
          86.65,
          86.8,
          86.85,
          87.05,
          87.1,
          87.15,
          87.25,
          87.4,
          87.45,
          87.55,
          88.05,
          88.15,
          88.2,
          88.25,
          88.3,
          88.35,
          88.4,
          88.45,
          88.55,
          88.7,
          88.8,
          88.85,
          88.9,
          88.95,
          89,
          89.05,
          89.1,
          89.15,
          89.2,
          89.25,
          89.3,
          89.35,
          89.4,
          89.45,
          89.5,
          89.55,
          89.6,
          89.65,
          89.7,
          89.75,
          89.8,
          89.85,
          89.9,
          89.95,
          90,
          90.05,
          90.1,
          90.15,
          90.2,
          90.25,
          90.35,
          90.4,
          90.45,
          90.5,
          90.55,
          90.6,
          90.7,
          90.75,
          90.8,
          90.85,
          90.9,
          90.95,
          91,
          91.05,
          91.1,
          91.15,
          91.25,
          91.3,
          91.4,
          91.5,
          91.65,
          91.7,
          91.75,
          91.85,
          92.1,
          92.35,
          92.45,
          92.5,
          92.55,
          93.15,
          93.2,
          93.3,
          93.35,
          93.4,
          93.5,
          93.55,
          93.7,
          93.8,
          93.85,
          93.9,
          94,
          94.05,
          94.1,
          94.2,
          94.25,
          94.3,
          94.35,
          94.4,
          94.45,
          94.5,
          94.55,
          94.6,
          94.65,
          94.7,
          94.75,
          94.8,
          94.85,
          94.9,
          94.95,
          95,
          95.05,
          95.1,
          95.15,
          95.2,
          95.25,
          95.35,
          95.45,
          95.5,
          95.55,
          95.6,
          95.65,
          95.7,
          95.75,
          95.8,
          95.85,
          95.9,
          96,
          96.05,
          96.1,
          96.15,
          96.2,
          96.25,
          96.3,
          96.4,
          96.5,
          96.55,
          96.6,
          96.65,
          96.7,
          96.75,
          96.8,
          97.1,
          97.35,
          97.65,
          97.8,
          97.85,
          97.9,
          97.95,
          98,
          98.05,
          98.1,
          98.15,
          98.25,
          98.3,
          98.35,
          98.4,
          98.5,
          98.55,
          98.6,
          98.65,
          98.7,
          98.75,
          98.8,
          98.9,
          99,
          99.05,
          99.1,
          99.15,
          99.2,
          99.25,
          99.3,
          99.35,
          99.4,
          99.45,
          99.5,
          99.55,
          99.6,
          99.65,
          99.7,
          99.75,
          99.8,
          99.85,
          99.9,
          99.95,
          100,
          100.05,
          100.1,
          100.15,
          100.2,
          100.25,
          100.3,
          100.35,
          100.45,
          100.5,
          100.55,
          100.6,
          100.65,
          100.7,
          100.75,
          100.8,
          100.85,
          100.95,
          101,
          101.05,
          101.1,
          101.15,
          101.25,
          101.3,
          101.35,
          101.4,
          101.45,
          101.5,
          101.55,
          101.7,
          101.75,
          101.85,
          101.9,
          101.95,
          102,
          102.1,
          102.25,
          102.35,
          102.45,
          102.6,
          102.8,
          102.95,
          103,
          103.25,
          103.3,
          103.35,
          103.4,
          103.45,
          103.7,
          103.75,
          103.85,
          103.9,
          103.95,
          104,
          104.05,
          104.1,
          104.15,
          104.2,
          104.25,
          104.3,
          104.4,
          104.5,
          104.55,
          104.6,
          104.65,
          104.7,
          104.75,
          104.8,
          104.85,
          104.9,
          104.95,
          105,
          105.05,
          105.1,
          105.2,
          105.25,
          105.3,
          105.35,
          105.4,
          105.5,
          105.55,
          105.65,
          105.7,
          105.75,
          105.85,
          105.9,
          105.95,
          106,
          106.05,
          106.1,
          106.15,
          106.25,
          106.3,
          106.35,
          106.4,
          106.45,
          106.5,
          106.55,
          106.6,
          106.7,
          106.75,
          106.9,
          106.95,
          107.35,
          107.4,
          107.5,
          107.55,
          107.95,
          108.05,
          108.15,
          108.4,
          108.45,
          108.55,
          108.6,
          108.65,
          108.75,
          108.85,
          109.15,
          109.25,
          109.45,
          109.5,
          109.55,
          109.65,
          109.75,
          109.8,
          109.9,
          110,
          110.1,
          110.15,
          110.35,
          110.45,
          110.75,
          110.85,
          110.9,
          111.1,
          111.2,
          111.25,
          111.3,
          111.6,
          111.95,
          112.95,
          113.15,
          113.2,
          113.6,
          114.2,
          114.5,
          115.55,
          115.65,
          116.2,
          117.45,
          117.8,
          118.35
         ],
         "xaxis": "x",
         "y": [
          1,
          1,
          1,
          2,
          1,
          1,
          4,
          1,
          2,
          3,
          1,
          3,
          3,
          1,
          3,
          2,
          2,
          1,
          1,
          1,
          1,
          1,
          1,
          1,
          1,
          1,
          2,
          3,
          1,
          2,
          1,
          1,
          1,
          1,
          1,
          1,
          2,
          1,
          1,
          1,
          1,
          1,
          1,
          1,
          1,
          1,
          1,
          1,
          1,
          1,
          5,
          1,
          1,
          2,
          1,
          1,
          1,
          1,
          2,
          1,
          1,
          1,
          2,
          1,
          1,
          1,
          1,
          1,
          2,
          1,
          2,
          1,
          1,
          2,
          1,
          2,
          1,
          1,
          2,
          1,
          1,
          1,
          1,
          1,
          1,
          1,
          1,
          2,
          1,
          1,
          1,
          1,
          1,
          2,
          1,
          1,
          2,
          3,
          1,
          2,
          3,
          2,
          2,
          1,
          3,
          1,
          2,
          2,
          3,
          3,
          4,
          2,
          8,
          2,
          3,
          2,
          1,
          3,
          4,
          1,
          1,
          3,
          2,
          5,
          1,
          1,
          1,
          1,
          1,
          1,
          1,
          1,
          2,
          3,
          1,
          1,
          2,
          1,
          2,
          2,
          1,
          3,
          1,
          3,
          2,
          3,
          3,
          1,
          2,
          1,
          1,
          2,
          2,
          1,
          1,
          4,
          2,
          2,
          2,
          3,
          1,
          2,
          3,
          2,
          1,
          3,
          4,
          1,
          2,
          2,
          1,
          1,
          1,
          1,
          1,
          1,
          1,
          1,
          1,
          1,
          1,
          1,
          1,
          2,
          1,
          2,
          2,
          3,
          1,
          2,
          1,
          3,
          2,
          1,
          2,
          1,
          1,
          6,
          1,
          2,
          3,
          2,
          2,
          2,
          2,
          1,
          1,
          1,
          2,
          2,
          1,
          2,
          2,
          2,
          2,
          1,
          1,
          1,
          1,
          1,
          1,
          1,
          2,
          1,
          1,
          1,
          1,
          1,
          1,
          1,
          1,
          1,
          1,
          1,
          3,
          1,
          1,
          1,
          1,
          1,
          1,
          1,
          1,
          1,
          1,
          2,
          1,
          1,
          1,
          1,
          1,
          1,
          2,
          1,
          1,
          1,
          1,
          1,
          1,
          1,
          1,
          1,
          1,
          1,
          1,
          1,
          1,
          1,
          1,
          1,
          2,
          1,
          2,
          3,
          1,
          4,
          1,
          2,
          4,
          4,
          2,
          3,
          4,
          5,
          6,
          3,
          5,
          3,
          2,
          3,
          5,
          7,
          3,
          6,
          7,
          3,
          3,
          7,
          1,
          5,
          4,
          1,
          2,
          2,
          2,
          3,
          5,
          1,
          2,
          2,
          2,
          4,
          1,
          1,
          2,
          1,
          2,
          1,
          2,
          1,
          1,
          1,
          1,
          1,
          1,
          1,
          1,
          2,
          1,
          1,
          2,
          2,
          2,
          2,
          3,
          5,
          4,
          1,
          2,
          1,
          2,
          2,
          3,
          5,
          5,
          13,
          3,
          4,
          2,
          2,
          4,
          4,
          3,
          2,
          1,
          9,
          8,
          3,
          2,
          3,
          2,
          4,
          2,
          6,
          5,
          1,
          3,
          3,
          3,
          1,
          1,
          2,
          3,
          4,
          1,
          3,
          2,
          2,
          1,
          1,
          1,
          1,
          3,
          3,
          3,
          2,
          1,
          1,
          1,
          2,
          1,
          1,
          2,
          2,
          2,
          1,
          1,
          2,
          3,
          1,
          2,
          1,
          1,
          1,
          1,
          2,
          2,
          5,
          3,
          2,
          2,
          4,
          4,
          4,
          1,
          4,
          4,
          2,
          4,
          4,
          4,
          5,
          4,
          3,
          1,
          4,
          6,
          2,
          4,
          2,
          2,
          3,
          4,
          4,
          5,
          3,
          2,
          5,
          5,
          3,
          4,
          3,
          1,
          1,
          3,
          6,
          1,
          6,
          1,
          2,
          1,
          1,
          1,
          1,
          1,
          1,
          2,
          1,
          3,
          1,
          1,
          1,
          1,
          1,
          1,
          1,
          1,
          1,
          1,
          2,
          2,
          2,
          1,
          1,
          3,
          2,
          2,
          3,
          1,
          1,
          3,
          2,
          1,
          2,
          1,
          4,
          2,
          3,
          4,
          5,
          1,
          4,
          2,
          1,
          3,
          6,
          4,
          2,
          3,
          5,
          2,
          1,
          4,
          5,
          4,
          5,
          7,
          2,
          6,
          1,
          4,
          2,
          3,
          3,
          1,
          3,
          1,
          1,
          3,
          3,
          2,
          1,
          1,
          2,
          2,
          2,
          2,
          2,
          2,
          2,
          1,
          1,
          2,
          1,
          1,
          1,
          2,
          1,
          1,
          1,
          1,
          1,
          1,
          1,
          2,
          4,
          1,
          2,
          1,
          1,
          2,
          1,
          1,
          2,
          1,
          3,
          2,
          4,
          2,
          1,
          3,
          2,
          4,
          3,
          6,
          4,
          2,
          2,
          2,
          3,
          4,
          2,
          2,
          3,
          3,
          3,
          3,
          1,
          2,
          1,
          1,
          2,
          2,
          2,
          3,
          5,
          1,
          1,
          4,
          4,
          1,
          1,
          1,
          2,
          2,
          1,
          1,
          2,
          2,
          1,
          2,
          2,
          1,
          3,
          1,
          1,
          1,
          3,
          1,
          1,
          2,
          1,
          1,
          1,
          1,
          3,
          2,
          3,
          7,
          3,
          4,
          1,
          4,
          5,
          5,
          1,
          1,
          7,
          5,
          3,
          3,
          2,
          4,
          5,
          2,
          1,
          4,
          1,
          1,
          4,
          3,
          3,
          4,
          2,
          5,
          2,
          4,
          3,
          2,
          4,
          4,
          1,
          2,
          1,
          1,
          3,
          3,
          3,
          2,
          2,
          3,
          2,
          1,
          1,
          2,
          2,
          1,
          2,
          1,
          2,
          2,
          1,
          2,
          1,
          1,
          1,
          1,
          1,
          1,
          1,
          2,
          2,
          2,
          2,
          1,
          2,
          4,
          2,
          2,
          1,
          3,
          3,
          2,
          2,
          2,
          3,
          1,
          3,
          2,
          3,
          1,
          1,
          1,
          4,
          6,
          3,
          1,
          1,
          2,
          2,
          4,
          3,
          1,
          4,
          4,
          5,
          1,
          3,
          4,
          4,
          2,
          1,
          2,
          3,
          3,
          4,
          1,
          1,
          2,
          2,
          2,
          2,
          2,
          1,
          3,
          2,
          3,
          2,
          4,
          2,
          1,
          1,
          1,
          1,
          1,
          1,
          2,
          1,
          2,
          2,
          1,
          1,
          2,
          1,
          2,
          3,
          1,
          2,
          2,
          1,
          2,
          2,
          3,
          2,
          2,
          1,
          2,
          1,
          4,
          2,
          2,
          3,
          1,
          2,
          6,
          2,
          1,
          1,
          2,
          3,
          2,
          2,
          1,
          1,
          1,
          4,
          1,
          2,
          2,
          1,
          2,
          1,
          1,
          3,
          1,
          3,
          1,
          1,
          1,
          2,
          4,
          3,
          1,
          4,
          2,
          1,
          1,
          2,
          2,
          1,
          1,
          1,
          2,
          1,
          2,
          1,
          1,
          1,
          1,
          1,
          1,
          1,
          1,
          2,
          1,
          1,
          1,
          1,
          1,
          1,
          1,
          1,
          1,
          1,
          2,
          2,
          1,
          1,
          1,
          1,
          2,
          1,
          1,
          1,
          1,
          1,
          2,
          1,
          1,
          1,
          1,
          1,
          1,
          2,
          2,
          1,
          1,
          1,
          1,
          1,
          1,
          1,
          1,
          1,
          1,
          1
         ],
         "yaxis": "y"
        },
        {
         "alignmentgroup": "True",
         "hovertemplate": "Churn=Yes<br>MonthlyCharges=%{x}<extra></extra>",
         "legendgroup": "Yes",
         "marker": {
          "color": "green"
         },
         "name": "Yes",
         "notched": true,
         "offsetgroup": "Yes",
         "showlegend": false,
         "type": "box",
         "x": [
          23.45,
          23.9,
          24.1,
          24.25,
          24.35,
          24.4,
          24.45,
          24.6,
          24.75,
          24.8,
          24.95,
          25.05,
          25.1,
          25.15,
          25.2,
          25.25,
          25.3,
          25.5,
          25.7,
          25.8,
          28.45,
          28.6,
          29.2,
          29.4,
          29.5,
          29.6,
          29.65,
          29.7,
          29.85,
          29.95,
          30.1,
          30.2,
          30.3,
          30.35,
          30.4,
          30.45,
          30.5,
          30.6,
          30.75,
          30.9,
          31,
          31.05,
          31.35,
          33.5,
          33.55,
          33.65,
          33.9,
          34,
          34.25,
          34.5,
          34.7,
          35,
          35.05,
          35.1,
          35.15,
          35.2,
          35.25,
          35.4,
          35.45,
          35.55,
          35.75,
          35.9,
          36.45,
          36.5,
          36.85,
          39,
          39.05,
          39.1,
          39.3,
          39.5,
          39.65,
          40,
          40.05,
          40.1,
          40.15,
          40.2,
          40.3,
          40.4,
          40.65,
          41.05,
          41.15,
          41.6,
          41.9,
          42.35,
          42.6,
          42.9,
          43.25,
          43.3,
          43.65,
          43.75,
          43.95,
          44.05,
          44.1,
          44.15,
          44.2,
          44.3,
          44.35,
          44.4,
          44.45,
          44.55,
          44.6,
          44.65,
          44.7,
          44.75,
          44.85,
          44.9,
          44.95,
          45,
          45.05,
          45.1,
          45.15,
          45.25,
          45.3,
          45.35,
          45.4,
          45.55,
          45.6,
          45.65,
          45.7,
          45.75,
          45.8,
          45.85,
          45.95,
          46,
          46.05,
          46.2,
          46.3,
          46.35,
          47.15,
          47.8,
          47.85,
          47.95,
          48.35,
          48.55,
          48.6,
          48.7,
          48.75,
          48.8,
          48.95,
          49.05,
          49.1,
          49.15,
          49.2,
          49.25,
          49.35,
          49.4,
          49.55,
          49.6,
          49.65,
          49.75,
          49.85,
          49.9,
          49.95,
          50.05,
          50.1,
          50.15,
          50.25,
          50.35,
          50.4,
          50.45,
          50.5,
          50.55,
          50.6,
          50.65,
          50.7,
          50.75,
          50.8,
          50.85,
          50.9,
          51,
          51.05,
          51.2,
          51.25,
          51.5,
          51.55,
          51.75,
          51.8,
          52.2,
          53.4,
          53.5,
          53.55,
          53.65,
          53.75,
          53.85,
          53.9,
          53.95,
          54.15,
          54.2,
          54.3,
          54.35,
          54.4,
          54.45,
          54.55,
          54.7,
          54.75,
          54.85,
          54.9,
          55,
          55.05,
          55.1,
          55.15,
          55.2,
          55.25,
          55.3,
          55.35,
          55.4,
          55.55,
          55.65,
          55.7,
          55.8,
          55.85,
          55.9,
          55.95,
          56.15,
          56.25,
          56.5,
          56.65,
          56.7,
          57.15,
          57.45,
          57.55,
          58.5,
          58.6,
          59,
          59.2,
          59.3,
          59.4,
          59.45,
          59.5,
          59.75,
          59.8,
          59.85,
          59.9,
          60,
          60.05,
          60.1,
          60.15,
          60.3,
          60.35,
          60.4,
          60.45,
          61.15,
          61.45,
          61.6,
          61.65,
          62.05,
          62.3,
          62.65,
          62.7,
          63.6,
          64.4,
          64.65,
          64.7,
          64.75,
          65,
          65.2,
          65.25,
          65.3,
          65.4,
          65.45,
          65.7,
          66.25,
          66.35,
          66.4,
          66.5,
          67.5,
          67.75,
          67.95,
          68.25,
          68.5,
          68.65,
          68.85,
          68.95,
          69,
          69.05,
          69.1,
          69.15,
          69.2,
          69.25,
          69.35,
          69.4,
          69.5,
          69.55,
          69.6,
          69.65,
          69.7,
          69.75,
          69.8,
          69.85,
          69.9,
          69.95,
          70,
          70.05,
          70.1,
          70.15,
          70.2,
          70.25,
          70.3,
          70.35,
          70.4,
          70.45,
          70.5,
          70.55,
          70.6,
          70.65,
          70.7,
          70.75,
          70.8,
          70.85,
          70.9,
          70.95,
          71,
          71.05,
          71.1,
          71.15,
          71.3,
          71.35,
          71.55,
          71.65,
          71.8,
          72.15,
          72.2,
          72.25,
          72.45,
          72.65,
          72.85,
          72.9,
          73,
          73.2,
          73.25,
          73.5,
          73.55,
          73.6,
          73.65,
          73.75,
          73.85,
          73.9,
          73.95,
          74.05,
          74.1,
          74.15,
          74.2,
          74.25,
          74.3,
          74.35,
          74.4,
          74.45,
          74.5,
          74.55,
          74.6,
          74.65,
          74.7,
          74.75,
          74.8,
          74.85,
          74.9,
          74.95,
          75,
          75.05,
          75.1,
          75.15,
          75.2,
          75.25,
          75.3,
          75.35,
          75.4,
          75.45,
          75.5,
          75.55,
          75.6,
          75.65,
          75.7,
          75.75,
          75.8,
          75.85,
          75.9,
          76,
          76.05,
          76.1,
          76.2,
          76.25,
          76.35,
          76.4,
          76.45,
          76.5,
          76.65,
          76.95,
          77,
          77.15,
          77.5,
          77.65,
          77.75,
          77.85,
          77.95,
          78.05,
          78.1,
          78.25,
          78.3,
          78.45,
          78.5,
          78.55,
          78.6,
          78.65,
          78.75,
          78.8,
          78.85,
          78.9,
          78.95,
          79,
          79.05,
          79.1,
          79.15,
          79.2,
          79.25,
          79.3,
          79.35,
          79.4,
          79.45,
          79.5,
          79.55,
          79.6,
          79.65,
          79.7,
          79.75,
          79.8,
          79.85,
          79.9,
          79.95,
          80,
          80.05,
          80.1,
          80.15,
          80.2,
          80.25,
          80.3,
          80.35,
          80.4,
          80.45,
          80.5,
          80.55,
          80.6,
          80.65,
          80.7,
          80.75,
          80.8,
          80.85,
          80.95,
          81,
          81.05,
          81.1,
          81.15,
          81.25,
          81.3,
          81.35,
          81.45,
          81.5,
          81.7,
          81.95,
          82,
          82.05,
          82.3,
          82.35,
          82.4,
          82.45,
          82.85,
          83,
          83.05,
          83.15,
          83.2,
          83.3,
          83.35,
          83.55,
          83.6,
          83.65,
          83.75,
          83.8,
          83.85,
          83.9,
          83.95,
          84,
          84.05,
          84.1,
          84.15,
          84.2,
          84.25,
          84.3,
          84.35,
          84.4,
          84.45,
          84.5,
          84.55,
          84.6,
          84.65,
          84.7,
          84.75,
          84.8,
          84.85,
          84.9,
          84.95,
          85,
          85.05,
          85.1,
          85.15,
          85.2,
          85.25,
          85.3,
          85.35,
          85.4,
          85.45,
          85.5,
          85.55,
          85.6,
          85.65,
          85.7,
          85.75,
          85.8,
          85.85,
          85.9,
          85.95,
          86,
          86.05,
          86.1,
          86.15,
          86.2,
          86.25,
          86.3,
          86.45,
          86.5,
          86.55,
          86.6,
          86.65,
          86.8,
          86.85,
          87.05,
          87.1,
          87.15,
          87.25,
          87.4,
          87.45,
          87.55,
          88.05,
          88.15,
          88.2,
          88.25,
          88.3,
          88.35,
          88.4,
          88.45,
          88.55,
          88.7,
          88.8,
          88.85,
          88.9,
          88.95,
          89,
          89.05,
          89.1,
          89.15,
          89.2,
          89.25,
          89.3,
          89.35,
          89.4,
          89.45,
          89.5,
          89.55,
          89.6,
          89.65,
          89.7,
          89.75,
          89.8,
          89.85,
          89.9,
          89.95,
          90,
          90.05,
          90.1,
          90.15,
          90.2,
          90.25,
          90.35,
          90.4,
          90.45,
          90.5,
          90.55,
          90.6,
          90.7,
          90.75,
          90.8,
          90.85,
          90.9,
          90.95,
          91,
          91.05,
          91.1,
          91.15,
          91.25,
          91.3,
          91.4,
          91.5,
          91.65,
          91.7,
          91.75,
          91.85,
          92.1,
          92.35,
          92.45,
          92.5,
          92.55,
          93.15,
          93.2,
          93.3,
          93.35,
          93.4,
          93.5,
          93.55,
          93.7,
          93.8,
          93.85,
          93.9,
          94,
          94.05,
          94.1,
          94.2,
          94.25,
          94.3,
          94.35,
          94.4,
          94.45,
          94.5,
          94.55,
          94.6,
          94.65,
          94.7,
          94.75,
          94.8,
          94.85,
          94.9,
          94.95,
          95,
          95.05,
          95.1,
          95.15,
          95.2,
          95.25,
          95.35,
          95.45,
          95.5,
          95.55,
          95.6,
          95.65,
          95.7,
          95.75,
          95.8,
          95.85,
          95.9,
          96,
          96.05,
          96.1,
          96.15,
          96.2,
          96.25,
          96.3,
          96.4,
          96.5,
          96.55,
          96.6,
          96.65,
          96.7,
          96.75,
          96.8,
          97.1,
          97.35,
          97.65,
          97.8,
          97.85,
          97.9,
          97.95,
          98,
          98.05,
          98.1,
          98.15,
          98.25,
          98.3,
          98.35,
          98.4,
          98.5,
          98.55,
          98.6,
          98.65,
          98.7,
          98.75,
          98.8,
          98.9,
          99,
          99.05,
          99.1,
          99.15,
          99.2,
          99.25,
          99.3,
          99.35,
          99.4,
          99.45,
          99.5,
          99.55,
          99.6,
          99.65,
          99.7,
          99.75,
          99.8,
          99.85,
          99.9,
          99.95,
          100,
          100.05,
          100.1,
          100.15,
          100.2,
          100.25,
          100.3,
          100.35,
          100.45,
          100.5,
          100.55,
          100.6,
          100.65,
          100.7,
          100.75,
          100.8,
          100.85,
          100.95,
          101,
          101.05,
          101.1,
          101.15,
          101.25,
          101.3,
          101.35,
          101.4,
          101.45,
          101.5,
          101.55,
          101.7,
          101.75,
          101.85,
          101.9,
          101.95,
          102,
          102.1,
          102.25,
          102.35,
          102.45,
          102.6,
          102.8,
          102.95,
          103,
          103.25,
          103.3,
          103.35,
          103.4,
          103.45,
          103.7,
          103.75,
          103.85,
          103.9,
          103.95,
          104,
          104.05,
          104.1,
          104.15,
          104.2,
          104.25,
          104.3,
          104.4,
          104.5,
          104.55,
          104.6,
          104.65,
          104.7,
          104.75,
          104.8,
          104.85,
          104.9,
          104.95,
          105,
          105.05,
          105.1,
          105.2,
          105.25,
          105.3,
          105.35,
          105.4,
          105.5,
          105.55,
          105.65,
          105.7,
          105.75,
          105.85,
          105.9,
          105.95,
          106,
          106.05,
          106.1,
          106.15,
          106.25,
          106.3,
          106.35,
          106.4,
          106.45,
          106.5,
          106.55,
          106.6,
          106.7,
          106.75,
          106.9,
          106.95,
          107.35,
          107.4,
          107.5,
          107.55,
          107.95,
          108.05,
          108.15,
          108.4,
          108.45,
          108.55,
          108.6,
          108.65,
          108.75,
          108.85,
          109.15,
          109.25,
          109.45,
          109.5,
          109.55,
          109.65,
          109.75,
          109.8,
          109.9,
          110,
          110.1,
          110.15,
          110.35,
          110.45,
          110.75,
          110.85,
          110.9,
          111.1,
          111.2,
          111.25,
          111.3,
          111.6,
          111.95,
          112.95,
          113.15,
          113.2,
          113.6,
          114.2,
          114.5,
          115.55,
          115.65,
          116.2,
          117.45,
          117.8,
          118.35
         ],
         "xaxis": "x2",
         "yaxis": "y2"
        },
        {
         "alignmentgroup": "True",
         "bingroup": "x",
         "histfunc": "sum",
         "hovertemplate": "Churn=No<br>MonthlyCharges=%{x}<br>sum of Count=%{y}<extra></extra>",
         "legendgroup": "No",
         "marker": {
          "color": "red",
          "pattern": {
           "shape": ""
          }
         },
         "name": "No",
         "offsetgroup": "No",
         "orientation": "v",
         "showlegend": true,
         "type": "histogram",
         "x": [
          24.15,
          24.2,
          24.3,
          24.35,
          24.4,
          24.5,
          24.6,
          24.7,
          24.85,
          24.9,
          24.95,
          25,
          25.05,
          25.1,
          25.15,
          25.2,
          25.25,
          25.35,
          25.55,
          25.65,
          25.85,
          26.05,
          28.5,
          29.05,
          29.1,
          29.15,
          29.2,
          29.25,
          29.3,
          29.35,
          29.45,
          29.5,
          29.6,
          29.65,
          29.75,
          29.8,
          29.85,
          29.9,
          30.05,
          30.1,
          30.15,
          30.2,
          30.25,
          30.35,
          30.4,
          30.5,
          30.55,
          30.75,
          30.85,
          31.05,
          31.1,
          31.2,
          31.65,
          33.15,
          33.45,
          33.6,
          33.7,
          33.75,
          34,
          34.05,
          34.2,
          34.25,
          34.3,
          34.4,
          34.55,
          34.6,
          34.65,
          34.7,
          34.8,
          34.85,
          34.95,
          35,
          35.05,
          35.1,
          35.15,
          35.2,
          35.3,
          35.35,
          35.4,
          35.45,
          35.5,
          35.55,
          35.6,
          35.65,
          35.7,
          35.75,
          35.8,
          35.9,
          36,
          36.05,
          36.1,
          36.15,
          36.25,
          36.65,
          37.7,
          38.1,
          38.25,
          38.5,
          38.55,
          38.6,
          38.8,
          38.85,
          38.9,
          39,
          39.1,
          39.15,
          39.2,
          39.35,
          39.4,
          39.45,
          39.5,
          39.55,
          39.6,
          39.65,
          39.7,
          39.85,
          39.9,
          39.95,
          40.05,
          40.1,
          40.15,
          40.2,
          40.25,
          40.3,
          40.35,
          40.4,
          40.45,
          40.55,
          40.6,
          40.65,
          40.7,
          40.75,
          40.9,
          41.1,
          41.15,
          41.35,
          41.9,
          41.95,
          42.1,
          42.3,
          42.4,
          43.05,
          43.35,
          43.45,
          43.55,
          43.6,
          43.7,
          43.75,
          43.8,
          43.85,
          43.9,
          43.95,
          44,
          44.05,
          44.1,
          44.15,
          44.25,
          44.3,
          44.35,
          44.4,
          44.45,
          44.5,
          44.55,
          44.6,
          44.65,
          44.7,
          44.75,
          44.8,
          44.85,
          44.9,
          44.95,
          45,
          45.05,
          45.1,
          45.15,
          45.2,
          45.25,
          45.3,
          45.35,
          45.4,
          45.45,
          45.5,
          45.55,
          45.6,
          45.65,
          45.75,
          45.8,
          45.85,
          45.9,
          46,
          46.1,
          46.2,
          46.25,
          46.3,
          46.35,
          46.4,
          46.6,
          47.05,
          47.4,
          47.6,
          47.85,
          47.95,
          48.15,
          48.2,
          48.25,
          48.4,
          48.45,
          48.6,
          48.65,
          48.7,
          48.75,
          48.8,
          48.85,
          48.9,
          48.95,
          49,
          49.05,
          49.15,
          49.2,
          49.25,
          49.3,
          49.35,
          49.4,
          49.45,
          49.5,
          49.55,
          49.6,
          49.65,
          49.7,
          49.75,
          49.8,
          49.85,
          49.9,
          49.95,
          50,
          50.05,
          50.1,
          50.15,
          50.2,
          50.25,
          50.3,
          50.35,
          50.4,
          50.45,
          50.5,
          50.55,
          50.6,
          50.65,
          50.7,
          50.75,
          50.8,
          50.85,
          50.9,
          50.95,
          51,
          51.05,
          51.1,
          51.15,
          51.2,
          51.25,
          51.3,
          51.35,
          51.4,
          51.45,
          51.55,
          51.6,
          51.65,
          51.7,
          51.8,
          52,
          52.1,
          52.15,
          52.3,
          52.5,
          52.55,
          52.7,
          52.85,
          53,
          53.1,
          53.15,
          53.3,
          53.35,
          53.4,
          53.45,
          53.5,
          53.55,
          53.6,
          53.65,
          53.7,
          53.75,
          53.8,
          53.85,
          53.95,
          54,
          54.05,
          54.1,
          54.15,
          54.2,
          54.25,
          54.3,
          54.35,
          54.4,
          54.45,
          54.5,
          54.55,
          54.6,
          54.65,
          54.7,
          54.75,
          54.8,
          54.85,
          54.9,
          54.95,
          55,
          55.05,
          55.1,
          55.15,
          55.2,
          55.25,
          55.3,
          55.35,
          55.45,
          55.5,
          55.55,
          55.6,
          55.65,
          55.7,
          55.75,
          55.8,
          55.85,
          55.9,
          55.95,
          56,
          56.05,
          56.1,
          56.15,
          56.2,
          56.25,
          56.3,
          56.35,
          56.4,
          56.45,
          56.55,
          56.6,
          56.7,
          56.75,
          56.8,
          56.85,
          56.9,
          56.95,
          57.2,
          57.5,
          57.55,
          57.6,
          57.65,
          57.75,
          57.8,
          57.95,
          58,
          58.2,
          58.25,
          58.35,
          58.4,
          58.45,
          58.5,
          58.55,
          58.6,
          58.65,
          58.7,
          58.75,
          58.85,
          58.9,
          58.95,
          59,
          59.05,
          59.1,
          59.15,
          59.2,
          59.25,
          59.3,
          59.4,
          59.45,
          59.5,
          59.55,
          59.6,
          59.65,
          59.7,
          59.75,
          59.8,
          59.85,
          59.9,
          59.95,
          60,
          60.05,
          60.15,
          60.2,
          60.25,
          60.3,
          60.35,
          60.4,
          60.45,
          60.5,
          60.55,
          60.6,
          60.65,
          60.7,
          60.75,
          60.8,
          60.85,
          60.9,
          60.95,
          61,
          61.05,
          61.1,
          61.15,
          61.2,
          61.25,
          61.3,
          61.35,
          61.4,
          61.45,
          61.5,
          61.55,
          61.6,
          61.65,
          61.75,
          61.8,
          61.9,
          61.95,
          62.05,
          62.1,
          62.15,
          62.25,
          62.45,
          62.5,
          62.55,
          62.65,
          62.8,
          62.85,
          63.05,
          63.1,
          63.15,
          63.25,
          63.3,
          63.35,
          63.4,
          63.55,
          63.7,
          63.75,
          63.8,
          63.85,
          63.9,
          63.95,
          64,
          64.05,
          64.1,
          64.15,
          64.2,
          64.25,
          64.3,
          64.35,
          64.4,
          64.45,
          64.5,
          64.55,
          64.6,
          64.65,
          64.7,
          64.75,
          64.8,
          64.85,
          64.9,
          64.95,
          65,
          65.05,
          65.1,
          65.15,
          65.2,
          65.25,
          65.3,
          65.35,
          65.4,
          65.45,
          65.5,
          65.55,
          65.6,
          65.65,
          65.7,
          65.75,
          65.8,
          65.85,
          65.9,
          66,
          66.05,
          66.1,
          66.15,
          66.2,
          66.25,
          66.3,
          66.4,
          66.5,
          66.6,
          66.65,
          66.7,
          66.75,
          66.8,
          66.85,
          66.9,
          67.05,
          67.2,
          67.25,
          67.4,
          67.45,
          67.6,
          67.65,
          67.7,
          67.8,
          67.85,
          67.95,
          68.05,
          68.1,
          68.15,
          68.25,
          68.3,
          68.35,
          68.4,
          68.45,
          68.5,
          68.55,
          68.6,
          68.65,
          68.7,
          68.75,
          68.8,
          68.85,
          68.9,
          68.95,
          69,
          69.05,
          69.1,
          69.15,
          69.2,
          69.25,
          69.3,
          69.35,
          69.4,
          69.45,
          69.5,
          69.55,
          69.6,
          69.65,
          69.7,
          69.75,
          69.8,
          69.85,
          69.9,
          69.95,
          70,
          70.05,
          70.1,
          70.15,
          70.2,
          70.25,
          70.3,
          70.35,
          70.4,
          70.45,
          70.5,
          70.55,
          70.6,
          70.65,
          70.7,
          70.75,
          70.8,
          70.85,
          70.9,
          70.95,
          71,
          71.05,
          71.1,
          71.25,
          71.3,
          71.35,
          71.4,
          71.45,
          71.5,
          71.55,
          71.6,
          71.65,
          71.7,
          71.75,
          71.8,
          71.85,
          71.9,
          71.95,
          72,
          72.1,
          72.25,
          72.35,
          72.45,
          72.6,
          72.75,
          72.8,
          72.9,
          72.95,
          73,
          73.05,
          73.1,
          73.15,
          73.25,
          73.3,
          73.35,
          73.45,
          73.5,
          73.55,
          73.6,
          73.65,
          73.7,
          73.75,
          73.8,
          73.85,
          73.9,
          74,
          74.05,
          74.1,
          74.15,
          74.2,
          74.25,
          74.3,
          74.35,
          74.4,
          74.45,
          74.5,
          74.55,
          74.6,
          74.65,
          74.7,
          74.75,
          74.8,
          74.85,
          74.9,
          74.95,
          75,
          75.05,
          75.1,
          75.15,
          75.2,
          75.25,
          75.3,
          75.35,
          75.4,
          75.45,
          75.5,
          75.55,
          75.6,
          75.65,
          75.7,
          75.75,
          75.8,
          75.85,
          75.9,
          75.95,
          76,
          76.05,
          76.1,
          76.15,
          76.2,
          76.25,
          76.3,
          76.35,
          76.4,
          76.45,
          76.5,
          76.55,
          76.6,
          76.75,
          76.8,
          76.85,
          76.9,
          76.95,
          77.15,
          77.2,
          77.3,
          77.35,
          77.4,
          77.55,
          77.75,
          77.8,
          77.9,
          78,
          78.1,
          78.15,
          78.2,
          78.3,
          78.35,
          78.4,
          78.45,
          78.5,
          78.55,
          78.6,
          78.65,
          78.7,
          78.75,
          78.8,
          78.85,
          78.9,
          78.95,
          79,
          79.05,
          79.1,
          79.15,
          79.2,
          79.25,
          79.3,
          79.35,
          79.4,
          79.45,
          79.5,
          79.55,
          79.6,
          79.65,
          79.7,
          79.75,
          79.8,
          79.85,
          79.9,
          79.95,
          80,
          80.05,
          80.1,
          80.15,
          80.2,
          80.25,
          80.3,
          80.35,
          80.4,
          80.45,
          80.5,
          80.55,
          80.6,
          80.65,
          80.7,
          80.75,
          80.8,
          80.85,
          80.9,
          80.95,
          81,
          81.05,
          81.1,
          81.15,
          81.2,
          81.25,
          81.3,
          81.35,
          81.4,
          81.45,
          81.5,
          81.55,
          81.6,
          81.65,
          81.7,
          81.75,
          81.8,
          81.85,
          81.9,
          81.95,
          82,
          82.05,
          82.1,
          82.15,
          82.3,
          82.45,
          82.5,
          82.55,
          82.65,
          82.7,
          82.75,
          82.85,
          82.9,
          82.95,
          83,
          83.05,
          83.15,
          83.2,
          83.25,
          83.3,
          83.4,
          83.45,
          83.5,
          83.55,
          83.6,
          83.65,
          83.7,
          83.75,
          83.8,
          83.85,
          84,
          84.05,
          84.1,
          84.15,
          84.2,
          84.25,
          84.3,
          84.35,
          84.4,
          84.45,
          84.5,
          84.55,
          84.6,
          84.65,
          84.7,
          84.75,
          84.8,
          84.85,
          84.9,
          84.95,
          85,
          85.05,
          85.1,
          85.15,
          85.2,
          85.25,
          85.3,
          85.35,
          85.4,
          85.45,
          85.5,
          85.55,
          85.6,
          85.65,
          85.7,
          85.75,
          85.8,
          85.85,
          85.9,
          85.95,
          86,
          86.05,
          86.1,
          86.15,
          86.2,
          86.25,
          86.35,
          86.4,
          86.45,
          86.5,
          86.55,
          86.6,
          86.65,
          86.7,
          86.75,
          86.8,
          86.85,
          86.9,
          86.95,
          87,
          87.1,
          87.15,
          87.2,
          87.25,
          87.3,
          87.35,
          87.55,
          87.6,
          87.65,
          87.7,
          87.75,
          87.8,
          87.9,
          87.95,
          88,
          88.05,
          88.1,
          88.15,
          88.2,
          88.4,
          88.45,
          88.5,
          88.55,
          88.6,
          88.65,
          88.7,
          88.75,
          88.8,
          88.85,
          88.9,
          88.95,
          89,
          89.05,
          89.1,
          89.15,
          89.2,
          89.25,
          89.3,
          89.35,
          89.4,
          89.45,
          89.55,
          89.6,
          89.65,
          89.7,
          89.75,
          89.8,
          89.85,
          89.9,
          89.95,
          90,
          90.05,
          90.1,
          90.15,
          90.2,
          90.25,
          90.3,
          90.35,
          90.4,
          90.45,
          90.5,
          90.55,
          90.6,
          90.65,
          90.7,
          90.75,
          90.8,
          90.85,
          90.95,
          91,
          91.05,
          91.1,
          91.15,
          91.2,
          91.25,
          91.3,
          91.35,
          91.45,
          91.5,
          91.55,
          91.6,
          91.65,
          91.7,
          91.8,
          91.95,
          92,
          92.05,
          92.15,
          92.2,
          92.3,
          92.4,
          92.45,
          92.55,
          92.6,
          92.65,
          92.7,
          92.85,
          92.9,
          92.95,
          93,
          93.05,
          93.15,
          93.2,
          93.25,
          93.3,
          93.35,
          93.4,
          93.45,
          93.5,
          93.55,
          93.6,
          93.65,
          93.7,
          93.75,
          93.8,
          93.85,
          93.9,
          93.95,
          94,
          94.05,
          94.1,
          94.15,
          94.2,
          94.25,
          94.3,
          94.35,
          94.4,
          94.45,
          94.5,
          94.55,
          94.6,
          94.65,
          94.7,
          94.75,
          94.8,
          94.85,
          94.9,
          94.95,
          95,
          95.05,
          95.1,
          95.15,
          95.2,
          95.25,
          95.3,
          95.35,
          95.4,
          95.45,
          95.5,
          95.55,
          95.6,
          95.65,
          95.7,
          95.75,
          95.8,
          95.85,
          95.9,
          95.95,
          96,
          96.1,
          96.2,
          96.35,
          96.4,
          96.5,
          96.55,
          96.6,
          96.65,
          96.75,
          96.8,
          96.85,
          96.9,
          96.95,
          97,
          97.05,
          97.1,
          97.2,
          97.25,
          97.45,
          97.55,
          97.65,
          97.7,
          97.75,
          97.8,
          97.85,
          97.95,
          98,
          98.05,
          98.1,
          98.15,
          98.2,
          98.25,
          98.3,
          98.35,
          98.45,
          98.55,
          98.6,
          98.65,
          98.7,
          98.8,
          98.85,
          98.9,
          99,
          99.05,
          99.1,
          99.15,
          99.2,
          99.25,
          99.3,
          99.35,
          99.4,
          99.45,
          99.5,
          99.55,
          99.65,
          99.7,
          99.75,
          99.8,
          99.85,
          99.9,
          99.95,
          100,
          100.05,
          100.1,
          100.15,
          100.2,
          100.25,
          100.3,
          100.35,
          100.4,
          100.45,
          100.5,
          100.55,
          100.6,
          100.65,
          100.7,
          100.75,
          100.8,
          100.85,
          100.9,
          101,
          101.05,
          101.1,
          101.15,
          101.25,
          101.3,
          101.35,
          101.4,
          101.45,
          101.5,
          101.55,
          101.6,
          101.75,
          101.8,
          101.9,
          102.05,
          102.1,
          102.15,
          102.4,
          102.45,
          102.5,
          102.55,
          102.6,
          102.65,
          102.7,
          102.85,
          102.9,
          103,
          103.05,
          103.1,
          103.15,
          103.2,
          103.25,
          103.3,
          103.4,
          103.45,
          103.5,
          103.6,
          103.65,
          103.7,
          103.75,
          103.8,
          103.85,
          103.9,
          103.95,
          104,
          104.05,
          104.1,
          104.15,
          104.25,
          104.3,
          104.35,
          104.4,
          104.45,
          104.5,
          104.55,
          104.6,
          104.65,
          104.7,
          104.75,
          104.8,
          104.85,
          104.9,
          104.95,
          105,
          105.05,
          105.1,
          105.15,
          105.2,
          105.25,
          105.3,
          105.35,
          105.4,
          105.45,
          105.5,
          105.55,
          105.6,
          105.65,
          105.7,
          105.75,
          105.8,
          105.85,
          105.9,
          105.95,
          106,
          106.05,
          106.1,
          106.15,
          106.2,
          106.3,
          106.35,
          106.4,
          106.45,
          106.5,
          106.6,
          106.65,
          106.7,
          106.75,
          106.8,
          106.85,
          106.9,
          107,
          107.05,
          107.15,
          107.2,
          107.25,
          107.35,
          107.4,
          107.45,
          107.5,
          107.55,
          107.6,
          107.65,
          107.7,
          107.75,
          107.9,
          107.95,
          108,
          108.05,
          108.1,
          108.15,
          108.2,
          108.25,
          108.3,
          108.35,
          108.4,
          108.45,
          108.5,
          108.55,
          108.65,
          108.75,
          108.8,
          108.9,
          108.95,
          109,
          109.05,
          109.1,
          109.15,
          109.2,
          109.25,
          109.3,
          109.4,
          109.45,
          109.5,
          109.55,
          109.6,
          109.65,
          109.7,
          109.75,
          109.8,
          109.85,
          109.9,
          109.95,
          110,
          110.05,
          110.1,
          110.15,
          110.2,
          110.25,
          110.3,
          110.35,
          110.45,
          110.5,
          110.55,
          110.6,
          110.65,
          110.7,
          110.75,
          110.8,
          110.85,
          110.9,
          111.05,
          111.1,
          111.15,
          111.2,
          111.25,
          111.3,
          111.35,
          111.4,
          111.45,
          111.5,
          111.55,
          111.6,
          111.65,
          111.75,
          111.8,
          111.9,
          111.95,
          112.1,
          112.2,
          112.25,
          112.35,
          112.4,
          112.55,
          112.6,
          112.75,
          112.9,
          112.95,
          113,
          113.05,
          113.1,
          113.15,
          113.2,
          113.25,
          113.3,
          113.35,
          113.4,
          113.45,
          113.6,
          113.65,
          113.75,
          113.8,
          113.95,
          114,
          114.05,
          114.1,
          114.3,
          114.35,
          114.45,
          114.5,
          114.55,
          114.6,
          114.65,
          114.7,
          114.75,
          114.85,
          114.9,
          114.95,
          115,
          115.05,
          115.1,
          115.15,
          115.25,
          115.5,
          115.55,
          115.6,
          115.65,
          115.75,
          115.8,
          115.85,
          116,
          116.05,
          116.1,
          116.15,
          116.25,
          116.3,
          116.4,
          116.45,
          116.5,
          116.55,
          116.6,
          116.75,
          116.8,
          116.85,
          116.95,
          117.15,
          117.2,
          117.35,
          117.5,
          117.6,
          118.2,
          118.6,
          118.65,
          118.75
         ],
         "xaxis": "x",
         "y": [
          1,
          1,
          2,
          1,
          3,
          1,
          1,
          3,
          3,
          3,
          2,
          2,
          3,
          3,
          5,
          1,
          4,
          2,
          1,
          1,
          1,
          1,
          1,
          2,
          1,
          3,
          1,
          1,
          2,
          2,
          3,
          1,
          2,
          1,
          3,
          5,
          1,
          4,
          1,
          2,
          2,
          2,
          2,
          1,
          3,
          2,
          1,
          2,
          1,
          1,
          1,
          1,
          1,
          1,
          2,
          4,
          1,
          1,
          2,
          1,
          3,
          2,
          2,
          1,
          1,
          1,
          2,
          1,
          2,
          1,
          1,
          3,
          2,
          2,
          1,
          2,
          1,
          1,
          4,
          2,
          3,
          1,
          1,
          3,
          1,
          5,
          3,
          2,
          2,
          1,
          2,
          1,
          2,
          1,
          1,
          1,
          1,
          2,
          2,
          1,
          1,
          1,
          2,
          1,
          4,
          1,
          2,
          1,
          2,
          1,
          1,
          1,
          1,
          1,
          3,
          1,
          2,
          1,
          2,
          1,
          1,
          3,
          2,
          3,
          2,
          2,
          1,
          4,
          2,
          4,
          1,
          1,
          1,
          2,
          1,
          1,
          1,
          1,
          1,
          1,
          1,
          1,
          1,
          1,
          2,
          1,
          2,
          1,
          4,
          2,
          2,
          4,
          5,
          3,
          2,
          2,
          2,
          3,
          2,
          3,
          8,
          2,
          5,
          5,
          4,
          1,
          4,
          8,
          3,
          3,
          5,
          9,
          4,
          1,
          1,
          5,
          6,
          2,
          2,
          4,
          3,
          1,
          5,
          1,
          3,
          1,
          3,
          3,
          5,
          2,
          1,
          1,
          1,
          3,
          3,
          1,
          1,
          1,
          1,
          1,
          3,
          1,
          1,
          1,
          2,
          1,
          1,
          2,
          1,
          3,
          2,
          7,
          2,
          1,
          3,
          3,
          3,
          3,
          6,
          3,
          2,
          1,
          4,
          5,
          3,
          4,
          2,
          3,
          4,
          3,
          7,
          8,
          6,
          3,
          5,
          6,
          4,
          7,
          5,
          4,
          7,
          5,
          2,
          1,
          2,
          8,
          3,
          2,
          4,
          3,
          3,
          2,
          3,
          7,
          4,
          3,
          5,
          1,
          2,
          3,
          2,
          3,
          1,
          2,
          2,
          1,
          2,
          1,
          1,
          1,
          1,
          1,
          1,
          1,
          1,
          1,
          1,
          1,
          2,
          2,
          1,
          1,
          1,
          4,
          2,
          1,
          3,
          5,
          1,
          4,
          4,
          2,
          2,
          2,
          2,
          4,
          4,
          6,
          5,
          6,
          3,
          5,
          5,
          5,
          5,
          6,
          9,
          2,
          7,
          4,
          4,
          5,
          4,
          6,
          3,
          2,
          4,
          3,
          4,
          9,
          3,
          5,
          5,
          3,
          2,
          4,
          7,
          2,
          7,
          1,
          3,
          1,
          1,
          3,
          3,
          5,
          2,
          5,
          4,
          2,
          3,
          1,
          2,
          2,
          1,
          4,
          2,
          1,
          1,
          1,
          2,
          1,
          1,
          1,
          1,
          1,
          1,
          2,
          1,
          3,
          2,
          4,
          2,
          1,
          1,
          2,
          3,
          1,
          1,
          4,
          2,
          2,
          3,
          3,
          2,
          4,
          1,
          2,
          1,
          2,
          1,
          8,
          4,
          5,
          5,
          4,
          3,
          6,
          8,
          5,
          6,
          3,
          10,
          3,
          3,
          3,
          5,
          3,
          2,
          2,
          1,
          4,
          1,
          4,
          3,
          2,
          1,
          3,
          2,
          5,
          4,
          2,
          3,
          1,
          2,
          3,
          2,
          2,
          5,
          6,
          3,
          2,
          2,
          1,
          1,
          1,
          1,
          3,
          1,
          1,
          2,
          3,
          1,
          1,
          1,
          1,
          1,
          3,
          1,
          1,
          1,
          1,
          1,
          1,
          1,
          1,
          2,
          3,
          1,
          2,
          2,
          2,
          2,
          2,
          4,
          3,
          3,
          5,
          1,
          2,
          4,
          7,
          4,
          4,
          2,
          1,
          3,
          1,
          4,
          4,
          4,
          5,
          6,
          4,
          1,
          3,
          2,
          5,
          5,
          1,
          2,
          1,
          1,
          5,
          3,
          6,
          5,
          2,
          1,
          2,
          3,
          1,
          1,
          4,
          2,
          4,
          1,
          4,
          2,
          6,
          2,
          1,
          1,
          2,
          1,
          2,
          3,
          2,
          1,
          1,
          2,
          1,
          5,
          1,
          1,
          1,
          3,
          1,
          1,
          1,
          1,
          2,
          2,
          1,
          1,
          2,
          1,
          1,
          1,
          2,
          1,
          2,
          6,
          1,
          1,
          1,
          4,
          4,
          6,
          6,
          5,
          5,
          1,
          2,
          5,
          3,
          2,
          8,
          5,
          2,
          4,
          7,
          5,
          4,
          5,
          5,
          8,
          1,
          5,
          4,
          7,
          6,
          3,
          5,
          8,
          4,
          4,
          6,
          5,
          4,
          3,
          6,
          2,
          4,
          2,
          3,
          4,
          3,
          4,
          6,
          1,
          1,
          2,
          2,
          2,
          1,
          1,
          2,
          1,
          1,
          1,
          1,
          1,
          2,
          1,
          1,
          6,
          1,
          1,
          1,
          2,
          2,
          3,
          2,
          3,
          3,
          2,
          1,
          3,
          2,
          1,
          3,
          2,
          3,
          5,
          3,
          1,
          2,
          2,
          3,
          5,
          1,
          5,
          4,
          5,
          3,
          3,
          2,
          6,
          6,
          3,
          5,
          2,
          7,
          7,
          5,
          3,
          7,
          5,
          6,
          3,
          3,
          5,
          2,
          8,
          5,
          5,
          3,
          5,
          8,
          7,
          1,
          9,
          5,
          4,
          3,
          4,
          5,
          2,
          4,
          4,
          2,
          3,
          3,
          5,
          3,
          1,
          2,
          1,
          1,
          2,
          2,
          1,
          1,
          1,
          2,
          1,
          2,
          2,
          2,
          1,
          1,
          1,
          2,
          2,
          2,
          1,
          2,
          1,
          2,
          2,
          1,
          2,
          1,
          3,
          1,
          4,
          3,
          2,
          1,
          3,
          1,
          6,
          4,
          5,
          5,
          5,
          4,
          3,
          2,
          6,
          10,
          3,
          6,
          3,
          4,
          2,
          5,
          4,
          5,
          2,
          3,
          3,
          4,
          10,
          1,
          7,
          7,
          5,
          6,
          4,
          4,
          3,
          5,
          5,
          4,
          9,
          4,
          9,
          7,
          4,
          7,
          3,
          5,
          7,
          4,
          2,
          9,
          3,
          1,
          5,
          2,
          4,
          4,
          2,
          3,
          3,
          3,
          2,
          1,
          1,
          3,
          1,
          1,
          3,
          3,
          3,
          2,
          1,
          1,
          2,
          3,
          2,
          3,
          1,
          3,
          1,
          1,
          3,
          1,
          1,
          1,
          1,
          2,
          3,
          4,
          2,
          3,
          2,
          1,
          3,
          1,
          1,
          2,
          1,
          2,
          5,
          3,
          6,
          5,
          2,
          4,
          4,
          8,
          6,
          5,
          5,
          4,
          1,
          6,
          2,
          6,
          4,
          11,
          4,
          6,
          4,
          3,
          3,
          4,
          4,
          4,
          4,
          7,
          3,
          2,
          6,
          4,
          2,
          3,
          3,
          4,
          3,
          3,
          2,
          6,
          6,
          1,
          5,
          6,
          1,
          3,
          2,
          1,
          4,
          6,
          1,
          3,
          1,
          3,
          2,
          2,
          3,
          2,
          2,
          1,
          1,
          3,
          1,
          2,
          1,
          2,
          1,
          3,
          1,
          1,
          1,
          1,
          1,
          1,
          2,
          2,
          3,
          1,
          2,
          1,
          3,
          1,
          1,
          2,
          2,
          2,
          2,
          2,
          4,
          4,
          2,
          3,
          4,
          3,
          7,
          5,
          6,
          4,
          3,
          3,
          5,
          5,
          9,
          4,
          4,
          5,
          5,
          4,
          11,
          6,
          3,
          2,
          8,
          6,
          7,
          1,
          5,
          2,
          7,
          7,
          7,
          2,
          5,
          4,
          7,
          7,
          2,
          6,
          1,
          6,
          4,
          3,
          2,
          4,
          2,
          5,
          2,
          3,
          1,
          2,
          4,
          1,
          1,
          3,
          1,
          2,
          5,
          1,
          3,
          3,
          2,
          2,
          2,
          3,
          1,
          1,
          2,
          2,
          3,
          2,
          2,
          1,
          2,
          2,
          4,
          1,
          2,
          3,
          1,
          4,
          2,
          2,
          2,
          1,
          1,
          3,
          1,
          2,
          1,
          5,
          4,
          6,
          3,
          4,
          2,
          7,
          3,
          5,
          4,
          2,
          4,
          3,
          5,
          3,
          7,
          7,
          1,
          6,
          3,
          9,
          2,
          8,
          4,
          3,
          2,
          5,
          1,
          6,
          1,
          5,
          1,
          2,
          6,
          5,
          2,
          2,
          3,
          4,
          3,
          1,
          4,
          1,
          3,
          1,
          2,
          3,
          4,
          2,
          3,
          2,
          2,
          3,
          1,
          4,
          2,
          2,
          3,
          1,
          1,
          2,
          3,
          2,
          2,
          1,
          1,
          4,
          2,
          2,
          1,
          2,
          1,
          1,
          1,
          2,
          1,
          1,
          2,
          3,
          5,
          2,
          4,
          3,
          9,
          3,
          3,
          5,
          1,
          4,
          3,
          3,
          5,
          2,
          4,
          1,
          8,
          5,
          2,
          3,
          2,
          3,
          2,
          2,
          5,
          1,
          5,
          4,
          2,
          7,
          2,
          5,
          4,
          5,
          7,
          2,
          4,
          2,
          5,
          2,
          3,
          4,
          1,
          3,
          3,
          5,
          2,
          4,
          4,
          3,
          1,
          2,
          1,
          1,
          2,
          1,
          3,
          1,
          3,
          1,
          2,
          1,
          2,
          1,
          3,
          2,
          1,
          1,
          1,
          1,
          3,
          3,
          4,
          3,
          1,
          1,
          1,
          1,
          2,
          1,
          4,
          2,
          4,
          2,
          2,
          2,
          5,
          3,
          5,
          6,
          5,
          2,
          4,
          4,
          5,
          6,
          4,
          2,
          3,
          3,
          1,
          2,
          4,
          2,
          5,
          3,
          4,
          5,
          5,
          2,
          5,
          6,
          2,
          7,
          5,
          2,
          4,
          4,
          3,
          2,
          3,
          4,
          1,
          2,
          2,
          1,
          2,
          4,
          3,
          3,
          1,
          2,
          3,
          3,
          1,
          3,
          2,
          3,
          2,
          1,
          4,
          1,
          1,
          1,
          2,
          1,
          1,
          1,
          1,
          1,
          4,
          3,
          1,
          1,
          1,
          2,
          3,
          1,
          3,
          1,
          2,
          5,
          2,
          2,
          3,
          2,
          1,
          2,
          2,
          3,
          1,
          2,
          3,
          1,
          3,
          4,
          1,
          2,
          3,
          2,
          5,
          3,
          3,
          4,
          1,
          1,
          5,
          2,
          2,
          4,
          4,
          2,
          1,
          3,
          3,
          2,
          2,
          3,
          2,
          3,
          2,
          2,
          1,
          4,
          6,
          1,
          3,
          2,
          1,
          3,
          6,
          1,
          2,
          2,
          1,
          3,
          1,
          2,
          2,
          1,
          1,
          2,
          2,
          1,
          2,
          2,
          1,
          2,
          1,
          2,
          1,
          1,
          1,
          1,
          1,
          1,
          1,
          1,
          1,
          1,
          1,
          1,
          1,
          2,
          1,
          1,
          1,
          1,
          1,
          1,
          1,
          5,
          1,
          1,
          1,
          2,
          2,
          2,
          3,
          2,
          2,
          1,
          1,
          2,
          2,
          1,
          1,
          1,
          2,
          2,
          1,
          4,
          3,
          4,
          1,
          2,
          3,
          2,
          1,
          2,
          4,
          1,
          1,
          3,
          2,
          1,
          3,
          1,
          1,
          1,
          1,
          1,
          2,
          1,
          1,
          1,
          1,
          1,
          1,
          1,
          1,
          1,
          1,
          2,
          1,
          1
         ],
         "yaxis": "y"
        },
        {
         "alignmentgroup": "True",
         "hovertemplate": "Churn=No<br>MonthlyCharges=%{x}<extra></extra>",
         "legendgroup": "No",
         "marker": {
          "color": "red"
         },
         "name": "No",
         "notched": true,
         "offsetgroup": "No",
         "showlegend": false,
         "type": "box",
         "x": [
          24.15,
          24.2,
          24.3,
          24.35,
          24.4,
          24.5,
          24.6,
          24.7,
          24.85,
          24.9,
          24.95,
          25,
          25.05,
          25.1,
          25.15,
          25.2,
          25.25,
          25.35,
          25.55,
          25.65,
          25.85,
          26.05,
          28.5,
          29.05,
          29.1,
          29.15,
          29.2,
          29.25,
          29.3,
          29.35,
          29.45,
          29.5,
          29.6,
          29.65,
          29.75,
          29.8,
          29.85,
          29.9,
          30.05,
          30.1,
          30.15,
          30.2,
          30.25,
          30.35,
          30.4,
          30.5,
          30.55,
          30.75,
          30.85,
          31.05,
          31.1,
          31.2,
          31.65,
          33.15,
          33.45,
          33.6,
          33.7,
          33.75,
          34,
          34.05,
          34.2,
          34.25,
          34.3,
          34.4,
          34.55,
          34.6,
          34.65,
          34.7,
          34.8,
          34.85,
          34.95,
          35,
          35.05,
          35.1,
          35.15,
          35.2,
          35.3,
          35.35,
          35.4,
          35.45,
          35.5,
          35.55,
          35.6,
          35.65,
          35.7,
          35.75,
          35.8,
          35.9,
          36,
          36.05,
          36.1,
          36.15,
          36.25,
          36.65,
          37.7,
          38.1,
          38.25,
          38.5,
          38.55,
          38.6,
          38.8,
          38.85,
          38.9,
          39,
          39.1,
          39.15,
          39.2,
          39.35,
          39.4,
          39.45,
          39.5,
          39.55,
          39.6,
          39.65,
          39.7,
          39.85,
          39.9,
          39.95,
          40.05,
          40.1,
          40.15,
          40.2,
          40.25,
          40.3,
          40.35,
          40.4,
          40.45,
          40.55,
          40.6,
          40.65,
          40.7,
          40.75,
          40.9,
          41.1,
          41.15,
          41.35,
          41.9,
          41.95,
          42.1,
          42.3,
          42.4,
          43.05,
          43.35,
          43.45,
          43.55,
          43.6,
          43.7,
          43.75,
          43.8,
          43.85,
          43.9,
          43.95,
          44,
          44.05,
          44.1,
          44.15,
          44.25,
          44.3,
          44.35,
          44.4,
          44.45,
          44.5,
          44.55,
          44.6,
          44.65,
          44.7,
          44.75,
          44.8,
          44.85,
          44.9,
          44.95,
          45,
          45.05,
          45.1,
          45.15,
          45.2,
          45.25,
          45.3,
          45.35,
          45.4,
          45.45,
          45.5,
          45.55,
          45.6,
          45.65,
          45.75,
          45.8,
          45.85,
          45.9,
          46,
          46.1,
          46.2,
          46.25,
          46.3,
          46.35,
          46.4,
          46.6,
          47.05,
          47.4,
          47.6,
          47.85,
          47.95,
          48.15,
          48.2,
          48.25,
          48.4,
          48.45,
          48.6,
          48.65,
          48.7,
          48.75,
          48.8,
          48.85,
          48.9,
          48.95,
          49,
          49.05,
          49.15,
          49.2,
          49.25,
          49.3,
          49.35,
          49.4,
          49.45,
          49.5,
          49.55,
          49.6,
          49.65,
          49.7,
          49.75,
          49.8,
          49.85,
          49.9,
          49.95,
          50,
          50.05,
          50.1,
          50.15,
          50.2,
          50.25,
          50.3,
          50.35,
          50.4,
          50.45,
          50.5,
          50.55,
          50.6,
          50.65,
          50.7,
          50.75,
          50.8,
          50.85,
          50.9,
          50.95,
          51,
          51.05,
          51.1,
          51.15,
          51.2,
          51.25,
          51.3,
          51.35,
          51.4,
          51.45,
          51.55,
          51.6,
          51.65,
          51.7,
          51.8,
          52,
          52.1,
          52.15,
          52.3,
          52.5,
          52.55,
          52.7,
          52.85,
          53,
          53.1,
          53.15,
          53.3,
          53.35,
          53.4,
          53.45,
          53.5,
          53.55,
          53.6,
          53.65,
          53.7,
          53.75,
          53.8,
          53.85,
          53.95,
          54,
          54.05,
          54.1,
          54.15,
          54.2,
          54.25,
          54.3,
          54.35,
          54.4,
          54.45,
          54.5,
          54.55,
          54.6,
          54.65,
          54.7,
          54.75,
          54.8,
          54.85,
          54.9,
          54.95,
          55,
          55.05,
          55.1,
          55.15,
          55.2,
          55.25,
          55.3,
          55.35,
          55.45,
          55.5,
          55.55,
          55.6,
          55.65,
          55.7,
          55.75,
          55.8,
          55.85,
          55.9,
          55.95,
          56,
          56.05,
          56.1,
          56.15,
          56.2,
          56.25,
          56.3,
          56.35,
          56.4,
          56.45,
          56.55,
          56.6,
          56.7,
          56.75,
          56.8,
          56.85,
          56.9,
          56.95,
          57.2,
          57.5,
          57.55,
          57.6,
          57.65,
          57.75,
          57.8,
          57.95,
          58,
          58.2,
          58.25,
          58.35,
          58.4,
          58.45,
          58.5,
          58.55,
          58.6,
          58.65,
          58.7,
          58.75,
          58.85,
          58.9,
          58.95,
          59,
          59.05,
          59.1,
          59.15,
          59.2,
          59.25,
          59.3,
          59.4,
          59.45,
          59.5,
          59.55,
          59.6,
          59.65,
          59.7,
          59.75,
          59.8,
          59.85,
          59.9,
          59.95,
          60,
          60.05,
          60.15,
          60.2,
          60.25,
          60.3,
          60.35,
          60.4,
          60.45,
          60.5,
          60.55,
          60.6,
          60.65,
          60.7,
          60.75,
          60.8,
          60.85,
          60.9,
          60.95,
          61,
          61.05,
          61.1,
          61.15,
          61.2,
          61.25,
          61.3,
          61.35,
          61.4,
          61.45,
          61.5,
          61.55,
          61.6,
          61.65,
          61.75,
          61.8,
          61.9,
          61.95,
          62.05,
          62.1,
          62.15,
          62.25,
          62.45,
          62.5,
          62.55,
          62.65,
          62.8,
          62.85,
          63.05,
          63.1,
          63.15,
          63.25,
          63.3,
          63.35,
          63.4,
          63.55,
          63.7,
          63.75,
          63.8,
          63.85,
          63.9,
          63.95,
          64,
          64.05,
          64.1,
          64.15,
          64.2,
          64.25,
          64.3,
          64.35,
          64.4,
          64.45,
          64.5,
          64.55,
          64.6,
          64.65,
          64.7,
          64.75,
          64.8,
          64.85,
          64.9,
          64.95,
          65,
          65.05,
          65.1,
          65.15,
          65.2,
          65.25,
          65.3,
          65.35,
          65.4,
          65.45,
          65.5,
          65.55,
          65.6,
          65.65,
          65.7,
          65.75,
          65.8,
          65.85,
          65.9,
          66,
          66.05,
          66.1,
          66.15,
          66.2,
          66.25,
          66.3,
          66.4,
          66.5,
          66.6,
          66.65,
          66.7,
          66.75,
          66.8,
          66.85,
          66.9,
          67.05,
          67.2,
          67.25,
          67.4,
          67.45,
          67.6,
          67.65,
          67.7,
          67.8,
          67.85,
          67.95,
          68.05,
          68.1,
          68.15,
          68.25,
          68.3,
          68.35,
          68.4,
          68.45,
          68.5,
          68.55,
          68.6,
          68.65,
          68.7,
          68.75,
          68.8,
          68.85,
          68.9,
          68.95,
          69,
          69.05,
          69.1,
          69.15,
          69.2,
          69.25,
          69.3,
          69.35,
          69.4,
          69.45,
          69.5,
          69.55,
          69.6,
          69.65,
          69.7,
          69.75,
          69.8,
          69.85,
          69.9,
          69.95,
          70,
          70.05,
          70.1,
          70.15,
          70.2,
          70.25,
          70.3,
          70.35,
          70.4,
          70.45,
          70.5,
          70.55,
          70.6,
          70.65,
          70.7,
          70.75,
          70.8,
          70.85,
          70.9,
          70.95,
          71,
          71.05,
          71.1,
          71.25,
          71.3,
          71.35,
          71.4,
          71.45,
          71.5,
          71.55,
          71.6,
          71.65,
          71.7,
          71.75,
          71.8,
          71.85,
          71.9,
          71.95,
          72,
          72.1,
          72.25,
          72.35,
          72.45,
          72.6,
          72.75,
          72.8,
          72.9,
          72.95,
          73,
          73.05,
          73.1,
          73.15,
          73.25,
          73.3,
          73.35,
          73.45,
          73.5,
          73.55,
          73.6,
          73.65,
          73.7,
          73.75,
          73.8,
          73.85,
          73.9,
          74,
          74.05,
          74.1,
          74.15,
          74.2,
          74.25,
          74.3,
          74.35,
          74.4,
          74.45,
          74.5,
          74.55,
          74.6,
          74.65,
          74.7,
          74.75,
          74.8,
          74.85,
          74.9,
          74.95,
          75,
          75.05,
          75.1,
          75.15,
          75.2,
          75.25,
          75.3,
          75.35,
          75.4,
          75.45,
          75.5,
          75.55,
          75.6,
          75.65,
          75.7,
          75.75,
          75.8,
          75.85,
          75.9,
          75.95,
          76,
          76.05,
          76.1,
          76.15,
          76.2,
          76.25,
          76.3,
          76.35,
          76.4,
          76.45,
          76.5,
          76.55,
          76.6,
          76.75,
          76.8,
          76.85,
          76.9,
          76.95,
          77.15,
          77.2,
          77.3,
          77.35,
          77.4,
          77.55,
          77.75,
          77.8,
          77.9,
          78,
          78.1,
          78.15,
          78.2,
          78.3,
          78.35,
          78.4,
          78.45,
          78.5,
          78.55,
          78.6,
          78.65,
          78.7,
          78.75,
          78.8,
          78.85,
          78.9,
          78.95,
          79,
          79.05,
          79.1,
          79.15,
          79.2,
          79.25,
          79.3,
          79.35,
          79.4,
          79.45,
          79.5,
          79.55,
          79.6,
          79.65,
          79.7,
          79.75,
          79.8,
          79.85,
          79.9,
          79.95,
          80,
          80.05,
          80.1,
          80.15,
          80.2,
          80.25,
          80.3,
          80.35,
          80.4,
          80.45,
          80.5,
          80.55,
          80.6,
          80.65,
          80.7,
          80.75,
          80.8,
          80.85,
          80.9,
          80.95,
          81,
          81.05,
          81.1,
          81.15,
          81.2,
          81.25,
          81.3,
          81.35,
          81.4,
          81.45,
          81.5,
          81.55,
          81.6,
          81.65,
          81.7,
          81.75,
          81.8,
          81.85,
          81.9,
          81.95,
          82,
          82.05,
          82.1,
          82.15,
          82.3,
          82.45,
          82.5,
          82.55,
          82.65,
          82.7,
          82.75,
          82.85,
          82.9,
          82.95,
          83,
          83.05,
          83.15,
          83.2,
          83.25,
          83.3,
          83.4,
          83.45,
          83.5,
          83.55,
          83.6,
          83.65,
          83.7,
          83.75,
          83.8,
          83.85,
          84,
          84.05,
          84.1,
          84.15,
          84.2,
          84.25,
          84.3,
          84.35,
          84.4,
          84.45,
          84.5,
          84.55,
          84.6,
          84.65,
          84.7,
          84.75,
          84.8,
          84.85,
          84.9,
          84.95,
          85,
          85.05,
          85.1,
          85.15,
          85.2,
          85.25,
          85.3,
          85.35,
          85.4,
          85.45,
          85.5,
          85.55,
          85.6,
          85.65,
          85.7,
          85.75,
          85.8,
          85.85,
          85.9,
          85.95,
          86,
          86.05,
          86.1,
          86.15,
          86.2,
          86.25,
          86.35,
          86.4,
          86.45,
          86.5,
          86.55,
          86.6,
          86.65,
          86.7,
          86.75,
          86.8,
          86.85,
          86.9,
          86.95,
          87,
          87.1,
          87.15,
          87.2,
          87.25,
          87.3,
          87.35,
          87.55,
          87.6,
          87.65,
          87.7,
          87.75,
          87.8,
          87.9,
          87.95,
          88,
          88.05,
          88.1,
          88.15,
          88.2,
          88.4,
          88.45,
          88.5,
          88.55,
          88.6,
          88.65,
          88.7,
          88.75,
          88.8,
          88.85,
          88.9,
          88.95,
          89,
          89.05,
          89.1,
          89.15,
          89.2,
          89.25,
          89.3,
          89.35,
          89.4,
          89.45,
          89.55,
          89.6,
          89.65,
          89.7,
          89.75,
          89.8,
          89.85,
          89.9,
          89.95,
          90,
          90.05,
          90.1,
          90.15,
          90.2,
          90.25,
          90.3,
          90.35,
          90.4,
          90.45,
          90.5,
          90.55,
          90.6,
          90.65,
          90.7,
          90.75,
          90.8,
          90.85,
          90.95,
          91,
          91.05,
          91.1,
          91.15,
          91.2,
          91.25,
          91.3,
          91.35,
          91.45,
          91.5,
          91.55,
          91.6,
          91.65,
          91.7,
          91.8,
          91.95,
          92,
          92.05,
          92.15,
          92.2,
          92.3,
          92.4,
          92.45,
          92.55,
          92.6,
          92.65,
          92.7,
          92.85,
          92.9,
          92.95,
          93,
          93.05,
          93.15,
          93.2,
          93.25,
          93.3,
          93.35,
          93.4,
          93.45,
          93.5,
          93.55,
          93.6,
          93.65,
          93.7,
          93.75,
          93.8,
          93.85,
          93.9,
          93.95,
          94,
          94.05,
          94.1,
          94.15,
          94.2,
          94.25,
          94.3,
          94.35,
          94.4,
          94.45,
          94.5,
          94.55,
          94.6,
          94.65,
          94.7,
          94.75,
          94.8,
          94.85,
          94.9,
          94.95,
          95,
          95.05,
          95.1,
          95.15,
          95.2,
          95.25,
          95.3,
          95.35,
          95.4,
          95.45,
          95.5,
          95.55,
          95.6,
          95.65,
          95.7,
          95.75,
          95.8,
          95.85,
          95.9,
          95.95,
          96,
          96.1,
          96.2,
          96.35,
          96.4,
          96.5,
          96.55,
          96.6,
          96.65,
          96.75,
          96.8,
          96.85,
          96.9,
          96.95,
          97,
          97.05,
          97.1,
          97.2,
          97.25,
          97.45,
          97.55,
          97.65,
          97.7,
          97.75,
          97.8,
          97.85,
          97.95,
          98,
          98.05,
          98.1,
          98.15,
          98.2,
          98.25,
          98.3,
          98.35,
          98.45,
          98.55,
          98.6,
          98.65,
          98.7,
          98.8,
          98.85,
          98.9,
          99,
          99.05,
          99.1,
          99.15,
          99.2,
          99.25,
          99.3,
          99.35,
          99.4,
          99.45,
          99.5,
          99.55,
          99.65,
          99.7,
          99.75,
          99.8,
          99.85,
          99.9,
          99.95,
          100,
          100.05,
          100.1,
          100.15,
          100.2,
          100.25,
          100.3,
          100.35,
          100.4,
          100.45,
          100.5,
          100.55,
          100.6,
          100.65,
          100.7,
          100.75,
          100.8,
          100.85,
          100.9,
          101,
          101.05,
          101.1,
          101.15,
          101.25,
          101.3,
          101.35,
          101.4,
          101.45,
          101.5,
          101.55,
          101.6,
          101.75,
          101.8,
          101.9,
          102.05,
          102.1,
          102.15,
          102.4,
          102.45,
          102.5,
          102.55,
          102.6,
          102.65,
          102.7,
          102.85,
          102.9,
          103,
          103.05,
          103.1,
          103.15,
          103.2,
          103.25,
          103.3,
          103.4,
          103.45,
          103.5,
          103.6,
          103.65,
          103.7,
          103.75,
          103.8,
          103.85,
          103.9,
          103.95,
          104,
          104.05,
          104.1,
          104.15,
          104.25,
          104.3,
          104.35,
          104.4,
          104.45,
          104.5,
          104.55,
          104.6,
          104.65,
          104.7,
          104.75,
          104.8,
          104.85,
          104.9,
          104.95,
          105,
          105.05,
          105.1,
          105.15,
          105.2,
          105.25,
          105.3,
          105.35,
          105.4,
          105.45,
          105.5,
          105.55,
          105.6,
          105.65,
          105.7,
          105.75,
          105.8,
          105.85,
          105.9,
          105.95,
          106,
          106.05,
          106.1,
          106.15,
          106.2,
          106.3,
          106.35,
          106.4,
          106.45,
          106.5,
          106.6,
          106.65,
          106.7,
          106.75,
          106.8,
          106.85,
          106.9,
          107,
          107.05,
          107.15,
          107.2,
          107.25,
          107.35,
          107.4,
          107.45,
          107.5,
          107.55,
          107.6,
          107.65,
          107.7,
          107.75,
          107.9,
          107.95,
          108,
          108.05,
          108.1,
          108.15,
          108.2,
          108.25,
          108.3,
          108.35,
          108.4,
          108.45,
          108.5,
          108.55,
          108.65,
          108.75,
          108.8,
          108.9,
          108.95,
          109,
          109.05,
          109.1,
          109.15,
          109.2,
          109.25,
          109.3,
          109.4,
          109.45,
          109.5,
          109.55,
          109.6,
          109.65,
          109.7,
          109.75,
          109.8,
          109.85,
          109.9,
          109.95,
          110,
          110.05,
          110.1,
          110.15,
          110.2,
          110.25,
          110.3,
          110.35,
          110.45,
          110.5,
          110.55,
          110.6,
          110.65,
          110.7,
          110.75,
          110.8,
          110.85,
          110.9,
          111.05,
          111.1,
          111.15,
          111.2,
          111.25,
          111.3,
          111.35,
          111.4,
          111.45,
          111.5,
          111.55,
          111.6,
          111.65,
          111.75,
          111.8,
          111.9,
          111.95,
          112.1,
          112.2,
          112.25,
          112.35,
          112.4,
          112.55,
          112.6,
          112.75,
          112.9,
          112.95,
          113,
          113.05,
          113.1,
          113.15,
          113.2,
          113.25,
          113.3,
          113.35,
          113.4,
          113.45,
          113.6,
          113.65,
          113.75,
          113.8,
          113.95,
          114,
          114.05,
          114.1,
          114.3,
          114.35,
          114.45,
          114.5,
          114.55,
          114.6,
          114.65,
          114.7,
          114.75,
          114.85,
          114.9,
          114.95,
          115,
          115.05,
          115.1,
          115.15,
          115.25,
          115.5,
          115.55,
          115.6,
          115.65,
          115.75,
          115.8,
          115.85,
          116,
          116.05,
          116.1,
          116.15,
          116.25,
          116.3,
          116.4,
          116.45,
          116.5,
          116.55,
          116.6,
          116.75,
          116.8,
          116.85,
          116.95,
          117.15,
          117.2,
          117.35,
          117.5,
          117.6,
          118.2,
          118.6,
          118.65,
          118.75
         ],
         "xaxis": "x2",
         "yaxis": "y2"
        }
       ],
       "layout": {
        "barmode": "relative",
        "legend": {
         "title": {
          "text": "Churn"
         },
         "tracegroupgap": 0
        },
        "template": {
         "data": {
          "bar": [
           {
            "error_x": {
             "color": "#2a3f5f"
            },
            "error_y": {
             "color": "#2a3f5f"
            },
            "marker": {
             "line": {
              "color": "#E5ECF6",
              "width": 0.5
             },
             "pattern": {
              "fillmode": "overlay",
              "size": 10,
              "solidity": 0.2
             }
            },
            "type": "bar"
           }
          ],
          "barpolar": [
           {
            "marker": {
             "line": {
              "color": "#E5ECF6",
              "width": 0.5
             },
             "pattern": {
              "fillmode": "overlay",
              "size": 10,
              "solidity": 0.2
             }
            },
            "type": "barpolar"
           }
          ],
          "carpet": [
           {
            "aaxis": {
             "endlinecolor": "#2a3f5f",
             "gridcolor": "white",
             "linecolor": "white",
             "minorgridcolor": "white",
             "startlinecolor": "#2a3f5f"
            },
            "baxis": {
             "endlinecolor": "#2a3f5f",
             "gridcolor": "white",
             "linecolor": "white",
             "minorgridcolor": "white",
             "startlinecolor": "#2a3f5f"
            },
            "type": "carpet"
           }
          ],
          "choropleth": [
           {
            "colorbar": {
             "outlinewidth": 0,
             "ticks": ""
            },
            "type": "choropleth"
           }
          ],
          "contour": [
           {
            "colorbar": {
             "outlinewidth": 0,
             "ticks": ""
            },
            "colorscale": [
             [
              0,
              "#0d0887"
             ],
             [
              0.1111111111111111,
              "#46039f"
             ],
             [
              0.2222222222222222,
              "#7201a8"
             ],
             [
              0.3333333333333333,
              "#9c179e"
             ],
             [
              0.4444444444444444,
              "#bd3786"
             ],
             [
              0.5555555555555556,
              "#d8576b"
             ],
             [
              0.6666666666666666,
              "#ed7953"
             ],
             [
              0.7777777777777778,
              "#fb9f3a"
             ],
             [
              0.8888888888888888,
              "#fdca26"
             ],
             [
              1,
              "#f0f921"
             ]
            ],
            "type": "contour"
           }
          ],
          "contourcarpet": [
           {
            "colorbar": {
             "outlinewidth": 0,
             "ticks": ""
            },
            "type": "contourcarpet"
           }
          ],
          "heatmap": [
           {
            "colorbar": {
             "outlinewidth": 0,
             "ticks": ""
            },
            "colorscale": [
             [
              0,
              "#0d0887"
             ],
             [
              0.1111111111111111,
              "#46039f"
             ],
             [
              0.2222222222222222,
              "#7201a8"
             ],
             [
              0.3333333333333333,
              "#9c179e"
             ],
             [
              0.4444444444444444,
              "#bd3786"
             ],
             [
              0.5555555555555556,
              "#d8576b"
             ],
             [
              0.6666666666666666,
              "#ed7953"
             ],
             [
              0.7777777777777778,
              "#fb9f3a"
             ],
             [
              0.8888888888888888,
              "#fdca26"
             ],
             [
              1,
              "#f0f921"
             ]
            ],
            "type": "heatmap"
           }
          ],
          "heatmapgl": [
           {
            "colorbar": {
             "outlinewidth": 0,
             "ticks": ""
            },
            "colorscale": [
             [
              0,
              "#0d0887"
             ],
             [
              0.1111111111111111,
              "#46039f"
             ],
             [
              0.2222222222222222,
              "#7201a8"
             ],
             [
              0.3333333333333333,
              "#9c179e"
             ],
             [
              0.4444444444444444,
              "#bd3786"
             ],
             [
              0.5555555555555556,
              "#d8576b"
             ],
             [
              0.6666666666666666,
              "#ed7953"
             ],
             [
              0.7777777777777778,
              "#fb9f3a"
             ],
             [
              0.8888888888888888,
              "#fdca26"
             ],
             [
              1,
              "#f0f921"
             ]
            ],
            "type": "heatmapgl"
           }
          ],
          "histogram": [
           {
            "marker": {
             "pattern": {
              "fillmode": "overlay",
              "size": 10,
              "solidity": 0.2
             }
            },
            "type": "histogram"
           }
          ],
          "histogram2d": [
           {
            "colorbar": {
             "outlinewidth": 0,
             "ticks": ""
            },
            "colorscale": [
             [
              0,
              "#0d0887"
             ],
             [
              0.1111111111111111,
              "#46039f"
             ],
             [
              0.2222222222222222,
              "#7201a8"
             ],
             [
              0.3333333333333333,
              "#9c179e"
             ],
             [
              0.4444444444444444,
              "#bd3786"
             ],
             [
              0.5555555555555556,
              "#d8576b"
             ],
             [
              0.6666666666666666,
              "#ed7953"
             ],
             [
              0.7777777777777778,
              "#fb9f3a"
             ],
             [
              0.8888888888888888,
              "#fdca26"
             ],
             [
              1,
              "#f0f921"
             ]
            ],
            "type": "histogram2d"
           }
          ],
          "histogram2dcontour": [
           {
            "colorbar": {
             "outlinewidth": 0,
             "ticks": ""
            },
            "colorscale": [
             [
              0,
              "#0d0887"
             ],
             [
              0.1111111111111111,
              "#46039f"
             ],
             [
              0.2222222222222222,
              "#7201a8"
             ],
             [
              0.3333333333333333,
              "#9c179e"
             ],
             [
              0.4444444444444444,
              "#bd3786"
             ],
             [
              0.5555555555555556,
              "#d8576b"
             ],
             [
              0.6666666666666666,
              "#ed7953"
             ],
             [
              0.7777777777777778,
              "#fb9f3a"
             ],
             [
              0.8888888888888888,
              "#fdca26"
             ],
             [
              1,
              "#f0f921"
             ]
            ],
            "type": "histogram2dcontour"
           }
          ],
          "mesh3d": [
           {
            "colorbar": {
             "outlinewidth": 0,
             "ticks": ""
            },
            "type": "mesh3d"
           }
          ],
          "parcoords": [
           {
            "line": {
             "colorbar": {
              "outlinewidth": 0,
              "ticks": ""
             }
            },
            "type": "parcoords"
           }
          ],
          "pie": [
           {
            "automargin": true,
            "type": "pie"
           }
          ],
          "scatter": [
           {
            "fillpattern": {
             "fillmode": "overlay",
             "size": 10,
             "solidity": 0.2
            },
            "type": "scatter"
           }
          ],
          "scatter3d": [
           {
            "line": {
             "colorbar": {
              "outlinewidth": 0,
              "ticks": ""
             }
            },
            "marker": {
             "colorbar": {
              "outlinewidth": 0,
              "ticks": ""
             }
            },
            "type": "scatter3d"
           }
          ],
          "scattercarpet": [
           {
            "marker": {
             "colorbar": {
              "outlinewidth": 0,
              "ticks": ""
             }
            },
            "type": "scattercarpet"
           }
          ],
          "scattergeo": [
           {
            "marker": {
             "colorbar": {
              "outlinewidth": 0,
              "ticks": ""
             }
            },
            "type": "scattergeo"
           }
          ],
          "scattergl": [
           {
            "marker": {
             "colorbar": {
              "outlinewidth": 0,
              "ticks": ""
             }
            },
            "type": "scattergl"
           }
          ],
          "scattermapbox": [
           {
            "marker": {
             "colorbar": {
              "outlinewidth": 0,
              "ticks": ""
             }
            },
            "type": "scattermapbox"
           }
          ],
          "scatterpolar": [
           {
            "marker": {
             "colorbar": {
              "outlinewidth": 0,
              "ticks": ""
             }
            },
            "type": "scatterpolar"
           }
          ],
          "scatterpolargl": [
           {
            "marker": {
             "colorbar": {
              "outlinewidth": 0,
              "ticks": ""
             }
            },
            "type": "scatterpolargl"
           }
          ],
          "scatterternary": [
           {
            "marker": {
             "colorbar": {
              "outlinewidth": 0,
              "ticks": ""
             }
            },
            "type": "scatterternary"
           }
          ],
          "surface": [
           {
            "colorbar": {
             "outlinewidth": 0,
             "ticks": ""
            },
            "colorscale": [
             [
              0,
              "#0d0887"
             ],
             [
              0.1111111111111111,
              "#46039f"
             ],
             [
              0.2222222222222222,
              "#7201a8"
             ],
             [
              0.3333333333333333,
              "#9c179e"
             ],
             [
              0.4444444444444444,
              "#bd3786"
             ],
             [
              0.5555555555555556,
              "#d8576b"
             ],
             [
              0.6666666666666666,
              "#ed7953"
             ],
             [
              0.7777777777777778,
              "#fb9f3a"
             ],
             [
              0.8888888888888888,
              "#fdca26"
             ],
             [
              1,
              "#f0f921"
             ]
            ],
            "type": "surface"
           }
          ],
          "table": [
           {
            "cells": {
             "fill": {
              "color": "#EBF0F8"
             },
             "line": {
              "color": "white"
             }
            },
            "header": {
             "fill": {
              "color": "#C8D4E3"
             },
             "line": {
              "color": "white"
             }
            },
            "type": "table"
           }
          ]
         },
         "layout": {
          "annotationdefaults": {
           "arrowcolor": "#2a3f5f",
           "arrowhead": 0,
           "arrowwidth": 1
          },
          "autotypenumbers": "strict",
          "coloraxis": {
           "colorbar": {
            "outlinewidth": 0,
            "ticks": ""
           }
          },
          "colorscale": {
           "diverging": [
            [
             0,
             "#8e0152"
            ],
            [
             0.1,
             "#c51b7d"
            ],
            [
             0.2,
             "#de77ae"
            ],
            [
             0.3,
             "#f1b6da"
            ],
            [
             0.4,
             "#fde0ef"
            ],
            [
             0.5,
             "#f7f7f7"
            ],
            [
             0.6,
             "#e6f5d0"
            ],
            [
             0.7,
             "#b8e186"
            ],
            [
             0.8,
             "#7fbc41"
            ],
            [
             0.9,
             "#4d9221"
            ],
            [
             1,
             "#276419"
            ]
           ],
           "sequential": [
            [
             0,
             "#0d0887"
            ],
            [
             0.1111111111111111,
             "#46039f"
            ],
            [
             0.2222222222222222,
             "#7201a8"
            ],
            [
             0.3333333333333333,
             "#9c179e"
            ],
            [
             0.4444444444444444,
             "#bd3786"
            ],
            [
             0.5555555555555556,
             "#d8576b"
            ],
            [
             0.6666666666666666,
             "#ed7953"
            ],
            [
             0.7777777777777778,
             "#fb9f3a"
            ],
            [
             0.8888888888888888,
             "#fdca26"
            ],
            [
             1,
             "#f0f921"
            ]
           ],
           "sequentialminus": [
            [
             0,
             "#0d0887"
            ],
            [
             0.1111111111111111,
             "#46039f"
            ],
            [
             0.2222222222222222,
             "#7201a8"
            ],
            [
             0.3333333333333333,
             "#9c179e"
            ],
            [
             0.4444444444444444,
             "#bd3786"
            ],
            [
             0.5555555555555556,
             "#d8576b"
            ],
            [
             0.6666666666666666,
             "#ed7953"
            ],
            [
             0.7777777777777778,
             "#fb9f3a"
            ],
            [
             0.8888888888888888,
             "#fdca26"
            ],
            [
             1,
             "#f0f921"
            ]
           ]
          },
          "colorway": [
           "#636efa",
           "#EF553B",
           "#00cc96",
           "#ab63fa",
           "#FFA15A",
           "#19d3f3",
           "#FF6692",
           "#B6E880",
           "#FF97FF",
           "#FECB52"
          ],
          "font": {
           "color": "#2a3f5f"
          },
          "geo": {
           "bgcolor": "white",
           "lakecolor": "white",
           "landcolor": "#E5ECF6",
           "showlakes": true,
           "showland": true,
           "subunitcolor": "white"
          },
          "hoverlabel": {
           "align": "left"
          },
          "hovermode": "closest",
          "mapbox": {
           "style": "light"
          },
          "paper_bgcolor": "white",
          "plot_bgcolor": "#E5ECF6",
          "polar": {
           "angularaxis": {
            "gridcolor": "white",
            "linecolor": "white",
            "ticks": ""
           },
           "bgcolor": "#E5ECF6",
           "radialaxis": {
            "gridcolor": "white",
            "linecolor": "white",
            "ticks": ""
           }
          },
          "scene": {
           "xaxis": {
            "backgroundcolor": "#E5ECF6",
            "gridcolor": "white",
            "gridwidth": 2,
            "linecolor": "white",
            "showbackground": true,
            "ticks": "",
            "zerolinecolor": "white"
           },
           "yaxis": {
            "backgroundcolor": "#E5ECF6",
            "gridcolor": "white",
            "gridwidth": 2,
            "linecolor": "white",
            "showbackground": true,
            "ticks": "",
            "zerolinecolor": "white"
           },
           "zaxis": {
            "backgroundcolor": "#E5ECF6",
            "gridcolor": "white",
            "gridwidth": 2,
            "linecolor": "white",
            "showbackground": true,
            "ticks": "",
            "zerolinecolor": "white"
           }
          },
          "shapedefaults": {
           "line": {
            "color": "#2a3f5f"
           }
          },
          "ternary": {
           "aaxis": {
            "gridcolor": "white",
            "linecolor": "white",
            "ticks": ""
           },
           "baxis": {
            "gridcolor": "white",
            "linecolor": "white",
            "ticks": ""
           },
           "bgcolor": "#E5ECF6",
           "caxis": {
            "gridcolor": "white",
            "linecolor": "white",
            "ticks": ""
           }
          },
          "title": {
           "x": 0.05
          },
          "xaxis": {
           "automargin": true,
           "gridcolor": "white",
           "linecolor": "white",
           "ticks": "",
           "title": {
            "standoff": 15
           },
           "zerolinecolor": "white",
           "zerolinewidth": 2
          },
          "yaxis": {
           "automargin": true,
           "gridcolor": "white",
           "linecolor": "white",
           "ticks": "",
           "title": {
            "standoff": 15
           },
           "zerolinecolor": "white",
           "zerolinewidth": 2
          }
         }
        },
        "title": {
         "text": "Churn rate frequency to MonthlyCharges distribution"
        },
        "xaxis": {
         "anchor": "y",
         "domain": [
          0,
          1
         ],
         "title": {
          "text": "MonthlyCharges"
         }
        },
        "xaxis2": {
         "anchor": "y2",
         "domain": [
          0,
          1
         ],
         "matches": "x",
         "showgrid": true,
         "showticklabels": false
        },
        "yaxis": {
         "anchor": "x",
         "domain": [
          0,
          0.7326
         ],
         "title": {
          "text": "sum of Count"
         }
        },
        "yaxis2": {
         "anchor": "x2",
         "domain": [
          0.7426,
          1
         ],
         "matches": "y2",
         "showgrid": false,
         "showline": false,
         "showticklabels": false,
         "ticks": ""
        }
       }
      }
     },
     "metadata": {},
     "output_type": "display_data"
    },
    {
     "data": {
      "application/vnd.plotly.v1+json": {
       "config": {
        "plotlyServerURL": "https://plot.ly"
       },
       "data": [
        {
         "alignmentgroup": "True",
         "bingroup": "x",
         "histfunc": "sum",
         "hovertemplate": "Churn=Yes<br>TotalCharges=%{x}<br>sum of Count=%{y}<extra></extra>",
         "legendgroup": "Yes",
         "marker": {
          "color": "green",
          "pattern": {
           "shape": ""
          }
         },
         "name": "Yes",
         "offsetgroup": "Yes",
         "orientation": "v",
         "showlegend": true,
         "type": "histogram",
         "x": [
          23.45,
          24.25,
          24.45,
          24.6,
          24.75,
          24.8,
          25.05,
          25.1,
          25.15,
          25.2,
          25.25,
          25.3,
          25.7,
          25.8,
          29.7,
          29.95,
          30.2,
          30.5,
          31.35,
          34.7,
          35.05,
          35.25,
          35.45,
          35.55,
          35.75,
          35.9,
          36.45,
          36.55,
          39.65,
          40.1,
          40.2,
          41.85,
          42.9,
          43.3,
          43.95,
          44.1,
          44.15,
          44.35,
          44.4,
          44.45,
          44.65,
          44.7,
          44.9,
          45.05,
          45.1,
          45.15,
          45.3,
          45.4,
          45.6,
          45.65,
          45.7,
          45.75,
          45.8,
          45.85,
          45.95,
          46,
          46.2,
          46.3,
          47.5,
          48.55,
          48.6,
          48.95,
          49.25,
          49.55,
          49.65,
          49.9,
          49.95,
          50.1,
          50.15,
          50.35,
          50.45,
          50.5,
          50.55,
          50.6,
          50.65,
          50.75,
          50.8,
          50.9,
          51.25,
          52.2,
          53.5,
          53.55,
          53.95,
          54.35,
          54.75,
          54.9,
          55,
          55.2,
          55.4,
          55.7,
          55.8,
          56.25,
          56.35,
          58.9,
          59.05,
          59.2,
          59.85,
          60,
          60.1,
          60.15,
          62.05,
          62.25,
          66.95,
          68.5,
          68.65,
          68.75,
          68.95,
          69.1,
          69.15,
          69.2,
          69.25,
          69.35,
          69.4,
          69.5,
          69.55,
          69.6,
          69.65,
          69.7,
          69.75,
          69.8,
          69.85,
          69.9,
          69.95,
          70,
          70.05,
          70.1,
          70.15,
          70.25,
          70.3,
          70.4,
          70.45,
          70.5,
          70.55,
          70.6,
          70.65,
          70.75,
          70.8,
          70.85,
          70.9,
          71,
          71.1,
          71.15,
          71.35,
          71.55,
          71.65,
          72.4,
          73,
          73.5,
          73.55,
          73.6,
          73.65,
          74.2,
          74.25,
          74.3,
          74.35,
          74.4,
          74.45,
          74.5,
          74.6,
          74.7,
          74.9,
          74.95,
          75.05,
          75.1,
          75.3,
          75.35,
          75.45,
          75.6,
          75.7,
          75.75,
          75.8,
          75.9,
          76,
          76.2,
          76.35,
          76.4,
          76.45,
          77.15,
          77.75,
          78.05,
          78.45,
          78.65,
          78.8,
          78.95,
          79.05,
          79.1,
          79.15,
          79.2,
          79.25,
          79.35,
          79.45,
          79.5,
          79.55,
          79.6,
          79.65,
          79.7,
          79.9,
          79.95,
          80,
          80.05,
          80.15,
          80.2,
          80.25,
          80.3,
          80.35,
          80.5,
          80.55,
          80.8,
          80.85,
          81,
          81.1,
          81.25,
          81.7,
          81.95,
          82.3,
          84.3,
          84.5,
          84.6,
          84.65,
          84.8,
          84.85,
          85,
          85.05,
          85.15,
          85.45,
          85.5,
          85.55,
          85.7,
          85.8,
          86,
          86.05,
          86.6,
          88.35,
          88.8,
          89.1,
          89.15,
          89.3,
          89.5,
          89.55,
          89.9,
          90.35,
          90.55,
          90.6,
          90.75,
          90.85,
          91.1,
          91.3,
          91.7,
          92.45,
          92.65,
          93.3,
          93.55,
          93.7,
          93.85,
          94,
          94.4,
          94.55,
          94.6,
          95,
          95.05,
          95.1,
          95.45,
          95.6,
          95.65,
          96.05,
          96.45,
          97.1,
          98.5,
          99.75,
          100.25,
          100.4,
          100.8,
          101.45,
          102.45,
          102.5,
          102.75,
          104.2,
          106.55,
          106.85,
          108.15,
          108.7,
          108.95,
          113.35,
          113.55,
          114.1,
          114.7,
          115.1,
          115.95,
          116.65,
          118.3,
          118.5,
          119.75,
          123.65,
          127.1,
          130.1,
          130.75,
          131.05,
          131.65,
          132.2,
          134.35,
          134.5,
          134.7,
          137.85,
          137.95,
          139.05,
          139.35,
          139.4,
          140.7,
          141.45,
          141.5,
          142.35,
          143.35,
          143.65,
          144.15,
          144.55,
          145.15,
          145.4,
          146.05,
          146.9,
          147.15,
          149.55,
          151.3,
          151.65,
          151.8,
          152.45,
          152.7,
          153.05,
          154.65,
          154.85,
          155.35,
          155.65,
          155.8,
          156.35,
          156.4,
          158.4,
          159.15,
          159.4,
          159.45,
          160.75,
          160.8,
          161.5,
          162.45,
          164.5,
          165,
          165.2,
          165.4,
          165.45,
          166.3,
          167.3,
          167.5,
          168.15,
          168.2,
          169.05,
          169.45,
          169.8,
          170.85,
          171.15,
          172.85,
          174.3,
          174.8,
          178.1,
          178.7,
          179.25,
          179.35,
          180.25,
          181.1,
          181.5,
          181.6,
          181.65,
          181.7,
          183.75,
          184.1,
          184.4,
          184.65,
          185.55,
          187.45,
          188.7,
          189.2,
          190.05,
          191.05,
          191.35,
          193.6,
          193.8,
          195.05,
          195.3,
          196.15,
          196.75,
          196.9,
          196.95,
          197.7,
          198,
          201,
          201.1,
          204.7,
          205.05,
          206.6,
          208.7,
          208.85,
          209.1,
          210.3,
          210.75,
          215.2,
          215.8,
          216.75,
          216.9,
          217.55,
          219,
          219.65,
          220.1,
          220.6,
          220.95,
          221.7,
          221.9,
          222.3,
          223.15,
          223.45,
          224.05,
          225.6,
          226.45,
          228,
          228.4,
          229.5,
          229.55,
          231.8,
          233.7,
          235.1,
          235.5,
          237.25,
          237.75,
          237.95,
          239.55,
          240.45,
          242,
          242.05,
          242.8,
          242.95,
          244.65,
          246.3,
          246.5,
          247.25,
          248.95,
          249.95,
          250.05,
          251.75,
          255.25,
          256.25,
          256.6,
          257.05,
          259.8,
          260.8,
          260.9,
          261.25,
          262.05,
          264.8,
          264.85,
          265.35,
          266.9,
          267.35,
          267.4,
          267.6,
          268.35,
          270.7,
          270.8,
          270.95,
          272.15,
          272.2,
          273,
          273.75,
          279.25,
          279.55,
          280.85,
          281,
          287.4,
          288.05,
          289.1,
          291.4,
          291.9,
          292.8,
          292.85,
          293.3,
          293.65,
          294.45,
          296.1,
          298.35,
          298.45,
          299.2,
          299.7,
          300.8,
          301.4,
          302.75,
          303.15,
          305.1,
          305.55,
          305.95,
          306.6,
          307.4,
          308.25,
          308.7,
          309.1,
          315.3,
          316.9,
          317.25,
          318.5,
          318.9,
          319.15,
          321.65,
          321.75,
          321.9,
          323.25,
          324.25,
          324.3,
          324.6,
          325.45,
          328.95,
          329.8,
          329.95,
          330.05,
          330.15,
          331.3,
          331.9,
          332.45,
          333.55,
          333.6,
          334.65,
          334.8,
          338.1,
          338.9,
          340.25,
          340.85,
          341.45,
          343.95,
          346.2,
          346.4,
          347.25,
          347.4,
          347.65,
          349.65,
          350.3,
          354.05,
          355.2,
          357.75,
          360.1,
          362.2,
          364.55,
          365.35,
          365.4,
          365.55,
          365.65,
          368.1,
          370.65,
          371.65,
          371.9,
          372.45,
          378.4,
          381.3,
          384.5,
          385,
          385.9,
          387.2,
          389.1,
          389.6,
          396.1,
          396.3,
          401.1,
          402.6,
          403.35,
          404.2,
          412.1,
          412.5,
          413.65,
          415.05,
          415.55,
          415.95,
          416.3,
          416.45,
          418.4,
          418.8,
          420.2,
          424.15,
          424.45,
          425.9,
          431,
          434.1,
          434.5,
          435.4,
          438,
          438.25,
          438.4,
          442.2,
          442.85,
          443.9,
          446.05,
          446.1,
          449.75,
          450.8,
          451.1,
          452.7,
          453.4,
          453.75,
          454.15,
          455.3,
          455.5,
          460.25,
          461.7,
          462.8,
          463.05,
          465.05,
          467.55,
          469.8,
          470.6,
          470.95,
          474.8,
          474.9,
          477.55,
          477.7,
          480.6,
          480.75,
          482.8,
          483.7,
          486.85,
          489.45,
          492.55,
          494.05,
          496.9,
          497.55,
          498.1,
          501,
          502.6,
          502.85,
          503.6,
          506.9,
          511.25,
          512.45,
          514,
          518.9,
          519.15,
          520,
          521.1,
          521.3,
          522.95,
          523.15,
          523.5,
          526.7,
          526.95,
          527.9,
          528.35,
          529.5,
          531,
          536.4,
          539.85,
          541.15,
          541.9,
          544.55,
          545.15,
          545.2,
          546.95,
          547.65,
          551.35,
          552.95,
          553,
          556.35,
          560.6,
          560.85,
          563.65,
          567.45,
          573.3,
          573.75,
          575.45,
          576.65,
          577.6,
          582.5,
          583.45,
          585.95,
          586.05,
          587.1,
          593.45,
          593.75,
          597,
          600,
          602.55,
          604.7,
          606.25,
          606.55,
          608,
          608.8,
          609.9,
          613.4,
          620.35,
          620.55,
          622.9,
          627.4,
          631.85,
          632.95,
          633.3,
          633.4,
          635.6,
          639.65,
          644.35,
          646.85,
          649.65,
          651.4,
          654.85,
          655.5,
          655.9,
          659.65,
          660.9,
          661.25,
          662.65,
          663.05,
          665.45,
          667.7,
          668.4,
          669,
          669.45,
          669.85,
          672.55,
          673.1,
          673.25,
          676.7,
          679.3,
          679.55,
          679.85,
          680.05,
          688.65,
          696.35,
          700.85,
          703.55,
          706.6,
          706.85,
          712.75,
          712.85,
          713,
          713.1,
          713.75,
          714.15,
          723.4,
          727.8,
          729.95,
          732.5,
          733.35,
          734.35,
          738.2,
          740,
          740.3,
          740.8,
          741.7,
          742.95,
          746.5,
          751.65,
          754.65,
          757.1,
          758.6,
          762.1,
          762.25,
          762.5,
          764.95,
          765.5,
          770.6,
          773.65,
          777.3,
          778.1,
          780.5,
          788.8,
          790.15,
          791.75,
          793.55,
          794.25,
          799.65,
          803.3,
          805.1,
          809.75,
          810.2,
          810.7,
          811.8,
          813.85,
          815.5,
          818.05,
          819.4,
          819.55,
          820.5,
          824.75,
          825.7,
          829.1,
          829.55,
          830.7,
          830.85,
          832.05,
          832.35,
          834.1,
          834.15,
          834.2,
          837.95,
          840.1,
          842.9,
          846,
          847.3,
          851.75,
          853,
          853.1,
          855.3,
          856.35,
          856.65,
          857.2,
          857.25,
          858.6,
          863.1,
          865.55,
          865.8,
          866.45,
          868.5,
          871.4,
          872.65,
          874.8,
          878.35,
          880.2,
          889.9,
          890.6,
          892.65,
          893.55,
          896.75,
          896.9,
          898.35,
          899.8,
          900.5,
          903.6,
          906.85,
          909.25,
          914,
          914.3,
          916.75,
          916.9,
          918.6,
          919.4,
          923.5,
          926.25,
          927.35,
          930.4,
          933.3,
          934.1,
          937.5,
          937.6,
          939.7,
          940.35,
          941,
          947.3,
          950.2,
          952.3,
          953.45,
          971.3,
          973.25,
          973.45,
          973.55,
          987.95,
          989.45,
          990.85,
          990.9,
          994.55,
          994.8,
          997.65,
          999.45,
          1008.55,
          1008.7,
          1023.9,
          1025.95,
          1029.75,
          1032,
          1036.75,
          1037.75,
          1043.3,
          1043.35,
          1046.1,
          1046.5,
          1047.7,
          1048.85,
          1052.4,
          1054.6,
          1056.95,
          1058.25,
          1058.6,
          1059.55,
          1060.2,
          1060.6,
          1062.1,
          1064.65,
          1067.15,
          1068.85,
          1072,
          1074.3,
          1077.5,
          1078.9,
          1081.45,
          1093.1,
          1094.5,
          1095.3,
          1095.65,
          1096.25,
          1101.85,
          1105.4,
          1107.25,
          1111.65,
          1111.85,
          1115.15,
          1115.2,
          1120.3,
          1120.95,
          1127.2,
          1127.35,
          1129.1,
          1129.75,
          1130.85,
          1131.2,
          1131.3,
          1132.35,
          1132.75,
          1133.65,
          1133.9,
          1135.7,
          1139.2,
          1144.5,
          1145.35,
          1145.7,
          1146.65,
          1147.45,
          1148.1,
          1149.65,
          1152.7,
          1156.1,
          1157.05,
          1162.85,
          1164.3,
          1167.8,
          1169.35,
          1172.95,
          1174.35,
          1178.25,
          1178.4,
          1180.95,
          1193.05,
          1194.3,
          1200.15,
          1201.15,
          1206.05,
          1208.35,
          1210.4,
          1214.05,
          1215.6,
          1217.25,
          1218.55,
          1222.05,
          1222.8,
          1230.25,
          1233.4,
          1233.65,
          1235.55,
          1236.15,
          1237.85,
          1238.45,
          1240.25,
          1244.5,
          1253.9,
          1254.7,
          1258.3,
          1258.6,
          1259,
          1266.1,
          1269.55,
          1270.2,
          1281,
          1284.2,
          1290,
          1301,
          1301.7,
          1308.1,
          1308.4,
          1312.15,
          1313.55,
          1329.2,
          1338.15,
          1345.55,
          1348.9,
          1350.15,
          1358.85,
          1359,
          1359.7,
          1364.3,
          1369.8,
          1375.15,
          1378.25,
          1380.1,
          1384.75,
          1389.2,
          1390.6,
          1400.55,
          1400.85,
          1415.55,
          1422.05,
          1422.1,
          1422.65,
          1424.5,
          1424.95,
          1425.45,
          1426.4,
          1426.75,
          1430.25,
          1441.1,
          1444.65,
          1445.3,
          1448.6,
          1448.8,
          1451.6,
          1451.9,
          1454.15,
          1457.25,
          1460.65,
          1463.45,
          1463.5,
          1465.75,
          1470.95,
          1471.75,
          1474.75,
          1483.25,
          1490.95,
          1496.9,
          1498.2,
          1502.65,
          1504.05,
          1505.85,
          1511.2,
          1515.1,
          1520.9,
          1527.35,
          1527.5,
          1529.2,
          1531.4,
          1532.45,
          1534.75,
          1539.45,
          1544.05,
          1553.9,
          1553.95,
          1554,
          1555.65,
          1561.5,
          1565.7,
          1573.7,
          1574.45,
          1581.2,
          1582.75,
          1587.55,
          1592.35,
          1597.25,
          1604.5,
          1607.2,
          1612.75,
          1616.15,
          1617.5,
          1622.45,
          1625,
          1625.65,
          1637.4,
          1639.3,
          1660,
          1676.95,
          1687.95,
          1692.6,
          1704.95,
          1710.45,
          1712.7,
          1715.65,
          1716.45,
          1727.5,
          1730.35,
          1734.5,
          1740.7,
          1742.75,
          1742.95,
          1743.5,
          1747.85,
          1752.55,
          1758.6,
          1761.05,
          1761.45,
          1767.35,
          1772.25,
          1775.8,
          1776.55,
          1776.95,
          1777.9,
          1779.95,
          1782.4,
          1789.25,
          1808.7,
          1820.45,
          1834.95,
          1836.25,
          1842.8,
          1845.9,
          1852.85,
          1855.65,
          1861.5,
          1863.8,
          1873.7,
          1875.55,
          1880.85,
          1888.65,
          1893.95,
          1899.65,
          1900.25,
          1907.85,
          1910.6,
          1914.9,
          1917.1,
          1929.35,
          1931.75,
          1934.45,
          1943.2,
          1951,
          1970.5,
          1973.75,
          1974.8,
          1993.8,
          1994.3,
          2001.5,
          2010.55,
          2011.4,
          2012.7,
          2015.35,
          2030.3,
          2043.45,
          2068.55,
          2070.6,
          2076.2,
          2082.95,
          2088.75,
          2088.8,
          2095,
          2104.55,
          2109.35,
          2110.15,
          2111.45,
          2119.5,
          2122.05,
          2122.45,
          2135.5,
          2139.2,
          2145,
          2157.95,
          2165.05,
          2169.75,
          2169.8,
          2171.15,
          2177.45,
          2178.6,
          2180.55,
          2184.35,
          2186.4,
          2187.55,
          2196.15,
          2200.25,
          2203.65,
          2217.15,
          2227.1,
          2231.05,
          2238.5,
          2239.65,
          2249.95,
          2250.65,
          2254.2,
          2257.75,
          2264.05,
          2265.25,
          2274.35,
          2274.9,
          2276.95,
          2277.65,
          2282.55,
          2287.25,
          2291.2,
          2293.6,
          2303.35,
          2317.1,
          2319.8,
          2331.3,
          2335.3,
          2342.2,
          2345.2,
          2347.9,
          2351.8,
          2354.8,
          2361.8,
          2362.1,
          2365.15,
          2368.4,
          2369.05,
          2375.4,
          2381.55,
          2384.15,
          2387.75,
          2391.8,
          2404.15,
          2405.05,
          2407.3,
          2416.1,
          2416.55,
          2431.35,
          2433.9,
          2435.15,
          2440.15,
          2447.95,
          2448.75,
          2452.7,
          2460.15,
          2467.1,
          2467.75,
          2470.1,
          2483.05,
          2483.5,
          2496.7,
          2497.2,
          2497.35,
          2498.4,
          2499.3,
          2510.2,
          2514.5,
          2515.3,
          2524.45,
          2530.4,
          2541.25,
          2542.45,
          2550.9,
          2555.9,
          2564.3,
          2566.5,
          2568.55,
          2572.95,
          2576.2,
          2585.95,
          2587.7,
          2596.15,
          2597.6,
          2598.95,
          2602.9,
          2624.25,
          2625.55,
          2628.6,
          2636.05,
          2642.05,
          2649.15,
          2651.2,
          2653.65,
          2655.25,
          2656.5,
          2659.4,
          2660.2,
          2661.1,
          2697.4,
          2698.35,
          2710.25,
          2716.3,
          2718.3,
          2724.6,
          2728.6,
          2745.2,
          2745.7,
          2754.45,
          2755.35,
          2757.85,
          2758.15,
          2781.85,
          2791.5,
          2804.45,
          2806.9,
          2812.2,
          2816.65,
          2838.7,
          2839.65,
          2841.55,
          2847.4,
          2854.55,
          2862.75,
          2866.45,
          2867.75,
          2868.05,
          2868.15,
          2869.85,
          2874.15,
          2890.65,
          2896.4,
          2911.3,
          2917.5,
          2931,
          2933.2,
          2934.3,
          2952.85,
          2954.5,
          2967.35,
          2978.3,
          2979.5,
          2983.8,
          2995.45,
          3001.2,
          3004.15,
          3013.05,
          3014.65,
          3017.65,
          3019.25,
          3019.5,
          3021.6,
          3027.4,
          3029.1,
          3030.6,
          3036.75,
          3046.05,
          3046.15,
          3046.4,
          3050.15,
          3058.65,
          3066.45,
          3067.2,
          3078.1,
          3092.65,
          3105.55,
          3110.1,
          3124.5,
          3132.75,
          3147.5,
          3152.5,
          3160.55,
          3171.15,
          3182.95,
          3183.4,
          3184.25,
          3186.65,
          3186.7,
          3198.6,
          3201.55,
          3204.65,
          3207.55,
          3217.55,
          3229.4,
          3229.65,
          3233.6,
          3233.85,
          3243.45,
          3264.45,
          3264.5,
          3266,
          3273.55,
          3303.05,
          3309.25,
          3326.2,
          3351.55,
          3361.05,
          3365.85,
          3384,
          3395.8,
          3409.6,
          3432.9,
          3436.1,
          3444.85,
          3457.9,
          3467,
          3473.4,
          3474.05,
          3474.45,
          3475.55,
          3480,
          3496.3,
          3515.25,
          3520.75,
          3527.6,
          3541.35,
          3545.35,
          3549.25,
          3563.8,
          3580.3,
          3587.25,
          3588.4,
          3605.2,
          3615.6,
          3624.3,
          3626.1,
          3640.45,
          3653.35,
          3655.45,
          3678.3,
          3692.85,
          3706.95,
          3715.65,
          3734.25,
          3744.05,
          3754.6,
          3759.05,
          3762,
          3777.15,
          3807.35,
          3825.85,
          3856.75,
          3862.55,
          3912.9,
          3913.3,
          3937.45,
          3941.7,
          3959.35,
          3969.35,
          3969.4,
          3994.45,
          4016.85,
          4026.4,
          4029.95,
          4036.85,
          4042.3,
          4045.65,
          4056.75,
          4059.35,
          4062.2,
          4065,
          4086.3,
          4092.85,
          4113.1,
          4116.15,
          4131.95,
          4134.85,
          4138.05,
          4146.05,
          4154.8,
          4186.3,
          4187.75,
          4211.55,
          4213.35,
          4242.35,
          4254.85,
          4259.3,
          4273.45,
          4284.8,
          4323.45,
          4338.6,
          4346.4,
          4348.65,
          4350.1,
          4364.1,
          4367.35,
          4370.25,
          4388.4,
          4398.15,
          4399.5,
          4400.75,
          4414.3,
          4424.2,
          4443.45,
          4458.15,
          4481,
          4504.55,
          4512.7,
          4515.85,
          4517.25,
          4527.45,
          4528,
          4533.7,
          4533.9,
          4534.9,
          4541.2,
          4547.25,
          4594.95,
          4600.7,
          4627.85,
          4653.85,
          4680.05,
          4687.9,
          4689.5,
          4718.25,
          4740,
          4749.15,
          4750.95,
          4759.75,
          4759.85,
          4783.5,
          4812.75,
          4816.7,
          4820.15,
          4822.85,
          4830.25,
          4837.6,
          4853.75,
          4867.95,
          4871.05,
          4872.45,
          4874.7,
          4874.8,
          4888.7,
          4913.3,
          4941.8,
          4990.25,
          5000.2,
          5017.9,
          5029.2,
          5036.3,
          5037.55,
          5069.65,
          5071.05,
          5082.8,
          5084.65,
          5118.95,
          5121.3,
          5124.55,
          5124.6,
          5127.95,
          5149.5,
          5154.6,
          5224.35,
          5238.9,
          5265.1,
          5275.8,
          5278.15,
          5283.95,
          5293.2,
          5293.4,
          5293.95,
          5341.8,
          5356.45,
          5373.1,
          5426.85,
          5427.05,
          5435.6,
          5438.9,
          5440.9,
          5453.4,
          5464.65,
          5485.5,
          5508.35,
          5509.3,
          5510.65,
          5549.4,
          5551.15,
          5568.35,
          5574.75,
          5610.25,
          5610.7,
          5614.45,
          5617.75,
          5624.85,
          5638.3,
          5639.05,
          5643.4,
          5685.8,
          5688.05,
          5742.9,
          5743.05,
          5746.15,
          5763.3,
          5769.6,
          5769.75,
          5785.5,
          5794.65,
          5812.6,
          5885.4,
          5893.15,
          5916.45,
          5918.8,
          5921.35,
          5940.85,
          5961.1,
          6010.05,
          6014.85,
          6017.65,
          6039.9,
          6056.15,
          6110.2,
          6125.4,
          6127.6,
          6137,
          6143.15,
          6144.55,
          6145.85,
          6205.5,
          6215.35,
          6219.6,
          6252.9,
          6254.2,
          6281.45,
          6283.3,
          6287.25,
          6341.45,
          6383.35,
          6396.45,
          6405,
          6413.65,
          6418.9,
          6428.4,
          6440.25,
          6441.4,
          6448.05,
          6465,
          6529.25,
          6547.7,
          6579.05,
          6581.9,
          6585.35,
          6603,
          6615.15,
          6710.5,
          6786.4,
          6822.15,
          6851.65,
          6859.5,
          6871.9,
          6873.75,
          6876.05,
          6886.25,
          6890,
          6903.1,
          6937.95,
          6941.2,
          6975.25,
          6979.8,
          6981.35,
          6985.65,
          7007.6,
          7040.85,
          7101.5,
          7133.25,
          7156.2,
          7176.55,
          7220.35,
          7250.15,
          7262,
          7299.65,
          7318.2,
          7348.8,
          7372.65,
          7432.05,
          7446.9,
          7482.1,
          7491.75,
          7532.15,
          7534.65,
          7548.1,
          7611.85,
          7674.55,
          7689.95,
          7690.9,
          7723.7,
          7723.9,
          7752.3,
          7804.15,
          7856,
          7968.85,
          8109.8,
          8127.6,
          8684.8
         ],
         "xaxis": "x",
         "y": [
          1,
          1,
          1,
          1,
          1,
          3,
          2,
          2,
          1,
          2,
          1,
          1,
          1,
          1,
          1,
          1,
          1,
          1,
          1,
          1,
          1,
          1,
          1,
          1,
          1,
          1,
          1,
          1,
          1,
          1,
          1,
          1,
          1,
          1,
          1,
          1,
          1,
          1,
          3,
          1,
          1,
          1,
          1,
          2,
          3,
          1,
          5,
          1,
          1,
          2,
          3,
          1,
          1,
          2,
          2,
          1,
          1,
          1,
          1,
          1,
          1,
          1,
          1,
          1,
          1,
          1,
          1,
          1,
          1,
          1,
          3,
          1,
          2,
          1,
          1,
          1,
          2,
          1,
          1,
          1,
          1,
          1,
          1,
          1,
          1,
          1,
          2,
          1,
          1,
          1,
          1,
          1,
          1,
          1,
          1,
          1,
          1,
          1,
          1,
          1,
          1,
          1,
          1,
          1,
          1,
          1,
          1,
          3,
          1,
          2,
          2,
          2,
          2,
          2,
          3,
          4,
          4,
          1,
          2,
          2,
          2,
          3,
          3,
          2,
          1,
          2,
          3,
          1,
          3,
          1,
          2,
          1,
          1,
          2,
          1,
          1,
          1,
          2,
          1,
          2,
          1,
          1,
          2,
          1,
          2,
          1,
          1,
          1,
          1,
          1,
          1,
          1,
          1,
          1,
          2,
          2,
          2,
          2,
          2,
          3,
          3,
          1,
          1,
          1,
          4,
          2,
          1,
          1,
          1,
          1,
          1,
          1,
          1,
          1,
          1,
          1,
          1,
          2,
          1,
          1,
          1,
          2,
          1,
          1,
          1,
          1,
          1,
          1,
          1,
          2,
          1,
          1,
          3,
          2,
          1,
          1,
          1,
          1,
          1,
          1,
          1,
          1,
          1,
          1,
          1,
          1,
          2,
          1,
          1,
          1,
          1,
          1,
          1,
          1,
          1,
          1,
          2,
          1,
          1,
          1,
          1,
          2,
          1,
          1,
          2,
          1,
          1,
          1,
          1,
          1,
          1,
          2,
          1,
          1,
          1,
          1,
          1,
          1,
          1,
          1,
          1,
          2,
          2,
          1,
          2,
          2,
          1,
          2,
          1,
          1,
          1,
          1,
          2,
          1,
          1,
          1,
          1,
          1,
          1,
          1,
          1,
          1,
          1,
          1,
          1,
          1,
          1,
          1,
          2,
          1,
          1,
          1,
          1,
          1,
          1,
          1,
          1,
          1,
          1,
          1,
          1,
          1,
          1,
          1,
          1,
          1,
          1,
          1,
          1,
          1,
          1,
          1,
          1,
          1,
          1,
          1,
          2,
          1,
          1,
          1,
          1,
          1,
          1,
          1,
          1,
          1,
          1,
          1,
          1,
          1,
          1,
          1,
          1,
          1,
          2,
          1,
          1,
          1,
          1,
          2,
          1,
          2,
          1,
          1,
          1,
          1,
          1,
          1,
          1,
          1,
          1,
          1,
          1,
          1,
          1,
          1,
          1,
          1,
          1,
          1,
          1,
          1,
          1,
          1,
          1,
          1,
          1,
          1,
          2,
          1,
          2,
          1,
          1,
          1,
          1,
          1,
          1,
          1,
          1,
          1,
          1,
          1,
          1,
          1,
          1,
          1,
          1,
          1,
          1,
          1,
          1,
          1,
          1,
          1,
          1,
          1,
          1,
          1,
          1,
          1,
          1,
          2,
          1,
          1,
          1,
          1,
          1,
          1,
          1,
          1,
          1,
          1,
          1,
          1,
          1,
          1,
          1,
          1,
          1,
          1,
          1,
          1,
          1,
          1,
          1,
          1,
          1,
          1,
          1,
          1,
          1,
          1,
          1,
          1,
          1,
          1,
          1,
          1,
          1,
          1,
          1,
          1,
          2,
          1,
          1,
          1,
          1,
          1,
          1,
          1,
          1,
          1,
          1,
          1,
          1,
          1,
          1,
          1,
          1,
          1,
          1,
          1,
          1,
          1,
          1,
          1,
          1,
          1,
          2,
          1,
          1,
          1,
          1,
          1,
          1,
          1,
          1,
          1,
          1,
          1,
          1,
          1,
          1,
          1,
          1,
          1,
          1,
          1,
          1,
          1,
          1,
          1,
          1,
          1,
          1,
          1,
          1,
          1,
          1,
          1,
          1,
          1,
          1,
          1,
          1,
          1,
          1,
          1,
          1,
          1,
          1,
          1,
          2,
          1,
          1,
          2,
          1,
          1,
          1,
          1,
          1,
          1,
          1,
          1,
          1,
          1,
          1,
          1,
          1,
          1,
          1,
          1,
          1,
          1,
          1,
          1,
          1,
          1,
          1,
          1,
          1,
          1,
          1,
          1,
          1,
          1,
          1,
          1,
          1,
          1,
          1,
          1,
          1,
          1,
          1,
          1,
          1,
          1,
          1,
          1,
          1,
          1,
          1,
          1,
          1,
          1,
          1,
          1,
          1,
          1,
          1,
          1,
          1,
          1,
          1,
          1,
          1,
          1,
          1,
          1,
          1,
          1,
          1,
          1,
          1,
          1,
          1,
          1,
          1,
          1,
          1,
          2,
          1,
          1,
          1,
          1,
          1,
          1,
          1,
          1,
          1,
          1,
          1,
          1,
          1,
          1,
          1,
          1,
          1,
          1,
          1,
          1,
          1,
          2,
          1,
          1,
          1,
          1,
          1,
          1,
          1,
          1,
          1,
          1,
          1,
          1,
          1,
          1,
          1,
          1,
          1,
          1,
          1,
          1,
          1,
          1,
          1,
          1,
          1,
          1,
          1,
          1,
          1,
          1,
          1,
          1,
          1,
          1,
          1,
          2,
          1,
          1,
          1,
          1,
          1,
          1,
          1,
          1,
          1,
          1,
          1,
          1,
          1,
          1,
          1,
          1,
          1,
          1,
          1,
          1,
          1,
          1,
          1,
          1,
          1,
          1,
          1,
          1,
          1,
          1,
          1,
          1,
          1,
          1,
          1,
          1,
          1,
          1,
          1,
          1,
          1,
          1,
          1,
          1,
          1,
          1,
          1,
          1,
          1,
          1,
          1,
          1,
          1,
          1,
          1,
          1,
          1,
          1,
          1,
          1,
          1,
          1,
          1,
          1,
          1,
          1,
          1,
          1,
          1,
          1,
          1,
          1,
          1,
          1,
          1,
          1,
          1,
          1,
          1,
          1,
          1,
          1,
          1,
          1,
          1,
          1,
          1,
          1,
          1,
          1,
          1,
          1,
          1,
          1,
          1,
          1,
          1,
          1,
          1,
          1,
          1,
          1,
          1,
          1,
          1,
          1,
          1,
          1,
          1,
          1,
          1,
          1,
          1,
          1,
          1,
          1,
          1,
          1,
          1,
          1,
          1,
          1,
          1,
          1,
          1,
          1,
          1,
          1,
          1,
          1,
          1,
          1,
          1,
          1,
          1,
          1,
          1,
          1,
          1,
          1,
          1,
          1,
          1,
          1,
          1,
          1,
          1,
          1,
          1,
          1,
          1,
          1,
          1,
          1,
          1,
          1,
          1,
          1,
          1,
          1,
          1,
          1,
          1,
          1,
          1,
          1,
          1,
          1,
          1,
          1,
          1,
          1,
          1,
          1,
          1,
          1,
          1,
          1,
          1,
          1,
          1,
          1,
          1,
          1,
          1,
          1,
          1,
          1,
          1,
          1,
          1,
          1,
          1,
          1,
          1,
          1,
          1,
          1,
          1,
          1,
          1,
          1,
          1,
          1,
          1,
          1,
          1,
          1,
          1,
          1,
          1,
          1,
          1,
          1,
          1,
          1,
          1,
          1,
          1,
          1,
          1,
          1,
          1,
          1,
          1,
          1,
          1,
          1,
          1,
          1,
          1,
          1,
          1,
          1,
          1,
          1,
          1,
          1,
          1,
          1,
          1,
          1,
          1,
          1,
          1,
          1,
          1,
          1,
          1,
          1,
          2,
          1,
          1,
          1,
          1,
          1,
          1,
          1,
          1,
          1,
          1,
          1,
          1,
          1,
          1,
          1,
          1,
          1,
          1,
          1,
          1,
          1,
          1,
          1,
          1,
          1,
          1,
          1,
          1,
          1,
          1,
          1,
          1,
          1,
          1,
          1,
          1,
          1,
          1,
          1,
          1,
          1,
          1,
          1,
          1,
          1,
          1,
          1,
          1,
          1,
          1,
          1,
          1,
          1,
          1,
          1,
          1,
          1,
          1,
          1,
          1,
          1,
          1,
          1,
          1,
          1,
          1,
          1,
          1,
          1,
          1,
          1,
          1,
          1,
          1,
          1,
          1,
          1,
          1,
          1,
          1,
          1,
          1,
          1,
          1,
          1,
          1,
          1,
          1,
          1,
          1,
          1,
          1,
          1,
          1,
          1,
          1,
          1,
          1,
          1,
          1,
          1,
          1,
          1,
          1,
          1,
          1,
          1,
          1,
          1,
          1,
          1,
          1,
          1,
          1,
          1,
          1,
          1,
          1,
          1,
          1,
          1,
          1,
          1,
          1,
          1,
          1,
          1,
          1,
          1,
          1,
          1,
          1,
          1,
          1,
          1,
          1,
          1,
          1,
          1,
          1,
          1,
          1,
          1,
          1,
          1,
          1,
          1,
          1,
          1,
          1,
          1,
          1,
          1,
          1,
          1,
          1,
          1,
          1,
          1,
          1,
          1,
          1,
          1,
          1,
          1,
          1,
          1,
          1,
          1,
          1,
          1,
          1,
          1,
          1,
          1,
          1,
          1,
          1,
          1,
          1,
          1,
          1,
          1,
          1,
          1,
          1,
          1,
          1,
          1,
          1,
          1,
          1,
          1,
          1,
          1,
          1,
          1,
          1,
          1,
          1,
          1,
          1,
          1,
          1,
          1,
          1,
          1,
          1,
          1,
          1,
          1,
          1,
          1,
          1,
          1,
          1,
          1,
          1,
          1,
          1,
          1,
          1,
          1,
          1,
          1,
          1,
          1,
          1,
          1,
          1,
          1,
          1,
          1,
          1,
          1,
          1,
          1,
          1,
          1,
          1,
          1,
          1,
          1,
          1,
          1,
          1,
          1,
          1,
          1,
          1,
          1,
          1,
          1,
          1,
          1,
          1,
          1,
          1,
          1,
          1,
          1,
          1,
          1,
          1,
          1,
          1,
          1,
          1,
          1,
          1,
          1,
          1,
          1,
          1,
          1,
          1,
          1,
          1,
          1,
          1,
          1,
          1,
          1,
          1,
          1,
          1,
          2,
          1,
          1,
          1,
          1,
          1,
          1,
          1,
          1,
          1,
          1,
          1,
          1,
          2,
          1,
          1,
          1,
          1,
          1,
          1,
          1,
          1,
          1,
          1,
          1,
          1,
          1,
          1,
          1,
          1,
          1,
          1,
          1,
          1,
          1,
          1,
          1,
          1,
          1,
          1,
          1,
          1,
          1,
          1,
          1,
          1,
          1,
          1,
          1,
          1,
          1,
          1,
          1,
          1,
          1,
          1,
          1,
          1,
          1,
          1,
          1,
          1,
          1,
          1,
          1,
          1,
          1,
          1,
          1,
          1,
          1,
          1,
          1,
          1,
          1,
          1,
          1,
          1,
          1,
          1,
          1,
          1,
          1,
          1,
          1,
          1,
          1,
          1,
          1,
          1,
          1,
          1,
          1,
          1,
          1,
          1,
          1,
          1,
          1,
          1,
          1,
          1,
          1,
          1,
          1,
          1,
          1,
          1,
          1,
          1,
          1,
          1,
          1,
          1,
          1,
          1,
          1,
          1,
          1,
          1,
          1,
          1,
          1,
          1,
          1,
          1,
          1,
          1,
          1,
          1,
          1,
          1,
          1,
          1,
          1,
          1,
          1,
          1,
          1,
          1,
          1,
          1,
          1,
          1,
          1,
          1,
          1,
          1,
          1,
          1,
          1,
          1,
          1,
          1,
          1,
          1,
          1,
          1,
          1,
          1,
          1,
          1,
          1,
          1,
          1,
          1,
          1,
          1,
          1,
          1,
          1,
          1,
          1,
          1,
          1,
          1,
          1,
          1,
          1,
          1,
          1,
          1,
          1,
          1,
          1,
          1,
          1,
          1,
          1,
          1,
          1,
          1,
          1,
          1,
          1,
          1,
          1,
          1,
          1,
          1,
          1,
          1,
          1,
          1,
          1,
          1,
          1,
          1,
          1,
          1,
          1,
          1,
          1,
          1,
          1,
          1,
          1,
          1,
          1,
          1,
          1,
          1,
          1,
          1,
          1,
          1,
          1,
          1,
          1,
          1,
          1,
          1,
          1,
          1,
          1,
          1,
          1,
          1,
          1,
          1,
          1,
          1,
          1,
          1,
          1,
          1,
          1,
          1,
          1,
          1,
          1,
          1,
          1,
          1,
          1,
          1,
          1,
          1,
          1,
          1,
          1,
          1,
          1,
          1,
          1,
          1,
          1,
          1,
          1,
          1,
          1,
          1,
          1,
          1,
          1,
          1,
          1,
          1,
          1,
          1,
          1,
          1,
          1,
          1,
          1,
          1,
          1,
          1,
          1,
          1,
          1,
          1,
          1,
          1,
          1,
          1,
          1,
          1,
          1,
          1,
          1,
          1,
          1,
          1,
          1,
          1,
          1,
          1,
          1,
          1,
          1,
          1,
          1,
          1,
          1,
          1,
          1,
          1,
          1,
          1,
          1,
          1,
          1,
          1,
          1,
          1,
          1,
          1,
          1,
          1,
          1,
          1,
          1,
          1,
          1,
          1,
          1,
          1,
          1,
          1,
          1,
          1,
          1,
          1,
          1,
          1,
          1,
          1,
          1,
          1,
          1,
          1,
          1,
          1,
          1,
          1,
          1,
          1,
          1,
          1,
          1,
          1,
          1,
          1,
          1,
          1,
          1,
          1,
          1,
          1,
          1,
          1,
          1,
          1,
          1,
          1,
          1,
          1,
          1,
          1,
          1,
          1,
          1,
          1,
          1,
          1,
          1,
          1,
          1,
          1,
          1,
          1,
          1,
          1,
          1,
          1,
          1,
          1,
          1,
          1,
          1,
          1,
          1,
          1,
          1,
          1,
          1,
          1,
          1,
          1,
          1,
          1,
          1,
          1,
          1,
          1,
          1,
          1,
          1,
          1,
          1,
          1,
          1,
          1,
          1,
          1,
          1,
          1,
          1,
          1,
          1,
          1,
          1,
          1,
          1,
          1,
          1,
          1,
          1,
          1,
          1,
          1,
          1,
          1,
          1,
          1,
          1,
          1,
          1,
          1,
          1,
          1,
          1,
          1,
          1,
          1,
          1,
          1,
          1,
          1,
          1,
          1,
          1,
          1,
          1,
          1,
          1,
          1,
          1,
          1,
          1,
          1,
          1,
          1,
          1,
          1,
          1,
          1,
          1,
          1,
          1,
          1,
          1
         ],
         "yaxis": "y"
        },
        {
         "alignmentgroup": "True",
         "hovertemplate": "Churn=Yes<br>TotalCharges=%{x}<extra></extra>",
         "legendgroup": "Yes",
         "marker": {
          "color": "green"
         },
         "name": "Yes",
         "notched": true,
         "offsetgroup": "Yes",
         "showlegend": false,
         "type": "box",
         "x": [
          23.45,
          24.25,
          24.45,
          24.6,
          24.75,
          24.8,
          25.05,
          25.1,
          25.15,
          25.2,
          25.25,
          25.3,
          25.7,
          25.8,
          29.7,
          29.95,
          30.2,
          30.5,
          31.35,
          34.7,
          35.05,
          35.25,
          35.45,
          35.55,
          35.75,
          35.9,
          36.45,
          36.55,
          39.65,
          40.1,
          40.2,
          41.85,
          42.9,
          43.3,
          43.95,
          44.1,
          44.15,
          44.35,
          44.4,
          44.45,
          44.65,
          44.7,
          44.9,
          45.05,
          45.1,
          45.15,
          45.3,
          45.4,
          45.6,
          45.65,
          45.7,
          45.75,
          45.8,
          45.85,
          45.95,
          46,
          46.2,
          46.3,
          47.5,
          48.55,
          48.6,
          48.95,
          49.25,
          49.55,
          49.65,
          49.9,
          49.95,
          50.1,
          50.15,
          50.35,
          50.45,
          50.5,
          50.55,
          50.6,
          50.65,
          50.75,
          50.8,
          50.9,
          51.25,
          52.2,
          53.5,
          53.55,
          53.95,
          54.35,
          54.75,
          54.9,
          55,
          55.2,
          55.4,
          55.7,
          55.8,
          56.25,
          56.35,
          58.9,
          59.05,
          59.2,
          59.85,
          60,
          60.1,
          60.15,
          62.05,
          62.25,
          66.95,
          68.5,
          68.65,
          68.75,
          68.95,
          69.1,
          69.15,
          69.2,
          69.25,
          69.35,
          69.4,
          69.5,
          69.55,
          69.6,
          69.65,
          69.7,
          69.75,
          69.8,
          69.85,
          69.9,
          69.95,
          70,
          70.05,
          70.1,
          70.15,
          70.25,
          70.3,
          70.4,
          70.45,
          70.5,
          70.55,
          70.6,
          70.65,
          70.75,
          70.8,
          70.85,
          70.9,
          71,
          71.1,
          71.15,
          71.35,
          71.55,
          71.65,
          72.4,
          73,
          73.5,
          73.55,
          73.6,
          73.65,
          74.2,
          74.25,
          74.3,
          74.35,
          74.4,
          74.45,
          74.5,
          74.6,
          74.7,
          74.9,
          74.95,
          75.05,
          75.1,
          75.3,
          75.35,
          75.45,
          75.6,
          75.7,
          75.75,
          75.8,
          75.9,
          76,
          76.2,
          76.35,
          76.4,
          76.45,
          77.15,
          77.75,
          78.05,
          78.45,
          78.65,
          78.8,
          78.95,
          79.05,
          79.1,
          79.15,
          79.2,
          79.25,
          79.35,
          79.45,
          79.5,
          79.55,
          79.6,
          79.65,
          79.7,
          79.9,
          79.95,
          80,
          80.05,
          80.15,
          80.2,
          80.25,
          80.3,
          80.35,
          80.5,
          80.55,
          80.8,
          80.85,
          81,
          81.1,
          81.25,
          81.7,
          81.95,
          82.3,
          84.3,
          84.5,
          84.6,
          84.65,
          84.8,
          84.85,
          85,
          85.05,
          85.15,
          85.45,
          85.5,
          85.55,
          85.7,
          85.8,
          86,
          86.05,
          86.6,
          88.35,
          88.8,
          89.1,
          89.15,
          89.3,
          89.5,
          89.55,
          89.9,
          90.35,
          90.55,
          90.6,
          90.75,
          90.85,
          91.1,
          91.3,
          91.7,
          92.45,
          92.65,
          93.3,
          93.55,
          93.7,
          93.85,
          94,
          94.4,
          94.55,
          94.6,
          95,
          95.05,
          95.1,
          95.45,
          95.6,
          95.65,
          96.05,
          96.45,
          97.1,
          98.5,
          99.75,
          100.25,
          100.4,
          100.8,
          101.45,
          102.45,
          102.5,
          102.75,
          104.2,
          106.55,
          106.85,
          108.15,
          108.7,
          108.95,
          113.35,
          113.55,
          114.1,
          114.7,
          115.1,
          115.95,
          116.65,
          118.3,
          118.5,
          119.75,
          123.65,
          127.1,
          130.1,
          130.75,
          131.05,
          131.65,
          132.2,
          134.35,
          134.5,
          134.7,
          137.85,
          137.95,
          139.05,
          139.35,
          139.4,
          140.7,
          141.45,
          141.5,
          142.35,
          143.35,
          143.65,
          144.15,
          144.55,
          145.15,
          145.4,
          146.05,
          146.9,
          147.15,
          149.55,
          151.3,
          151.65,
          151.8,
          152.45,
          152.7,
          153.05,
          154.65,
          154.85,
          155.35,
          155.65,
          155.8,
          156.35,
          156.4,
          158.4,
          159.15,
          159.4,
          159.45,
          160.75,
          160.8,
          161.5,
          162.45,
          164.5,
          165,
          165.2,
          165.4,
          165.45,
          166.3,
          167.3,
          167.5,
          168.15,
          168.2,
          169.05,
          169.45,
          169.8,
          170.85,
          171.15,
          172.85,
          174.3,
          174.8,
          178.1,
          178.7,
          179.25,
          179.35,
          180.25,
          181.1,
          181.5,
          181.6,
          181.65,
          181.7,
          183.75,
          184.1,
          184.4,
          184.65,
          185.55,
          187.45,
          188.7,
          189.2,
          190.05,
          191.05,
          191.35,
          193.6,
          193.8,
          195.05,
          195.3,
          196.15,
          196.75,
          196.9,
          196.95,
          197.7,
          198,
          201,
          201.1,
          204.7,
          205.05,
          206.6,
          208.7,
          208.85,
          209.1,
          210.3,
          210.75,
          215.2,
          215.8,
          216.75,
          216.9,
          217.55,
          219,
          219.65,
          220.1,
          220.6,
          220.95,
          221.7,
          221.9,
          222.3,
          223.15,
          223.45,
          224.05,
          225.6,
          226.45,
          228,
          228.4,
          229.5,
          229.55,
          231.8,
          233.7,
          235.1,
          235.5,
          237.25,
          237.75,
          237.95,
          239.55,
          240.45,
          242,
          242.05,
          242.8,
          242.95,
          244.65,
          246.3,
          246.5,
          247.25,
          248.95,
          249.95,
          250.05,
          251.75,
          255.25,
          256.25,
          256.6,
          257.05,
          259.8,
          260.8,
          260.9,
          261.25,
          262.05,
          264.8,
          264.85,
          265.35,
          266.9,
          267.35,
          267.4,
          267.6,
          268.35,
          270.7,
          270.8,
          270.95,
          272.15,
          272.2,
          273,
          273.75,
          279.25,
          279.55,
          280.85,
          281,
          287.4,
          288.05,
          289.1,
          291.4,
          291.9,
          292.8,
          292.85,
          293.3,
          293.65,
          294.45,
          296.1,
          298.35,
          298.45,
          299.2,
          299.7,
          300.8,
          301.4,
          302.75,
          303.15,
          305.1,
          305.55,
          305.95,
          306.6,
          307.4,
          308.25,
          308.7,
          309.1,
          315.3,
          316.9,
          317.25,
          318.5,
          318.9,
          319.15,
          321.65,
          321.75,
          321.9,
          323.25,
          324.25,
          324.3,
          324.6,
          325.45,
          328.95,
          329.8,
          329.95,
          330.05,
          330.15,
          331.3,
          331.9,
          332.45,
          333.55,
          333.6,
          334.65,
          334.8,
          338.1,
          338.9,
          340.25,
          340.85,
          341.45,
          343.95,
          346.2,
          346.4,
          347.25,
          347.4,
          347.65,
          349.65,
          350.3,
          354.05,
          355.2,
          357.75,
          360.1,
          362.2,
          364.55,
          365.35,
          365.4,
          365.55,
          365.65,
          368.1,
          370.65,
          371.65,
          371.9,
          372.45,
          378.4,
          381.3,
          384.5,
          385,
          385.9,
          387.2,
          389.1,
          389.6,
          396.1,
          396.3,
          401.1,
          402.6,
          403.35,
          404.2,
          412.1,
          412.5,
          413.65,
          415.05,
          415.55,
          415.95,
          416.3,
          416.45,
          418.4,
          418.8,
          420.2,
          424.15,
          424.45,
          425.9,
          431,
          434.1,
          434.5,
          435.4,
          438,
          438.25,
          438.4,
          442.2,
          442.85,
          443.9,
          446.05,
          446.1,
          449.75,
          450.8,
          451.1,
          452.7,
          453.4,
          453.75,
          454.15,
          455.3,
          455.5,
          460.25,
          461.7,
          462.8,
          463.05,
          465.05,
          467.55,
          469.8,
          470.6,
          470.95,
          474.8,
          474.9,
          477.55,
          477.7,
          480.6,
          480.75,
          482.8,
          483.7,
          486.85,
          489.45,
          492.55,
          494.05,
          496.9,
          497.55,
          498.1,
          501,
          502.6,
          502.85,
          503.6,
          506.9,
          511.25,
          512.45,
          514,
          518.9,
          519.15,
          520,
          521.1,
          521.3,
          522.95,
          523.15,
          523.5,
          526.7,
          526.95,
          527.9,
          528.35,
          529.5,
          531,
          536.4,
          539.85,
          541.15,
          541.9,
          544.55,
          545.15,
          545.2,
          546.95,
          547.65,
          551.35,
          552.95,
          553,
          556.35,
          560.6,
          560.85,
          563.65,
          567.45,
          573.3,
          573.75,
          575.45,
          576.65,
          577.6,
          582.5,
          583.45,
          585.95,
          586.05,
          587.1,
          593.45,
          593.75,
          597,
          600,
          602.55,
          604.7,
          606.25,
          606.55,
          608,
          608.8,
          609.9,
          613.4,
          620.35,
          620.55,
          622.9,
          627.4,
          631.85,
          632.95,
          633.3,
          633.4,
          635.6,
          639.65,
          644.35,
          646.85,
          649.65,
          651.4,
          654.85,
          655.5,
          655.9,
          659.65,
          660.9,
          661.25,
          662.65,
          663.05,
          665.45,
          667.7,
          668.4,
          669,
          669.45,
          669.85,
          672.55,
          673.1,
          673.25,
          676.7,
          679.3,
          679.55,
          679.85,
          680.05,
          688.65,
          696.35,
          700.85,
          703.55,
          706.6,
          706.85,
          712.75,
          712.85,
          713,
          713.1,
          713.75,
          714.15,
          723.4,
          727.8,
          729.95,
          732.5,
          733.35,
          734.35,
          738.2,
          740,
          740.3,
          740.8,
          741.7,
          742.95,
          746.5,
          751.65,
          754.65,
          757.1,
          758.6,
          762.1,
          762.25,
          762.5,
          764.95,
          765.5,
          770.6,
          773.65,
          777.3,
          778.1,
          780.5,
          788.8,
          790.15,
          791.75,
          793.55,
          794.25,
          799.65,
          803.3,
          805.1,
          809.75,
          810.2,
          810.7,
          811.8,
          813.85,
          815.5,
          818.05,
          819.4,
          819.55,
          820.5,
          824.75,
          825.7,
          829.1,
          829.55,
          830.7,
          830.85,
          832.05,
          832.35,
          834.1,
          834.15,
          834.2,
          837.95,
          840.1,
          842.9,
          846,
          847.3,
          851.75,
          853,
          853.1,
          855.3,
          856.35,
          856.65,
          857.2,
          857.25,
          858.6,
          863.1,
          865.55,
          865.8,
          866.45,
          868.5,
          871.4,
          872.65,
          874.8,
          878.35,
          880.2,
          889.9,
          890.6,
          892.65,
          893.55,
          896.75,
          896.9,
          898.35,
          899.8,
          900.5,
          903.6,
          906.85,
          909.25,
          914,
          914.3,
          916.75,
          916.9,
          918.6,
          919.4,
          923.5,
          926.25,
          927.35,
          930.4,
          933.3,
          934.1,
          937.5,
          937.6,
          939.7,
          940.35,
          941,
          947.3,
          950.2,
          952.3,
          953.45,
          971.3,
          973.25,
          973.45,
          973.55,
          987.95,
          989.45,
          990.85,
          990.9,
          994.55,
          994.8,
          997.65,
          999.45,
          1008.55,
          1008.7,
          1023.9,
          1025.95,
          1029.75,
          1032,
          1036.75,
          1037.75,
          1043.3,
          1043.35,
          1046.1,
          1046.5,
          1047.7,
          1048.85,
          1052.4,
          1054.6,
          1056.95,
          1058.25,
          1058.6,
          1059.55,
          1060.2,
          1060.6,
          1062.1,
          1064.65,
          1067.15,
          1068.85,
          1072,
          1074.3,
          1077.5,
          1078.9,
          1081.45,
          1093.1,
          1094.5,
          1095.3,
          1095.65,
          1096.25,
          1101.85,
          1105.4,
          1107.25,
          1111.65,
          1111.85,
          1115.15,
          1115.2,
          1120.3,
          1120.95,
          1127.2,
          1127.35,
          1129.1,
          1129.75,
          1130.85,
          1131.2,
          1131.3,
          1132.35,
          1132.75,
          1133.65,
          1133.9,
          1135.7,
          1139.2,
          1144.5,
          1145.35,
          1145.7,
          1146.65,
          1147.45,
          1148.1,
          1149.65,
          1152.7,
          1156.1,
          1157.05,
          1162.85,
          1164.3,
          1167.8,
          1169.35,
          1172.95,
          1174.35,
          1178.25,
          1178.4,
          1180.95,
          1193.05,
          1194.3,
          1200.15,
          1201.15,
          1206.05,
          1208.35,
          1210.4,
          1214.05,
          1215.6,
          1217.25,
          1218.55,
          1222.05,
          1222.8,
          1230.25,
          1233.4,
          1233.65,
          1235.55,
          1236.15,
          1237.85,
          1238.45,
          1240.25,
          1244.5,
          1253.9,
          1254.7,
          1258.3,
          1258.6,
          1259,
          1266.1,
          1269.55,
          1270.2,
          1281,
          1284.2,
          1290,
          1301,
          1301.7,
          1308.1,
          1308.4,
          1312.15,
          1313.55,
          1329.2,
          1338.15,
          1345.55,
          1348.9,
          1350.15,
          1358.85,
          1359,
          1359.7,
          1364.3,
          1369.8,
          1375.15,
          1378.25,
          1380.1,
          1384.75,
          1389.2,
          1390.6,
          1400.55,
          1400.85,
          1415.55,
          1422.05,
          1422.1,
          1422.65,
          1424.5,
          1424.95,
          1425.45,
          1426.4,
          1426.75,
          1430.25,
          1441.1,
          1444.65,
          1445.3,
          1448.6,
          1448.8,
          1451.6,
          1451.9,
          1454.15,
          1457.25,
          1460.65,
          1463.45,
          1463.5,
          1465.75,
          1470.95,
          1471.75,
          1474.75,
          1483.25,
          1490.95,
          1496.9,
          1498.2,
          1502.65,
          1504.05,
          1505.85,
          1511.2,
          1515.1,
          1520.9,
          1527.35,
          1527.5,
          1529.2,
          1531.4,
          1532.45,
          1534.75,
          1539.45,
          1544.05,
          1553.9,
          1553.95,
          1554,
          1555.65,
          1561.5,
          1565.7,
          1573.7,
          1574.45,
          1581.2,
          1582.75,
          1587.55,
          1592.35,
          1597.25,
          1604.5,
          1607.2,
          1612.75,
          1616.15,
          1617.5,
          1622.45,
          1625,
          1625.65,
          1637.4,
          1639.3,
          1660,
          1676.95,
          1687.95,
          1692.6,
          1704.95,
          1710.45,
          1712.7,
          1715.65,
          1716.45,
          1727.5,
          1730.35,
          1734.5,
          1740.7,
          1742.75,
          1742.95,
          1743.5,
          1747.85,
          1752.55,
          1758.6,
          1761.05,
          1761.45,
          1767.35,
          1772.25,
          1775.8,
          1776.55,
          1776.95,
          1777.9,
          1779.95,
          1782.4,
          1789.25,
          1808.7,
          1820.45,
          1834.95,
          1836.25,
          1842.8,
          1845.9,
          1852.85,
          1855.65,
          1861.5,
          1863.8,
          1873.7,
          1875.55,
          1880.85,
          1888.65,
          1893.95,
          1899.65,
          1900.25,
          1907.85,
          1910.6,
          1914.9,
          1917.1,
          1929.35,
          1931.75,
          1934.45,
          1943.2,
          1951,
          1970.5,
          1973.75,
          1974.8,
          1993.8,
          1994.3,
          2001.5,
          2010.55,
          2011.4,
          2012.7,
          2015.35,
          2030.3,
          2043.45,
          2068.55,
          2070.6,
          2076.2,
          2082.95,
          2088.75,
          2088.8,
          2095,
          2104.55,
          2109.35,
          2110.15,
          2111.45,
          2119.5,
          2122.05,
          2122.45,
          2135.5,
          2139.2,
          2145,
          2157.95,
          2165.05,
          2169.75,
          2169.8,
          2171.15,
          2177.45,
          2178.6,
          2180.55,
          2184.35,
          2186.4,
          2187.55,
          2196.15,
          2200.25,
          2203.65,
          2217.15,
          2227.1,
          2231.05,
          2238.5,
          2239.65,
          2249.95,
          2250.65,
          2254.2,
          2257.75,
          2264.05,
          2265.25,
          2274.35,
          2274.9,
          2276.95,
          2277.65,
          2282.55,
          2287.25,
          2291.2,
          2293.6,
          2303.35,
          2317.1,
          2319.8,
          2331.3,
          2335.3,
          2342.2,
          2345.2,
          2347.9,
          2351.8,
          2354.8,
          2361.8,
          2362.1,
          2365.15,
          2368.4,
          2369.05,
          2375.4,
          2381.55,
          2384.15,
          2387.75,
          2391.8,
          2404.15,
          2405.05,
          2407.3,
          2416.1,
          2416.55,
          2431.35,
          2433.9,
          2435.15,
          2440.15,
          2447.95,
          2448.75,
          2452.7,
          2460.15,
          2467.1,
          2467.75,
          2470.1,
          2483.05,
          2483.5,
          2496.7,
          2497.2,
          2497.35,
          2498.4,
          2499.3,
          2510.2,
          2514.5,
          2515.3,
          2524.45,
          2530.4,
          2541.25,
          2542.45,
          2550.9,
          2555.9,
          2564.3,
          2566.5,
          2568.55,
          2572.95,
          2576.2,
          2585.95,
          2587.7,
          2596.15,
          2597.6,
          2598.95,
          2602.9,
          2624.25,
          2625.55,
          2628.6,
          2636.05,
          2642.05,
          2649.15,
          2651.2,
          2653.65,
          2655.25,
          2656.5,
          2659.4,
          2660.2,
          2661.1,
          2697.4,
          2698.35,
          2710.25,
          2716.3,
          2718.3,
          2724.6,
          2728.6,
          2745.2,
          2745.7,
          2754.45,
          2755.35,
          2757.85,
          2758.15,
          2781.85,
          2791.5,
          2804.45,
          2806.9,
          2812.2,
          2816.65,
          2838.7,
          2839.65,
          2841.55,
          2847.4,
          2854.55,
          2862.75,
          2866.45,
          2867.75,
          2868.05,
          2868.15,
          2869.85,
          2874.15,
          2890.65,
          2896.4,
          2911.3,
          2917.5,
          2931,
          2933.2,
          2934.3,
          2952.85,
          2954.5,
          2967.35,
          2978.3,
          2979.5,
          2983.8,
          2995.45,
          3001.2,
          3004.15,
          3013.05,
          3014.65,
          3017.65,
          3019.25,
          3019.5,
          3021.6,
          3027.4,
          3029.1,
          3030.6,
          3036.75,
          3046.05,
          3046.15,
          3046.4,
          3050.15,
          3058.65,
          3066.45,
          3067.2,
          3078.1,
          3092.65,
          3105.55,
          3110.1,
          3124.5,
          3132.75,
          3147.5,
          3152.5,
          3160.55,
          3171.15,
          3182.95,
          3183.4,
          3184.25,
          3186.65,
          3186.7,
          3198.6,
          3201.55,
          3204.65,
          3207.55,
          3217.55,
          3229.4,
          3229.65,
          3233.6,
          3233.85,
          3243.45,
          3264.45,
          3264.5,
          3266,
          3273.55,
          3303.05,
          3309.25,
          3326.2,
          3351.55,
          3361.05,
          3365.85,
          3384,
          3395.8,
          3409.6,
          3432.9,
          3436.1,
          3444.85,
          3457.9,
          3467,
          3473.4,
          3474.05,
          3474.45,
          3475.55,
          3480,
          3496.3,
          3515.25,
          3520.75,
          3527.6,
          3541.35,
          3545.35,
          3549.25,
          3563.8,
          3580.3,
          3587.25,
          3588.4,
          3605.2,
          3615.6,
          3624.3,
          3626.1,
          3640.45,
          3653.35,
          3655.45,
          3678.3,
          3692.85,
          3706.95,
          3715.65,
          3734.25,
          3744.05,
          3754.6,
          3759.05,
          3762,
          3777.15,
          3807.35,
          3825.85,
          3856.75,
          3862.55,
          3912.9,
          3913.3,
          3937.45,
          3941.7,
          3959.35,
          3969.35,
          3969.4,
          3994.45,
          4016.85,
          4026.4,
          4029.95,
          4036.85,
          4042.3,
          4045.65,
          4056.75,
          4059.35,
          4062.2,
          4065,
          4086.3,
          4092.85,
          4113.1,
          4116.15,
          4131.95,
          4134.85,
          4138.05,
          4146.05,
          4154.8,
          4186.3,
          4187.75,
          4211.55,
          4213.35,
          4242.35,
          4254.85,
          4259.3,
          4273.45,
          4284.8,
          4323.45,
          4338.6,
          4346.4,
          4348.65,
          4350.1,
          4364.1,
          4367.35,
          4370.25,
          4388.4,
          4398.15,
          4399.5,
          4400.75,
          4414.3,
          4424.2,
          4443.45,
          4458.15,
          4481,
          4504.55,
          4512.7,
          4515.85,
          4517.25,
          4527.45,
          4528,
          4533.7,
          4533.9,
          4534.9,
          4541.2,
          4547.25,
          4594.95,
          4600.7,
          4627.85,
          4653.85,
          4680.05,
          4687.9,
          4689.5,
          4718.25,
          4740,
          4749.15,
          4750.95,
          4759.75,
          4759.85,
          4783.5,
          4812.75,
          4816.7,
          4820.15,
          4822.85,
          4830.25,
          4837.6,
          4853.75,
          4867.95,
          4871.05,
          4872.45,
          4874.7,
          4874.8,
          4888.7,
          4913.3,
          4941.8,
          4990.25,
          5000.2,
          5017.9,
          5029.2,
          5036.3,
          5037.55,
          5069.65,
          5071.05,
          5082.8,
          5084.65,
          5118.95,
          5121.3,
          5124.55,
          5124.6,
          5127.95,
          5149.5,
          5154.6,
          5224.35,
          5238.9,
          5265.1,
          5275.8,
          5278.15,
          5283.95,
          5293.2,
          5293.4,
          5293.95,
          5341.8,
          5356.45,
          5373.1,
          5426.85,
          5427.05,
          5435.6,
          5438.9,
          5440.9,
          5453.4,
          5464.65,
          5485.5,
          5508.35,
          5509.3,
          5510.65,
          5549.4,
          5551.15,
          5568.35,
          5574.75,
          5610.25,
          5610.7,
          5614.45,
          5617.75,
          5624.85,
          5638.3,
          5639.05,
          5643.4,
          5685.8,
          5688.05,
          5742.9,
          5743.05,
          5746.15,
          5763.3,
          5769.6,
          5769.75,
          5785.5,
          5794.65,
          5812.6,
          5885.4,
          5893.15,
          5916.45,
          5918.8,
          5921.35,
          5940.85,
          5961.1,
          6010.05,
          6014.85,
          6017.65,
          6039.9,
          6056.15,
          6110.2,
          6125.4,
          6127.6,
          6137,
          6143.15,
          6144.55,
          6145.85,
          6205.5,
          6215.35,
          6219.6,
          6252.9,
          6254.2,
          6281.45,
          6283.3,
          6287.25,
          6341.45,
          6383.35,
          6396.45,
          6405,
          6413.65,
          6418.9,
          6428.4,
          6440.25,
          6441.4,
          6448.05,
          6465,
          6529.25,
          6547.7,
          6579.05,
          6581.9,
          6585.35,
          6603,
          6615.15,
          6710.5,
          6786.4,
          6822.15,
          6851.65,
          6859.5,
          6871.9,
          6873.75,
          6876.05,
          6886.25,
          6890,
          6903.1,
          6937.95,
          6941.2,
          6975.25,
          6979.8,
          6981.35,
          6985.65,
          7007.6,
          7040.85,
          7101.5,
          7133.25,
          7156.2,
          7176.55,
          7220.35,
          7250.15,
          7262,
          7299.65,
          7318.2,
          7348.8,
          7372.65,
          7432.05,
          7446.9,
          7482.1,
          7491.75,
          7532.15,
          7534.65,
          7548.1,
          7611.85,
          7674.55,
          7689.95,
          7690.9,
          7723.7,
          7723.9,
          7752.3,
          7804.15,
          7856,
          7968.85,
          8109.8,
          8127.6,
          8684.8
         ],
         "xaxis": "x2",
         "yaxis": "y2"
        },
        {
         "alignmentgroup": "True",
         "bingroup": "x",
         "histfunc": "sum",
         "hovertemplate": "Churn=No<br>TotalCharges=%{x}<br>sum of Count=%{y}<extra></extra>",
         "legendgroup": "No",
         "marker": {
          "color": "red",
          "pattern": {
           "shape": ""
          }
         },
         "name": "No",
         "offsetgroup": "No",
         "orientation": "v",
         "showlegend": true,
         "type": "histogram",
         "x": [
          24.2,
          24.4,
          24.7,
          24.9,
          25.15,
          25.25,
          25.35,
          25.85,
          29.15,
          29.85,
          29.9,
          30.55,
          33.6,
          35,
          35.9,
          38.45,
          43.8,
          43.85,
          43.95,
          44,
          44.05,
          44.15,
          44.3,
          44.45,
          44.55,
          44.6,
          44.75,
          44.8,
          44.9,
          44.95,
          45,
          45.15,
          45.2,
          45.25,
          45.3,
          45.35,
          45.4,
          45.55,
          45.6,
          45.8,
          45.85,
          46.3,
          46.4,
          47.95,
          48.45,
          48.6,
          48.75,
          49,
          49.05,
          49.3,
          49.5,
          49.55,
          49.7,
          49.75,
          49.8,
          49.85,
          49.9,
          49.95,
          50.05,
          50.1,
          50.15,
          50.7,
          50.75,
          51.2,
          51.25,
          53.55,
          54.3,
          54.5,
          54.65,
          55.05,
          55.25,
          55.3,
          55.45,
          55.55,
          55.7,
          59.55,
          61.15,
          62.8,
          63.75,
          69.9,
          69.95,
          70.05,
          70.1,
          70.2,
          70.25,
          70.35,
          70.45,
          70.6,
          70.7,
          71.1,
          71.25,
          72.1,
          74,
          74.1,
          74.2,
          74.3,
          74.35,
          74.6,
          74.7,
          75.1,
          75.35,
          75.5,
          75.55,
          78.25,
          79.15,
          79.8,
          80.55,
          80.95,
          81.05,
          82.15,
          82.7,
          82.85,
          83.4,
          84.4,
          84.6,
          85,
          85.1,
          87.3,
          87.9,
          89.25,
          89.3,
          89.35,
          89.75,
          90.05,
          90.1,
          92.25,
          92.5,
          92.75,
          94.4,
          95.85,
          96.8,
          96.85,
          97,
          98.5,
          99.95,
          100.2,
          101.1,
          101.65,
          103.7,
          105.6,
          106.2,
          107.1,
          107.25,
          108.65,
          109.25,
          110.05,
          111.05,
          111.4,
          113.1,
          113.95,
          114.15,
          117.05,
          118.25,
          118.4,
          119.5,
          120.25,
          122.7,
          123.05,
          123.8,
          125.5,
          125.95,
          129.2,
          129.6,
          130.15,
          130.5,
          132.4,
          134.05,
          134.6,
          135.2,
          135.75,
          136.05,
          137.1,
          137.25,
          139.25,
          140.1,
          140.4,
          141.65,
          141.7,
          143.65,
          143.9,
          144,
          144.8,
          145.15,
          146.4,
          146.65,
          147.75,
          147.8,
          148.05,
          149.05,
          150.85,
          151.75,
          152.3,
          153.8,
          154.3,
          154.55,
          154.8,
          155.35,
          156.1,
          157.55,
          157.75,
          160.85,
          161.45,
          162.45,
          162.55,
          163.55,
          163.7,
          167.2,
          168.5,
          168.6,
          169.65,
          170.5,
          171.45,
          174.2,
          174.45,
          174.75,
          176.2,
          177.4,
          179.85,
          181.65,
          184.15,
          186.05,
          186.3,
          188.1,
          189.1,
          189.95,
          190.1,
          190.25,
          190.5,
          194.2,
          194.55,
          195.65,
          196.4,
          196.9,
          198.5,
          199.75,
          199.85,
          200.2,
          201.95,
          202.15,
          202.25,
          202.3,
          202.9,
          206.15,
          207.35,
          207.4,
          208.45,
          209.9,
          212.4,
          213.35,
          214.4,
          214.55,
          214.75,
          216.45,
          217.1,
          217.45,
          217.5,
          220.4,
          220.45,
          220.65,
          220.75,
          221.1,
          223.75,
          224.85,
          225.65,
          226.2,
          226.95,
          227.35,
          229.4,
          229.7,
          232.35,
          232.5,
          232.55,
          233.65,
          234.85,
          235,
          235.05,
          235.2,
          235.65,
          237.2,
          237.65,
          238.1,
          238.5,
          239.05,
          239.45,
          241.3,
          244.1,
          244.45,
          244.75,
          244.85,
          245.15,
          246.6,
          248.4,
          249.4,
          249.55,
          250.1,
          253,
          253.8,
          255.6,
          256.6,
          256.75,
          257.6,
          259.4,
          261.65,
          262.3,
          263.05,
          264.8,
          265.8,
          266.8,
          266.95,
          268.45,
          273.2,
          273.25,
          273.4,
          274.35,
          276.5,
          278.4,
          280,
          280.35,
          283.95,
          284.9,
          285.2,
          286.8,
          287.85,
          288.35,
          291.45,
          293.15,
          293.85,
          294.2,
          294.45,
          295.65,
          297.35,
          298.7,
          299.05,
          299.75,
          300.4,
          301.9,
          302.35,
          302.6,
          303.7,
          305.55,
          307.6,
          308.05,
          308.1,
          312.7,
          313.45,
          313.6,
          314.55,
          314.6,
          316.9,
          317.75,
          318.1,
          318.6,
          319.6,
          319.85,
          320.4,
          321.05,
          322.5,
          322.9,
          323.45,
          324.2,
          330.8,
          331.85,
          333.65,
          335.4,
          335.65,
          335.75,
          336.15,
          336.7,
          339.9,
          340.35,
          340.4,
          341.6,
          343.45,
          344.2,
          345.5,
          346.45,
          348.15,
          348.8,
          349.8,
          350.35,
          351.5,
          352.65,
          355.1,
          355.9,
          356.1,
          356.65,
          357.15,
          357.6,
          359.4,
          360.55,
          362.6,
          363.15,
          367.95,
          368.85,
          369.15,
          369.25,
          369.3,
          370.25,
          370.4,
          371.4,
          371.6,
          373,
          374,
          374.8,
          377.85,
          381.2,
          382.2,
          382.8,
          383.55,
          383.65,
          384.25,
          389.8,
          389.95,
          392.5,
          392.65,
          393.45,
          394.1,
          398.55,
          399.25,
          399.45,
          401.3,
          401.5,
          402.5,
          402.6,
          404.35,
          405.7,
          408.25,
          408.5,
          411.45,
          411.6,
          411.75,
          413.25,
          414.1,
          417.75,
          418.3,
          419.35,
          419.7,
          420.45,
          422.3,
          422.4,
          422.6,
          424.75,
          425.1,
          426.35,
          428.7,
          432.25,
          433.95,
          434.5,
          434.8,
          435,
          435.45,
          436.2,
          436.6,
          438.05,
          438.9,
          440.2,
          442.45,
          444.75,
          445.85,
          445.95,
          446.8,
          447.75,
          447.9,
          449.3,
          450.4,
          450.9,
          452.8,
          457.1,
          458.1,
          463.6,
          465.7,
          466.6,
          467.85,
          468.35,
          469.25,
          469.65,
          472.25,
          472.65,
          475,
          475.1,
          475.7,
          476.8,
          477.05,
          477.55,
          482.25,
          483.3,
          484.05,
          485.25,
          487.05,
          487.75,
          488.65,
          490.55,
          492,
          492.1,
          493.4,
          493.65,
          494.95,
          497.3,
          497.6,
          498.25,
          500.1,
          501.2,
          503.25,
          504.05,
          505.95,
          512.25,
          514.6,
          515.45,
          515.75,
          516.15,
          518.75,
          520.95,
          521,
          521.35,
          521.9,
          522.35,
          522.95,
          523.1,
          524.35,
          524.5,
          525,
          528.45,
          530.05,
          531.15,
          533.05,
          533.6,
          535.55,
          540.95,
          542.4,
          546.45,
          547.8,
          548.9,
          550.35,
          550.6,
          551.3,
          551.95,
          552.1,
          552.65,
          552.7,
          553.4,
          554.05,
          554.45,
          559.2,
          562.7,
          563.5,
          564.35,
          564.4,
          564.65,
          565.35,
          565.75,
          566.1,
          567.8,
          568.2,
          568.85,
          571.05,
          571.15,
          571.45,
          572.45,
          572.85,
          573.15,
          574.35,
          574.5,
          576.7,
          576.95,
          577.15,
          579,
          580.1,
          580.8,
          581.7,
          583,
          587.45,
          590.35,
          592.65,
          592.75,
          593.05,
          593.3,
          593.85,
          597.9,
          600.15,
          601.25,
          601.6,
          603,
          605.45,
          605.75,
          607.3,
          608.15,
          609.65,
          610.2,
          610.75,
          611.65,
          612.1,
          612.95,
          616.9,
          617.15,
          617.85,
          624.6,
          628.65,
          629.35,
          629.55,
          631.4,
          632.2,
          633.45,
          633.85,
          637.4,
          638.95,
          639.45,
          639.7,
          641.25,
          645.8,
          646.05,
          647.5,
          648.65,
          649.4,
          651.5,
          651.55,
          653.15,
          653.25,
          653.9,
          653.95,
          654.5,
          657.5,
          658.1,
          659.35,
          659.45,
          660.05,
          661.55,
          662.95,
          663.55,
          664.4,
          668.85,
          670.65,
          672.7,
          676.15,
          678.45,
          678.75,
          681.4,
          683.25,
          684.85,
          685.55,
          688,
          688.2,
          688.5,
          690.5,
          692.35,
          693.3,
          693.45,
          695.75,
          697.25,
          701.05,
          701.3,
          704.3,
          708.2,
          709.5,
          710.05,
          711.15,
          711.95,
          712.25,
          713.6,
          715,
          716.1,
          718.1,
          718.55,
          720.1,
          720.45,
          723.35,
          724.65,
          727.85,
          729.95,
          731.3,
          733.95,
          735.5,
          736.8,
          740.55,
          741.4,
          742.9,
          743.3,
          743.75,
          747.2,
          749.25,
          750.1,
          759.55,
          760.05,
          764.55,
          765.15,
          765.45,
          767.55,
          767.9,
          768.05,
          768.45,
          769.1,
          770.4,
          770.5,
          771.95,
          772.85,
          773.2,
          775.3,
          777.3,
          780.15,
          780.85,
          781.4,
          784.45,
          786.3,
          786.5,
          788.05,
          788.35,
          788.6,
          789.2,
          790.7,
          791.7,
          792.15,
          795.15,
          795.65,
          797.25,
          799,
          801.3,
          810.85,
          811.65,
          812.4,
          812.5,
          813.45,
          815.55,
          816.8,
          818.45,
          824.85,
          825.1,
          825.4,
          827.05,
          827.45,
          827.7,
          828.05,
          828.2,
          829.3,
          830.8,
          831.75,
          832.3,
          834.7,
          836.35,
          837.5,
          838.7,
          839.65,
          842.25,
          844.45,
          846.8,
          849.1,
          849.9,
          851.8,
          852.7,
          854.45,
          857.75,
          857.8,
          858.6,
          864.55,
          864.85,
          865.1,
          865.75,
          865.85,
          866.4,
          867.1,
          870.25,
          874.2,
          875.35,
          876.75,
          877.35,
          880.05,
          886.7,
          887.35,
          888.65,
          888.75,
          889,
          892.7,
          893,
          893.2,
          897.75,
          902.25,
          906.85,
          908.55,
          908.75,
          910.45,
          912,
          913.3,
          916.15,
          918.75,
          920.5,
          921.4,
          923.85,
          926.2,
          926.25,
          927.15,
          927.65,
          929.3,
          929.45,
          930.05,
          931.55,
          931.75,
          931.9,
          934.15,
          934.8,
          938.65,
          939.8,
          943.85,
          944.65,
          946.95,
          947.4,
          947.75,
          950.75,
          953.65,
          955.15,
          955.6,
          955.75,
          956.65,
          957.1,
          958.25,
          959.9,
          961.4,
          962.9,
          964.35,
          964.9,
          966.25,
          966.55,
          969.85,
          970.4,
          970.45,
          970.55,
          973.65,
          978.6,
          979.05,
          979.5,
          981.45,
          985.05,
          990.3,
          992.7,
          995.35,
          996.85,
          999.8,
          999.9,
          1001.2,
          1003.05,
          1004.75,
          1009.25,
          1010,
          1011.05,
          1011.5,
          1011.8,
          1013.35,
          1017.35,
          1020.2,
          1021.55,
          1021.75,
          1022.5,
          1023.75,
          1023.85,
          1024,
          1025.15,
          1028.9,
          1029.35,
          1031.4,
          1033.9,
          1033.95,
          1043.3,
          1043.4,
          1043.8,
          1045.25,
          1046.5,
          1049.05,
          1051.05,
          1054.8,
          1055.9,
          1057.55,
          1058.1,
          1064.95,
          1066.9,
          1067.05,
          1070.7,
          1071.4,
          1072.6,
          1073.3,
          1074.65,
          1077.05,
          1081.25,
          1082.75,
          1082.8,
          1083.7,
          1087.45,
          1093.2,
          1093.4,
          1096.6,
          1096.65,
          1097.15,
          1098.85,
          1108,
          1108.6,
          1111.2,
          1112.3,
          1113.95,
          1114.55,
          1114.85,
          1117.55,
          1119.35,
          1122.4,
          1125.2,
          1126.35,
          1129.35,
          1130,
          1130.85,
          1137.05,
          1144.6,
          1147,
          1151.05,
          1151.55,
          1152.8,
          1155.6,
          1156.35,
          1156.55,
          1161.75,
          1164.05,
          1165.55,
          1165.6,
          1166.7,
          1167.8,
          1170.5,
          1173.55,
          1175.6,
          1175.85,
          1178.75,
          1181.75,
          1183.05,
          1183.2,
          1183.8,
          1184,
          1185,
          1187.05,
          1189.4,
          1190.5,
          1191.2,
          1195.75,
          1199.4,
          1201.65,
          1203.9,
          1205.5,
          1207,
          1208.15,
          1212.1,
          1212.85,
          1215.45,
          1215.65,
          1215.8,
          1218.25,
          1219.85,
          1221.55,
          1221.65,
          1224.05,
          1228.65,
          1231.85,
          1232.9,
          1233.15,
          1233.25,
          1235.55,
          1237.3,
          1242.2,
          1242.25,
          1242.45,
          1246.4,
          1247.75,
          1248.9,
          1249.25,
          1253.15,
          1253.5,
          1258.35,
          1259.35,
          1261,
          1261.35,
          1264.2,
          1265.65,
          1266.35,
          1267.2,
          1267.95,
          1269.6,
          1271.8,
          1273.3,
          1274.45,
          1275.65,
          1275.7,
          1277.5,
          1282.85,
          1284.2,
          1285.05,
          1285.8,
          1286.05,
          1287.85,
          1288.3,
          1288.75,
          1291.3,
          1291.35,
          1292.2,
          1293.8,
          1294.6,
          1295.4,
          1296.8,
          1297.8,
          1299.1,
          1299.8,
          1302.65,
          1304.85,
          1305.95,
          1307.8,
          1309,
          1309.15,
          1312.45,
          1313.25,
          1315,
          1315.35,
          1316.9,
          1317.95,
          1319.85,
          1321.3,
          1322.55,
          1323.7,
          1325.85,
          1327.85,
          1329.15,
          1332.4,
          1334.45,
          1336.15,
          1336.8,
          1336.9,
          1337.45,
          1339.8,
          1340.1,
          1345.65,
          1345.75,
          1346.3,
          1346.9,
          1347.15,
          1348.5,
          1348.95,
          1355.45,
          1358.6,
          1359.45,
          1362.85,
          1364.75,
          1367.75,
          1370.35,
          1373,
          1373.05,
          1374.35,
          1374.9,
          1375.6,
          1380.4,
          1381.2,
          1381.8,
          1382.9,
          1383.6,
          1386.8,
          1387,
          1387.35,
          1388.75,
          1389.85,
          1390.85,
          1391.15,
          1391.65,
          1392.25,
          1393.6,
          1394.55,
          1395.05,
          1398.25,
          1398.6,
          1400.3,
          1404.65,
          1405.3,
          1406,
          1406.65,
          1406.9,
          1410.25,
          1411.35,
          1411.65,
          1412.4,
          1414.2,
          1415,
          1416.2,
          1421.75,
          1423.05,
          1423.15,
          1423.35,
          1424.4,
          1426.45,
          1427.55,
          1430.05,
          1434.6,
          1438.05,
          1439.35,
          1440.75,
          1441.8,
          1441.95,
          1442,
          1442.2,
          1442.6,
          1443.65,
          1445.95,
          1451.1,
          1453.1,
          1454.25,
          1459.35,
          1461.15,
          1461.45,
          1462.6,
          1463.7,
          1466.1,
          1468.75,
          1470.05,
          1474.9,
          1477.65,
          1478.85,
          1489.3,
          1490.4,
          1493.2,
          1493.55,
          1494.5,
          1495.1,
          1497.05,
          1498.55,
          1498.65,
          1500.25,
          1500.5,
          1505.15,
          1505.35,
          1505.45,
          1507,
          1509.8,
          1510.3,
          1516.6,
          1517.5,
          1520.1,
          1522.65,
          1522.7,
          1523.4,
          1524.85,
          1525.35,
          1529.45,
          1530.6,
          1533.8,
          1536.75,
          1537.85,
          1537.9,
          1539.8,
          1540.05,
          1540.2,
          1540.35,
          1545.4,
          1546.3,
          1547.35,
          1549.75,
          1553.2,
          1556.85,
          1558.65,
          1558.7,
          1559.25,
          1559.45,
          1563.9,
          1564.05,
          1564.4,
          1566.75,
          1567.55,
          1570.7,
          1573.95,
          1579.7,
          1580.1,
          1581.95,
          1588.25,
          1588.7,
          1588.75,
          1593.1,
          1594.75,
          1596.6,
          1597.05,
          1597.4,
          1600.25,
          1601.5,
          1608.15,
          1611,
          1611.15,
          1611.65,
          1612.2,
          1614.05,
          1614.2,
          1614.7,
          1615.1,
          1620.2,
          1620.25,
          1620.8,
          1621.35,
          1623.4,
          1626.05,
          1630.4,
          1633,
          1636.95,
          1637.3,
          1640,
          1641.3,
          1642.75,
          1643.55,
          1646.45,
          1647,
          1648.45,
          1651.95,
          1652.1,
          1652.4,
          1652.95,
          1653.45,
          1653.85,
          1654.45,
          1654.7,
          1655.35,
          1662.05,
          1663.75,
          1665.2,
          1667.25,
          1669.4,
          1671.6,
          1672.1,
          1672.35,
          1677.85,
          1679.4,
          1679.65,
          1682.05,
          1682.4,
          1683.7,
          1686.85,
          1689.45,
          1691.9,
          1696.2,
          1700.9,
          1701.65,
          1702.9,
          1706.45,
          1712.9,
          1714.95,
          1718.95,
          1725.95,
          1729.35,
          1732.6,
          1734.2,
          1734.5,
          1737.45,
          1739.6,
          1742.45,
          1742.5,
          1743.05,
          1743.9,
          1745.2,
          1745.5,
          1747.2,
          1748.9,
          1750.85,
          1752.45,
          1752.65,
          1755.35,
          1756.6,
          1758.9,
          1759.4,
          1760.25,
          1765.95,
          1778.5,
          1781.35,
          1782,
          1782.4,
          1783.6,
          1783.75,
          1785.65,
          1790.6,
          1790.65,
          1793.25,
          1794.65,
          1794.8,
          1797.75,
          1798.65,
          1799.3,
          1800.05,
          1801.1,
          1802.15,
          1803.7,
          1806.35,
          1810.85,
          1813.1,
          1815,
          1815.3,
          1815.65,
          1816.75,
          1818.3,
          1818.9,
          1820.9,
          1821.2,
          1821.95,
          1825.5,
          1826.7,
          1830.1,
          1832.4,
          1834.15,
          1835.3,
          1837.7,
          1837.9,
          1838.15,
          1840.75,
          1841.9,
          1842.7,
          1843.05,
          1846.65,
          1848.8,
          1849.95,
          1850.65,
          1857.25,
          1857.3,
          1857.75,
          1859.5,
          1861.1,
          1862.9,
          1864.65,
          1867.6,
          1868.4,
          1871.15,
          1874.45,
          1875.25,
          1879.25,
          1882.55,
          1882.8,
          1884.65,
          1885.15,
          1886.25,
          1886.4,
          1888.45,
          1889.5,
          1893.5,
          1901.05,
          1901.25,
          1901.65,
          1902,
          1905.4,
          1905.7,
          1908.35,
          1910.75,
          1912.15,
          1912.85,
          1916,
          1916.2,
          1923.5,
          1923.85,
          1924.1,
          1927.3,
          1928.7,
          1929,
          1929.95,
          1930.9,
          1931.3,
          1932.75,
          1936.85,
          1938.05,
          1938.9,
          1939.35,
          1940.8,
          1941.5,
          1943.9,
          1948.35,
          1949.4,
          1952.25,
          1952.8,
          1955.4,
          1956.4,
          1957.1,
          1958.45,
          1958.95,
          1959.5,
          1961.6,
          1964.6,
          1968.1,
          1971.15,
          1971.5,
          1972.35,
          1975.85,
          1978.65,
          1980.3,
          1982.1,
          1982.6,
          1983.15,
          1985.15,
          1990.5,
          1992.2,
          1992.55,
          1992.85,
          1992.95,
          1993.2,
          1993.25,
          2000.2,
          2001,
          2003.6,
          2006.1,
          2007.25,
          2007.85,
          2010.95,
          2015.8,
          2016.3,
          2016.45,
          2018.1,
          2018.4,
          2019.8,
          2020.9,
          2021.2,
          2021.35,
          2023.55,
          2024.1,
          2025.1,
          2028.8,
          2029.05,
          2030.75,
          2031.95,
          2032.3,
          2033.05,
          2033.85,
          2034.25,
          2036.55,
          2038.7,
          2042.05,
          2044.75,
          2044.95,
          2045.55,
          2048.8,
          2049.05,
          2053.05,
          2054.4,
          2058.5,
          2062.15,
          2065.15,
          2065.4,
          2066,
          2067,
          2070.05,
          2070.75,
          2072.75,
          2075.1,
          2076.05,
          2077.95,
          2078.55,
          2078.95,
          2080.1,
          2083.1,
          2085.45,
          2088.05,
          2088.45,
          2090.25,
          2092.9,
          2093.4,
          2093.9,
          2094.65,
          2094.9,
          2096.1,
          2104.55,
          2106.05,
          2106.3,
          2107.15,
          2108.35,
          2111.3,
          2117.2,
          2117.25,
          2130.45,
          2130.55,
          2134.3,
          2136.9,
          2139.1,
          2139.1499999999996,
          2142.8,
          2146.5,
          2149.05,
          2151.6,
          2156.25,
          2157.3,
          2157.5,
          2162.6,
          2168.15,
          2168.9,
          2169.4,
          2172.05,
          2180.55,
          2181.55,
          2181.75,
          2184.6,
          2184.85,
          2187.15,
          2188.45,
          2188.5,
          2191.15,
          2191.7,
          2192.9,
          2193,
          2193.2,
          2193.65,
          2196.3,
          2196.45,
          2198.3,
          2198.9,
          2199.05,
          2200.7,
          2201.75,
          2203.1,
          2203.7,
          2204.35,
          2208.05,
          2208.75,
          2209.15,
          2209.75,
          2210.2,
          2211.8,
          2212.55,
          2215,
          2215.25,
          2215.4,
          2215.45,
          2220.1,
          2221.55,
          2224.5,
          2227.8,
          2230.85,
          2234.55,
          2234.95,
          2236.2,
          2237.55,
          2239.4,
          2243.9,
          2244.95,
          2245.4,
          2248.05,
          2249.1,
          2258.25,
          2259.35,
          2263.4,
          2263.45,
          2264.5,
          2265,
          2271.85,
          2272.8,
          2274.1,
          2275.1,
          2276.1,
          2278.75,
          2281.6,
          2282.95,
          2283.15,
          2283.3,
          2288.7,
          2289.9,
          2292.75,
          2296.25,
          2298.55,
          2298.9,
          2301.15,
          2302.35,
          2308.6,
          2309.55,
          2310.2,
          2312.55,
          2313.8,
          2316.85,
          2317.1,
          2320.8,
          2322.85,
          2324.7,
          2326.05,
          2333.05,
          2333.85,
          2337.45,
          2338.35,
          2339.3,
          2341.5,
          2341.55,
          2343.85,
          2344.5,
          2345.55,
          2347.85,
          2348.45,
          2349.8,
          2351.45,
          2356.75,
          2357.75,
          2364,
          2369.3,
          2369.7,
          2375.2,
          2379.1,
          2383.6,
          2386.85,
          2390.45,
          2391.15,
          2395.05,
          2395.7,
          2398.4,
          2401.05,
          2404.1,
          2404.15,
          2404.85,
          2406.1,
          2409.9,
          2413.05,
          2414.55,
          2415.95,
          2419,
          2419.55,
          2421.6,
          2421.75,
          2423.4,
          2424.05,
          2424.45,
          2424.5,
          2425.4,
          2427.1,
          2427.35,
          2429.1,
          2431.95,
          2433.5,
          2434.45,
          2438.6,
          2440.25,
          2441.7,
          2443.3,
          2444.25,
          2447.45,
          2448.5,
          2453.3,
          2455.05,
          2459.8,
          2460.35,
          2460.55,
          2462.55,
          2462.6,
          2471.25,
          2471.6,
          2473.95,
          2475.35,
          2479.05,
          2479.25,
          2483.65,
          2484,
          2490.15,
          2492.25,
          2494.65,
          2495.15,
          2495.2,
          2497.2,
          2509.25,
          2509.95,
          2510.7,
          2511.3,
          2511.55,
          2511.95,
          2513.5,
          2516.2,
          2522.4,
          2531.4,
          2531.8,
          2535.55,
          2536.55,
          2537,
          2538.05,
          2538.2,
          2540.1,
          2545.7,
          2545.75,
          2546.85,
          2548.55,
          2548.65,
          2549.1,
          2552.9,
          2553.35,
          2553.7,
          2554,
          2555.05,
          2560.1,
          2564.95,
          2566.3,
          2568.15,
          2570,
          2570.2,
          2575.45,
          2576.8,
          2583.75,
          2586,
          2588.95,
          2595.25,
          2595.85,
          2599.95,
          2603.1,
          2603.3,
          2603.95,
          2606.35,
          2607.6,
          2610.65,
          2613.4,
          2614.1,
          2618.3,
          2619.15,
          2619.25,
          2621.75,
          2623.65,
          2625.25,
          2626.15,
          2627.2,
          2627.35,
          2633.3,
          2633.4,
          2633.95,
          2635,
          2638.1,
          2640.55,
          2647.1,
          2647.2,
          2651.1,
          2651.2,
          2654.05,
          2656.3,
          2656.7,
          2657.55,
          2658.4,
          2658.8,
          2659.45,
          2661.1,
          2664.3,
          2665,
          2666.75,
          2669.45,
          2673.45,
          2674.15,
          2679.7,
          2680.15,
          2681.15,
          2683.2,
          2684.35,
          2684.85,
          2686.05,
          2688.45,
          2688.85,
          2689.35,
          2692.75,
          2696.55,
          2708.2,
          2715.3,
          2719.2,
          2722.2,
          2723.15,
          2723.4,
          2723.75,
          2724.25,
          2727.3,
          2727.8,
          2730.85,
          2731,
          2737.05,
          2743.45,
          2747.2,
          2748.7,
          2751,
          2753.8,
          2754,
          2762.75,
          2763,
          2763.35,
          2766.4,
          2768.35,
          2768.65,
          2773.9,
          2774.55,
          2779.5,
          2780.6,
          2782.4,
          2789.7,
          2790.65,
          2793.55,
          2796.35,
          2796.45,
          2799,
          2799.75,
          2802.3,
          2807.1,
          2807.65,
          2809.05,
          2813.05,
          2815.25,
          2820.65,
          2823,
          2830.45,
          2832.75,
          2835.5,
          2835.9,
          2838.55,
          2839.45,
          2839.95,
          2845.15,
          2847.2,
          2848.45,
          2852.4,
          2854.95,
          2857.6,
          2861.45,
          2862.55,
          2871.5,
          2874.45,
          2877.05,
          2877.95,
          2878.55,
          2878.75,
          2879.2,
          2879.9,
          2882.25,
          2884.9,
          2888.7,
          2893.4,
          2894.55,
          2896.55,
          2896.6,
          2897.95,
          2898.95,
          2901.8,
          2907.35,
          2907.55,
          2908.2,
          2909.95,
          2911.5,
          2911.8,
          2917.65,
          2919.85,
          2921.75,
          2924.05,
          2928.5,
          2929.75,
          2933.95,
          2936.25,
          2937.65,
          2939.8,
          2948.6,
          2958.95,
          2959.8,
          2960.1,
          2961.4,
          2962,
          2964,
          2964.05,
          2964.8,
          2965.75,
          2966.95,
          2970.3,
          2970.8,
          2971.7,
          2974.5,
          2976.95,
          2979.2,
          2979.3,
          2983.65,
          2985.25,
          2989.6,
          2997.45,
          2998,
          3000.25,
          3003.55,
          3005.8,
          3007.25,
          3008.15,
          3008.55,
          3009.5,
          3011.65,
          3015.75,
          3019.1,
          3019.7,
          3021.3,
          3021.45,
          3023.55,
          3023.65,
          3023.85,
          3024.15,
          3027.25,
          3027.65,
          3035.35,
          3035.8,
          3038.55,
          3042.25,
          3043.6,
          3043.7,
          3045.75,
          3047.15,
          3053,
          3055.5,
          3058.15,
          3058.3,
          3062.45,
          3068.6,
          3069.45,
          3077,
          3082.1,
          3084.9,
          3085.35,
          3088.25,
          3088.75,
          3089.1,
          3089.6,
          3090.05,
          3090.65,
          3091.75,
          3092,
          3094.05,
          3094.65,
          3096.9,
          3097,
          3097.2,
          3103.25,
          3107.3,
          3109.9,
          3112.05,
          3116.15,
          3119.9,
          3121.1,
          3121.4,
          3121.45,
          3122.4,
          3126.45,
          3126.85,
          3128.8,
          3131.55,
          3131.8,
          3132.75,
          3134.7,
          3139.8,
          3141.7,
          3143.65,
          3145.15,
          3145.9,
          3147.15,
          3157,
          3161.2,
          3161.4,
          3161.6,
          3162.65,
          3165.6,
          3166.9,
          3168,
          3168.75,
          3169.55,
          3171.6,
          3173.35,
          3175.85,
          3177.25,
          3180.5,
          3181.8,
          3187.65,
          3190.25,
          3190.65,
          3196,
          3199,
          3204.4,
          3205.6,
          3208.65,
          3210.35,
          3211.2,
          3211.9,
          3213.75,
          3217.65,
          3219.75,
          3221.25,
          3231.05,
          3236.35,
          3237.05,
          3238.4,
          3242.5,
          3244.4,
          3246.45,
          3247.55,
          3249.4,
          3250.45,
          3251.3,
          3251.85,
          3252,
          3254.35,
          3255.35,
          3260.1,
          3263.6,
          3263.9,
          3265.95,
          3268.05,
          3270.25,
          3273.8,
          3273.95,
          3274.35,
          3275.15,
          3281.65,
          3282.75,
          3283.05,
          3292.3,
          3297,
          3301.05,
          3306.85,
          3313.4,
          3314.15,
          3316.1,
          3320.6,
          3320.75,
          3321.35,
          3327.05,
          3330.1,
          3334.9,
          3334.95,
          3339.05,
          3340.55,
          3342,
          3342.45,
          3343.15,
          3344.1,
          3346.8,
          3348.1,
          3349.1,
          3353.4,
          3355.65,
          3357.9,
          3358.65,
          3363.8,
          3364.55,
          3365.4,
          3366.05,
          3369.05,
          3369.25,
          3370.2,
          3371,
          3371.75,
          3373.4,
          3375.9,
          3377.8,
          3379.25,
          3382.3,
          3389.25,
          3398.9,
          3399.85,
          3403.4,
          3409.1,
          3410,
          3410.6,
          3413.25,
          3414.65,
          3415.25,
          3416.85,
          3418.2,
          3419.3,
          3419.5,
          3420.5,
          3423.5,
          3425.35,
          3431.75,
          3435.6,
          3437.45,
          3437.5,
          3439,
          3440.25,
          3442.15,
          3442.8,
          3450.15,
          3452.55,
          3454.6,
          3457.45,
          3460.3,
          3460.95,
          3462.1,
          3465.05,
          3465.7,
          3470.8,
          3471.1,
          3472.05,
          3474.2,
          3478.15,
          3478.75,
          3479.05,
          3480.35,
          3482.85,
          3483.45,
          3486.65,
          3487.95,
          3488.15,
          3491.55,
          3496.3,
          3503.5,
          3505.1,
          3509.4,
          3510.3,
          3512.15,
          3512.5,
          3512.9,
          3517.9,
          3521.7,
          3522.65,
          3527,
          3527.3,
          3529.95,
          3532,
          3532.25,
          3532.85,
          3533.6,
          3539.25,
          3540.65,
          3541.1,
          3541.4,
          3545.05,
          3545.1,
          3548.3,
          3551.65,
          3554.6,
          3557.7,
          3561.15,
          3562.5,
          3565.65,
          3566.6,
          3566.7,
          3571.6,
          3574.5,
          3579.15,
          3580.95,
          3581.4,
          3581.6,
          3582.4,
          3590.2,
          3591.25,
          3593.8,
          3597.5,
          3600.65,
          3603.45,
          3605.6,
          3608,
          3616.25,
          3617.1,
          3618.7,
          3623.95,
          3624.35,
          3625.2,
          3626.35,
          3627.3,
          3629.2,
          3632,
          3634.8,
          3635.15,
          3638.25,
          3641.5,
          3645.05,
          3645.5,
          3645.6,
          3645.75,
          3646.8,
          3649.6,
          3650.35,
          3653,
          3656.25,
          3662.25,
          3665.55,
          3670.5,
          3673.15,
          3673.6,
          3674.95,
          3682.45,
          3684.95,
          3686.05,
          3687.75,
          3687.85,
          3688.6,
          3691.2,
          3694.45,
          3694.7,
          3704.15,
          3707.6,
          3708.4,
          3713.95,
          3720.35,
          3721.9,
          3723.65,
          3725.5,
          3726.15,
          3729.6,
          3729.75,
          3735.45,
          3739.8,
          3741.85,
          3751.15,
          3753.2,
          3756.4,
          3756.45,
          3765.05,
          3766.2,
          3767.4,
          3769.7,
          3770,
          3771.5,
          3772.5,
          3772.65,
          3775.85,
          3778,
          3778.1,
          3778.2,
          3778.85,
          3782.4,
          3784,
          3789.2,
          3791.6,
          3794.5,
          3795.45,
          3801.3,
          3801.7,
          3804.4,
          3808,
          3808.2,
          3810.55,
          3810.8,
          3815.4,
          3822.45,
          3824.2,
          3827.9,
          3829.75,
          3833.95,
          3834.4,
          3835.55,
          3836.3,
          3838.2,
          3838.75,
          3842.6,
          3845.45,
          3846.35,
          3846.75,
          3847.6,
          3848,
          3848.8,
          3851.45,
          3857.1,
          3858.05,
          3861.45,
          3865.45,
          3865.6,
          3870,
          3870.3,
          3871.85,
          3874.1,
          3875.4,
          3876.2,
          3877.65,
          3877.95,
          3880.05,
          3882.3,
          3883.3,
          3886.05,
          3886.45,
          3886.85,
          3887.25,
          3887.85,
          3888.65,
          3893.6,
          3894.4,
          3895.35,
          3899.05,
          3901.25,
          3902.45,
          3902.6,
          3906.7,
          3914.05,
          3915.4,
          3919.15,
          3921.1,
          3921.3,
          3923.8,
          3928.3,
          3930.55,
          3930.6,
          3942.45,
          3944.5,
          3946.9,
          3948.45,
          3949.15,
          3950.85,
          3952.45,
          3952.65,
          3953.15,
          3953.7,
          3954.1,
          3956.7,
          3958.2,
          3958.25,
          3958.85,
          3959.15,
          3965.05,
          3966.3,
          3970.4,
          3972.25,
          3973.2,
          3974.15,
          3974.7,
          3975.7,
          3975.9,
          3983.6,
          3985.35,
          3988.5,
          3990.6,
          3990.75,
          3994.05,
          3996.8,
          4003,
          4003.85,
          4009.2,
          4013.8,
          4014,
          4014.2,
          4014.6,
          4016.2,
          4016.3,
          4016.75,
          4017.45,
          4018.05,
          4018.35,
          4018.55,
          4024.2,
          4025.5,
          4025.6,
          4036,
          4039,
          4039.3,
          4039.5,
          4040.2,
          4040.65,
          4042.2,
          4048.95,
          4052.4,
          4054.2,
          4055.5,
          4059.85,
          4060.55,
          4060.9,
          4063,
          4068,
          4069.9,
          4070.95,
          4079.55,
          4084.35,
          4085.75,
          4089.45,
          4096.9,
          4097.05,
          4103.9,
          4107.25,
          4107.3,
          4108.15,
          4109,
          4111.35,
          4113.15,
          4113.7,
          4116.8,
          4116.9,
          4119.4,
          4122.65,
          4122.9,
          4124.65,
          4126.2,
          4126.35,
          4131.2,
          4133.95,
          4134.7,
          4135,
          4136.4,
          4137.2,
          4138.7,
          4138.9,
          4140.1,
          4144.8,
          4144.9,
          4145.25,
          4145.9,
          4149.45,
          4154.55,
          4155.95,
          4156.8,
          4158.25,
          4159.45,
          4162.05,
          4164.4,
          4166.35,
          4174.35,
          4176.7,
          4178.65,
          4179.1,
          4179.2,
          4188.4,
          4189.7,
          4191.45,
          4192.15,
          4193.4,
          4194.85,
          4200.25,
          4209.95,
          4213.9,
          4214.25,
          4217.8,
          4220.35,
          4222.95,
          4224.7,
          4226.7,
          4228.55,
          4230.25,
          4233.95,
          4234.15,
          4236.6,
          4237.5,
          4238.45,
          4245.55,
          4250.1,
          4254.1,
          4261.2,
          4263.4,
          4263.45,
          4264,
          4264.25,
          4264.6,
          4265,
          4266.4,
          4267.15,
          4275.75,
          4282.4,
          4284.2,
          4284.65,
          4285.8,
          4287.2,
          4295.35,
          4297.6,
          4297.95,
          4298.45,
          4299.2,
          4299.75,
          4299.95,
          4300.45,
          4300.8,
          4303.65,
          4304,
          4304.5,
          4307.1,
          4308.25,
          4309.55,
          4310.35,
          4312.5,
          4317.35,
          4318.35,
          4322.85,
          4323.35,
          4326.25,
          4326.8,
          4327.5,
          4331.4,
          4335.2,
          4345,
          4348.1,
          4354.45,
          4361.55,
          4362.05,
          4368.85,
          4368.95,
          4370.25,
          4370.75,
          4374.55,
          4375.8,
          4378.35,
          4378.8,
          4378.9,
          4385.05,
          4386.2,
          4390.25,
          4391.25,
          4391.45,
          4392.5,
          4408.45,
          4415.75,
          4421.95,
          4422.95,
          4428.45,
          4428.6,
          4433.3,
          4438.2,
          4442.75,
          4445.3,
          4447.55,
          4447.75,
          4448.8,
          4449.75,
          4451.85,
          4453.3,
          4454.25,
          4456.35,
          4456.65,
          4459.15,
          4459.8,
          4461.85,
          4464.8,
          4469.1,
          4473,
          4473.45,
          4475.9,
          4478.85,
          4479.2,
          4480.7,
          4483.95,
          4484.05,
          4487.3,
          4492.9,
          4494.65,
          4495.65,
          4504.9,
          4507.15,
          4508.65,
          4509.5,
          4510.8,
          4513.65,
          4519.5,
          4520.15,
          4523.25,
          4524.05,
          4525.8,
          4526.85,
          4528,
          4532.3,
          4534.45,
          4535.85,
          4539.35,
          4539.6,
          4541.9,
          4542.35,
          4543.15,
          4543.95,
          4546,
          4549.05,
          4549.45,
          4551.5,
          4554.85,
          4555.2,
          4557.5,
          4563,
          4564.9,
          4566.5,
          4575.35,
          4576.3,
          4577.75,
          4577.9,
          4586.15,
          4589.85,
          4590.35,
          4594.65,
          4599.15,
          4600.95,
          4613.95,
          4614.55,
          4615.25,
          4615.9,
          4616.05,
          4616.1,
          4619.55,
          4620.4,
          4627.65,
          4627.8,
          4630.2,
          4631.7,
          4634.35,
          4639.45,
          4641.1,
          4652.4,
          4653.25,
          4657.95,
          4663.4,
          4664.15,
          4664.2,
          4664.5,
          4667,
          4669.2,
          4671.65,
          4671.7,
          4674.4,
          4674.55,
          4676.7,
          4677.1,
          4681.75,
          4684.3,
          4685.55,
          4688.65,
          4689.15,
          4690.65,
          4692.55,
          4692.95,
          4693.2,
          4698.05,
          4707.1,
          4707.85,
          4713.4,
          4719.75,
          4720,
          4729.3,
          4729.75,
          4730.6,
          4730.9,
          4732.35,
          4733.1,
          4735.2,
          4735.35,
          4738.3,
          4738.85,
          4741.45,
          4744.35,
          4746.05,
          4747.2,
          4747.5,
          4747.65,
          4747.85,
          4748.7,
          4753.85,
          4754.3,
          4758.8,
          4759.55,
          4760.3,
          4764,
          4765,
          4779.45,
          4784.45,
          4786.1,
          4786.15,
          4793.8,
          4798.4,
          4801.1,
          4804.65,
          4804.75,
          4805.3,
          4805.65,
          4807.35,
          4807.45,
          4808.7,
          4811.6,
          4818.8,
          4819.75,
          4820.55,
          4824.45,
          4828.05,
          4834,
          4839.15,
          4845.4,
          4847.05,
          4847.35,
          4849.1,
          4854.3,
          4855.35,
          4858.7,
          4859.1,
          4859.25,
          4859.95,
          4860.35,
          4860.85,
          4861.45,
          4862.5,
          4863.85,
          4868.4,
          4869.35,
          4869.5,
          4871.45,
          4872.2,
          4872.35,
          4882.8,
          4884.85,
          4885.85,
          4888.2,
          4889.2,
          4889.3,
          4890.5,
          4891.5,
          4895.1,
          4896.35,
          4900.65,
          4902.8,
          4903.15,
          4903.2,
          4904.2,
          4904.25,
          4904.85,
          4905.75,
          4908.25,
          4911.05,
          4911.35,
          4914.8,
          4914.9,
          4915.15,
          4916.4,
          4916.95,
          4917.75,
          4917.9,
          4919.7,
          4920.55,
          4920.8,
          4921.2,
          4922.4,
          4925.35,
          4929.55,
          4931.8,
          4932.5,
          4939.25,
          4946.05,
          4946.7,
          4947.55,
          4949.1,
          4952.95,
          4953.25,
          4959.15,
          4959.6,
          4964.7,
          4965,
          4965.1,
          4968,
          4972.1,
          4973.4,
          4976.15,
          4977.2,
          4981.15,
          4982.5,
          4983.05,
          4984.85,
          4985.9,
          4991.5,
          4993.4,
          4995.35,
          4997.5,
          5000.05,
          5011.15,
          5012.1,
          5012.35,
          5013,
          5016.25,
          5016.65,
          5017.7,
          5023,
          5025,
          5025.8,
          5025.85,
          5029.05,
          5031,
          5031.85,
          5032.25,
          5034.05,
          5036.9,
          5038.15,
          5038.45,
          5040.2,
          5042.75,
          5043.2,
          5044.8,
          5059.75,
          5060.85,
          5060.9,
          5064.45,
          5064.85,
          5067.45,
          5068.05,
          5070.4,
          5071.9,
          5073.1,
          5083.55,
          5088.4,
          5099.15,
          5102.35,
          5116.6,
          5121.75,
          5125.5,
          5125.75,
          5129.3,
          5129.45,
          5135.15,
          5135.35,
          5138.1,
          5139.65,
          5150.55,
          5153.5,
          5154.5,
          5163,
          5163.3,
          5165.7,
          5166.2,
          5168.1,
          5174.35,
          5175.3,
          5186,
          5189.75,
          5193.2,
          5194.05,
          5196.1,
          5199.8,
          5200.8,
          5206.55,
          5212.65,
          5215.1,
          5215.25,
          5219.65,
          5222.3,
          5222.35,
          5224.5,
          5224.95,
          5229.45,
          5229.8,
          5231.2,
          5231.3,
          5232.9,
          5233.25,
          5234.95,
          5236.4,
          5237.4,
          5243.05,
          5244.45,
          5251.75,
          5253.95,
          5264.25,
          5264.3,
          5264.5,
          5265.2,
          5265.5,
          5265.55,
          5270.6,
          5276.1,
          5289.05,
          5289.8,
          5290.45,
          5294.6,
          5295.7,
          5299.65,
          5301.1,
          5305.05,
          5308.7,
          5309.5,
          5311.85,
          5315.1,
          5315.8,
          5317.8,
          5321.25,
          5324.5,
          5327.25,
          5329,
          5329.55,
          5330.2,
          5333.35,
          5336.35,
          5347.95,
          5348.65,
          5357.75,
          5360.75,
          5364.8,
          5375.15,
          5376.4,
          5377.8,
          5386.5,
          5388.15,
          5396.25,
          5398.6,
          5401.9,
          5405.8,
          5409.75,
          5411.4,
          5411.65,
          5420.65,
          5424.25,
          5430.35,
          5430.65,
          5431.4,
          5431.9,
          5432.2,
          5435,
          5436.45,
          5437.1,
          5437.75,
          5438.95,
          5442.05,
          5443.65,
          5445.95,
          5448.6,
          5450.7,
          5458.8,
          5459.2,
          5460.2,
          5461.45,
          5468.45,
          5468.95,
          5471.75,
          5475.9,
          5480.25,
          5481.25,
          5483.9,
          5484.4,
          5487,
          5496.9,
          5497.05,
          5498.2,
          5498.8,
          5500.6,
          5502.55,
          5511.65,
          5514.95,
          5515.45,
          5515.8,
          5522.7,
          5526.75,
          5528.9,
          5535.8,
          5536.5,
          5538.35,
          5538.8,
          5542.55,
          5550.1,
          5552.05,
          5552.5,
          5553.25,
          5555.3,
          5560,
          5563.65,
          5564.85,
          5566.4,
          5567.45,
          5567.55,
          5574.35,
          5576.3,
          5580.8,
          5581.05,
          5585.4,
          5586.45,
          5588.8,
          5589.3,
          5589.45,
          5594,
          5595.3,
          5597.65,
          5598,
          5598.3,
          5600.15,
          5601.4,
          5602.25,
          5607.75,
          5608.4,
          5610.15,
          5611.7,
          5611.75,
          5617.95,
          5618.3,
          5621.85,
          5623.7,
          5625.55,
          5629.15,
          5629.55,
          5632.55,
          5637.85,
          5645.8,
          5646.6,
          5647.95,
          5655.45,
          5656.75,
          5661.7,
          5662.25,
          5669.5,
          5673.7,
          5676,
          5676.65,
          5680.9,
          5681.1,
          5682.25,
          5683.6,
          5686.4,
          5688.45,
          5692.65,
          5696.6,
          5703,
          5703.25,
          5705.05,
          5706.2,
          5706.3,
          5708.2,
          5711.05,
          5714.2,
          5714.25,
          5717.85,
          5718.2,
          5720.35,
          5720.95,
          5727.15,
          5727.45,
          5728.55,
          5730.15,
          5730.7,
          5731.4,
          5731.45,
          5731.85,
          5733.4,
          5737.6,
          5743.3,
          5744.35,
          5746.75,
          5749.8,
          5750,
          5753.25,
          5755.8,
          5757.2,
          5760.65,
          5762.95,
          5763.15,
          5764.7,
          5774.55,
          5776.45,
          5779.6,
          5780.7,
          5784.3,
          5785.65,
          5791.1,
          5791.85,
          5794.45,
          5798.3,
          5809.75,
          5810.9,
          5811.8,
          5812,
          5815.15,
          5817,
          5817.45,
          5817.7,
          5822.3,
          5824.75,
          5825.5,
          5826.65,
          5831.2,
          5832,
          5832.65,
          5835.5,
          5839.3,
          5841.35,
          5844.65,
          5846.65,
          5848.6,
          5860.7,
          5861.75,
          5867,
          5869.4,
          5873.75,
          5878.9,
          5882.75,
          5883.85,
          5886.85,
          5890,
          5893.9,
          5893.95,
          5894.5,
          5895.45,
          5897.4,
          5898.6,
          5899.85,
          5903.15,
          5913.95,
          5914.4,
          5916.95,
          5917.55,
          5919.35,
          5924.4,
          5925.75,
          5930.05,
          5931,
          5931.75,
          5935.1,
          5936.55,
          5941.05,
          5943.65,
          5948.7,
          5950.2,
          5953,
          5956.85,
          5957.9,
          5958.85,
          5959.3,
          5960.5,
          5963.95,
          5965.95,
          5968.4,
          5969.3,
          5969.85,
          5969.95,
          5971.25,
          5974.3,
          5976.9,
          5979.7,
          5980.55,
          5980.75,
          5981.65,
          5985,
          5985.75,
          5986.45,
          5986.55,
          5991.05,
          5997.1,
          5999.85,
          6000.1,
          6001.45,
          6004.85,
          6017.9,
          6018.65,
          6019.35,
          6028.95,
          6029,
          6029.9,
          6033.1,
          6033.3,
          6034.85,
          6038.55,
          6042.7,
          6045.9,
          6046.1,
          6049.5,
          6052.25,
          6055.55,
          6056.9,
          6058.95,
          6065.3,
          6066.55,
          6067.4,
          6068.65,
          6069.25,
          6075.9,
          6077.75,
          6078.75,
          6079,
          6081.4,
          6083.1,
          6093.3,
          6094.25,
          6096.45,
          6096.9,
          6109.65,
          6109.75,
          6110.75,
          6118.95,
          6126.1,
          6126.15,
          6129.2,
          6129.65,
          6130.85,
          6130.95,
          6132.7,
          6139.5,
          6140.85,
          6141.65,
          6145.2,
          6148.45,
          6151.9,
          6152.3,
          6152.4,
          6153.85,
          6155.4,
          6157.6,
          6161.9,
          6164.7,
          6171.2,
          6172,
          6176.6,
          6179.35,
          6185.15,
          6185.8,
          6194.1,
          6201.95,
          6218.45,
          6223.3,
          6223.8,
          6224.8,
          6225.4,
          6227.5,
          6230.1,
          6236.75,
          6237.05,
          6239.05,
          6241.35,
          6252.7,
          6253,
          6254.45,
          6256.2,
          6263.8,
          6273.4,
          6287.3,
          6292.7,
          6293.2,
          6293.45,
          6293.75,
          6296.75,
          6297.65,
          6300.15,
          6300.85,
          6301.7,
          6302.8,
          6302.85,
          6306.5,
          6309.65,
          6310.9,
          6311.2,
          6312.9,
          6314.35,
          6316.2,
          6322.1,
          6325.25,
          6328.7,
          6330.4,
          6332.75,
          6333.4,
          6333.8,
          6339.3,
          6339.45,
          6342.7,
          6347.55,
          6350.5,
          6352.4,
          6362.35,
          6363.45,
          6365.35,
          6367.2,
          6368.2,
          6369.45,
          6373.1,
          6375.2,
          6375.8,
          6376.55,
          6382,
          6382.55,
          6383.9,
          6385.95,
          6388.65,
          6392.85,
          6393.65,
          6397.6,
          6398.05,
          6401.25,
          6404,
          6411.25,
          6416.7,
          6423,
          6424.25,
          6424.7,
          6425.65,
          6430.9,
          6431.05,
          6435.25,
          6441.85,
          6444.05,
          6448.85,
          6449.15,
          6457.15,
          6460.55,
          6463.15,
          6468.6,
          6470.1,
          6471.85,
          6474.4,
          6474.45,
          6479.4,
          6480.9,
          6487.2,
          6496.15,
          6501.35,
          6503.2,
          6506.15,
          6510.45,
          6511.25,
          6511.8,
          6518.35,
          6519.75,
          6520.8,
          6521.9,
          6526.65,
          6536.5,
          6538.45,
          6548.65,
          6549.45,
          6555.2,
          6557.75,
          6561.25,
          6562.9,
          6563.4,
          6565.85,
          6567.9,
          6572.85,
          6578.55,
          6585.2,
          6586.85,
          6588.95,
          6589.6,
          6590.5,
          6590.8,
          6595,
          6595.9,
          6597.25,
          6602.9,
          6603.8,
          6605.55,
          6613.65,
          6614.9,
          6631.85,
          6632.75,
          6637.9,
          6638.35,
          6640.7,
          6643.5,
          6652.45,
          6654.1,
          6668,
          6668.05,
          6668.35,
          6669.05,
          6669.45,
          6671.7,
          6674.65,
          6683.4,
          6687.85,
          6688.1,
          6688.95,
          6689,
          6690.75,
          6692.65,
          6697.2,
          6697.35,
          6700.05,
          6703.5,
          6705.7,
          6707.15,
          6713.2,
          6716.45,
          6717.9,
          6719.9,
          6721.6,
          6725.3,
          6725.5,
          6733,
          6733.15,
          6735.05,
          6741.15,
          6743.55,
          6744.2,
          6744.25,
          6747.35,
          6751.35,
          6754.35,
          6758.45,
          6766.95,
          6767.1,
          6770.5,
          6770.85,
          6779.05,
          6780.1,
          6782.15,
          6786.1,
          6792.45,
          6794.75,
          6812.95,
          6816.95,
          6819.45,
          6823.4,
          6825.65,
          6827.5,
          6838.6,
          6840.95,
          6841.05,
          6841.3,
          6841.4,
          6841.45,
          6843.15,
          6844.5,
          6849.4,
          6849.75,
          6856.45,
          6856.95,
          6858.9,
          6859.05,
          6860.6,
          6869.7,
          6871.7,
          6875.35,
          6880.85,
          6885.75,
          6889.8,
          6891.4,
          6891.45,
          6895.5,
          6910.3,
          6912.7,
          6914.95,
          6921.7,
          6925.9,
          6929.4,
          6936.85,
          6944.5,
          6951.15,
          6953.4,
          6954.15,
          6962.85,
          6976.75,
          6982.5,
          6989.45,
          6989.7,
          6991.6,
          6991.9,
          6993.65,
          6994.6,
          6994.8,
          6997.3,
          6998.95,
          7002.95,
          7008.15,
          7009.5,
          7015.9,
          7028.5,
          7030.65,
          7031.3,
          7031.45,
          7035.6,
          7039.05,
          7039.45,
          7047.5,
          7049.5,
          7049.75,
          7051.95,
          7053.35,
          7061.65,
          7069.25,
          7069.3,
          7074.4,
          7076.35,
          7082.45,
          7082.5,
          7082.85,
          7085.5,
          7099,
          7104.2,
          7107,
          7108.2,
          7110.75,
          7111.3,
          7112.15,
          7113.75,
          7114.25,
          7118.9,
          7129.45,
          7132.15,
          7133.1,
          7133.45,
          7138.65,
          7142.5,
          7149.35,
          7159.05,
          7159.7,
          7168.25,
          7171.7,
          7173.15,
          7181.25,
          7181.95,
          7188.5,
          7195.35,
          7209,
          7210.85,
          7213.75,
          7222.75,
          7227.45,
          7234.8,
          7238.6,
          7240.65,
          7244.7,
          7245.9,
          7246.15,
          7251.7,
          7251.9,
          7261.25,
          7261.75,
          7266.95,
          7279.35,
          7281.6,
          7283.25,
          7285.7,
          7288.4,
          7291.75,
          7297.75,
          7303.05,
          7308.95,
          7317.1,
          7320.9,
          7321.05,
          7322.5,
          7323.15,
          7325.1,
          7332.4,
          7334.05,
          7337.55,
          7344.45,
          7346.2,
          7349.35,
          7362.9,
          7365.3,
          7365.7,
          7379.8,
          7382.25,
          7382.85,
          7383.7,
          7386.05,
          7388.45,
          7396.15,
          7397,
          7405.5,
          7412.25,
          7413.55,
          7422.1,
          7430.75,
          7447.7,
          7455.45,
          7459,
          7459.05,
          7467.5,
          7467.55,
          7470.1,
          7472.15,
          7475.1,
          7475.85,
          7493.05,
          7508.55,
          7511.3,
          7511.65,
          7511.9,
          7517.7,
          7521.95,
          7530.8,
          7537.5,
          7542.25,
          7544,
          7544.3,
          7548.6,
          7550.3,
          7553.6,
          7554.05,
          7555,
          7556.9,
          7559.55,
          7565.35,
          7567.2,
          7576.7,
          7578.05,
          7581.5,
          7589.8,
          7609.75,
          7610.1,
          7611.55,
          7616,
          7623.2,
          7624.2,
          7629.85,
          7634.25,
          7634.8,
          7657.4,
          7658.3,
          7661.8,
          7665.8,
          7677.4,
          7679.65,
          7689.8,
          7707.7,
          7711.25,
          7711.45,
          7713.55,
          7714.65,
          7719.5,
          7726.35,
          7732.65,
          7737.55,
          7746.7,
          7748.75,
          7751.7,
          7752.05,
          7758.9,
          7767.25,
          7774.05,
          7782.85,
          7789.6,
          7795.95,
          7806.5,
          7806.6,
          7839.85,
          7840.6,
          7842.3,
          7843.55,
          7845.8,
          7848.5,
          7849.85,
          7852.4,
          7853.7,
          7854.15,
          7854.9,
          7862.25,
          7869.05,
          7875,
          7878.3,
          7880.25,
          7881.2,
          7882.25,
          7882.5,
          7887.25,
          7895.15,
          7898.45,
          7904.25,
          7919.8,
          7920.7,
          7922.75,
          7930.55,
          7932.5,
          7939.25,
          7942.15,
          7943.45,
          7953.25,
          7962.2,
          7965.95,
          7966.9,
          7982.5,
          7984.15,
          7985.9,
          7987.6,
          7990.05,
          7993.3,
          7998.8,
          8003.8,
          8012.75,
          8013.55,
          8016.6,
          8022.85,
          8033.1,
          8035.95,
          8041.65,
          8046.85,
          8058.55,
          8058.85,
          8061.5,
          8065.65,
          8071.05,
          8075.35,
          8078.1,
          8086.4,
          8093.15,
          8100.25,
          8100.55,
          8124.2,
          8126.65,
          8129.3,
          8152.3,
          8164.1,
          8165.1,
          8166.8,
          8175.9,
          8182.75,
          8182.85,
          8192.6,
          8196.4,
          8220.4,
          8240.85,
          8244.3,
          8248.5,
          8250,
          8277.05,
          8289.2,
          8297.5,
          8306.05,
          8308.9,
          8309.55,
          8310.55,
          8312.4,
          8312.75,
          8317.95,
          8331.95,
          8332.15,
          8333.95,
          8337.45,
          8349.45,
          8349.7,
          8375.05,
          8399.15,
          8404.9,
          8405,
          8424.9,
          8425.15,
          8425.3,
          8436.25,
          8443.7,
          8456.75,
          8468.2,
          8476.5,
          8477.6,
          8477.7,
          8496.7,
          8529.5,
          8543.25,
          8547.15,
          8564.75,
          8594.4,
          8670.1,
          8672.45
         ],
         "xaxis": "x",
         "y": [
          1,
          3,
          2,
          1,
          1,
          2,
          1,
          1,
          1,
          1,
          1,
          1,
          1,
          1,
          1,
          1,
          1,
          1,
          1,
          4,
          1,
          1,
          1,
          1,
          2,
          1,
          3,
          1,
          1,
          1,
          1,
          1,
          1,
          1,
          1,
          1,
          1,
          1,
          1,
          1,
          1,
          1,
          1,
          1,
          1,
          1,
          1,
          1,
          1,
          1,
          1,
          1,
          1,
          1,
          2,
          1,
          3,
          1,
          1,
          1,
          3,
          1,
          2,
          1,
          1,
          1,
          1,
          1,
          1,
          1,
          1,
          1,
          1,
          1,
          1,
          1,
          1,
          1,
          1,
          1,
          1,
          1,
          1,
          1,
          1,
          1,
          1,
          2,
          1,
          1,
          1,
          1,
          1,
          1,
          1,
          2,
          1,
          1,
          1,
          1,
          1,
          1,
          1,
          1,
          1,
          1,
          1,
          1,
          1,
          1,
          1,
          1,
          1,
          1,
          1,
          1,
          1,
          1,
          1,
          1,
          1,
          1,
          1,
          2,
          1,
          1,
          1,
          1,
          1,
          1,
          1,
          1,
          1,
          1,
          1,
          1,
          1,
          1,
          1,
          1,
          1,
          1,
          1,
          1,
          1,
          1,
          1,
          1,
          1,
          1,
          1,
          1,
          2,
          1,
          1,
          1,
          1,
          1,
          1,
          1,
          1,
          1,
          1,
          1,
          1,
          1,
          1,
          1,
          1,
          2,
          1,
          1,
          1,
          1,
          1,
          1,
          1,
          1,
          1,
          1,
          1,
          1,
          1,
          1,
          1,
          1,
          1,
          1,
          1,
          1,
          2,
          1,
          1,
          1,
          1,
          1,
          1,
          1,
          1,
          1,
          1,
          2,
          1,
          1,
          1,
          1,
          1,
          1,
          1,
          1,
          1,
          1,
          1,
          1,
          1,
          1,
          1,
          1,
          1,
          1,
          1,
          1,
          1,
          1,
          1,
          1,
          1,
          1,
          1,
          1,
          1,
          1,
          1,
          1,
          1,
          1,
          1,
          1,
          1,
          1,
          1,
          1,
          1,
          1,
          1,
          1,
          1,
          1,
          1,
          1,
          1,
          1,
          1,
          1,
          1,
          1,
          1,
          3,
          1,
          1,
          1,
          1,
          1,
          1,
          1,
          1,
          1,
          1,
          1,
          1,
          1,
          1,
          1,
          1,
          1,
          2,
          1,
          1,
          1,
          1,
          1,
          2,
          1,
          1,
          1,
          1,
          1,
          1,
          1,
          1,
          1,
          1,
          1,
          1,
          1,
          1,
          1,
          1,
          1,
          1,
          1,
          1,
          1,
          1,
          1,
          1,
          1,
          1,
          1,
          1,
          1,
          1,
          1,
          1,
          1,
          1,
          1,
          1,
          1,
          1,
          1,
          1,
          1,
          1,
          1,
          1,
          1,
          1,
          1,
          1,
          1,
          1,
          1,
          1,
          1,
          1,
          1,
          1,
          1,
          1,
          1,
          1,
          1,
          1,
          1,
          1,
          1,
          1,
          1,
          1,
          1,
          1,
          1,
          1,
          1,
          1,
          1,
          1,
          1,
          1,
          1,
          1,
          1,
          1,
          1,
          1,
          1,
          1,
          1,
          1,
          1,
          1,
          1,
          1,
          1,
          1,
          1,
          1,
          1,
          1,
          1,
          1,
          2,
          1,
          1,
          1,
          1,
          1,
          1,
          1,
          1,
          1,
          1,
          1,
          1,
          1,
          1,
          1,
          1,
          1,
          1,
          1,
          1,
          1,
          1,
          1,
          1,
          1,
          1,
          1,
          1,
          1,
          1,
          1,
          1,
          1,
          1,
          1,
          1,
          1,
          1,
          1,
          1,
          1,
          1,
          1,
          1,
          1,
          1,
          1,
          1,
          1,
          1,
          1,
          1,
          1,
          1,
          1,
          1,
          1,
          1,
          1,
          1,
          1,
          1,
          1,
          1,
          1,
          1,
          1,
          1,
          1,
          1,
          1,
          1,
          1,
          1,
          1,
          1,
          1,
          1,
          1,
          1,
          1,
          1,
          1,
          1,
          1,
          1,
          1,
          1,
          1,
          1,
          1,
          1,
          1,
          1,
          1,
          1,
          1,
          1,
          1,
          1,
          1,
          1,
          1,
          1,
          1,
          1,
          1,
          1,
          1,
          1,
          1,
          1,
          1,
          1,
          1,
          1,
          1,
          1,
          1,
          1,
          1,
          2,
          1,
          1,
          1,
          1,
          1,
          1,
          1,
          1,
          1,
          1,
          1,
          1,
          1,
          1,
          1,
          1,
          1,
          1,
          1,
          1,
          1,
          1,
          1,
          1,
          1,
          1,
          1,
          1,
          1,
          1,
          1,
          1,
          1,
          1,
          1,
          1,
          1,
          1,
          1,
          1,
          2,
          1,
          1,
          1,
          1,
          1,
          1,
          1,
          1,
          1,
          1,
          1,
          1,
          1,
          1,
          1,
          1,
          1,
          1,
          1,
          1,
          1,
          1,
          2,
          1,
          1,
          1,
          1,
          1,
          1,
          1,
          1,
          1,
          1,
          1,
          1,
          1,
          1,
          1,
          1,
          1,
          1,
          1,
          1,
          1,
          1,
          1,
          1,
          1,
          1,
          1,
          1,
          1,
          1,
          1,
          1,
          1,
          1,
          1,
          1,
          1,
          1,
          1,
          1,
          1,
          1,
          1,
          1,
          1,
          1,
          1,
          1,
          1,
          1,
          1,
          1,
          1,
          1,
          1,
          1,
          1,
          1,
          1,
          2,
          1,
          1,
          1,
          1,
          1,
          1,
          1,
          1,
          1,
          1,
          1,
          1,
          1,
          1,
          1,
          1,
          1,
          1,
          1,
          1,
          1,
          1,
          1,
          1,
          1,
          1,
          1,
          1,
          1,
          1,
          1,
          1,
          1,
          1,
          1,
          1,
          1,
          1,
          1,
          1,
          1,
          1,
          1,
          1,
          1,
          1,
          1,
          1,
          1,
          1,
          1,
          1,
          1,
          1,
          1,
          1,
          1,
          1,
          1,
          1,
          1,
          1,
          1,
          1,
          1,
          1,
          1,
          1,
          1,
          1,
          1,
          1,
          1,
          1,
          1,
          1,
          1,
          1,
          1,
          1,
          1,
          1,
          1,
          1,
          1,
          1,
          1,
          1,
          1,
          1,
          1,
          1,
          2,
          1,
          1,
          1,
          1,
          1,
          1,
          1,
          1,
          1,
          1,
          1,
          1,
          1,
          1,
          1,
          1,
          1,
          1,
          1,
          1,
          1,
          1,
          1,
          1,
          1,
          1,
          1,
          1,
          1,
          1,
          1,
          1,
          1,
          1,
          1,
          1,
          1,
          1,
          1,
          1,
          1,
          1,
          1,
          1,
          1,
          1,
          1,
          1,
          1,
          1,
          1,
          1,
          1,
          1,
          1,
          1,
          1,
          1,
          1,
          1,
          1,
          1,
          1,
          1,
          1,
          1,
          1,
          1,
          1,
          1,
          1,
          1,
          1,
          1,
          1,
          1,
          1,
          1,
          1,
          1,
          1,
          1,
          1,
          1,
          1,
          1,
          1,
          1,
          1,
          1,
          1,
          1,
          1,
          1,
          1,
          1,
          1,
          1,
          1,
          1,
          1,
          1,
          1,
          1,
          1,
          1,
          1,
          1,
          1,
          1,
          1,
          1,
          1,
          1,
          1,
          1,
          1,
          1,
          1,
          1,
          1,
          1,
          1,
          1,
          1,
          1,
          1,
          1,
          1,
          1,
          2,
          1,
          1,
          1,
          1,
          1,
          1,
          1,
          1,
          1,
          1,
          1,
          1,
          1,
          1,
          1,
          2,
          1,
          1,
          1,
          1,
          1,
          1,
          1,
          1,
          1,
          1,
          1,
          1,
          1,
          1,
          1,
          1,
          1,
          1,
          1,
          1,
          1,
          1,
          1,
          1,
          1,
          1,
          1,
          1,
          1,
          1,
          1,
          1,
          1,
          1,
          1,
          1,
          1,
          1,
          1,
          1,
          1,
          1,
          1,
          1,
          1,
          1,
          1,
          1,
          1,
          1,
          1,
          1,
          1,
          1,
          1,
          1,
          1,
          1,
          1,
          1,
          1,
          1,
          1,
          1,
          1,
          1,
          1,
          1,
          1,
          1,
          1,
          1,
          1,
          1,
          1,
          1,
          1,
          2,
          1,
          1,
          1,
          1,
          1,
          1,
          1,
          1,
          1,
          1,
          1,
          1,
          1,
          1,
          1,
          1,
          1,
          1,
          1,
          1,
          1,
          1,
          1,
          1,
          1,
          1,
          1,
          1,
          1,
          1,
          1,
          1,
          1,
          1,
          1,
          1,
          1,
          1,
          1,
          1,
          1,
          1,
          1,
          1,
          1,
          1,
          1,
          1,
          1,
          1,
          1,
          1,
          1,
          1,
          1,
          1,
          1,
          1,
          1,
          1,
          1,
          1,
          1,
          1,
          1,
          1,
          1,
          1,
          1,
          1,
          1,
          1,
          1,
          1,
          1,
          1,
          1,
          1,
          1,
          1,
          1,
          1,
          1,
          1,
          1,
          1,
          1,
          1,
          1,
          1,
          1,
          1,
          1,
          1,
          1,
          1,
          1,
          1,
          1,
          1,
          1,
          1,
          2,
          1,
          1,
          1,
          1,
          1,
          1,
          1,
          1,
          1,
          1,
          1,
          1,
          1,
          1,
          1,
          1,
          1,
          1,
          1,
          1,
          1,
          1,
          2,
          1,
          1,
          1,
          1,
          1,
          1,
          1,
          1,
          1,
          1,
          1,
          1,
          1,
          1,
          1,
          1,
          1,
          1,
          1,
          1,
          1,
          1,
          1,
          1,
          1,
          1,
          1,
          1,
          1,
          1,
          1,
          1,
          1,
          1,
          1,
          1,
          1,
          1,
          1,
          1,
          1,
          1,
          1,
          1,
          1,
          1,
          1,
          1,
          1,
          1,
          1,
          1,
          1,
          1,
          1,
          1,
          1,
          1,
          1,
          1,
          1,
          1,
          1,
          1,
          1,
          1,
          1,
          1,
          1,
          1,
          1,
          1,
          1,
          1,
          1,
          1,
          1,
          1,
          1,
          1,
          1,
          1,
          1,
          1,
          1,
          1,
          1,
          1,
          1,
          1,
          1,
          1,
          1,
          1,
          1,
          1,
          1,
          1,
          1,
          1,
          1,
          1,
          1,
          1,
          1,
          1,
          1,
          1,
          1,
          1,
          1,
          1,
          1,
          1,
          1,
          1,
          1,
          1,
          1,
          1,
          1,
          1,
          1,
          1,
          1,
          1,
          1,
          1,
          1,
          1,
          1,
          1,
          1,
          1,
          1,
          1,
          1,
          1,
          1,
          1,
          1,
          1,
          1,
          1,
          1,
          1,
          1,
          1,
          1,
          1,
          1,
          1,
          1,
          1,
          1,
          1,
          1,
          1,
          1,
          1,
          2,
          1,
          1,
          1,
          1,
          1,
          1,
          1,
          1,
          1,
          1,
          1,
          1,
          1,
          1,
          1,
          1,
          1,
          1,
          1,
          1,
          1,
          1,
          1,
          1,
          1,
          1,
          1,
          1,
          1,
          2,
          1,
          1,
          1,
          1,
          1,
          1,
          1,
          1,
          1,
          1,
          1,
          1,
          1,
          1,
          1,
          1,
          1,
          1,
          1,
          1,
          1,
          1,
          1,
          1,
          1,
          1,
          1,
          1,
          1,
          1,
          1,
          1,
          1,
          1,
          1,
          1,
          1,
          1,
          1,
          1,
          1,
          1,
          1,
          1,
          1,
          1,
          1,
          1,
          1,
          1,
          1,
          1,
          1,
          1,
          1,
          1,
          1,
          1,
          1,
          1,
          1,
          2,
          1,
          1,
          1,
          1,
          1,
          1,
          1,
          1,
          1,
          1,
          1,
          1,
          1,
          1,
          1,
          1,
          1,
          1,
          1,
          1,
          1,
          1,
          1,
          1,
          1,
          1,
          1,
          1,
          1,
          1,
          1,
          1,
          1,
          1,
          1,
          1,
          1,
          1,
          1,
          1,
          1,
          1,
          1,
          1,
          1,
          1,
          1,
          1,
          1,
          1,
          1,
          1,
          1,
          1,
          1,
          1,
          1,
          1,
          1,
          1,
          1,
          1,
          1,
          1,
          1,
          1,
          1,
          1,
          1,
          1,
          1,
          1,
          1,
          1,
          1,
          1,
          1,
          1,
          1,
          1,
          1,
          1,
          1,
          1,
          1,
          1,
          1,
          2,
          1,
          1,
          1,
          1,
          1,
          1,
          1,
          1,
          1,
          1,
          1,
          1,
          1,
          1,
          1,
          1,
          1,
          1,
          1,
          1,
          1,
          1,
          1,
          1,
          1,
          1,
          1,
          1,
          1,
          1,
          1,
          1,
          1,
          1,
          1,
          1,
          1,
          1,
          1,
          1,
          1,
          1,
          1,
          1,
          1,
          1,
          1,
          1,
          1,
          1,
          1,
          1,
          5,
          1,
          1,
          1,
          2,
          1,
          1,
          1,
          1,
          1,
          1,
          1,
          1,
          1,
          1,
          1,
          1,
          1,
          1,
          1,
          1,
          1,
          1,
          1,
          1,
          1,
          1,
          1,
          1,
          1,
          1,
          1,
          1,
          1,
          1,
          1,
          1,
          1,
          1,
          1,
          1,
          1,
          1,
          1,
          1,
          1,
          1,
          1,
          1,
          1,
          1,
          1,
          1,
          1,
          1,
          1,
          1,
          1,
          1,
          1,
          1,
          1,
          1,
          1,
          1,
          1,
          1,
          1,
          1,
          1,
          1,
          1,
          1,
          1,
          1,
          1,
          1,
          1,
          1,
          1,
          1,
          1,
          1,
          1,
          1,
          1,
          1,
          1,
          1,
          1,
          1,
          1,
          1,
          1,
          1,
          1,
          1,
          1,
          1,
          1,
          1,
          1,
          1,
          1,
          1,
          1,
          1,
          1,
          1,
          1,
          1,
          1,
          1,
          1,
          1,
          1,
          1,
          1,
          1,
          1,
          1,
          1,
          1,
          1,
          1,
          1,
          1,
          1,
          1,
          1,
          1,
          1,
          1,
          1,
          1,
          1,
          1,
          1,
          1,
          1,
          1,
          1,
          1,
          1,
          1,
          1,
          1,
          1,
          1,
          1,
          1,
          2,
          1,
          1,
          1,
          1,
          1,
          1,
          1,
          1,
          1,
          1,
          1,
          1,
          1,
          1,
          1,
          1,
          1,
          1,
          1,
          1,
          1,
          1,
          1,
          1,
          1,
          1,
          1,
          1,
          1,
          1,
          1,
          1,
          1,
          1,
          1,
          1,
          1,
          1,
          1,
          1,
          1,
          1,
          1,
          1,
          1,
          1,
          1,
          1,
          1,
          1,
          1,
          1,
          1,
          1,
          2,
          1,
          1,
          1,
          1,
          2,
          1,
          1,
          1,
          1,
          1,
          1,
          1,
          1,
          1,
          1,
          1,
          1,
          1,
          1,
          1,
          1,
          1,
          1,
          1,
          1,
          1,
          1,
          1,
          1,
          1,
          1,
          1,
          1,
          1,
          1,
          2,
          1,
          1,
          1,
          1,
          1,
          1,
          1,
          1,
          1,
          1,
          1,
          1,
          1,
          1,
          1,
          1,
          1,
          1,
          1,
          1,
          1,
          1,
          1,
          1,
          1,
          1,
          1,
          1,
          1,
          1,
          1,
          1,
          1,
          1,
          1,
          1,
          1,
          1,
          1,
          1,
          1,
          1,
          1,
          1,
          1,
          1,
          1,
          1,
          1,
          1,
          1,
          1,
          1,
          1,
          1,
          1,
          1,
          1,
          1,
          1,
          1,
          1,
          1,
          1,
          1,
          1,
          1,
          1,
          1,
          1,
          1,
          1,
          1,
          1,
          1,
          1,
          1,
          1,
          1,
          1,
          1,
          1,
          1,
          1,
          1,
          1,
          1,
          1,
          1,
          1,
          1,
          1,
          1,
          1,
          1,
          1,
          1,
          1,
          1,
          1,
          1,
          1,
          1,
          1,
          1,
          1,
          1,
          1,
          1,
          1,
          1,
          1,
          1,
          1,
          1,
          1,
          1,
          1,
          1,
          1,
          1,
          1,
          1,
          1,
          1,
          1,
          1,
          1,
          1,
          1,
          1,
          1,
          1,
          1,
          1,
          1,
          1,
          1,
          1,
          1,
          1,
          1,
          1,
          1,
          1,
          1,
          1,
          1,
          1,
          1,
          1,
          1,
          1,
          1,
          1,
          1,
          1,
          1,
          1,
          1,
          1,
          1,
          1,
          1,
          1,
          1,
          1,
          1,
          1,
          1,
          1,
          1,
          1,
          1,
          1,
          1,
          1,
          1,
          1,
          1,
          1,
          1,
          1,
          1,
          1,
          1,
          1,
          1,
          1,
          1,
          1,
          1,
          1,
          1,
          1,
          1,
          1,
          1,
          1,
          1,
          1,
          1,
          1,
          1,
          1,
          1,
          1,
          1,
          1,
          1,
          1,
          1,
          1,
          1,
          1,
          1,
          1,
          1,
          1,
          1,
          1,
          1,
          1,
          1,
          1,
          1,
          1,
          1,
          1,
          1,
          1,
          1,
          1,
          1,
          1,
          1,
          1,
          2,
          1,
          1,
          1,
          1,
          1,
          1,
          1,
          1,
          1,
          1,
          1,
          1,
          1,
          1,
          1,
          1,
          1,
          1,
          1,
          1,
          1,
          1,
          1,
          1,
          1,
          1,
          1,
          1,
          1,
          1,
          1,
          1,
          1,
          1,
          1,
          1,
          1,
          1,
          1,
          1,
          1,
          1,
          1,
          2,
          1,
          1,
          1,
          1,
          1,
          1,
          1,
          1,
          1,
          1,
          1,
          1,
          1,
          1,
          1,
          1,
          1,
          1,
          1,
          1,
          1,
          1,
          1,
          1,
          1,
          1,
          1,
          1,
          1,
          1,
          1,
          1,
          1,
          1,
          1,
          1,
          1,
          1,
          1,
          1,
          1,
          1,
          1,
          1,
          1,
          1,
          1,
          1,
          1,
          1,
          2,
          1,
          1,
          1,
          1,
          1,
          1,
          1,
          1,
          1,
          1,
          1,
          1,
          1,
          1,
          1,
          1,
          1,
          1,
          1,
          1,
          1,
          1,
          1,
          1,
          1,
          1,
          1,
          1,
          1,
          1,
          1,
          1,
          1,
          1,
          1,
          1,
          1,
          1,
          1,
          1,
          1,
          1,
          1,
          1,
          1,
          1,
          1,
          1,
          1,
          1,
          1,
          1,
          1,
          2,
          1,
          1,
          1,
          1,
          1,
          1,
          1,
          1,
          1,
          1,
          1,
          1,
          1,
          1,
          1,
          1,
          1,
          1,
          1,
          1,
          1,
          1,
          1,
          1,
          1,
          1,
          1,
          1,
          1,
          1,
          1,
          1,
          1,
          1,
          1,
          1,
          1,
          1,
          1,
          1,
          1,
          1,
          1,
          1,
          1,
          2,
          1,
          1,
          1,
          1,
          1,
          1,
          1,
          1,
          1,
          1,
          1,
          1,
          1,
          1,
          1,
          1,
          1,
          1,
          1,
          1,
          1,
          1,
          1,
          1,
          1,
          1,
          1,
          1,
          1,
          1,
          1,
          1,
          2,
          1,
          1,
          1,
          1,
          1,
          1,
          2,
          1,
          1,
          1,
          1,
          1,
          1,
          1,
          1,
          1,
          1,
          1,
          1,
          1,
          1,
          1,
          1,
          1,
          1,
          1,
          1,
          1,
          1,
          1,
          1,
          1,
          1,
          1,
          1,
          1,
          1,
          1,
          1,
          1,
          1,
          1,
          1,
          1,
          1,
          1,
          1,
          1,
          1,
          1,
          1,
          1,
          1,
          1,
          1,
          1,
          1,
          1,
          1,
          1,
          1,
          1,
          1,
          1,
          1,
          1,
          1,
          1,
          1,
          1,
          1,
          1,
          1,
          1,
          1,
          1,
          1,
          1,
          1,
          1,
          1,
          1,
          1,
          1,
          1,
          1,
          1,
          1,
          1,
          1,
          1,
          1,
          1,
          1,
          1,
          1,
          1,
          1,
          1,
          1,
          1,
          1,
          1,
          1,
          1,
          1,
          1,
          1,
          1,
          1,
          1,
          1,
          1,
          1,
          1,
          1,
          1,
          1,
          1,
          1,
          1,
          1,
          1,
          1,
          1,
          1,
          1,
          1,
          1,
          1,
          1,
          1,
          1,
          2,
          1,
          1,
          1,
          1,
          1,
          1,
          1,
          1,
          1,
          1,
          1,
          1,
          1,
          1,
          1,
          1,
          1,
          1,
          1,
          1,
          1,
          1,
          1,
          1,
          1,
          1,
          1,
          1,
          1,
          1,
          1,
          1,
          1,
          1,
          1,
          1,
          1,
          1,
          1,
          1,
          1,
          1,
          1,
          1,
          1,
          1,
          1,
          1,
          1,
          1,
          1,
          1,
          1,
          1,
          1,
          1,
          1,
          1,
          1,
          1,
          1,
          1,
          1,
          1,
          1,
          1,
          1,
          1,
          1,
          1,
          1,
          1,
          1,
          1,
          1,
          1,
          1,
          1,
          1,
          1,
          1,
          1,
          1,
          1,
          1,
          1,
          1,
          1,
          1,
          1,
          1,
          1,
          1,
          1,
          1,
          1,
          1,
          1,
          1,
          1,
          1,
          1,
          1,
          1,
          1,
          1,
          1,
          1,
          1,
          1,
          1,
          1,
          1,
          1,
          1,
          1,
          1,
          1,
          1,
          1,
          1,
          1,
          1,
          1,
          1,
          1,
          1,
          1,
          1,
          1,
          1,
          1,
          1,
          1,
          1,
          1,
          1,
          1,
          1,
          1,
          1,
          1,
          1,
          1,
          1,
          1,
          1,
          1,
          1,
          1,
          1,
          1,
          1,
          1,
          1,
          1,
          1,
          1,
          1,
          1,
          1,
          1,
          1,
          1,
          1,
          1,
          1,
          1,
          1,
          1,
          1,
          1,
          1,
          1,
          1,
          1,
          1,
          1,
          1,
          1,
          1,
          1,
          1,
          1,
          1,
          1,
          1,
          1,
          1,
          1,
          1,
          1,
          1,
          1,
          1,
          1,
          1,
          1,
          1,
          1,
          1,
          1,
          1,
          1,
          1,
          1,
          1,
          1,
          1,
          1,
          1,
          1,
          1,
          1,
          1,
          1,
          1,
          1,
          1,
          1,
          1,
          1,
          1,
          1,
          1,
          1,
          1,
          1,
          1,
          1,
          1,
          1,
          1,
          1,
          1,
          1,
          1,
          1,
          1,
          1,
          1,
          1,
          1,
          1,
          1,
          1,
          1,
          1,
          1,
          1,
          1,
          1,
          1,
          1,
          1,
          1,
          1,
          1,
          1,
          1,
          1,
          1,
          1,
          1,
          1,
          1,
          1,
          1,
          1,
          1,
          1,
          1,
          1,
          1,
          1,
          1,
          1,
          1,
          1,
          1,
          1,
          1,
          1,
          1,
          1,
          1,
          1,
          1,
          1,
          1,
          1,
          1,
          1,
          1,
          1,
          1,
          1,
          1,
          1,
          1,
          1,
          1,
          1,
          1,
          1,
          1,
          1,
          1,
          1,
          1,
          1,
          1,
          1,
          1,
          1,
          1,
          1,
          1,
          1,
          1,
          1,
          1,
          1,
          1,
          1,
          1,
          1,
          1,
          1,
          1,
          1,
          1,
          1,
          1,
          1,
          2,
          1,
          1,
          1,
          1,
          1,
          1,
          1,
          1,
          1,
          1,
          1,
          1,
          1,
          1,
          1,
          1,
          1,
          1,
          1,
          1,
          1,
          1,
          1,
          1,
          1,
          1,
          1,
          1,
          1,
          1,
          1,
          1,
          1,
          1,
          1,
          1,
          1,
          1,
          1,
          1,
          1,
          1,
          1,
          1,
          1,
          1,
          1,
          1,
          1,
          1,
          1,
          1,
          1,
          1,
          1,
          1,
          1,
          1,
          1,
          1,
          1,
          1,
          1,
          1,
          1,
          1,
          2,
          1,
          1,
          1,
          1,
          1,
          1,
          1,
          1,
          1,
          1,
          1,
          1,
          1,
          1,
          1,
          1,
          1,
          1,
          1,
          1,
          1,
          1,
          1,
          1,
          1,
          1,
          1,
          1,
          1,
          1,
          1,
          1,
          1,
          1,
          1,
          1,
          1,
          1,
          1,
          1,
          1,
          1,
          1,
          1,
          1,
          1,
          1,
          1,
          1,
          1,
          1,
          1,
          1,
          1,
          1,
          1,
          1,
          1,
          1,
          1,
          1,
          1,
          1,
          1,
          1,
          1,
          1,
          1,
          1,
          1,
          1,
          1,
          1,
          1,
          1,
          1,
          1,
          1,
          1,
          1,
          1,
          1,
          1,
          1,
          1,
          1,
          1,
          1,
          1,
          1,
          1,
          1,
          1,
          1,
          1,
          1,
          1,
          1,
          1,
          1,
          1,
          1,
          1,
          1,
          1,
          1,
          1,
          1,
          1,
          1,
          1,
          1,
          1,
          1,
          1,
          1,
          1,
          1,
          1,
          1,
          1,
          1,
          1,
          1,
          1,
          1,
          1,
          1,
          1,
          1,
          1,
          1,
          1,
          1,
          1,
          1,
          1,
          1,
          1,
          1,
          1,
          1,
          1,
          1,
          1,
          1,
          1,
          1,
          1,
          1,
          1,
          1,
          1,
          1,
          1,
          1,
          1,
          1,
          1,
          1,
          1,
          1,
          1,
          1,
          1,
          1,
          1,
          1,
          1,
          1,
          1,
          1,
          1,
          1,
          1,
          1,
          1,
          1,
          1,
          1,
          1,
          1,
          1,
          1,
          1,
          1,
          1,
          1,
          1,
          1,
          1,
          1,
          1,
          1,
          1,
          1,
          1,
          1,
          1,
          1,
          1,
          1,
          1,
          1,
          1,
          1,
          1,
          1,
          1,
          1,
          1,
          1,
          1,
          1,
          2,
          1,
          1,
          1,
          1,
          1,
          1,
          1,
          1,
          1,
          1,
          1,
          1,
          1,
          1,
          1,
          1,
          1,
          1,
          1,
          1,
          1,
          1,
          1,
          1,
          1,
          1,
          1,
          1,
          1,
          1,
          1,
          1,
          2,
          1,
          1,
          1,
          1,
          1,
          1,
          1,
          1,
          1,
          1,
          1,
          1,
          2,
          1,
          1,
          1,
          1,
          1,
          1,
          1,
          1,
          1,
          1,
          1,
          1,
          2,
          1,
          1,
          1,
          1,
          1,
          1,
          1,
          1,
          1,
          1,
          1,
          1,
          1,
          1,
          1,
          1,
          1,
          1,
          1,
          1,
          1,
          1,
          1,
          1,
          1,
          1,
          1,
          1,
          1,
          1,
          1,
          1,
          1,
          1,
          1,
          1,
          1,
          1,
          1,
          1,
          1,
          1,
          1,
          1,
          1,
          1,
          1,
          1,
          1,
          1,
          1,
          1,
          1,
          1,
          1,
          1,
          1,
          1,
          1,
          1,
          1,
          1,
          1,
          1,
          1,
          1,
          1,
          1,
          1,
          1,
          1,
          1,
          1,
          1,
          1,
          1,
          1,
          1,
          1,
          1,
          1,
          1,
          1,
          1,
          1,
          1,
          1,
          1,
          2,
          1,
          1,
          1,
          1,
          1,
          1,
          1,
          1,
          1,
          1,
          1,
          1,
          1,
          1,
          1,
          1,
          1,
          1,
          1,
          1,
          1,
          1,
          1,
          1,
          1,
          1,
          1,
          1,
          1,
          1,
          1,
          1,
          1,
          1,
          1,
          1,
          1,
          1,
          1,
          1,
          1,
          1,
          1,
          1,
          1,
          1,
          1,
          1,
          1,
          1,
          1,
          1,
          1,
          1,
          1,
          1,
          1,
          1,
          1,
          1,
          1,
          1,
          1,
          1,
          1,
          1,
          1,
          1,
          1,
          1,
          1,
          1,
          1,
          1,
          1,
          1,
          1,
          1,
          1,
          1,
          1,
          1,
          1,
          1,
          1,
          1,
          1,
          1,
          1,
          1,
          1,
          1,
          1,
          1,
          1,
          1,
          1,
          1,
          1,
          1,
          1,
          1,
          1,
          1,
          1,
          1,
          1,
          1,
          1,
          1,
          1,
          1,
          1,
          1,
          1,
          1,
          1,
          1,
          1,
          1,
          1,
          1,
          1,
          1,
          1,
          1,
          1,
          1,
          1,
          1,
          1,
          1,
          1,
          1,
          1,
          1,
          1,
          1,
          1,
          1,
          1,
          1,
          1,
          1,
          1,
          1,
          1,
          1,
          1,
          1,
          1,
          1,
          1,
          1,
          1,
          1,
          1,
          1,
          1,
          1,
          1,
          1,
          1,
          1,
          1,
          1,
          1,
          1,
          1,
          1,
          1,
          1,
          1,
          1,
          1,
          1,
          1,
          1,
          1,
          1,
          1,
          1,
          1,
          1,
          1,
          1,
          1,
          1,
          1,
          1,
          1,
          1,
          1,
          1,
          1,
          1,
          1,
          1,
          1,
          1,
          1,
          1,
          1,
          1,
          1,
          1,
          1,
          1,
          1,
          1,
          1,
          1,
          1,
          1,
          1,
          1,
          1,
          1,
          1,
          1,
          1,
          1,
          1,
          1,
          1,
          1,
          1,
          1,
          1,
          1,
          1,
          1,
          1,
          1,
          1,
          1,
          1,
          1,
          1,
          1,
          1,
          1,
          1,
          1,
          1,
          1,
          1,
          1,
          1,
          1,
          1,
          1,
          1,
          1,
          1,
          1,
          1,
          1,
          1,
          1,
          1,
          1,
          1,
          1,
          1,
          1,
          1,
          1,
          1,
          1,
          1,
          1,
          1,
          1,
          1,
          1,
          1,
          1,
          1,
          1,
          1,
          1,
          1,
          1,
          1,
          1,
          1,
          1,
          1,
          1,
          1,
          1,
          1,
          1,
          1,
          1,
          1,
          1,
          1,
          1,
          1,
          1,
          1,
          1,
          1,
          1,
          1,
          1,
          1,
          1,
          1,
          1,
          1,
          1,
          1,
          1,
          1,
          1,
          1,
          1,
          1,
          1,
          1,
          1,
          1,
          1,
          1,
          1,
          1,
          1,
          1,
          1,
          1,
          1,
          1,
          1,
          1,
          1,
          1,
          1,
          1,
          1,
          1,
          1,
          1,
          1,
          1,
          1,
          1,
          1,
          1,
          1,
          1,
          1,
          1,
          1,
          1,
          1,
          1,
          1,
          1,
          1,
          1,
          1,
          1,
          1,
          1,
          1,
          1,
          1,
          1,
          1,
          1,
          1,
          1,
          1,
          1,
          1,
          1,
          1,
          1,
          1,
          1,
          1,
          1,
          1,
          1,
          1,
          1,
          1,
          1,
          1,
          1,
          1,
          1,
          1,
          1,
          1,
          1,
          1,
          1,
          1,
          1,
          1,
          1,
          1,
          1,
          1,
          1,
          2,
          1,
          1,
          1,
          1,
          1,
          1,
          1,
          1,
          1,
          1,
          1,
          1,
          1,
          1,
          1,
          1,
          1,
          1,
          1,
          1,
          1,
          1,
          1,
          1,
          1,
          1,
          1,
          1,
          1,
          1,
          1,
          1,
          1,
          1,
          1,
          1,
          1,
          1,
          1,
          1,
          1,
          1,
          1,
          1,
          1,
          1,
          1,
          1,
          1,
          1,
          1,
          1,
          1,
          1,
          1,
          1,
          1,
          1,
          1,
          1,
          1,
          1,
          1,
          1,
          1,
          1,
          1,
          1,
          1,
          1,
          1,
          1,
          1,
          1,
          1,
          1,
          1,
          1,
          1,
          1,
          1,
          1,
          1,
          1,
          1,
          1,
          1,
          1,
          1,
          1,
          1,
          1,
          1,
          1,
          1,
          1,
          1,
          1,
          1,
          1,
          1,
          1,
          1,
          1,
          1,
          1,
          1,
          1,
          1,
          1,
          1,
          1,
          1,
          1,
          1,
          1,
          1,
          1,
          1,
          1,
          1,
          1,
          1,
          1,
          1,
          1,
          1,
          1,
          1,
          1,
          1,
          1,
          1,
          1,
          1,
          1,
          1,
          1,
          1,
          1,
          1,
          1,
          1,
          1,
          1,
          1,
          1,
          1,
          1,
          1,
          1,
          1,
          1,
          1,
          1,
          1,
          1,
          1,
          1,
          1,
          1,
          1,
          1,
          1,
          1,
          1,
          1,
          1,
          1,
          1,
          1,
          1,
          1,
          1,
          1,
          1,
          1,
          1,
          1,
          1,
          1,
          1,
          1,
          1,
          1,
          1,
          1,
          1,
          1,
          1,
          1,
          1,
          1,
          1,
          1,
          1,
          1,
          1,
          1,
          1,
          1,
          1,
          1,
          1,
          1,
          1,
          1,
          1,
          1
         ],
         "yaxis": "y"
        },
        {
         "alignmentgroup": "True",
         "hovertemplate": "Churn=No<br>TotalCharges=%{x}<extra></extra>",
         "legendgroup": "No",
         "marker": {
          "color": "red"
         },
         "name": "No",
         "notched": true,
         "offsetgroup": "No",
         "showlegend": false,
         "type": "box",
         "x": [
          24.2,
          24.4,
          24.7,
          24.9,
          25.15,
          25.25,
          25.35,
          25.85,
          29.15,
          29.85,
          29.9,
          30.55,
          33.6,
          35,
          35.9,
          38.45,
          43.8,
          43.85,
          43.95,
          44,
          44.05,
          44.15,
          44.3,
          44.45,
          44.55,
          44.6,
          44.75,
          44.8,
          44.9,
          44.95,
          45,
          45.15,
          45.2,
          45.25,
          45.3,
          45.35,
          45.4,
          45.55,
          45.6,
          45.8,
          45.85,
          46.3,
          46.4,
          47.95,
          48.45,
          48.6,
          48.75,
          49,
          49.05,
          49.3,
          49.5,
          49.55,
          49.7,
          49.75,
          49.8,
          49.85,
          49.9,
          49.95,
          50.05,
          50.1,
          50.15,
          50.7,
          50.75,
          51.2,
          51.25,
          53.55,
          54.3,
          54.5,
          54.65,
          55.05,
          55.25,
          55.3,
          55.45,
          55.55,
          55.7,
          59.55,
          61.15,
          62.8,
          63.75,
          69.9,
          69.95,
          70.05,
          70.1,
          70.2,
          70.25,
          70.35,
          70.45,
          70.6,
          70.7,
          71.1,
          71.25,
          72.1,
          74,
          74.1,
          74.2,
          74.3,
          74.35,
          74.6,
          74.7,
          75.1,
          75.35,
          75.5,
          75.55,
          78.25,
          79.15,
          79.8,
          80.55,
          80.95,
          81.05,
          82.15,
          82.7,
          82.85,
          83.4,
          84.4,
          84.6,
          85,
          85.1,
          87.3,
          87.9,
          89.25,
          89.3,
          89.35,
          89.75,
          90.05,
          90.1,
          92.25,
          92.5,
          92.75,
          94.4,
          95.85,
          96.8,
          96.85,
          97,
          98.5,
          99.95,
          100.2,
          101.1,
          101.65,
          103.7,
          105.6,
          106.2,
          107.1,
          107.25,
          108.65,
          109.25,
          110.05,
          111.05,
          111.4,
          113.1,
          113.95,
          114.15,
          117.05,
          118.25,
          118.4,
          119.5,
          120.25,
          122.7,
          123.05,
          123.8,
          125.5,
          125.95,
          129.2,
          129.6,
          130.15,
          130.5,
          132.4,
          134.05,
          134.6,
          135.2,
          135.75,
          136.05,
          137.1,
          137.25,
          139.25,
          140.1,
          140.4,
          141.65,
          141.7,
          143.65,
          143.9,
          144,
          144.8,
          145.15,
          146.4,
          146.65,
          147.75,
          147.8,
          148.05,
          149.05,
          150.85,
          151.75,
          152.3,
          153.8,
          154.3,
          154.55,
          154.8,
          155.35,
          156.1,
          157.55,
          157.75,
          160.85,
          161.45,
          162.45,
          162.55,
          163.55,
          163.7,
          167.2,
          168.5,
          168.6,
          169.65,
          170.5,
          171.45,
          174.2,
          174.45,
          174.75,
          176.2,
          177.4,
          179.85,
          181.65,
          184.15,
          186.05,
          186.3,
          188.1,
          189.1,
          189.95,
          190.1,
          190.25,
          190.5,
          194.2,
          194.55,
          195.65,
          196.4,
          196.9,
          198.5,
          199.75,
          199.85,
          200.2,
          201.95,
          202.15,
          202.25,
          202.3,
          202.9,
          206.15,
          207.35,
          207.4,
          208.45,
          209.9,
          212.4,
          213.35,
          214.4,
          214.55,
          214.75,
          216.45,
          217.1,
          217.45,
          217.5,
          220.4,
          220.45,
          220.65,
          220.75,
          221.1,
          223.75,
          224.85,
          225.65,
          226.2,
          226.95,
          227.35,
          229.4,
          229.7,
          232.35,
          232.5,
          232.55,
          233.65,
          234.85,
          235,
          235.05,
          235.2,
          235.65,
          237.2,
          237.65,
          238.1,
          238.5,
          239.05,
          239.45,
          241.3,
          244.1,
          244.45,
          244.75,
          244.85,
          245.15,
          246.6,
          248.4,
          249.4,
          249.55,
          250.1,
          253,
          253.8,
          255.6,
          256.6,
          256.75,
          257.6,
          259.4,
          261.65,
          262.3,
          263.05,
          264.8,
          265.8,
          266.8,
          266.95,
          268.45,
          273.2,
          273.25,
          273.4,
          274.35,
          276.5,
          278.4,
          280,
          280.35,
          283.95,
          284.9,
          285.2,
          286.8,
          287.85,
          288.35,
          291.45,
          293.15,
          293.85,
          294.2,
          294.45,
          295.65,
          297.35,
          298.7,
          299.05,
          299.75,
          300.4,
          301.9,
          302.35,
          302.6,
          303.7,
          305.55,
          307.6,
          308.05,
          308.1,
          312.7,
          313.45,
          313.6,
          314.55,
          314.6,
          316.9,
          317.75,
          318.1,
          318.6,
          319.6,
          319.85,
          320.4,
          321.05,
          322.5,
          322.9,
          323.45,
          324.2,
          330.8,
          331.85,
          333.65,
          335.4,
          335.65,
          335.75,
          336.15,
          336.7,
          339.9,
          340.35,
          340.4,
          341.6,
          343.45,
          344.2,
          345.5,
          346.45,
          348.15,
          348.8,
          349.8,
          350.35,
          351.5,
          352.65,
          355.1,
          355.9,
          356.1,
          356.65,
          357.15,
          357.6,
          359.4,
          360.55,
          362.6,
          363.15,
          367.95,
          368.85,
          369.15,
          369.25,
          369.3,
          370.25,
          370.4,
          371.4,
          371.6,
          373,
          374,
          374.8,
          377.85,
          381.2,
          382.2,
          382.8,
          383.55,
          383.65,
          384.25,
          389.8,
          389.95,
          392.5,
          392.65,
          393.45,
          394.1,
          398.55,
          399.25,
          399.45,
          401.3,
          401.5,
          402.5,
          402.6,
          404.35,
          405.7,
          408.25,
          408.5,
          411.45,
          411.6,
          411.75,
          413.25,
          414.1,
          417.75,
          418.3,
          419.35,
          419.7,
          420.45,
          422.3,
          422.4,
          422.6,
          424.75,
          425.1,
          426.35,
          428.7,
          432.25,
          433.95,
          434.5,
          434.8,
          435,
          435.45,
          436.2,
          436.6,
          438.05,
          438.9,
          440.2,
          442.45,
          444.75,
          445.85,
          445.95,
          446.8,
          447.75,
          447.9,
          449.3,
          450.4,
          450.9,
          452.8,
          457.1,
          458.1,
          463.6,
          465.7,
          466.6,
          467.85,
          468.35,
          469.25,
          469.65,
          472.25,
          472.65,
          475,
          475.1,
          475.7,
          476.8,
          477.05,
          477.55,
          482.25,
          483.3,
          484.05,
          485.25,
          487.05,
          487.75,
          488.65,
          490.55,
          492,
          492.1,
          493.4,
          493.65,
          494.95,
          497.3,
          497.6,
          498.25,
          500.1,
          501.2,
          503.25,
          504.05,
          505.95,
          512.25,
          514.6,
          515.45,
          515.75,
          516.15,
          518.75,
          520.95,
          521,
          521.35,
          521.9,
          522.35,
          522.95,
          523.1,
          524.35,
          524.5,
          525,
          528.45,
          530.05,
          531.15,
          533.05,
          533.6,
          535.55,
          540.95,
          542.4,
          546.45,
          547.8,
          548.9,
          550.35,
          550.6,
          551.3,
          551.95,
          552.1,
          552.65,
          552.7,
          553.4,
          554.05,
          554.45,
          559.2,
          562.7,
          563.5,
          564.35,
          564.4,
          564.65,
          565.35,
          565.75,
          566.1,
          567.8,
          568.2,
          568.85,
          571.05,
          571.15,
          571.45,
          572.45,
          572.85,
          573.15,
          574.35,
          574.5,
          576.7,
          576.95,
          577.15,
          579,
          580.1,
          580.8,
          581.7,
          583,
          587.45,
          590.35,
          592.65,
          592.75,
          593.05,
          593.3,
          593.85,
          597.9,
          600.15,
          601.25,
          601.6,
          603,
          605.45,
          605.75,
          607.3,
          608.15,
          609.65,
          610.2,
          610.75,
          611.65,
          612.1,
          612.95,
          616.9,
          617.15,
          617.85,
          624.6,
          628.65,
          629.35,
          629.55,
          631.4,
          632.2,
          633.45,
          633.85,
          637.4,
          638.95,
          639.45,
          639.7,
          641.25,
          645.8,
          646.05,
          647.5,
          648.65,
          649.4,
          651.5,
          651.55,
          653.15,
          653.25,
          653.9,
          653.95,
          654.5,
          657.5,
          658.1,
          659.35,
          659.45,
          660.05,
          661.55,
          662.95,
          663.55,
          664.4,
          668.85,
          670.65,
          672.7,
          676.15,
          678.45,
          678.75,
          681.4,
          683.25,
          684.85,
          685.55,
          688,
          688.2,
          688.5,
          690.5,
          692.35,
          693.3,
          693.45,
          695.75,
          697.25,
          701.05,
          701.3,
          704.3,
          708.2,
          709.5,
          710.05,
          711.15,
          711.95,
          712.25,
          713.6,
          715,
          716.1,
          718.1,
          718.55,
          720.1,
          720.45,
          723.35,
          724.65,
          727.85,
          729.95,
          731.3,
          733.95,
          735.5,
          736.8,
          740.55,
          741.4,
          742.9,
          743.3,
          743.75,
          747.2,
          749.25,
          750.1,
          759.55,
          760.05,
          764.55,
          765.15,
          765.45,
          767.55,
          767.9,
          768.05,
          768.45,
          769.1,
          770.4,
          770.5,
          771.95,
          772.85,
          773.2,
          775.3,
          777.3,
          780.15,
          780.85,
          781.4,
          784.45,
          786.3,
          786.5,
          788.05,
          788.35,
          788.6,
          789.2,
          790.7,
          791.7,
          792.15,
          795.15,
          795.65,
          797.25,
          799,
          801.3,
          810.85,
          811.65,
          812.4,
          812.5,
          813.45,
          815.55,
          816.8,
          818.45,
          824.85,
          825.1,
          825.4,
          827.05,
          827.45,
          827.7,
          828.05,
          828.2,
          829.3,
          830.8,
          831.75,
          832.3,
          834.7,
          836.35,
          837.5,
          838.7,
          839.65,
          842.25,
          844.45,
          846.8,
          849.1,
          849.9,
          851.8,
          852.7,
          854.45,
          857.75,
          857.8,
          858.6,
          864.55,
          864.85,
          865.1,
          865.75,
          865.85,
          866.4,
          867.1,
          870.25,
          874.2,
          875.35,
          876.75,
          877.35,
          880.05,
          886.7,
          887.35,
          888.65,
          888.75,
          889,
          892.7,
          893,
          893.2,
          897.75,
          902.25,
          906.85,
          908.55,
          908.75,
          910.45,
          912,
          913.3,
          916.15,
          918.75,
          920.5,
          921.4,
          923.85,
          926.2,
          926.25,
          927.15,
          927.65,
          929.3,
          929.45,
          930.05,
          931.55,
          931.75,
          931.9,
          934.15,
          934.8,
          938.65,
          939.8,
          943.85,
          944.65,
          946.95,
          947.4,
          947.75,
          950.75,
          953.65,
          955.15,
          955.6,
          955.75,
          956.65,
          957.1,
          958.25,
          959.9,
          961.4,
          962.9,
          964.35,
          964.9,
          966.25,
          966.55,
          969.85,
          970.4,
          970.45,
          970.55,
          973.65,
          978.6,
          979.05,
          979.5,
          981.45,
          985.05,
          990.3,
          992.7,
          995.35,
          996.85,
          999.8,
          999.9,
          1001.2,
          1003.05,
          1004.75,
          1009.25,
          1010,
          1011.05,
          1011.5,
          1011.8,
          1013.35,
          1017.35,
          1020.2,
          1021.55,
          1021.75,
          1022.5,
          1023.75,
          1023.85,
          1024,
          1025.15,
          1028.9,
          1029.35,
          1031.4,
          1033.9,
          1033.95,
          1043.3,
          1043.4,
          1043.8,
          1045.25,
          1046.5,
          1049.05,
          1051.05,
          1054.8,
          1055.9,
          1057.55,
          1058.1,
          1064.95,
          1066.9,
          1067.05,
          1070.7,
          1071.4,
          1072.6,
          1073.3,
          1074.65,
          1077.05,
          1081.25,
          1082.75,
          1082.8,
          1083.7,
          1087.45,
          1093.2,
          1093.4,
          1096.6,
          1096.65,
          1097.15,
          1098.85,
          1108,
          1108.6,
          1111.2,
          1112.3,
          1113.95,
          1114.55,
          1114.85,
          1117.55,
          1119.35,
          1122.4,
          1125.2,
          1126.35,
          1129.35,
          1130,
          1130.85,
          1137.05,
          1144.6,
          1147,
          1151.05,
          1151.55,
          1152.8,
          1155.6,
          1156.35,
          1156.55,
          1161.75,
          1164.05,
          1165.55,
          1165.6,
          1166.7,
          1167.8,
          1170.5,
          1173.55,
          1175.6,
          1175.85,
          1178.75,
          1181.75,
          1183.05,
          1183.2,
          1183.8,
          1184,
          1185,
          1187.05,
          1189.4,
          1190.5,
          1191.2,
          1195.75,
          1199.4,
          1201.65,
          1203.9,
          1205.5,
          1207,
          1208.15,
          1212.1,
          1212.85,
          1215.45,
          1215.65,
          1215.8,
          1218.25,
          1219.85,
          1221.55,
          1221.65,
          1224.05,
          1228.65,
          1231.85,
          1232.9,
          1233.15,
          1233.25,
          1235.55,
          1237.3,
          1242.2,
          1242.25,
          1242.45,
          1246.4,
          1247.75,
          1248.9,
          1249.25,
          1253.15,
          1253.5,
          1258.35,
          1259.35,
          1261,
          1261.35,
          1264.2,
          1265.65,
          1266.35,
          1267.2,
          1267.95,
          1269.6,
          1271.8,
          1273.3,
          1274.45,
          1275.65,
          1275.7,
          1277.5,
          1282.85,
          1284.2,
          1285.05,
          1285.8,
          1286.05,
          1287.85,
          1288.3,
          1288.75,
          1291.3,
          1291.35,
          1292.2,
          1293.8,
          1294.6,
          1295.4,
          1296.8,
          1297.8,
          1299.1,
          1299.8,
          1302.65,
          1304.85,
          1305.95,
          1307.8,
          1309,
          1309.15,
          1312.45,
          1313.25,
          1315,
          1315.35,
          1316.9,
          1317.95,
          1319.85,
          1321.3,
          1322.55,
          1323.7,
          1325.85,
          1327.85,
          1329.15,
          1332.4,
          1334.45,
          1336.15,
          1336.8,
          1336.9,
          1337.45,
          1339.8,
          1340.1,
          1345.65,
          1345.75,
          1346.3,
          1346.9,
          1347.15,
          1348.5,
          1348.95,
          1355.45,
          1358.6,
          1359.45,
          1362.85,
          1364.75,
          1367.75,
          1370.35,
          1373,
          1373.05,
          1374.35,
          1374.9,
          1375.6,
          1380.4,
          1381.2,
          1381.8,
          1382.9,
          1383.6,
          1386.8,
          1387,
          1387.35,
          1388.75,
          1389.85,
          1390.85,
          1391.15,
          1391.65,
          1392.25,
          1393.6,
          1394.55,
          1395.05,
          1398.25,
          1398.6,
          1400.3,
          1404.65,
          1405.3,
          1406,
          1406.65,
          1406.9,
          1410.25,
          1411.35,
          1411.65,
          1412.4,
          1414.2,
          1415,
          1416.2,
          1421.75,
          1423.05,
          1423.15,
          1423.35,
          1424.4,
          1426.45,
          1427.55,
          1430.05,
          1434.6,
          1438.05,
          1439.35,
          1440.75,
          1441.8,
          1441.95,
          1442,
          1442.2,
          1442.6,
          1443.65,
          1445.95,
          1451.1,
          1453.1,
          1454.25,
          1459.35,
          1461.15,
          1461.45,
          1462.6,
          1463.7,
          1466.1,
          1468.75,
          1470.05,
          1474.9,
          1477.65,
          1478.85,
          1489.3,
          1490.4,
          1493.2,
          1493.55,
          1494.5,
          1495.1,
          1497.05,
          1498.55,
          1498.65,
          1500.25,
          1500.5,
          1505.15,
          1505.35,
          1505.45,
          1507,
          1509.8,
          1510.3,
          1516.6,
          1517.5,
          1520.1,
          1522.65,
          1522.7,
          1523.4,
          1524.85,
          1525.35,
          1529.45,
          1530.6,
          1533.8,
          1536.75,
          1537.85,
          1537.9,
          1539.8,
          1540.05,
          1540.2,
          1540.35,
          1545.4,
          1546.3,
          1547.35,
          1549.75,
          1553.2,
          1556.85,
          1558.65,
          1558.7,
          1559.25,
          1559.45,
          1563.9,
          1564.05,
          1564.4,
          1566.75,
          1567.55,
          1570.7,
          1573.95,
          1579.7,
          1580.1,
          1581.95,
          1588.25,
          1588.7,
          1588.75,
          1593.1,
          1594.75,
          1596.6,
          1597.05,
          1597.4,
          1600.25,
          1601.5,
          1608.15,
          1611,
          1611.15,
          1611.65,
          1612.2,
          1614.05,
          1614.2,
          1614.7,
          1615.1,
          1620.2,
          1620.25,
          1620.8,
          1621.35,
          1623.4,
          1626.05,
          1630.4,
          1633,
          1636.95,
          1637.3,
          1640,
          1641.3,
          1642.75,
          1643.55,
          1646.45,
          1647,
          1648.45,
          1651.95,
          1652.1,
          1652.4,
          1652.95,
          1653.45,
          1653.85,
          1654.45,
          1654.7,
          1655.35,
          1662.05,
          1663.75,
          1665.2,
          1667.25,
          1669.4,
          1671.6,
          1672.1,
          1672.35,
          1677.85,
          1679.4,
          1679.65,
          1682.05,
          1682.4,
          1683.7,
          1686.85,
          1689.45,
          1691.9,
          1696.2,
          1700.9,
          1701.65,
          1702.9,
          1706.45,
          1712.9,
          1714.95,
          1718.95,
          1725.95,
          1729.35,
          1732.6,
          1734.2,
          1734.5,
          1737.45,
          1739.6,
          1742.45,
          1742.5,
          1743.05,
          1743.9,
          1745.2,
          1745.5,
          1747.2,
          1748.9,
          1750.85,
          1752.45,
          1752.65,
          1755.35,
          1756.6,
          1758.9,
          1759.4,
          1760.25,
          1765.95,
          1778.5,
          1781.35,
          1782,
          1782.4,
          1783.6,
          1783.75,
          1785.65,
          1790.6,
          1790.65,
          1793.25,
          1794.65,
          1794.8,
          1797.75,
          1798.65,
          1799.3,
          1800.05,
          1801.1,
          1802.15,
          1803.7,
          1806.35,
          1810.85,
          1813.1,
          1815,
          1815.3,
          1815.65,
          1816.75,
          1818.3,
          1818.9,
          1820.9,
          1821.2,
          1821.95,
          1825.5,
          1826.7,
          1830.1,
          1832.4,
          1834.15,
          1835.3,
          1837.7,
          1837.9,
          1838.15,
          1840.75,
          1841.9,
          1842.7,
          1843.05,
          1846.65,
          1848.8,
          1849.95,
          1850.65,
          1857.25,
          1857.3,
          1857.75,
          1859.5,
          1861.1,
          1862.9,
          1864.65,
          1867.6,
          1868.4,
          1871.15,
          1874.45,
          1875.25,
          1879.25,
          1882.55,
          1882.8,
          1884.65,
          1885.15,
          1886.25,
          1886.4,
          1888.45,
          1889.5,
          1893.5,
          1901.05,
          1901.25,
          1901.65,
          1902,
          1905.4,
          1905.7,
          1908.35,
          1910.75,
          1912.15,
          1912.85,
          1916,
          1916.2,
          1923.5,
          1923.85,
          1924.1,
          1927.3,
          1928.7,
          1929,
          1929.95,
          1930.9,
          1931.3,
          1932.75,
          1936.85,
          1938.05,
          1938.9,
          1939.35,
          1940.8,
          1941.5,
          1943.9,
          1948.35,
          1949.4,
          1952.25,
          1952.8,
          1955.4,
          1956.4,
          1957.1,
          1958.45,
          1958.95,
          1959.5,
          1961.6,
          1964.6,
          1968.1,
          1971.15,
          1971.5,
          1972.35,
          1975.85,
          1978.65,
          1980.3,
          1982.1,
          1982.6,
          1983.15,
          1985.15,
          1990.5,
          1992.2,
          1992.55,
          1992.85,
          1992.95,
          1993.2,
          1993.25,
          2000.2,
          2001,
          2003.6,
          2006.1,
          2007.25,
          2007.85,
          2010.95,
          2015.8,
          2016.3,
          2016.45,
          2018.1,
          2018.4,
          2019.8,
          2020.9,
          2021.2,
          2021.35,
          2023.55,
          2024.1,
          2025.1,
          2028.8,
          2029.05,
          2030.75,
          2031.95,
          2032.3,
          2033.05,
          2033.85,
          2034.25,
          2036.55,
          2038.7,
          2042.05,
          2044.75,
          2044.95,
          2045.55,
          2048.8,
          2049.05,
          2053.05,
          2054.4,
          2058.5,
          2062.15,
          2065.15,
          2065.4,
          2066,
          2067,
          2070.05,
          2070.75,
          2072.75,
          2075.1,
          2076.05,
          2077.95,
          2078.55,
          2078.95,
          2080.1,
          2083.1,
          2085.45,
          2088.05,
          2088.45,
          2090.25,
          2092.9,
          2093.4,
          2093.9,
          2094.65,
          2094.9,
          2096.1,
          2104.55,
          2106.05,
          2106.3,
          2107.15,
          2108.35,
          2111.3,
          2117.2,
          2117.25,
          2130.45,
          2130.55,
          2134.3,
          2136.9,
          2139.1,
          2139.1499999999996,
          2142.8,
          2146.5,
          2149.05,
          2151.6,
          2156.25,
          2157.3,
          2157.5,
          2162.6,
          2168.15,
          2168.9,
          2169.4,
          2172.05,
          2180.55,
          2181.55,
          2181.75,
          2184.6,
          2184.85,
          2187.15,
          2188.45,
          2188.5,
          2191.15,
          2191.7,
          2192.9,
          2193,
          2193.2,
          2193.65,
          2196.3,
          2196.45,
          2198.3,
          2198.9,
          2199.05,
          2200.7,
          2201.75,
          2203.1,
          2203.7,
          2204.35,
          2208.05,
          2208.75,
          2209.15,
          2209.75,
          2210.2,
          2211.8,
          2212.55,
          2215,
          2215.25,
          2215.4,
          2215.45,
          2220.1,
          2221.55,
          2224.5,
          2227.8,
          2230.85,
          2234.55,
          2234.95,
          2236.2,
          2237.55,
          2239.4,
          2243.9,
          2244.95,
          2245.4,
          2248.05,
          2249.1,
          2258.25,
          2259.35,
          2263.4,
          2263.45,
          2264.5,
          2265,
          2271.85,
          2272.8,
          2274.1,
          2275.1,
          2276.1,
          2278.75,
          2281.6,
          2282.95,
          2283.15,
          2283.3,
          2288.7,
          2289.9,
          2292.75,
          2296.25,
          2298.55,
          2298.9,
          2301.15,
          2302.35,
          2308.6,
          2309.55,
          2310.2,
          2312.55,
          2313.8,
          2316.85,
          2317.1,
          2320.8,
          2322.85,
          2324.7,
          2326.05,
          2333.05,
          2333.85,
          2337.45,
          2338.35,
          2339.3,
          2341.5,
          2341.55,
          2343.85,
          2344.5,
          2345.55,
          2347.85,
          2348.45,
          2349.8,
          2351.45,
          2356.75,
          2357.75,
          2364,
          2369.3,
          2369.7,
          2375.2,
          2379.1,
          2383.6,
          2386.85,
          2390.45,
          2391.15,
          2395.05,
          2395.7,
          2398.4,
          2401.05,
          2404.1,
          2404.15,
          2404.85,
          2406.1,
          2409.9,
          2413.05,
          2414.55,
          2415.95,
          2419,
          2419.55,
          2421.6,
          2421.75,
          2423.4,
          2424.05,
          2424.45,
          2424.5,
          2425.4,
          2427.1,
          2427.35,
          2429.1,
          2431.95,
          2433.5,
          2434.45,
          2438.6,
          2440.25,
          2441.7,
          2443.3,
          2444.25,
          2447.45,
          2448.5,
          2453.3,
          2455.05,
          2459.8,
          2460.35,
          2460.55,
          2462.55,
          2462.6,
          2471.25,
          2471.6,
          2473.95,
          2475.35,
          2479.05,
          2479.25,
          2483.65,
          2484,
          2490.15,
          2492.25,
          2494.65,
          2495.15,
          2495.2,
          2497.2,
          2509.25,
          2509.95,
          2510.7,
          2511.3,
          2511.55,
          2511.95,
          2513.5,
          2516.2,
          2522.4,
          2531.4,
          2531.8,
          2535.55,
          2536.55,
          2537,
          2538.05,
          2538.2,
          2540.1,
          2545.7,
          2545.75,
          2546.85,
          2548.55,
          2548.65,
          2549.1,
          2552.9,
          2553.35,
          2553.7,
          2554,
          2555.05,
          2560.1,
          2564.95,
          2566.3,
          2568.15,
          2570,
          2570.2,
          2575.45,
          2576.8,
          2583.75,
          2586,
          2588.95,
          2595.25,
          2595.85,
          2599.95,
          2603.1,
          2603.3,
          2603.95,
          2606.35,
          2607.6,
          2610.65,
          2613.4,
          2614.1,
          2618.3,
          2619.15,
          2619.25,
          2621.75,
          2623.65,
          2625.25,
          2626.15,
          2627.2,
          2627.35,
          2633.3,
          2633.4,
          2633.95,
          2635,
          2638.1,
          2640.55,
          2647.1,
          2647.2,
          2651.1,
          2651.2,
          2654.05,
          2656.3,
          2656.7,
          2657.55,
          2658.4,
          2658.8,
          2659.45,
          2661.1,
          2664.3,
          2665,
          2666.75,
          2669.45,
          2673.45,
          2674.15,
          2679.7,
          2680.15,
          2681.15,
          2683.2,
          2684.35,
          2684.85,
          2686.05,
          2688.45,
          2688.85,
          2689.35,
          2692.75,
          2696.55,
          2708.2,
          2715.3,
          2719.2,
          2722.2,
          2723.15,
          2723.4,
          2723.75,
          2724.25,
          2727.3,
          2727.8,
          2730.85,
          2731,
          2737.05,
          2743.45,
          2747.2,
          2748.7,
          2751,
          2753.8,
          2754,
          2762.75,
          2763,
          2763.35,
          2766.4,
          2768.35,
          2768.65,
          2773.9,
          2774.55,
          2779.5,
          2780.6,
          2782.4,
          2789.7,
          2790.65,
          2793.55,
          2796.35,
          2796.45,
          2799,
          2799.75,
          2802.3,
          2807.1,
          2807.65,
          2809.05,
          2813.05,
          2815.25,
          2820.65,
          2823,
          2830.45,
          2832.75,
          2835.5,
          2835.9,
          2838.55,
          2839.45,
          2839.95,
          2845.15,
          2847.2,
          2848.45,
          2852.4,
          2854.95,
          2857.6,
          2861.45,
          2862.55,
          2871.5,
          2874.45,
          2877.05,
          2877.95,
          2878.55,
          2878.75,
          2879.2,
          2879.9,
          2882.25,
          2884.9,
          2888.7,
          2893.4,
          2894.55,
          2896.55,
          2896.6,
          2897.95,
          2898.95,
          2901.8,
          2907.35,
          2907.55,
          2908.2,
          2909.95,
          2911.5,
          2911.8,
          2917.65,
          2919.85,
          2921.75,
          2924.05,
          2928.5,
          2929.75,
          2933.95,
          2936.25,
          2937.65,
          2939.8,
          2948.6,
          2958.95,
          2959.8,
          2960.1,
          2961.4,
          2962,
          2964,
          2964.05,
          2964.8,
          2965.75,
          2966.95,
          2970.3,
          2970.8,
          2971.7,
          2974.5,
          2976.95,
          2979.2,
          2979.3,
          2983.65,
          2985.25,
          2989.6,
          2997.45,
          2998,
          3000.25,
          3003.55,
          3005.8,
          3007.25,
          3008.15,
          3008.55,
          3009.5,
          3011.65,
          3015.75,
          3019.1,
          3019.7,
          3021.3,
          3021.45,
          3023.55,
          3023.65,
          3023.85,
          3024.15,
          3027.25,
          3027.65,
          3035.35,
          3035.8,
          3038.55,
          3042.25,
          3043.6,
          3043.7,
          3045.75,
          3047.15,
          3053,
          3055.5,
          3058.15,
          3058.3,
          3062.45,
          3068.6,
          3069.45,
          3077,
          3082.1,
          3084.9,
          3085.35,
          3088.25,
          3088.75,
          3089.1,
          3089.6,
          3090.05,
          3090.65,
          3091.75,
          3092,
          3094.05,
          3094.65,
          3096.9,
          3097,
          3097.2,
          3103.25,
          3107.3,
          3109.9,
          3112.05,
          3116.15,
          3119.9,
          3121.1,
          3121.4,
          3121.45,
          3122.4,
          3126.45,
          3126.85,
          3128.8,
          3131.55,
          3131.8,
          3132.75,
          3134.7,
          3139.8,
          3141.7,
          3143.65,
          3145.15,
          3145.9,
          3147.15,
          3157,
          3161.2,
          3161.4,
          3161.6,
          3162.65,
          3165.6,
          3166.9,
          3168,
          3168.75,
          3169.55,
          3171.6,
          3173.35,
          3175.85,
          3177.25,
          3180.5,
          3181.8,
          3187.65,
          3190.25,
          3190.65,
          3196,
          3199,
          3204.4,
          3205.6,
          3208.65,
          3210.35,
          3211.2,
          3211.9,
          3213.75,
          3217.65,
          3219.75,
          3221.25,
          3231.05,
          3236.35,
          3237.05,
          3238.4,
          3242.5,
          3244.4,
          3246.45,
          3247.55,
          3249.4,
          3250.45,
          3251.3,
          3251.85,
          3252,
          3254.35,
          3255.35,
          3260.1,
          3263.6,
          3263.9,
          3265.95,
          3268.05,
          3270.25,
          3273.8,
          3273.95,
          3274.35,
          3275.15,
          3281.65,
          3282.75,
          3283.05,
          3292.3,
          3297,
          3301.05,
          3306.85,
          3313.4,
          3314.15,
          3316.1,
          3320.6,
          3320.75,
          3321.35,
          3327.05,
          3330.1,
          3334.9,
          3334.95,
          3339.05,
          3340.55,
          3342,
          3342.45,
          3343.15,
          3344.1,
          3346.8,
          3348.1,
          3349.1,
          3353.4,
          3355.65,
          3357.9,
          3358.65,
          3363.8,
          3364.55,
          3365.4,
          3366.05,
          3369.05,
          3369.25,
          3370.2,
          3371,
          3371.75,
          3373.4,
          3375.9,
          3377.8,
          3379.25,
          3382.3,
          3389.25,
          3398.9,
          3399.85,
          3403.4,
          3409.1,
          3410,
          3410.6,
          3413.25,
          3414.65,
          3415.25,
          3416.85,
          3418.2,
          3419.3,
          3419.5,
          3420.5,
          3423.5,
          3425.35,
          3431.75,
          3435.6,
          3437.45,
          3437.5,
          3439,
          3440.25,
          3442.15,
          3442.8,
          3450.15,
          3452.55,
          3454.6,
          3457.45,
          3460.3,
          3460.95,
          3462.1,
          3465.05,
          3465.7,
          3470.8,
          3471.1,
          3472.05,
          3474.2,
          3478.15,
          3478.75,
          3479.05,
          3480.35,
          3482.85,
          3483.45,
          3486.65,
          3487.95,
          3488.15,
          3491.55,
          3496.3,
          3503.5,
          3505.1,
          3509.4,
          3510.3,
          3512.15,
          3512.5,
          3512.9,
          3517.9,
          3521.7,
          3522.65,
          3527,
          3527.3,
          3529.95,
          3532,
          3532.25,
          3532.85,
          3533.6,
          3539.25,
          3540.65,
          3541.1,
          3541.4,
          3545.05,
          3545.1,
          3548.3,
          3551.65,
          3554.6,
          3557.7,
          3561.15,
          3562.5,
          3565.65,
          3566.6,
          3566.7,
          3571.6,
          3574.5,
          3579.15,
          3580.95,
          3581.4,
          3581.6,
          3582.4,
          3590.2,
          3591.25,
          3593.8,
          3597.5,
          3600.65,
          3603.45,
          3605.6,
          3608,
          3616.25,
          3617.1,
          3618.7,
          3623.95,
          3624.35,
          3625.2,
          3626.35,
          3627.3,
          3629.2,
          3632,
          3634.8,
          3635.15,
          3638.25,
          3641.5,
          3645.05,
          3645.5,
          3645.6,
          3645.75,
          3646.8,
          3649.6,
          3650.35,
          3653,
          3656.25,
          3662.25,
          3665.55,
          3670.5,
          3673.15,
          3673.6,
          3674.95,
          3682.45,
          3684.95,
          3686.05,
          3687.75,
          3687.85,
          3688.6,
          3691.2,
          3694.45,
          3694.7,
          3704.15,
          3707.6,
          3708.4,
          3713.95,
          3720.35,
          3721.9,
          3723.65,
          3725.5,
          3726.15,
          3729.6,
          3729.75,
          3735.45,
          3739.8,
          3741.85,
          3751.15,
          3753.2,
          3756.4,
          3756.45,
          3765.05,
          3766.2,
          3767.4,
          3769.7,
          3770,
          3771.5,
          3772.5,
          3772.65,
          3775.85,
          3778,
          3778.1,
          3778.2,
          3778.85,
          3782.4,
          3784,
          3789.2,
          3791.6,
          3794.5,
          3795.45,
          3801.3,
          3801.7,
          3804.4,
          3808,
          3808.2,
          3810.55,
          3810.8,
          3815.4,
          3822.45,
          3824.2,
          3827.9,
          3829.75,
          3833.95,
          3834.4,
          3835.55,
          3836.3,
          3838.2,
          3838.75,
          3842.6,
          3845.45,
          3846.35,
          3846.75,
          3847.6,
          3848,
          3848.8,
          3851.45,
          3857.1,
          3858.05,
          3861.45,
          3865.45,
          3865.6,
          3870,
          3870.3,
          3871.85,
          3874.1,
          3875.4,
          3876.2,
          3877.65,
          3877.95,
          3880.05,
          3882.3,
          3883.3,
          3886.05,
          3886.45,
          3886.85,
          3887.25,
          3887.85,
          3888.65,
          3893.6,
          3894.4,
          3895.35,
          3899.05,
          3901.25,
          3902.45,
          3902.6,
          3906.7,
          3914.05,
          3915.4,
          3919.15,
          3921.1,
          3921.3,
          3923.8,
          3928.3,
          3930.55,
          3930.6,
          3942.45,
          3944.5,
          3946.9,
          3948.45,
          3949.15,
          3950.85,
          3952.45,
          3952.65,
          3953.15,
          3953.7,
          3954.1,
          3956.7,
          3958.2,
          3958.25,
          3958.85,
          3959.15,
          3965.05,
          3966.3,
          3970.4,
          3972.25,
          3973.2,
          3974.15,
          3974.7,
          3975.7,
          3975.9,
          3983.6,
          3985.35,
          3988.5,
          3990.6,
          3990.75,
          3994.05,
          3996.8,
          4003,
          4003.85,
          4009.2,
          4013.8,
          4014,
          4014.2,
          4014.6,
          4016.2,
          4016.3,
          4016.75,
          4017.45,
          4018.05,
          4018.35,
          4018.55,
          4024.2,
          4025.5,
          4025.6,
          4036,
          4039,
          4039.3,
          4039.5,
          4040.2,
          4040.65,
          4042.2,
          4048.95,
          4052.4,
          4054.2,
          4055.5,
          4059.85,
          4060.55,
          4060.9,
          4063,
          4068,
          4069.9,
          4070.95,
          4079.55,
          4084.35,
          4085.75,
          4089.45,
          4096.9,
          4097.05,
          4103.9,
          4107.25,
          4107.3,
          4108.15,
          4109,
          4111.35,
          4113.15,
          4113.7,
          4116.8,
          4116.9,
          4119.4,
          4122.65,
          4122.9,
          4124.65,
          4126.2,
          4126.35,
          4131.2,
          4133.95,
          4134.7,
          4135,
          4136.4,
          4137.2,
          4138.7,
          4138.9,
          4140.1,
          4144.8,
          4144.9,
          4145.25,
          4145.9,
          4149.45,
          4154.55,
          4155.95,
          4156.8,
          4158.25,
          4159.45,
          4162.05,
          4164.4,
          4166.35,
          4174.35,
          4176.7,
          4178.65,
          4179.1,
          4179.2,
          4188.4,
          4189.7,
          4191.45,
          4192.15,
          4193.4,
          4194.85,
          4200.25,
          4209.95,
          4213.9,
          4214.25,
          4217.8,
          4220.35,
          4222.95,
          4224.7,
          4226.7,
          4228.55,
          4230.25,
          4233.95,
          4234.15,
          4236.6,
          4237.5,
          4238.45,
          4245.55,
          4250.1,
          4254.1,
          4261.2,
          4263.4,
          4263.45,
          4264,
          4264.25,
          4264.6,
          4265,
          4266.4,
          4267.15,
          4275.75,
          4282.4,
          4284.2,
          4284.65,
          4285.8,
          4287.2,
          4295.35,
          4297.6,
          4297.95,
          4298.45,
          4299.2,
          4299.75,
          4299.95,
          4300.45,
          4300.8,
          4303.65,
          4304,
          4304.5,
          4307.1,
          4308.25,
          4309.55,
          4310.35,
          4312.5,
          4317.35,
          4318.35,
          4322.85,
          4323.35,
          4326.25,
          4326.8,
          4327.5,
          4331.4,
          4335.2,
          4345,
          4348.1,
          4354.45,
          4361.55,
          4362.05,
          4368.85,
          4368.95,
          4370.25,
          4370.75,
          4374.55,
          4375.8,
          4378.35,
          4378.8,
          4378.9,
          4385.05,
          4386.2,
          4390.25,
          4391.25,
          4391.45,
          4392.5,
          4408.45,
          4415.75,
          4421.95,
          4422.95,
          4428.45,
          4428.6,
          4433.3,
          4438.2,
          4442.75,
          4445.3,
          4447.55,
          4447.75,
          4448.8,
          4449.75,
          4451.85,
          4453.3,
          4454.25,
          4456.35,
          4456.65,
          4459.15,
          4459.8,
          4461.85,
          4464.8,
          4469.1,
          4473,
          4473.45,
          4475.9,
          4478.85,
          4479.2,
          4480.7,
          4483.95,
          4484.05,
          4487.3,
          4492.9,
          4494.65,
          4495.65,
          4504.9,
          4507.15,
          4508.65,
          4509.5,
          4510.8,
          4513.65,
          4519.5,
          4520.15,
          4523.25,
          4524.05,
          4525.8,
          4526.85,
          4528,
          4532.3,
          4534.45,
          4535.85,
          4539.35,
          4539.6,
          4541.9,
          4542.35,
          4543.15,
          4543.95,
          4546,
          4549.05,
          4549.45,
          4551.5,
          4554.85,
          4555.2,
          4557.5,
          4563,
          4564.9,
          4566.5,
          4575.35,
          4576.3,
          4577.75,
          4577.9,
          4586.15,
          4589.85,
          4590.35,
          4594.65,
          4599.15,
          4600.95,
          4613.95,
          4614.55,
          4615.25,
          4615.9,
          4616.05,
          4616.1,
          4619.55,
          4620.4,
          4627.65,
          4627.8,
          4630.2,
          4631.7,
          4634.35,
          4639.45,
          4641.1,
          4652.4,
          4653.25,
          4657.95,
          4663.4,
          4664.15,
          4664.2,
          4664.5,
          4667,
          4669.2,
          4671.65,
          4671.7,
          4674.4,
          4674.55,
          4676.7,
          4677.1,
          4681.75,
          4684.3,
          4685.55,
          4688.65,
          4689.15,
          4690.65,
          4692.55,
          4692.95,
          4693.2,
          4698.05,
          4707.1,
          4707.85,
          4713.4,
          4719.75,
          4720,
          4729.3,
          4729.75,
          4730.6,
          4730.9,
          4732.35,
          4733.1,
          4735.2,
          4735.35,
          4738.3,
          4738.85,
          4741.45,
          4744.35,
          4746.05,
          4747.2,
          4747.5,
          4747.65,
          4747.85,
          4748.7,
          4753.85,
          4754.3,
          4758.8,
          4759.55,
          4760.3,
          4764,
          4765,
          4779.45,
          4784.45,
          4786.1,
          4786.15,
          4793.8,
          4798.4,
          4801.1,
          4804.65,
          4804.75,
          4805.3,
          4805.65,
          4807.35,
          4807.45,
          4808.7,
          4811.6,
          4818.8,
          4819.75,
          4820.55,
          4824.45,
          4828.05,
          4834,
          4839.15,
          4845.4,
          4847.05,
          4847.35,
          4849.1,
          4854.3,
          4855.35,
          4858.7,
          4859.1,
          4859.25,
          4859.95,
          4860.35,
          4860.85,
          4861.45,
          4862.5,
          4863.85,
          4868.4,
          4869.35,
          4869.5,
          4871.45,
          4872.2,
          4872.35,
          4882.8,
          4884.85,
          4885.85,
          4888.2,
          4889.2,
          4889.3,
          4890.5,
          4891.5,
          4895.1,
          4896.35,
          4900.65,
          4902.8,
          4903.15,
          4903.2,
          4904.2,
          4904.25,
          4904.85,
          4905.75,
          4908.25,
          4911.05,
          4911.35,
          4914.8,
          4914.9,
          4915.15,
          4916.4,
          4916.95,
          4917.75,
          4917.9,
          4919.7,
          4920.55,
          4920.8,
          4921.2,
          4922.4,
          4925.35,
          4929.55,
          4931.8,
          4932.5,
          4939.25,
          4946.05,
          4946.7,
          4947.55,
          4949.1,
          4952.95,
          4953.25,
          4959.15,
          4959.6,
          4964.7,
          4965,
          4965.1,
          4968,
          4972.1,
          4973.4,
          4976.15,
          4977.2,
          4981.15,
          4982.5,
          4983.05,
          4984.85,
          4985.9,
          4991.5,
          4993.4,
          4995.35,
          4997.5,
          5000.05,
          5011.15,
          5012.1,
          5012.35,
          5013,
          5016.25,
          5016.65,
          5017.7,
          5023,
          5025,
          5025.8,
          5025.85,
          5029.05,
          5031,
          5031.85,
          5032.25,
          5034.05,
          5036.9,
          5038.15,
          5038.45,
          5040.2,
          5042.75,
          5043.2,
          5044.8,
          5059.75,
          5060.85,
          5060.9,
          5064.45,
          5064.85,
          5067.45,
          5068.05,
          5070.4,
          5071.9,
          5073.1,
          5083.55,
          5088.4,
          5099.15,
          5102.35,
          5116.6,
          5121.75,
          5125.5,
          5125.75,
          5129.3,
          5129.45,
          5135.15,
          5135.35,
          5138.1,
          5139.65,
          5150.55,
          5153.5,
          5154.5,
          5163,
          5163.3,
          5165.7,
          5166.2,
          5168.1,
          5174.35,
          5175.3,
          5186,
          5189.75,
          5193.2,
          5194.05,
          5196.1,
          5199.8,
          5200.8,
          5206.55,
          5212.65,
          5215.1,
          5215.25,
          5219.65,
          5222.3,
          5222.35,
          5224.5,
          5224.95,
          5229.45,
          5229.8,
          5231.2,
          5231.3,
          5232.9,
          5233.25,
          5234.95,
          5236.4,
          5237.4,
          5243.05,
          5244.45,
          5251.75,
          5253.95,
          5264.25,
          5264.3,
          5264.5,
          5265.2,
          5265.5,
          5265.55,
          5270.6,
          5276.1,
          5289.05,
          5289.8,
          5290.45,
          5294.6,
          5295.7,
          5299.65,
          5301.1,
          5305.05,
          5308.7,
          5309.5,
          5311.85,
          5315.1,
          5315.8,
          5317.8,
          5321.25,
          5324.5,
          5327.25,
          5329,
          5329.55,
          5330.2,
          5333.35,
          5336.35,
          5347.95,
          5348.65,
          5357.75,
          5360.75,
          5364.8,
          5375.15,
          5376.4,
          5377.8,
          5386.5,
          5388.15,
          5396.25,
          5398.6,
          5401.9,
          5405.8,
          5409.75,
          5411.4,
          5411.65,
          5420.65,
          5424.25,
          5430.35,
          5430.65,
          5431.4,
          5431.9,
          5432.2,
          5435,
          5436.45,
          5437.1,
          5437.75,
          5438.95,
          5442.05,
          5443.65,
          5445.95,
          5448.6,
          5450.7,
          5458.8,
          5459.2,
          5460.2,
          5461.45,
          5468.45,
          5468.95,
          5471.75,
          5475.9,
          5480.25,
          5481.25,
          5483.9,
          5484.4,
          5487,
          5496.9,
          5497.05,
          5498.2,
          5498.8,
          5500.6,
          5502.55,
          5511.65,
          5514.95,
          5515.45,
          5515.8,
          5522.7,
          5526.75,
          5528.9,
          5535.8,
          5536.5,
          5538.35,
          5538.8,
          5542.55,
          5550.1,
          5552.05,
          5552.5,
          5553.25,
          5555.3,
          5560,
          5563.65,
          5564.85,
          5566.4,
          5567.45,
          5567.55,
          5574.35,
          5576.3,
          5580.8,
          5581.05,
          5585.4,
          5586.45,
          5588.8,
          5589.3,
          5589.45,
          5594,
          5595.3,
          5597.65,
          5598,
          5598.3,
          5600.15,
          5601.4,
          5602.25,
          5607.75,
          5608.4,
          5610.15,
          5611.7,
          5611.75,
          5617.95,
          5618.3,
          5621.85,
          5623.7,
          5625.55,
          5629.15,
          5629.55,
          5632.55,
          5637.85,
          5645.8,
          5646.6,
          5647.95,
          5655.45,
          5656.75,
          5661.7,
          5662.25,
          5669.5,
          5673.7,
          5676,
          5676.65,
          5680.9,
          5681.1,
          5682.25,
          5683.6,
          5686.4,
          5688.45,
          5692.65,
          5696.6,
          5703,
          5703.25,
          5705.05,
          5706.2,
          5706.3,
          5708.2,
          5711.05,
          5714.2,
          5714.25,
          5717.85,
          5718.2,
          5720.35,
          5720.95,
          5727.15,
          5727.45,
          5728.55,
          5730.15,
          5730.7,
          5731.4,
          5731.45,
          5731.85,
          5733.4,
          5737.6,
          5743.3,
          5744.35,
          5746.75,
          5749.8,
          5750,
          5753.25,
          5755.8,
          5757.2,
          5760.65,
          5762.95,
          5763.15,
          5764.7,
          5774.55,
          5776.45,
          5779.6,
          5780.7,
          5784.3,
          5785.65,
          5791.1,
          5791.85,
          5794.45,
          5798.3,
          5809.75,
          5810.9,
          5811.8,
          5812,
          5815.15,
          5817,
          5817.45,
          5817.7,
          5822.3,
          5824.75,
          5825.5,
          5826.65,
          5831.2,
          5832,
          5832.65,
          5835.5,
          5839.3,
          5841.35,
          5844.65,
          5846.65,
          5848.6,
          5860.7,
          5861.75,
          5867,
          5869.4,
          5873.75,
          5878.9,
          5882.75,
          5883.85,
          5886.85,
          5890,
          5893.9,
          5893.95,
          5894.5,
          5895.45,
          5897.4,
          5898.6,
          5899.85,
          5903.15,
          5913.95,
          5914.4,
          5916.95,
          5917.55,
          5919.35,
          5924.4,
          5925.75,
          5930.05,
          5931,
          5931.75,
          5935.1,
          5936.55,
          5941.05,
          5943.65,
          5948.7,
          5950.2,
          5953,
          5956.85,
          5957.9,
          5958.85,
          5959.3,
          5960.5,
          5963.95,
          5965.95,
          5968.4,
          5969.3,
          5969.85,
          5969.95,
          5971.25,
          5974.3,
          5976.9,
          5979.7,
          5980.55,
          5980.75,
          5981.65,
          5985,
          5985.75,
          5986.45,
          5986.55,
          5991.05,
          5997.1,
          5999.85,
          6000.1,
          6001.45,
          6004.85,
          6017.9,
          6018.65,
          6019.35,
          6028.95,
          6029,
          6029.9,
          6033.1,
          6033.3,
          6034.85,
          6038.55,
          6042.7,
          6045.9,
          6046.1,
          6049.5,
          6052.25,
          6055.55,
          6056.9,
          6058.95,
          6065.3,
          6066.55,
          6067.4,
          6068.65,
          6069.25,
          6075.9,
          6077.75,
          6078.75,
          6079,
          6081.4,
          6083.1,
          6093.3,
          6094.25,
          6096.45,
          6096.9,
          6109.65,
          6109.75,
          6110.75,
          6118.95,
          6126.1,
          6126.15,
          6129.2,
          6129.65,
          6130.85,
          6130.95,
          6132.7,
          6139.5,
          6140.85,
          6141.65,
          6145.2,
          6148.45,
          6151.9,
          6152.3,
          6152.4,
          6153.85,
          6155.4,
          6157.6,
          6161.9,
          6164.7,
          6171.2,
          6172,
          6176.6,
          6179.35,
          6185.15,
          6185.8,
          6194.1,
          6201.95,
          6218.45,
          6223.3,
          6223.8,
          6224.8,
          6225.4,
          6227.5,
          6230.1,
          6236.75,
          6237.05,
          6239.05,
          6241.35,
          6252.7,
          6253,
          6254.45,
          6256.2,
          6263.8,
          6273.4,
          6287.3,
          6292.7,
          6293.2,
          6293.45,
          6293.75,
          6296.75,
          6297.65,
          6300.15,
          6300.85,
          6301.7,
          6302.8,
          6302.85,
          6306.5,
          6309.65,
          6310.9,
          6311.2,
          6312.9,
          6314.35,
          6316.2,
          6322.1,
          6325.25,
          6328.7,
          6330.4,
          6332.75,
          6333.4,
          6333.8,
          6339.3,
          6339.45,
          6342.7,
          6347.55,
          6350.5,
          6352.4,
          6362.35,
          6363.45,
          6365.35,
          6367.2,
          6368.2,
          6369.45,
          6373.1,
          6375.2,
          6375.8,
          6376.55,
          6382,
          6382.55,
          6383.9,
          6385.95,
          6388.65,
          6392.85,
          6393.65,
          6397.6,
          6398.05,
          6401.25,
          6404,
          6411.25,
          6416.7,
          6423,
          6424.25,
          6424.7,
          6425.65,
          6430.9,
          6431.05,
          6435.25,
          6441.85,
          6444.05,
          6448.85,
          6449.15,
          6457.15,
          6460.55,
          6463.15,
          6468.6,
          6470.1,
          6471.85,
          6474.4,
          6474.45,
          6479.4,
          6480.9,
          6487.2,
          6496.15,
          6501.35,
          6503.2,
          6506.15,
          6510.45,
          6511.25,
          6511.8,
          6518.35,
          6519.75,
          6520.8,
          6521.9,
          6526.65,
          6536.5,
          6538.45,
          6548.65,
          6549.45,
          6555.2,
          6557.75,
          6561.25,
          6562.9,
          6563.4,
          6565.85,
          6567.9,
          6572.85,
          6578.55,
          6585.2,
          6586.85,
          6588.95,
          6589.6,
          6590.5,
          6590.8,
          6595,
          6595.9,
          6597.25,
          6602.9,
          6603.8,
          6605.55,
          6613.65,
          6614.9,
          6631.85,
          6632.75,
          6637.9,
          6638.35,
          6640.7,
          6643.5,
          6652.45,
          6654.1,
          6668,
          6668.05,
          6668.35,
          6669.05,
          6669.45,
          6671.7,
          6674.65,
          6683.4,
          6687.85,
          6688.1,
          6688.95,
          6689,
          6690.75,
          6692.65,
          6697.2,
          6697.35,
          6700.05,
          6703.5,
          6705.7,
          6707.15,
          6713.2,
          6716.45,
          6717.9,
          6719.9,
          6721.6,
          6725.3,
          6725.5,
          6733,
          6733.15,
          6735.05,
          6741.15,
          6743.55,
          6744.2,
          6744.25,
          6747.35,
          6751.35,
          6754.35,
          6758.45,
          6766.95,
          6767.1,
          6770.5,
          6770.85,
          6779.05,
          6780.1,
          6782.15,
          6786.1,
          6792.45,
          6794.75,
          6812.95,
          6816.95,
          6819.45,
          6823.4,
          6825.65,
          6827.5,
          6838.6,
          6840.95,
          6841.05,
          6841.3,
          6841.4,
          6841.45,
          6843.15,
          6844.5,
          6849.4,
          6849.75,
          6856.45,
          6856.95,
          6858.9,
          6859.05,
          6860.6,
          6869.7,
          6871.7,
          6875.35,
          6880.85,
          6885.75,
          6889.8,
          6891.4,
          6891.45,
          6895.5,
          6910.3,
          6912.7,
          6914.95,
          6921.7,
          6925.9,
          6929.4,
          6936.85,
          6944.5,
          6951.15,
          6953.4,
          6954.15,
          6962.85,
          6976.75,
          6982.5,
          6989.45,
          6989.7,
          6991.6,
          6991.9,
          6993.65,
          6994.6,
          6994.8,
          6997.3,
          6998.95,
          7002.95,
          7008.15,
          7009.5,
          7015.9,
          7028.5,
          7030.65,
          7031.3,
          7031.45,
          7035.6,
          7039.05,
          7039.45,
          7047.5,
          7049.5,
          7049.75,
          7051.95,
          7053.35,
          7061.65,
          7069.25,
          7069.3,
          7074.4,
          7076.35,
          7082.45,
          7082.5,
          7082.85,
          7085.5,
          7099,
          7104.2,
          7107,
          7108.2,
          7110.75,
          7111.3,
          7112.15,
          7113.75,
          7114.25,
          7118.9,
          7129.45,
          7132.15,
          7133.1,
          7133.45,
          7138.65,
          7142.5,
          7149.35,
          7159.05,
          7159.7,
          7168.25,
          7171.7,
          7173.15,
          7181.25,
          7181.95,
          7188.5,
          7195.35,
          7209,
          7210.85,
          7213.75,
          7222.75,
          7227.45,
          7234.8,
          7238.6,
          7240.65,
          7244.7,
          7245.9,
          7246.15,
          7251.7,
          7251.9,
          7261.25,
          7261.75,
          7266.95,
          7279.35,
          7281.6,
          7283.25,
          7285.7,
          7288.4,
          7291.75,
          7297.75,
          7303.05,
          7308.95,
          7317.1,
          7320.9,
          7321.05,
          7322.5,
          7323.15,
          7325.1,
          7332.4,
          7334.05,
          7337.55,
          7344.45,
          7346.2,
          7349.35,
          7362.9,
          7365.3,
          7365.7,
          7379.8,
          7382.25,
          7382.85,
          7383.7,
          7386.05,
          7388.45,
          7396.15,
          7397,
          7405.5,
          7412.25,
          7413.55,
          7422.1,
          7430.75,
          7447.7,
          7455.45,
          7459,
          7459.05,
          7467.5,
          7467.55,
          7470.1,
          7472.15,
          7475.1,
          7475.85,
          7493.05,
          7508.55,
          7511.3,
          7511.65,
          7511.9,
          7517.7,
          7521.95,
          7530.8,
          7537.5,
          7542.25,
          7544,
          7544.3,
          7548.6,
          7550.3,
          7553.6,
          7554.05,
          7555,
          7556.9,
          7559.55,
          7565.35,
          7567.2,
          7576.7,
          7578.05,
          7581.5,
          7589.8,
          7609.75,
          7610.1,
          7611.55,
          7616,
          7623.2,
          7624.2,
          7629.85,
          7634.25,
          7634.8,
          7657.4,
          7658.3,
          7661.8,
          7665.8,
          7677.4,
          7679.65,
          7689.8,
          7707.7,
          7711.25,
          7711.45,
          7713.55,
          7714.65,
          7719.5,
          7726.35,
          7732.65,
          7737.55,
          7746.7,
          7748.75,
          7751.7,
          7752.05,
          7758.9,
          7767.25,
          7774.05,
          7782.85,
          7789.6,
          7795.95,
          7806.5,
          7806.6,
          7839.85,
          7840.6,
          7842.3,
          7843.55,
          7845.8,
          7848.5,
          7849.85,
          7852.4,
          7853.7,
          7854.15,
          7854.9,
          7862.25,
          7869.05,
          7875,
          7878.3,
          7880.25,
          7881.2,
          7882.25,
          7882.5,
          7887.25,
          7895.15,
          7898.45,
          7904.25,
          7919.8,
          7920.7,
          7922.75,
          7930.55,
          7932.5,
          7939.25,
          7942.15,
          7943.45,
          7953.25,
          7962.2,
          7965.95,
          7966.9,
          7982.5,
          7984.15,
          7985.9,
          7987.6,
          7990.05,
          7993.3,
          7998.8,
          8003.8,
          8012.75,
          8013.55,
          8016.6,
          8022.85,
          8033.1,
          8035.95,
          8041.65,
          8046.85,
          8058.55,
          8058.85,
          8061.5,
          8065.65,
          8071.05,
          8075.35,
          8078.1,
          8086.4,
          8093.15,
          8100.25,
          8100.55,
          8124.2,
          8126.65,
          8129.3,
          8152.3,
          8164.1,
          8165.1,
          8166.8,
          8175.9,
          8182.75,
          8182.85,
          8192.6,
          8196.4,
          8220.4,
          8240.85,
          8244.3,
          8248.5,
          8250,
          8277.05,
          8289.2,
          8297.5,
          8306.05,
          8308.9,
          8309.55,
          8310.55,
          8312.4,
          8312.75,
          8317.95,
          8331.95,
          8332.15,
          8333.95,
          8337.45,
          8349.45,
          8349.7,
          8375.05,
          8399.15,
          8404.9,
          8405,
          8424.9,
          8425.15,
          8425.3,
          8436.25,
          8443.7,
          8456.75,
          8468.2,
          8476.5,
          8477.6,
          8477.7,
          8496.7,
          8529.5,
          8543.25,
          8547.15,
          8564.75,
          8594.4,
          8670.1,
          8672.45
         ],
         "xaxis": "x2",
         "yaxis": "y2"
        }
       ],
       "layout": {
        "barmode": "relative",
        "legend": {
         "title": {
          "text": "Churn"
         },
         "tracegroupgap": 0
        },
        "template": {
         "data": {
          "bar": [
           {
            "error_x": {
             "color": "#2a3f5f"
            },
            "error_y": {
             "color": "#2a3f5f"
            },
            "marker": {
             "line": {
              "color": "#E5ECF6",
              "width": 0.5
             },
             "pattern": {
              "fillmode": "overlay",
              "size": 10,
              "solidity": 0.2
             }
            },
            "type": "bar"
           }
          ],
          "barpolar": [
           {
            "marker": {
             "line": {
              "color": "#E5ECF6",
              "width": 0.5
             },
             "pattern": {
              "fillmode": "overlay",
              "size": 10,
              "solidity": 0.2
             }
            },
            "type": "barpolar"
           }
          ],
          "carpet": [
           {
            "aaxis": {
             "endlinecolor": "#2a3f5f",
             "gridcolor": "white",
             "linecolor": "white",
             "minorgridcolor": "white",
             "startlinecolor": "#2a3f5f"
            },
            "baxis": {
             "endlinecolor": "#2a3f5f",
             "gridcolor": "white",
             "linecolor": "white",
             "minorgridcolor": "white",
             "startlinecolor": "#2a3f5f"
            },
            "type": "carpet"
           }
          ],
          "choropleth": [
           {
            "colorbar": {
             "outlinewidth": 0,
             "ticks": ""
            },
            "type": "choropleth"
           }
          ],
          "contour": [
           {
            "colorbar": {
             "outlinewidth": 0,
             "ticks": ""
            },
            "colorscale": [
             [
              0,
              "#0d0887"
             ],
             [
              0.1111111111111111,
              "#46039f"
             ],
             [
              0.2222222222222222,
              "#7201a8"
             ],
             [
              0.3333333333333333,
              "#9c179e"
             ],
             [
              0.4444444444444444,
              "#bd3786"
             ],
             [
              0.5555555555555556,
              "#d8576b"
             ],
             [
              0.6666666666666666,
              "#ed7953"
             ],
             [
              0.7777777777777778,
              "#fb9f3a"
             ],
             [
              0.8888888888888888,
              "#fdca26"
             ],
             [
              1,
              "#f0f921"
             ]
            ],
            "type": "contour"
           }
          ],
          "contourcarpet": [
           {
            "colorbar": {
             "outlinewidth": 0,
             "ticks": ""
            },
            "type": "contourcarpet"
           }
          ],
          "heatmap": [
           {
            "colorbar": {
             "outlinewidth": 0,
             "ticks": ""
            },
            "colorscale": [
             [
              0,
              "#0d0887"
             ],
             [
              0.1111111111111111,
              "#46039f"
             ],
             [
              0.2222222222222222,
              "#7201a8"
             ],
             [
              0.3333333333333333,
              "#9c179e"
             ],
             [
              0.4444444444444444,
              "#bd3786"
             ],
             [
              0.5555555555555556,
              "#d8576b"
             ],
             [
              0.6666666666666666,
              "#ed7953"
             ],
             [
              0.7777777777777778,
              "#fb9f3a"
             ],
             [
              0.8888888888888888,
              "#fdca26"
             ],
             [
              1,
              "#f0f921"
             ]
            ],
            "type": "heatmap"
           }
          ],
          "heatmapgl": [
           {
            "colorbar": {
             "outlinewidth": 0,
             "ticks": ""
            },
            "colorscale": [
             [
              0,
              "#0d0887"
             ],
             [
              0.1111111111111111,
              "#46039f"
             ],
             [
              0.2222222222222222,
              "#7201a8"
             ],
             [
              0.3333333333333333,
              "#9c179e"
             ],
             [
              0.4444444444444444,
              "#bd3786"
             ],
             [
              0.5555555555555556,
              "#d8576b"
             ],
             [
              0.6666666666666666,
              "#ed7953"
             ],
             [
              0.7777777777777778,
              "#fb9f3a"
             ],
             [
              0.8888888888888888,
              "#fdca26"
             ],
             [
              1,
              "#f0f921"
             ]
            ],
            "type": "heatmapgl"
           }
          ],
          "histogram": [
           {
            "marker": {
             "pattern": {
              "fillmode": "overlay",
              "size": 10,
              "solidity": 0.2
             }
            },
            "type": "histogram"
           }
          ],
          "histogram2d": [
           {
            "colorbar": {
             "outlinewidth": 0,
             "ticks": ""
            },
            "colorscale": [
             [
              0,
              "#0d0887"
             ],
             [
              0.1111111111111111,
              "#46039f"
             ],
             [
              0.2222222222222222,
              "#7201a8"
             ],
             [
              0.3333333333333333,
              "#9c179e"
             ],
             [
              0.4444444444444444,
              "#bd3786"
             ],
             [
              0.5555555555555556,
              "#d8576b"
             ],
             [
              0.6666666666666666,
              "#ed7953"
             ],
             [
              0.7777777777777778,
              "#fb9f3a"
             ],
             [
              0.8888888888888888,
              "#fdca26"
             ],
             [
              1,
              "#f0f921"
             ]
            ],
            "type": "histogram2d"
           }
          ],
          "histogram2dcontour": [
           {
            "colorbar": {
             "outlinewidth": 0,
             "ticks": ""
            },
            "colorscale": [
             [
              0,
              "#0d0887"
             ],
             [
              0.1111111111111111,
              "#46039f"
             ],
             [
              0.2222222222222222,
              "#7201a8"
             ],
             [
              0.3333333333333333,
              "#9c179e"
             ],
             [
              0.4444444444444444,
              "#bd3786"
             ],
             [
              0.5555555555555556,
              "#d8576b"
             ],
             [
              0.6666666666666666,
              "#ed7953"
             ],
             [
              0.7777777777777778,
              "#fb9f3a"
             ],
             [
              0.8888888888888888,
              "#fdca26"
             ],
             [
              1,
              "#f0f921"
             ]
            ],
            "type": "histogram2dcontour"
           }
          ],
          "mesh3d": [
           {
            "colorbar": {
             "outlinewidth": 0,
             "ticks": ""
            },
            "type": "mesh3d"
           }
          ],
          "parcoords": [
           {
            "line": {
             "colorbar": {
              "outlinewidth": 0,
              "ticks": ""
             }
            },
            "type": "parcoords"
           }
          ],
          "pie": [
           {
            "automargin": true,
            "type": "pie"
           }
          ],
          "scatter": [
           {
            "fillpattern": {
             "fillmode": "overlay",
             "size": 10,
             "solidity": 0.2
            },
            "type": "scatter"
           }
          ],
          "scatter3d": [
           {
            "line": {
             "colorbar": {
              "outlinewidth": 0,
              "ticks": ""
             }
            },
            "marker": {
             "colorbar": {
              "outlinewidth": 0,
              "ticks": ""
             }
            },
            "type": "scatter3d"
           }
          ],
          "scattercarpet": [
           {
            "marker": {
             "colorbar": {
              "outlinewidth": 0,
              "ticks": ""
             }
            },
            "type": "scattercarpet"
           }
          ],
          "scattergeo": [
           {
            "marker": {
             "colorbar": {
              "outlinewidth": 0,
              "ticks": ""
             }
            },
            "type": "scattergeo"
           }
          ],
          "scattergl": [
           {
            "marker": {
             "colorbar": {
              "outlinewidth": 0,
              "ticks": ""
             }
            },
            "type": "scattergl"
           }
          ],
          "scattermapbox": [
           {
            "marker": {
             "colorbar": {
              "outlinewidth": 0,
              "ticks": ""
             }
            },
            "type": "scattermapbox"
           }
          ],
          "scatterpolar": [
           {
            "marker": {
             "colorbar": {
              "outlinewidth": 0,
              "ticks": ""
             }
            },
            "type": "scatterpolar"
           }
          ],
          "scatterpolargl": [
           {
            "marker": {
             "colorbar": {
              "outlinewidth": 0,
              "ticks": ""
             }
            },
            "type": "scatterpolargl"
           }
          ],
          "scatterternary": [
           {
            "marker": {
             "colorbar": {
              "outlinewidth": 0,
              "ticks": ""
             }
            },
            "type": "scatterternary"
           }
          ],
          "surface": [
           {
            "colorbar": {
             "outlinewidth": 0,
             "ticks": ""
            },
            "colorscale": [
             [
              0,
              "#0d0887"
             ],
             [
              0.1111111111111111,
              "#46039f"
             ],
             [
              0.2222222222222222,
              "#7201a8"
             ],
             [
              0.3333333333333333,
              "#9c179e"
             ],
             [
              0.4444444444444444,
              "#bd3786"
             ],
             [
              0.5555555555555556,
              "#d8576b"
             ],
             [
              0.6666666666666666,
              "#ed7953"
             ],
             [
              0.7777777777777778,
              "#fb9f3a"
             ],
             [
              0.8888888888888888,
              "#fdca26"
             ],
             [
              1,
              "#f0f921"
             ]
            ],
            "type": "surface"
           }
          ],
          "table": [
           {
            "cells": {
             "fill": {
              "color": "#EBF0F8"
             },
             "line": {
              "color": "white"
             }
            },
            "header": {
             "fill": {
              "color": "#C8D4E3"
             },
             "line": {
              "color": "white"
             }
            },
            "type": "table"
           }
          ]
         },
         "layout": {
          "annotationdefaults": {
           "arrowcolor": "#2a3f5f",
           "arrowhead": 0,
           "arrowwidth": 1
          },
          "autotypenumbers": "strict",
          "coloraxis": {
           "colorbar": {
            "outlinewidth": 0,
            "ticks": ""
           }
          },
          "colorscale": {
           "diverging": [
            [
             0,
             "#8e0152"
            ],
            [
             0.1,
             "#c51b7d"
            ],
            [
             0.2,
             "#de77ae"
            ],
            [
             0.3,
             "#f1b6da"
            ],
            [
             0.4,
             "#fde0ef"
            ],
            [
             0.5,
             "#f7f7f7"
            ],
            [
             0.6,
             "#e6f5d0"
            ],
            [
             0.7,
             "#b8e186"
            ],
            [
             0.8,
             "#7fbc41"
            ],
            [
             0.9,
             "#4d9221"
            ],
            [
             1,
             "#276419"
            ]
           ],
           "sequential": [
            [
             0,
             "#0d0887"
            ],
            [
             0.1111111111111111,
             "#46039f"
            ],
            [
             0.2222222222222222,
             "#7201a8"
            ],
            [
             0.3333333333333333,
             "#9c179e"
            ],
            [
             0.4444444444444444,
             "#bd3786"
            ],
            [
             0.5555555555555556,
             "#d8576b"
            ],
            [
             0.6666666666666666,
             "#ed7953"
            ],
            [
             0.7777777777777778,
             "#fb9f3a"
            ],
            [
             0.8888888888888888,
             "#fdca26"
            ],
            [
             1,
             "#f0f921"
            ]
           ],
           "sequentialminus": [
            [
             0,
             "#0d0887"
            ],
            [
             0.1111111111111111,
             "#46039f"
            ],
            [
             0.2222222222222222,
             "#7201a8"
            ],
            [
             0.3333333333333333,
             "#9c179e"
            ],
            [
             0.4444444444444444,
             "#bd3786"
            ],
            [
             0.5555555555555556,
             "#d8576b"
            ],
            [
             0.6666666666666666,
             "#ed7953"
            ],
            [
             0.7777777777777778,
             "#fb9f3a"
            ],
            [
             0.8888888888888888,
             "#fdca26"
            ],
            [
             1,
             "#f0f921"
            ]
           ]
          },
          "colorway": [
           "#636efa",
           "#EF553B",
           "#00cc96",
           "#ab63fa",
           "#FFA15A",
           "#19d3f3",
           "#FF6692",
           "#B6E880",
           "#FF97FF",
           "#FECB52"
          ],
          "font": {
           "color": "#2a3f5f"
          },
          "geo": {
           "bgcolor": "white",
           "lakecolor": "white",
           "landcolor": "#E5ECF6",
           "showlakes": true,
           "showland": true,
           "subunitcolor": "white"
          },
          "hoverlabel": {
           "align": "left"
          },
          "hovermode": "closest",
          "mapbox": {
           "style": "light"
          },
          "paper_bgcolor": "white",
          "plot_bgcolor": "#E5ECF6",
          "polar": {
           "angularaxis": {
            "gridcolor": "white",
            "linecolor": "white",
            "ticks": ""
           },
           "bgcolor": "#E5ECF6",
           "radialaxis": {
            "gridcolor": "white",
            "linecolor": "white",
            "ticks": ""
           }
          },
          "scene": {
           "xaxis": {
            "backgroundcolor": "#E5ECF6",
            "gridcolor": "white",
            "gridwidth": 2,
            "linecolor": "white",
            "showbackground": true,
            "ticks": "",
            "zerolinecolor": "white"
           },
           "yaxis": {
            "backgroundcolor": "#E5ECF6",
            "gridcolor": "white",
            "gridwidth": 2,
            "linecolor": "white",
            "showbackground": true,
            "ticks": "",
            "zerolinecolor": "white"
           },
           "zaxis": {
            "backgroundcolor": "#E5ECF6",
            "gridcolor": "white",
            "gridwidth": 2,
            "linecolor": "white",
            "showbackground": true,
            "ticks": "",
            "zerolinecolor": "white"
           }
          },
          "shapedefaults": {
           "line": {
            "color": "#2a3f5f"
           }
          },
          "ternary": {
           "aaxis": {
            "gridcolor": "white",
            "linecolor": "white",
            "ticks": ""
           },
           "baxis": {
            "gridcolor": "white",
            "linecolor": "white",
            "ticks": ""
           },
           "bgcolor": "#E5ECF6",
           "caxis": {
            "gridcolor": "white",
            "linecolor": "white",
            "ticks": ""
           }
          },
          "title": {
           "x": 0.05
          },
          "xaxis": {
           "automargin": true,
           "gridcolor": "white",
           "linecolor": "white",
           "ticks": "",
           "title": {
            "standoff": 15
           },
           "zerolinecolor": "white",
           "zerolinewidth": 2
          },
          "yaxis": {
           "automargin": true,
           "gridcolor": "white",
           "linecolor": "white",
           "ticks": "",
           "title": {
            "standoff": 15
           },
           "zerolinecolor": "white",
           "zerolinewidth": 2
          }
         }
        },
        "title": {
         "text": "Churn rate frequency to TotalCharges distribution"
        },
        "xaxis": {
         "anchor": "y",
         "domain": [
          0,
          1
         ],
         "title": {
          "text": "TotalCharges"
         }
        },
        "xaxis2": {
         "anchor": "y2",
         "domain": [
          0,
          1
         ],
         "matches": "x",
         "showgrid": true,
         "showticklabels": false
        },
        "yaxis": {
         "anchor": "x",
         "domain": [
          0,
          0.7326
         ],
         "title": {
          "text": "sum of Count"
         }
        },
        "yaxis2": {
         "anchor": "x2",
         "domain": [
          0.7426,
          1
         ],
         "matches": "y2",
         "showgrid": false,
         "showline": false,
         "showticklabels": false,
         "ticks": ""
        }
       }
      }
     },
     "metadata": {},
     "output_type": "display_data"
    }
   ],
   "source": [
    "hist(\"tenure\")\n",
    "hist(\"MonthlyCharges\")\n",
    "hist(\"TotalCharges\")"
   ]
  },
  {
   "cell_type": "markdown",
   "metadata": {},
   "source": [
    "<h3>Insight on the numerical charts:</h3>\n",
    "    For the tenure histogram, it is observed that the majority of customers that left did so in the first 0-9 months of being with the company.<br>\n",
    "    And for the monthly charges histogram, the higher the charge, the more the customers that left the company. A better solution to retaining customers, therefore, would be customer discounts or loyalty benefits.<br>\n",
    "    \n",
    "-------------------------------------"
   ]
  },
  {
   "cell_type": "markdown",
   "metadata": {},
   "source": [
    "<h3>Data preprocessing: </h3>"
   ]
  },
  {
   "cell_type": "code",
   "execution_count": 225,
   "metadata": {},
   "outputs": [
    {
     "data": {
      "text/html": [
       "<div>\n",
       "<style scoped>\n",
       "    .dataframe tbody tr th:only-of-type {\n",
       "        vertical-align: middle;\n",
       "    }\n",
       "\n",
       "    .dataframe tbody tr th {\n",
       "        vertical-align: top;\n",
       "    }\n",
       "\n",
       "    .dataframe thead th {\n",
       "        text-align: right;\n",
       "    }\n",
       "</style>\n",
       "<table border=\"1\" class=\"dataframe\">\n",
       "  <thead>\n",
       "    <tr style=\"text-align: right;\">\n",
       "      <th></th>\n",
       "      <th>customerID</th>\n",
       "      <th>gender</th>\n",
       "      <th>SeniorCitizen</th>\n",
       "      <th>Partner</th>\n",
       "      <th>Dependents</th>\n",
       "      <th>tenure</th>\n",
       "      <th>PhoneService</th>\n",
       "      <th>MultipleLines</th>\n",
       "      <th>InternetService</th>\n",
       "      <th>OnlineSecurity</th>\n",
       "      <th>...</th>\n",
       "      <th>DeviceProtection</th>\n",
       "      <th>TechSupport</th>\n",
       "      <th>StreamingTV</th>\n",
       "      <th>StreamingMovies</th>\n",
       "      <th>Contract</th>\n",
       "      <th>PaperlessBilling</th>\n",
       "      <th>PaymentMethod</th>\n",
       "      <th>MonthlyCharges</th>\n",
       "      <th>TotalCharges</th>\n",
       "      <th>Churn</th>\n",
       "    </tr>\n",
       "  </thead>\n",
       "  <tbody>\n",
       "    <tr>\n",
       "      <th>0</th>\n",
       "      <td>7590-VHVEG</td>\n",
       "      <td>Female</td>\n",
       "      <td>No</td>\n",
       "      <td>Yes</td>\n",
       "      <td>No</td>\n",
       "      <td>1</td>\n",
       "      <td>No</td>\n",
       "      <td>No</td>\n",
       "      <td>DSL</td>\n",
       "      <td>No</td>\n",
       "      <td>...</td>\n",
       "      <td>No</td>\n",
       "      <td>No</td>\n",
       "      <td>No</td>\n",
       "      <td>No</td>\n",
       "      <td>Month-to-month</td>\n",
       "      <td>Yes</td>\n",
       "      <td>Electronic check</td>\n",
       "      <td>29.85</td>\n",
       "      <td>29.85</td>\n",
       "      <td>No</td>\n",
       "    </tr>\n",
       "    <tr>\n",
       "      <th>1</th>\n",
       "      <td>5575-GNVDE</td>\n",
       "      <td>Male</td>\n",
       "      <td>No</td>\n",
       "      <td>No</td>\n",
       "      <td>No</td>\n",
       "      <td>34</td>\n",
       "      <td>Yes</td>\n",
       "      <td>No</td>\n",
       "      <td>DSL</td>\n",
       "      <td>Yes</td>\n",
       "      <td>...</td>\n",
       "      <td>Yes</td>\n",
       "      <td>No</td>\n",
       "      <td>No</td>\n",
       "      <td>No</td>\n",
       "      <td>One year</td>\n",
       "      <td>No</td>\n",
       "      <td>Mailed check</td>\n",
       "      <td>56.95</td>\n",
       "      <td>1889.50</td>\n",
       "      <td>No</td>\n",
       "    </tr>\n",
       "    <tr>\n",
       "      <th>2</th>\n",
       "      <td>3668-QPYBK</td>\n",
       "      <td>Male</td>\n",
       "      <td>No</td>\n",
       "      <td>No</td>\n",
       "      <td>No</td>\n",
       "      <td>2</td>\n",
       "      <td>Yes</td>\n",
       "      <td>No</td>\n",
       "      <td>DSL</td>\n",
       "      <td>Yes</td>\n",
       "      <td>...</td>\n",
       "      <td>No</td>\n",
       "      <td>No</td>\n",
       "      <td>No</td>\n",
       "      <td>No</td>\n",
       "      <td>Month-to-month</td>\n",
       "      <td>Yes</td>\n",
       "      <td>Mailed check</td>\n",
       "      <td>53.85</td>\n",
       "      <td>108.15</td>\n",
       "      <td>Yes</td>\n",
       "    </tr>\n",
       "    <tr>\n",
       "      <th>3</th>\n",
       "      <td>7795-CFOCW</td>\n",
       "      <td>Male</td>\n",
       "      <td>No</td>\n",
       "      <td>No</td>\n",
       "      <td>No</td>\n",
       "      <td>45</td>\n",
       "      <td>No</td>\n",
       "      <td>No</td>\n",
       "      <td>DSL</td>\n",
       "      <td>Yes</td>\n",
       "      <td>...</td>\n",
       "      <td>Yes</td>\n",
       "      <td>Yes</td>\n",
       "      <td>No</td>\n",
       "      <td>No</td>\n",
       "      <td>One year</td>\n",
       "      <td>No</td>\n",
       "      <td>Bank transfer (automatic)</td>\n",
       "      <td>42.30</td>\n",
       "      <td>1840.75</td>\n",
       "      <td>No</td>\n",
       "    </tr>\n",
       "    <tr>\n",
       "      <th>4</th>\n",
       "      <td>9237-HQITU</td>\n",
       "      <td>Female</td>\n",
       "      <td>No</td>\n",
       "      <td>No</td>\n",
       "      <td>No</td>\n",
       "      <td>2</td>\n",
       "      <td>Yes</td>\n",
       "      <td>No</td>\n",
       "      <td>Fiber optic</td>\n",
       "      <td>No</td>\n",
       "      <td>...</td>\n",
       "      <td>No</td>\n",
       "      <td>No</td>\n",
       "      <td>No</td>\n",
       "      <td>No</td>\n",
       "      <td>Month-to-month</td>\n",
       "      <td>Yes</td>\n",
       "      <td>Electronic check</td>\n",
       "      <td>70.70</td>\n",
       "      <td>151.65</td>\n",
       "      <td>Yes</td>\n",
       "    </tr>\n",
       "  </tbody>\n",
       "</table>\n",
       "<p>5 rows × 21 columns</p>\n",
       "</div>"
      ],
      "text/plain": [
       "   customerID  gender SeniorCitizen Partner Dependents  tenure PhoneService  \\\n",
       "0  7590-VHVEG  Female            No     Yes         No       1           No   \n",
       "1  5575-GNVDE    Male            No      No         No      34          Yes   \n",
       "2  3668-QPYBK    Male            No      No         No       2          Yes   \n",
       "3  7795-CFOCW    Male            No      No         No      45           No   \n",
       "4  9237-HQITU  Female            No      No         No       2          Yes   \n",
       "\n",
       "  MultipleLines InternetService OnlineSecurity  ... DeviceProtection  \\\n",
       "0            No             DSL             No  ...               No   \n",
       "1            No             DSL            Yes  ...              Yes   \n",
       "2            No             DSL            Yes  ...               No   \n",
       "3            No             DSL            Yes  ...              Yes   \n",
       "4            No     Fiber optic             No  ...               No   \n",
       "\n",
       "  TechSupport StreamingTV StreamingMovies        Contract PaperlessBilling  \\\n",
       "0          No          No              No  Month-to-month              Yes   \n",
       "1          No          No              No        One year               No   \n",
       "2          No          No              No  Month-to-month              Yes   \n",
       "3         Yes          No              No        One year               No   \n",
       "4          No          No              No  Month-to-month              Yes   \n",
       "\n",
       "               PaymentMethod MonthlyCharges  TotalCharges  Churn  \n",
       "0           Electronic check          29.85         29.85     No  \n",
       "1               Mailed check          56.95       1889.50     No  \n",
       "2               Mailed check          53.85        108.15    Yes  \n",
       "3  Bank transfer (automatic)          42.30       1840.75     No  \n",
       "4           Electronic check          70.70        151.65    Yes  \n",
       "\n",
       "[5 rows x 21 columns]"
      ]
     },
     "execution_count": 225,
     "metadata": {},
     "output_type": "execute_result"
    }
   ],
   "source": [
    "data_df.head()"
   ]
  },
  {
   "cell_type": "code",
   "execution_count": 226,
   "metadata": {},
   "outputs": [],
   "source": [
    "data_df = data_df.drop(\"customerID\", axis=1)\n",
    "\n",
    "def binaryMap(feature):\n",
    "    return feature.map({\"Yes\": 1, \"No\":0})\n",
    "\n",
    "binary_features_list = ['SeniorCitizen', 'Partner', 'Dependents','PhoneService', 'MultipleLines','OnlineSecurity', 'OnlineBackup', 'DeviceProtection', 'TechSupport', 'StreamingTV', 'StreamingMovies','PaperlessBilling', 'Churn']\n",
    "data_df[binary_features_list] = data_df[binary_features_list].apply(binaryMap)\n",
    "data_df['gender'] = data_df['gender'].map({'Female':0, 'Male':1})\n",
    "\n",
    "\n",
    "data_df = pd.get_dummies(data_df, dtype=int)\n",
    "\n",
    "#Normalizing numerical features\n",
    "sc = MinMaxScaler()\n",
    "#sc2 = MinMaxScaler()\n",
    "#sc3 = MinMaxScaler()\n",
    "\n",
    "data_df[['tenure', 'MonthlyCharges', 'TotalCharges']] = sc.fit_transform(data_df[['tenure', 'MonthlyCharges', 'TotalCharges']])\n"
   ]
  },
  {
   "cell_type": "code",
   "execution_count": 227,
   "metadata": {},
   "outputs": [
    {
     "data": {
      "application/vnd.plotly.v1+json": {
       "config": {
        "plotlyServerURL": "https://plot.ly"
       },
       "data": [
        {
         "coloraxis": "coloraxis",
         "hovertemplate": "x: %{x}<br>y: %{y}<br>color: %{z}<extra></extra>",
         "name": "0",
         "type": "heatmap",
         "x": [
          "gender",
          "SeniorCitizen",
          "Partner",
          "Dependents",
          "tenure",
          "PhoneService",
          "MultipleLines",
          "OnlineSecurity",
          "OnlineBackup",
          "DeviceProtection",
          "TechSupport",
          "StreamingTV",
          "StreamingMovies",
          "PaperlessBilling",
          "MonthlyCharges",
          "TotalCharges",
          "Churn",
          "InternetService_DSL",
          "InternetService_Fiber optic",
          "Contract_Month-to-month",
          "Contract_One year",
          "Contract_Two year",
          "PaymentMethod_Bank transfer (automatic)",
          "PaymentMethod_Credit card (automatic)",
          "PaymentMethod_Electronic check",
          "PaymentMethod_Mailed check"
         ],
         "xaxis": "x",
         "y": [
          "gender",
          "SeniorCitizen",
          "Partner",
          "Dependents",
          "tenure",
          "PhoneService",
          "MultipleLines",
          "OnlineSecurity",
          "OnlineBackup",
          "DeviceProtection",
          "TechSupport",
          "StreamingTV",
          "StreamingMovies",
          "PaperlessBilling",
          "MonthlyCharges",
          "TotalCharges",
          "Churn",
          "InternetService_DSL",
          "InternetService_Fiber optic",
          "Contract_Month-to-month",
          "Contract_One year",
          "Contract_Two year",
          "PaymentMethod_Bank transfer (automatic)",
          "PaymentMethod_Credit card (automatic)",
          "PaymentMethod_Electronic check",
          "PaymentMethod_Mailed check"
         ],
         "yaxis": "y",
         "z": [
          [
           1,
           -0.004968943665703878,
           0.02724130134482702,
           0.013002707449682646,
           0.012061433131011514,
           -0.008631390952665931,
           -0.0056900742561981936,
           -0.017990226356909823,
           -0.014024797719919215,
           0.00023184861257479188,
           -0.008620328363957173,
           -0.007314556919936837,
           -0.009908897811135393,
           -0.008759715242276731,
           -0.017075526756464003,
           0.003657985467179512,
           -0.008226253882969055,
           0.010826929819952246,
           -0.010826929819952189,
           -0.003065569445420451,
           -0.00001606849718503648,
           0.0038202065814464483,
           -0.01124650026613098,
           -0.00024483796880461913,
           0.0017603728583393229,
           0.010675300947994541
          ],
          [
           -0.004968943665703878,
           1,
           0.017919743251361437,
           -0.20796627049025285,
           0.0009724947597753421,
           0.042520478064368795,
           0.11446704142061283,
           -0.11047323702979532,
           -0.0035766915607482017,
           -0.01148229209251545,
           -0.13558385435335757,
           0.03385225920019459,
           0.05029228642416413,
           0.11864014902356051,
           0.12990183223379648,
           0.03605821896491247,
           0.12124688282747291,
           -0.2011939066835928,
           0.2011939066835929,
           0.12392851893717778,
           -0.051237338156719325,
           -0.10159826206312605,
           -0.0257902307262576,
           -0.033533749201712384,
           0.1351702923807788,
           -0.11496685964681745
          ],
          [
           0.02724130134482702,
           0.017919743251361437,
           1,
           0.42250891846739214,
           0.38759515127090965,
           0.020187157372697728,
           0.1383753063205036,
           0.1717513733179204,
           0.173250778338901,
           0.18820078823238875,
           0.1442179135573429,
           0.15517910041365415,
           0.14640124722358563,
           -0.018353061217469137,
           0.16591091260515484,
           0.3682018775362302,
           -0.16190895717852666,
           -0.0007536049126775153,
           0.0007536049126774735,
           -0.2793657750499404,
           0.10544090957876814,
           0.2392728849760996,
           0.11017683813406232,
           0.0942465677275175,
           -0.10196745659177574,
           -0.09408904555576082
          ],
          [
           0.013002707449682646,
           -0.20796627049025285,
           0.42250891846739214,
           1,
           0.17359335616714297,
           -0.03072779942267875,
           -0.012374935761589495,
           0.1585313418949251,
           0.09761489591816812,
           0.08513025532759068,
           0.13718656732563903,
           0.05350219542698555,
           0.024244509555671385,
           -0.09154495068732459,
           -0.015040736725203814,
           0.13770601080725867,
           -0.1487828582192255,
           0.13330412687307858,
           -0.1333041268730787,
           -0.2109125229335639,
           0.08610458612881122,
           0.17402463198390972,
           0.06413262089818499,
           0.07808365523258981,
           -0.13649822186123284,
           0.022949091200142227
          ],
          [
           0.012061433131011514,
           0.0009724947597753421,
           0.38759515127090965,
           0.17359335616714297,
           1,
           0.017381953449537593,
           0.3259251901602198,
           0.3760082720099372,
           0.4215907210126828,
           0.42193165899631185,
           0.37271085299267126,
           0.3269008882633313,
           0.3351604769040883,
           -0.012588614306369305,
           0.37230662631986905,
           0.9314561647603138,
           -0.3964997405759994,
           -0.0019452537593843099,
           0.0019452537593843222,
           -0.680073368825766,
           0.27036105409609773,
           0.5685415449719788,
           0.23947259936791132,
           0.23873720697164352,
           -0.2585983970769502,
           -0.1929433900379701
          ],
          [
           -0.008631390952665931,
           0.042520478064368795,
           0.020187157372697728,
           -0.03072779942267875,
           0.017381953449537593,
           1,
           0.35833616934688384,
           -0.038201614766516574,
           0.014718458181309128,
           -0.006211314688024312,
           -0.04142144914948078,
           0.05467536941496695,
           0.04375361637767085,
           0.0864032559837154,
           0.5964514144722439,
           0.19567117116076477,
           0.055650740198745996,
           -0.42471444239275935,
           0.4247144423927599,
           0.04312757166726883,
           -0.01086621659002809,
           -0.04244867146506804,
           0.009077604767602795,
           -0.009062975415191469,
           0.05748625055886521,
           -0.07752200636746664
          ],
          [
           -0.0056900742561981936,
           0.11446704142061283,
           0.1383753063205036,
           -0.012374935761589495,
           0.3259251901602198,
           0.35833616934688384,
           1,
           0.03306848642622745,
           0.1473212974630905,
           0.1461500024065944,
           0.03530339210262575,
           0.20837996617956472,
           0.20986801427065732,
           0.11076952166440278,
           0.5490811414361392,
           0.44632658669863834,
           0.002507479126097555,
           -0.33836430463957917,
           0.3383643046395793,
           -0.11953441109920415,
           0.02130939831316998,
           0.12662196598575906,
           0.06876374016209638,
           0.0568558076233607,
           0.025231452786581454,
           -0.17622554529612586
          ],
          [
           -0.017990226356909823,
           -0.11047323702979532,
           0.1717513733179204,
           0.1585313418949251,
           0.3760082720099372,
           -0.038201614766516574,
           0.03306848642622745,
           1,
           0.1797108467345493,
           0.1703355004946602,
           0.27347163526410856,
           0.04391831070024153,
           0.055842362744297706,
           -0.13916849832835373,
           0.0691184452435287,
           0.3313431216943348,
           -0.2808163730932935,
           0.2229416698475777,
           -0.2229416698475778,
           -0.39016035286056894,
           0.1372268308795812,
           0.3443818345284086,
           0.11311118693507764,
           0.1391472701046619,
           -0.23889857169996748,
           0.03637672849950506
          ],
          [
           -0.014024797719919215,
           -0.0035766915607482017,
           0.173250778338901,
           0.09761489591816812,
           0.4215907210126828,
           0.014718458181309128,
           0.1473212974630905,
           0.1797108467345493,
           1,
           0.18515472351900386,
           0.19058587584421266,
           0.14693509964499935,
           0.13668712578156497,
           0.005437293747496918,
           0.2523371687694275,
           0.4313429990087301,
           -0.19606120831612428,
           0.014784177800301921,
           -0.014784177800301864,
           -0.3083287944718454,
           0.12184489382270736,
           0.25850660075728243,
           0.10528497133420431,
           0.11149393663656719,
           -0.12825706556306246,
           -0.0725804925957126
          ],
          [
           0.00023184861257479188,
           -0.01148229209251545,
           0.18820078823238875,
           0.08513025532759068,
           0.42193165899631185,
           -0.006211314688024312,
           0.1461500024065944,
           0.1703355004946602,
           0.18515472351900386,
           1,
           0.2357155090376912,
           0.2766171205068116,
           0.2890186670758799,
           -0.023631746287726983,
           0.3219268918962018,
           0.4465606482566105,
           -0.1771249647717254,
           0.0015933022355552949,
           -0.0015933022355553125,
           -0.3845266497517506,
           0.145038279552207,
           0.329436872829069,
           0.10049916096337977,
           0.1368391261041275,
           -0.1313858530924851,
           -0.09153001716251456
          ],
          [
           -0.008620328363957173,
           -0.13558385435335757,
           0.1442179135573429,
           0.13718656732563903,
           0.37271085299267126,
           -0.04142144914948078,
           0.03530339210262575,
           0.27347163526410856,
           0.19058587584421266,
           0.2357155090376912,
           1,
           0.16147804647680714,
           0.16201114716942078,
           -0.08822373779946481,
           0.13423317450775046,
           0.3538078605832627,
           -0.27442181565797047,
           0.21256003977023394,
           -0.21256003977023433,
           -0.4384918911926046,
           0.1321686038756138,
           0.40950381371225686,
           0.12053369462292315,
           0.14116516811388885,
           -0.24299614418563634,
           0.031191410181652977
          ],
          [
           -0.007314556919936837,
           0.03385225920019459,
           0.15517910041365415,
           0.05350219542698555,
           0.3269008882633313,
           0.05467536941496695,
           0.20837996617956472,
           0.04391831070024153,
           0.14693509964499935,
           0.2766171205068116,
           0.16147804647680714,
           1,
           0.4347542540645205,
           0.11789456958855077,
           0.5324391884198786,
           0.4298816258731311,
           -0.037057217694497484,
           -0.16870683531971054,
           0.16870683531971023,
           -0.25706344913774887,
           0.09757721974676963,
           0.2196072429776096,
           0.05632117308437579,
           0.05077649037457114,
           0.03132606198671316,
           -0.1634473920466027
          ],
          [
           -0.009908897811135393,
           0.05029228642416413,
           0.14640124722358563,
           0.024244509555671385,
           0.3351604769040883,
           0.04375361637767085,
           0.20986801427065732,
           0.055842362744297706,
           0.13668712578156497,
           0.2890186670758799,
           0.16201114716942078,
           0.4347542540645205,
           1,
           0.10094161584309137,
           0.5254948161463454,
           0.4343264053716504,
           -0.040132298071861666,
           -0.15916656475458335,
           0.15916656475458343,
           -0.26384929450025885,
           0.10206483113303172,
           0.22345751184146762,
           0.05938550449023368,
           0.06099403125329626,
           0.022344166454120143,
           -0.16635643151944876
          ],
          [
           -0.008759715242276731,
           0.11864014902356051,
           -0.018353061217469137,
           -0.09154495068732459,
           -0.012588614306369305,
           0.0864032559837154,
           0.11076952166440278,
           -0.13916849832835373,
           0.005437293747496918,
           -0.023631746287726983,
           -0.08822373779946481,
           0.11789456958855077,
           0.10094161584309137,
           1,
           0.19488156297504186,
           0.04722333572816685,
           0.14322804359993102,
           -0.2375955068639077,
           0.237595506863908,
           0.11766347860636797,
           -0.04614661811028813,
           -0.09900837645492933,
           -0.034892720177605474,
           -0.018952498263954374,
           0.13991290830596437,
           -0.12747279730862143
          ],
          [
           -0.017075526756464003,
           0.12990183223379648,
           0.16591091260515484,
           -0.015040736725203814,
           0.37230662631986905,
           0.5964514144722439,
           0.5490811414361392,
           0.0691184452435287,
           0.2523371687694275,
           0.3219268918962018,
           0.13423317450775046,
           0.5324391884198786,
           0.5254948161463454,
           0.19488156297504186,
           1,
           0.6115565905399504,
           0.03356018178960258,
           -0.755999148192243,
           0.7559991481922431,
           -0.18464494695140882,
           0.062264761818540834,
           0.16570751616475612,
           0.06916785991427431,
           0.052683261947910044,
           0.09067980905582572,
           -0.2601428504783826
          ],
          [
           0.003657985467179512,
           0.03605821896491247,
           0.3682018775362302,
           0.13770601080725867,
           0.9314561647603138,
           0.19567117116076477,
           0.44632658669863834,
           0.3313431216943348,
           0.4313429990087301,
           0.4465606482566105,
           0.3538078605832627,
           0.4298816258731311,
           0.4343264053716504,
           0.04722333572816685,
           0.6115565905399504,
           1,
           -0.3220774672949601,
           -0.22878222362764503,
           0.22878222362764497,
           -0.6208357798906017,
           0.23320342476123193,
           0.5328760253930943,
           0.2112938810236256,
           0.21141714689946878,
           -0.1947356522301868,
           -0.21614982765823898
          ],
          [
           -0.008226253882969055,
           0.12124688282747291,
           -0.16190895717852666,
           -0.1487828582192255,
           -0.3964997405759994,
           0.055650740198745996,
           0.002507479126097555,
           -0.2808163730932935,
           -0.19606120831612428,
           -0.1771249647717254,
           -0.27442181565797047,
           -0.037057217694497484,
           -0.040132298071861666,
           0.14322804359993102,
           0.03356018178960258,
           -0.3220774672949601,
           1,
           -0.24431901118780724,
           0.24431901118780733,
           0.3899858439490353,
           -0.19029159531119716,
           -0.29012871539944435,
           -0.1369960161934689,
           -0.1476192689236973,
           0.2709943002014588,
           -0.042932549213345945
          ],
          [
           0.010826929819952246,
           -0.2011939066835928,
           -0.0007536049126775153,
           0.13330412687307858,
           -0.0019452537593843099,
           -0.42471444239275935,
           -0.33836430463957917,
           0.2229416698475777,
           0.014784177800301921,
           0.0015933022355552949,
           0.21256003977023394,
           -0.16870683531971054,
           -0.15916656475458335,
           -0.2375955068639077,
           -0.755999148192243,
           -0.22878222362764503,
           -0.24431901118780724,
           1,
           -0.9999999999999998,
           -0.185127541054346,
           0.0759600907183335,
           0.15236018949243735,
           0.030121457278722796,
           0.06335108613097247,
           -0.2500686539519495,
           0.23118535118306854
          ],
          [
           -0.010826929819952189,
           0.2011939066835929,
           0.0007536049126774735,
           -0.1333041268730787,
           0.0019452537593843222,
           0.4247144423927599,
           0.3383643046395793,
           -0.2229416698475778,
           -0.014784177800301864,
           -0.0015933022355553125,
           -0.21256003977023433,
           0.16870683531971023,
           0.15916656475458343,
           0.237595506863908,
           0.7559991481922431,
           0.22878222362764497,
           0.24431901118780733,
           -0.9999999999999998,
           1,
           0.18512754105434587,
           -0.07596009071833354,
           -0.15236018949243746,
           -0.030121457278722827,
           -0.06335108613097247,
           0.25006865395194955,
           -0.23118535118306868
          ],
          [
           -0.003065569445420451,
           0.12392851893717778,
           -0.2793657750499404,
           -0.2109125229335639,
           -0.680073368825766,
           0.04312757166726883,
           -0.11953441109920415,
           -0.39016035286056894,
           -0.3083287944718454,
           -0.3845266497517506,
           -0.4384918911926046,
           -0.25706344913774887,
           -0.26384929450025885,
           0.11766347860636797,
           -0.18464494695140882,
           -0.6208357798906017,
           0.3899858439490353,
           -0.185127541054346,
           0.18512754105434587,
           1,
           -0.6238827358105781,
           -0.6055193863042637,
           -0.19020353066334156,
           -0.22139908487841445,
           0.31633303157927656,
           0.03965902393851144
          ],
          [
           -0.00001606849718503648,
           -0.051237338156719325,
           0.10544090957876814,
           0.08610458612881122,
           0.27036105409609773,
           -0.01086621659002809,
           0.02130939831316998,
           0.1372268308795812,
           0.12184489382270736,
           0.145038279552207,
           0.1321686038756138,
           0.09757721974676963,
           0.10206483113303172,
           -0.04614661811028813,
           0.062264761818540834,
           0.23320342476123193,
           -0.19029159531119716,
           0.0759600907183335,
           -0.07596009071833354,
           -0.6238827358105781,
           1,
           -0.24418278597009493,
           0.06376266842914806,
           0.09079259642881148,
           -0.12787686225427639,
           -0.002585157801028106
          ],
          [
           0.0038202065814464483,
           -0.10159826206312605,
           0.2392728849760996,
           0.17402463198390972,
           0.5685415449719788,
           -0.04244867146506804,
           0.12662196598575906,
           0.3443818345284086,
           0.25850660075728243,
           0.329436872829069,
           0.40950381371225686,
           0.2196072429776096,
           0.22345751184146762,
           -0.09900837645492933,
           0.16570751616475612,
           0.5328760253930943,
           -0.29012871539944435,
           0.15236018949243735,
           -0.15236018949243746,
           -0.6055193863042637,
           -0.24418278597009493,
           1,
           0.17107942237460003,
           0.18226278389873243,
           -0.26229604383562316,
           -0.046577517706946424
          ],
          [
           -0.01124650026613098,
           -0.0257902307262576,
           0.11017683813406232,
           0.06413262089818499,
           0.23947259936791132,
           0.009077604767602795,
           0.06876374016209638,
           0.11311118693507764,
           0.10528497133420431,
           0.10049916096337977,
           0.12053369462292315,
           0.05632117308437579,
           0.05938550449023368,
           -0.034892720177605474,
           0.06916785991427431,
           0.2112938810236256,
           -0.1369960161934689,
           0.030121457278722796,
           -0.030121457278722827,
           -0.19020353066334156,
           0.06376266842914806,
           0.17107942237460003,
           1,
           -0.2784052080292753,
           -0.43917744852205975,
           -0.22973872515552352
          ],
          [
           -0.00024483796880461913,
           -0.033533749201712384,
           0.0942465677275175,
           0.07808365523258981,
           0.23873720697164352,
           -0.009062975415191469,
           0.0568558076233607,
           0.1391472701046619,
           0.11149393663656719,
           0.1368391261041275,
           0.14116516811388885,
           0.05077649037457114,
           0.06099403125329626,
           -0.018952498263954374,
           0.052683261947910044,
           0.21141714689946878,
           -0.1476192689236973,
           0.06335108613097247,
           -0.06335108613097247,
           -0.22139908487841445,
           0.09079259642881148,
           0.18226278389873243,
           -0.2784052080292753,
           1,
           -0.4342980930611021,
           -0.22718627874245403
          ],
          [
           0.0017603728583393229,
           0.1351702923807788,
           -0.10196745659177574,
           -0.13649822186123284,
           -0.2585983970769502,
           0.05748625055886521,
           0.025231452786581454,
           -0.23889857169996748,
           -0.12825706556306246,
           -0.1313858530924851,
           -0.24299614418563634,
           0.03132606198671316,
           0.022344166454120143,
           0.13991290830596437,
           0.09067980905582572,
           -0.1947356522301868,
           0.2709943002014588,
           -0.2500686539519495,
           0.25006865395194955,
           0.31633303157927656,
           -0.12787686225427639,
           -0.26229604383562316,
           -0.43917744852205975,
           -0.4342980930611021,
           1,
           -0.3583808325411835
          ],
          [
           0.010675300947994541,
           -0.11496685964681745,
           -0.09408904555576082,
           0.022949091200142227,
           -0.1929433900379701,
           -0.07752200636746664,
           -0.17622554529612586,
           0.03637672849950506,
           -0.0725804925957126,
           -0.09153001716251456,
           0.031191410181652977,
           -0.1634473920466027,
           -0.16635643151944876,
           -0.12747279730862143,
           -0.2601428504783826,
           -0.21614982765823898,
           -0.042932549213345945,
           0.23118535118306854,
           -0.23118535118306868,
           0.03965902393851144,
           -0.002585157801028106,
           -0.046577517706946424,
           -0.22973872515552352,
           -0.22718627874245403,
           -0.3583808325411835,
           1
          ]
         ]
        }
       ],
       "layout": {
        "coloraxis": {
         "colorscale": [
          [
           0,
           "#0d0887"
          ],
          [
           0.1111111111111111,
           "#46039f"
          ],
          [
           0.2222222222222222,
           "#7201a8"
          ],
          [
           0.3333333333333333,
           "#9c179e"
          ],
          [
           0.4444444444444444,
           "#bd3786"
          ],
          [
           0.5555555555555556,
           "#d8576b"
          ],
          [
           0.6666666666666666,
           "#ed7953"
          ],
          [
           0.7777777777777778,
           "#fb9f3a"
          ],
          [
           0.8888888888888888,
           "#fdca26"
          ],
          [
           1,
           "#f0f921"
          ]
         ]
        },
        "height": 1000,
        "margin": {
         "t": 60
        },
        "template": {
         "data": {
          "bar": [
           {
            "error_x": {
             "color": "#2a3f5f"
            },
            "error_y": {
             "color": "#2a3f5f"
            },
            "marker": {
             "line": {
              "color": "#E5ECF6",
              "width": 0.5
             },
             "pattern": {
              "fillmode": "overlay",
              "size": 10,
              "solidity": 0.2
             }
            },
            "type": "bar"
           }
          ],
          "barpolar": [
           {
            "marker": {
             "line": {
              "color": "#E5ECF6",
              "width": 0.5
             },
             "pattern": {
              "fillmode": "overlay",
              "size": 10,
              "solidity": 0.2
             }
            },
            "type": "barpolar"
           }
          ],
          "carpet": [
           {
            "aaxis": {
             "endlinecolor": "#2a3f5f",
             "gridcolor": "white",
             "linecolor": "white",
             "minorgridcolor": "white",
             "startlinecolor": "#2a3f5f"
            },
            "baxis": {
             "endlinecolor": "#2a3f5f",
             "gridcolor": "white",
             "linecolor": "white",
             "minorgridcolor": "white",
             "startlinecolor": "#2a3f5f"
            },
            "type": "carpet"
           }
          ],
          "choropleth": [
           {
            "colorbar": {
             "outlinewidth": 0,
             "ticks": ""
            },
            "type": "choropleth"
           }
          ],
          "contour": [
           {
            "colorbar": {
             "outlinewidth": 0,
             "ticks": ""
            },
            "colorscale": [
             [
              0,
              "#0d0887"
             ],
             [
              0.1111111111111111,
              "#46039f"
             ],
             [
              0.2222222222222222,
              "#7201a8"
             ],
             [
              0.3333333333333333,
              "#9c179e"
             ],
             [
              0.4444444444444444,
              "#bd3786"
             ],
             [
              0.5555555555555556,
              "#d8576b"
             ],
             [
              0.6666666666666666,
              "#ed7953"
             ],
             [
              0.7777777777777778,
              "#fb9f3a"
             ],
             [
              0.8888888888888888,
              "#fdca26"
             ],
             [
              1,
              "#f0f921"
             ]
            ],
            "type": "contour"
           }
          ],
          "contourcarpet": [
           {
            "colorbar": {
             "outlinewidth": 0,
             "ticks": ""
            },
            "type": "contourcarpet"
           }
          ],
          "heatmap": [
           {
            "colorbar": {
             "outlinewidth": 0,
             "ticks": ""
            },
            "colorscale": [
             [
              0,
              "#0d0887"
             ],
             [
              0.1111111111111111,
              "#46039f"
             ],
             [
              0.2222222222222222,
              "#7201a8"
             ],
             [
              0.3333333333333333,
              "#9c179e"
             ],
             [
              0.4444444444444444,
              "#bd3786"
             ],
             [
              0.5555555555555556,
              "#d8576b"
             ],
             [
              0.6666666666666666,
              "#ed7953"
             ],
             [
              0.7777777777777778,
              "#fb9f3a"
             ],
             [
              0.8888888888888888,
              "#fdca26"
             ],
             [
              1,
              "#f0f921"
             ]
            ],
            "type": "heatmap"
           }
          ],
          "heatmapgl": [
           {
            "colorbar": {
             "outlinewidth": 0,
             "ticks": ""
            },
            "colorscale": [
             [
              0,
              "#0d0887"
             ],
             [
              0.1111111111111111,
              "#46039f"
             ],
             [
              0.2222222222222222,
              "#7201a8"
             ],
             [
              0.3333333333333333,
              "#9c179e"
             ],
             [
              0.4444444444444444,
              "#bd3786"
             ],
             [
              0.5555555555555556,
              "#d8576b"
             ],
             [
              0.6666666666666666,
              "#ed7953"
             ],
             [
              0.7777777777777778,
              "#fb9f3a"
             ],
             [
              0.8888888888888888,
              "#fdca26"
             ],
             [
              1,
              "#f0f921"
             ]
            ],
            "type": "heatmapgl"
           }
          ],
          "histogram": [
           {
            "marker": {
             "pattern": {
              "fillmode": "overlay",
              "size": 10,
              "solidity": 0.2
             }
            },
            "type": "histogram"
           }
          ],
          "histogram2d": [
           {
            "colorbar": {
             "outlinewidth": 0,
             "ticks": ""
            },
            "colorscale": [
             [
              0,
              "#0d0887"
             ],
             [
              0.1111111111111111,
              "#46039f"
             ],
             [
              0.2222222222222222,
              "#7201a8"
             ],
             [
              0.3333333333333333,
              "#9c179e"
             ],
             [
              0.4444444444444444,
              "#bd3786"
             ],
             [
              0.5555555555555556,
              "#d8576b"
             ],
             [
              0.6666666666666666,
              "#ed7953"
             ],
             [
              0.7777777777777778,
              "#fb9f3a"
             ],
             [
              0.8888888888888888,
              "#fdca26"
             ],
             [
              1,
              "#f0f921"
             ]
            ],
            "type": "histogram2d"
           }
          ],
          "histogram2dcontour": [
           {
            "colorbar": {
             "outlinewidth": 0,
             "ticks": ""
            },
            "colorscale": [
             [
              0,
              "#0d0887"
             ],
             [
              0.1111111111111111,
              "#46039f"
             ],
             [
              0.2222222222222222,
              "#7201a8"
             ],
             [
              0.3333333333333333,
              "#9c179e"
             ],
             [
              0.4444444444444444,
              "#bd3786"
             ],
             [
              0.5555555555555556,
              "#d8576b"
             ],
             [
              0.6666666666666666,
              "#ed7953"
             ],
             [
              0.7777777777777778,
              "#fb9f3a"
             ],
             [
              0.8888888888888888,
              "#fdca26"
             ],
             [
              1,
              "#f0f921"
             ]
            ],
            "type": "histogram2dcontour"
           }
          ],
          "mesh3d": [
           {
            "colorbar": {
             "outlinewidth": 0,
             "ticks": ""
            },
            "type": "mesh3d"
           }
          ],
          "parcoords": [
           {
            "line": {
             "colorbar": {
              "outlinewidth": 0,
              "ticks": ""
             }
            },
            "type": "parcoords"
           }
          ],
          "pie": [
           {
            "automargin": true,
            "type": "pie"
           }
          ],
          "scatter": [
           {
            "fillpattern": {
             "fillmode": "overlay",
             "size": 10,
             "solidity": 0.2
            },
            "type": "scatter"
           }
          ],
          "scatter3d": [
           {
            "line": {
             "colorbar": {
              "outlinewidth": 0,
              "ticks": ""
             }
            },
            "marker": {
             "colorbar": {
              "outlinewidth": 0,
              "ticks": ""
             }
            },
            "type": "scatter3d"
           }
          ],
          "scattercarpet": [
           {
            "marker": {
             "colorbar": {
              "outlinewidth": 0,
              "ticks": ""
             }
            },
            "type": "scattercarpet"
           }
          ],
          "scattergeo": [
           {
            "marker": {
             "colorbar": {
              "outlinewidth": 0,
              "ticks": ""
             }
            },
            "type": "scattergeo"
           }
          ],
          "scattergl": [
           {
            "marker": {
             "colorbar": {
              "outlinewidth": 0,
              "ticks": ""
             }
            },
            "type": "scattergl"
           }
          ],
          "scattermapbox": [
           {
            "marker": {
             "colorbar": {
              "outlinewidth": 0,
              "ticks": ""
             }
            },
            "type": "scattermapbox"
           }
          ],
          "scatterpolar": [
           {
            "marker": {
             "colorbar": {
              "outlinewidth": 0,
              "ticks": ""
             }
            },
            "type": "scatterpolar"
           }
          ],
          "scatterpolargl": [
           {
            "marker": {
             "colorbar": {
              "outlinewidth": 0,
              "ticks": ""
             }
            },
            "type": "scatterpolargl"
           }
          ],
          "scatterternary": [
           {
            "marker": {
             "colorbar": {
              "outlinewidth": 0,
              "ticks": ""
             }
            },
            "type": "scatterternary"
           }
          ],
          "surface": [
           {
            "colorbar": {
             "outlinewidth": 0,
             "ticks": ""
            },
            "colorscale": [
             [
              0,
              "#0d0887"
             ],
             [
              0.1111111111111111,
              "#46039f"
             ],
             [
              0.2222222222222222,
              "#7201a8"
             ],
             [
              0.3333333333333333,
              "#9c179e"
             ],
             [
              0.4444444444444444,
              "#bd3786"
             ],
             [
              0.5555555555555556,
              "#d8576b"
             ],
             [
              0.6666666666666666,
              "#ed7953"
             ],
             [
              0.7777777777777778,
              "#fb9f3a"
             ],
             [
              0.8888888888888888,
              "#fdca26"
             ],
             [
              1,
              "#f0f921"
             ]
            ],
            "type": "surface"
           }
          ],
          "table": [
           {
            "cells": {
             "fill": {
              "color": "#EBF0F8"
             },
             "line": {
              "color": "white"
             }
            },
            "header": {
             "fill": {
              "color": "#C8D4E3"
             },
             "line": {
              "color": "white"
             }
            },
            "type": "table"
           }
          ]
         },
         "layout": {
          "annotationdefaults": {
           "arrowcolor": "#2a3f5f",
           "arrowhead": 0,
           "arrowwidth": 1
          },
          "autotypenumbers": "strict",
          "coloraxis": {
           "colorbar": {
            "outlinewidth": 0,
            "ticks": ""
           }
          },
          "colorscale": {
           "diverging": [
            [
             0,
             "#8e0152"
            ],
            [
             0.1,
             "#c51b7d"
            ],
            [
             0.2,
             "#de77ae"
            ],
            [
             0.3,
             "#f1b6da"
            ],
            [
             0.4,
             "#fde0ef"
            ],
            [
             0.5,
             "#f7f7f7"
            ],
            [
             0.6,
             "#e6f5d0"
            ],
            [
             0.7,
             "#b8e186"
            ],
            [
             0.8,
             "#7fbc41"
            ],
            [
             0.9,
             "#4d9221"
            ],
            [
             1,
             "#276419"
            ]
           ],
           "sequential": [
            [
             0,
             "#0d0887"
            ],
            [
             0.1111111111111111,
             "#46039f"
            ],
            [
             0.2222222222222222,
             "#7201a8"
            ],
            [
             0.3333333333333333,
             "#9c179e"
            ],
            [
             0.4444444444444444,
             "#bd3786"
            ],
            [
             0.5555555555555556,
             "#d8576b"
            ],
            [
             0.6666666666666666,
             "#ed7953"
            ],
            [
             0.7777777777777778,
             "#fb9f3a"
            ],
            [
             0.8888888888888888,
             "#fdca26"
            ],
            [
             1,
             "#f0f921"
            ]
           ],
           "sequentialminus": [
            [
             0,
             "#0d0887"
            ],
            [
             0.1111111111111111,
             "#46039f"
            ],
            [
             0.2222222222222222,
             "#7201a8"
            ],
            [
             0.3333333333333333,
             "#9c179e"
            ],
            [
             0.4444444444444444,
             "#bd3786"
            ],
            [
             0.5555555555555556,
             "#d8576b"
            ],
            [
             0.6666666666666666,
             "#ed7953"
            ],
            [
             0.7777777777777778,
             "#fb9f3a"
            ],
            [
             0.8888888888888888,
             "#fdca26"
            ],
            [
             1,
             "#f0f921"
            ]
           ]
          },
          "colorway": [
           "#636efa",
           "#EF553B",
           "#00cc96",
           "#ab63fa",
           "#FFA15A",
           "#19d3f3",
           "#FF6692",
           "#B6E880",
           "#FF97FF",
           "#FECB52"
          ],
          "font": {
           "color": "#2a3f5f"
          },
          "geo": {
           "bgcolor": "white",
           "lakecolor": "white",
           "landcolor": "#E5ECF6",
           "showlakes": true,
           "showland": true,
           "subunitcolor": "white"
          },
          "hoverlabel": {
           "align": "left"
          },
          "hovermode": "closest",
          "mapbox": {
           "style": "light"
          },
          "paper_bgcolor": "white",
          "plot_bgcolor": "#E5ECF6",
          "polar": {
           "angularaxis": {
            "gridcolor": "white",
            "linecolor": "white",
            "ticks": ""
           },
           "bgcolor": "#E5ECF6",
           "radialaxis": {
            "gridcolor": "white",
            "linecolor": "white",
            "ticks": ""
           }
          },
          "scene": {
           "xaxis": {
            "backgroundcolor": "#E5ECF6",
            "gridcolor": "white",
            "gridwidth": 2,
            "linecolor": "white",
            "showbackground": true,
            "ticks": "",
            "zerolinecolor": "white"
           },
           "yaxis": {
            "backgroundcolor": "#E5ECF6",
            "gridcolor": "white",
            "gridwidth": 2,
            "linecolor": "white",
            "showbackground": true,
            "ticks": "",
            "zerolinecolor": "white"
           },
           "zaxis": {
            "backgroundcolor": "#E5ECF6",
            "gridcolor": "white",
            "gridwidth": 2,
            "linecolor": "white",
            "showbackground": true,
            "ticks": "",
            "zerolinecolor": "white"
           }
          },
          "shapedefaults": {
           "line": {
            "color": "#2a3f5f"
           }
          },
          "ternary": {
           "aaxis": {
            "gridcolor": "white",
            "linecolor": "white",
            "ticks": ""
           },
           "baxis": {
            "gridcolor": "white",
            "linecolor": "white",
            "ticks": ""
           },
           "bgcolor": "#E5ECF6",
           "caxis": {
            "gridcolor": "white",
            "linecolor": "white",
            "ticks": ""
           }
          },
          "title": {
           "x": 0.05
          },
          "xaxis": {
           "automargin": true,
           "gridcolor": "white",
           "linecolor": "white",
           "ticks": "",
           "title": {
            "standoff": 15
           },
           "zerolinecolor": "white",
           "zerolinewidth": 2
          },
          "yaxis": {
           "automargin": true,
           "gridcolor": "white",
           "linecolor": "white",
           "ticks": "",
           "title": {
            "standoff": 15
           },
           "zerolinecolor": "white",
           "zerolinewidth": 2
          }
         }
        },
        "width": 1000,
        "xaxis": {
         "anchor": "y",
         "constrain": "domain",
         "domain": [
          0,
          1
         ],
         "scaleanchor": "y"
        },
        "yaxis": {
         "anchor": "x",
         "autorange": "reversed",
         "constrain": "domain",
         "domain": [
          0,
          1
         ]
        }
       }
      }
     },
     "metadata": {},
     "output_type": "display_data"
    }
   ],
   "source": [
    "corr = data_df.corr()\n",
    "fig = px.imshow(corr, height=1000, width=1000)\n",
    "fig.show()"
   ]
  },
  {
   "cell_type": "markdown",
   "metadata": {},
   "source": [
    "Training with different models"
   ]
  },
  {
   "cell_type": "code",
   "execution_count": 228,
   "metadata": {},
   "outputs": [
    {
     "name": "stdout",
     "output_type": "stream",
     "text": [
      "Logistic Regression\n",
      "accuracy:  0.7608695652173914\n",
      "precision:  0.6148936170212767\n",
      "recall:  0.5734126984126984\n",
      "f1_score:  0.7584345892372283 \n",
      "\n",
      "\n"
     ]
    }
   ],
   "source": [
    "# Import Machine learning algorithms\n",
    "from sklearn.linear_model import LogisticRegression\n",
    "from sklearn.svm import SVC\n",
    "from sklearn.ensemble import RandomForestClassifier\n",
    "from sklearn.tree import DecisionTreeClassifier\n",
    "from sklearn.naive_bayes import GaussianNB\n",
    "\n",
    "#Import metric for performance evaluation\n",
    "from sklearn.metrics import accuracy_score, precision_score, recall_score, f1_score\n",
    "\n",
    "#Split data into train and test sets\n",
    "from sklearn.model_selection import train_test_split\n",
    "X = data_df.drop('Churn', axis=1)\n",
    "y = data_df['Churn']\n",
    "X_train, X_test, y_train, y_test = train_test_split(X, y, test_size=0.3)\n",
    "\n",
    "#Defining the modelling function\n",
    "def modeling(alg, alg_name, params={}):\n",
    "\n",
    "    model = alg(**params) #Instantiating the algorithm class and unpacking parameters if any\n",
    "    model.fit(X_train, y_train)\n",
    "    y_pred = model.predict(X_test)\n",
    "\n",
    "    #Performance evaluation\n",
    "    def print_scores(alg, y_test, y_pred):\n",
    "        print(alg_name)\n",
    "        acc_score = accuracy_score(y_test, y_pred)\n",
    "        print(\"accuracy: \",acc_score)\n",
    "        pre_score = precision_score(y_test, y_pred)\n",
    "        print(\"precision: \",pre_score)\n",
    "        rec_score = recall_score(y_test, y_pred)\n",
    "        print(\"recall: \",rec_score)\n",
    "        f_score = f1_score(y_test, y_pred, average='weighted')\n",
    "        print(\"f1_score: \",f_score, \"\\n\\n\")\n",
    "\n",
    "    print_scores(alg, y_test, y_pred)\n",
    "    return model\n",
    "\n",
    "# Running logistic regression model\n",
    "log_model = modeling(LogisticRegression, \"Logistic Regression\")"
   ]
  },
  {
   "cell_type": "markdown",
   "metadata": {},
   "source": [
    "Previous cell was a test run. <br>\n",
    "Now it's time for feature selection using Recursive Feature Elimination"
   ]
  },
  {
   "cell_type": "code",
   "execution_count": 229,
   "metadata": {},
   "outputs": [
    {
     "name": "stdout",
     "output_type": "stream",
     "text": [
      "Optimum number of features is : 17\n"
     ]
    }
   ],
   "source": [
    "from sklearn.feature_selection import RFECV\n",
    "from sklearn.model_selection import StratifiedKFold\n",
    "log = LogisticRegression()\n",
    "rfe = RFECV(estimator=log, cv=StratifiedKFold(10, random_state=50, shuffle=True), scoring=\"accuracy\")\n",
    "rfe.fit(X, y)\n",
    "print(f\"Optimum number of features is : {rfe.n_features_}\")"
   ]
  },
  {
   "cell_type": "code",
   "execution_count": 230,
   "metadata": {},
   "outputs": [
    {
     "data": {
      "text/plain": [
       "['SeniorCitizen',\n",
       " 'Dependents',\n",
       " 'tenure',\n",
       " 'PhoneService',\n",
       " 'MultipleLines',\n",
       " 'OnlineSecurity',\n",
       " 'TechSupport',\n",
       " 'StreamingTV',\n",
       " 'StreamingMovies',\n",
       " 'PaperlessBilling',\n",
       " 'MonthlyCharges',\n",
       " 'TotalCharges',\n",
       " 'InternetService_DSL',\n",
       " 'InternetService_Fiber optic',\n",
       " 'Contract_Month-to-month',\n",
       " 'Contract_Two year',\n",
       " 'PaymentMethod_Electronic check']"
      ]
     },
     "execution_count": 230,
     "metadata": {},
     "output_type": "execute_result"
    }
   ],
   "source": [
    "X_rfe = X.iloc[:, rfe.support_]\n",
    "X_rfe.columns.tolist()"
   ]
  },
  {
   "cell_type": "code",
   "execution_count": 231,
   "metadata": {},
   "outputs": [],
   "source": [
    "X_train, X_test, y_train, y_test = train_test_split(X_rfe, y, test_size=0.3)"
   ]
  },
  {
   "cell_type": "code",
   "execution_count": 232,
   "metadata": {},
   "outputs": [
    {
     "name": "stdout",
     "output_type": "stream",
     "text": [
      "Logistic Regression\n",
      "accuracy:  0.7608695652173914\n",
      "precision:  0.6399082568807339\n",
      "recall:  0.5386100386100386\n",
      "f1_score:  0.7547503793832595 \n",
      "\n",
      "\n"
     ]
    },
    {
     "data": {
      "text/html": [
       "<style>#sk-container-id-15 {color: black;}#sk-container-id-15 pre{padding: 0;}#sk-container-id-15 div.sk-toggleable {background-color: white;}#sk-container-id-15 label.sk-toggleable__label {cursor: pointer;display: block;width: 100%;margin-bottom: 0;padding: 0.3em;box-sizing: border-box;text-align: center;}#sk-container-id-15 label.sk-toggleable__label-arrow:before {content: \"▸\";float: left;margin-right: 0.25em;color: #696969;}#sk-container-id-15 label.sk-toggleable__label-arrow:hover:before {color: black;}#sk-container-id-15 div.sk-estimator:hover label.sk-toggleable__label-arrow:before {color: black;}#sk-container-id-15 div.sk-toggleable__content {max-height: 0;max-width: 0;overflow: hidden;text-align: left;background-color: #f0f8ff;}#sk-container-id-15 div.sk-toggleable__content pre {margin: 0.2em;color: black;border-radius: 0.25em;background-color: #f0f8ff;}#sk-container-id-15 input.sk-toggleable__control:checked~div.sk-toggleable__content {max-height: 200px;max-width: 100%;overflow: auto;}#sk-container-id-15 input.sk-toggleable__control:checked~label.sk-toggleable__label-arrow:before {content: \"▾\";}#sk-container-id-15 div.sk-estimator input.sk-toggleable__control:checked~label.sk-toggleable__label {background-color: #d4ebff;}#sk-container-id-15 div.sk-label input.sk-toggleable__control:checked~label.sk-toggleable__label {background-color: #d4ebff;}#sk-container-id-15 input.sk-hidden--visually {border: 0;clip: rect(1px 1px 1px 1px);clip: rect(1px, 1px, 1px, 1px);height: 1px;margin: -1px;overflow: hidden;padding: 0;position: absolute;width: 1px;}#sk-container-id-15 div.sk-estimator {font-family: monospace;background-color: #f0f8ff;border: 1px dotted black;border-radius: 0.25em;box-sizing: border-box;margin-bottom: 0.5em;}#sk-container-id-15 div.sk-estimator:hover {background-color: #d4ebff;}#sk-container-id-15 div.sk-parallel-item::after {content: \"\";width: 100%;border-bottom: 1px solid gray;flex-grow: 1;}#sk-container-id-15 div.sk-label:hover label.sk-toggleable__label {background-color: #d4ebff;}#sk-container-id-15 div.sk-serial::before {content: \"\";position: absolute;border-left: 1px solid gray;box-sizing: border-box;top: 0;bottom: 0;left: 50%;z-index: 0;}#sk-container-id-15 div.sk-serial {display: flex;flex-direction: column;align-items: center;background-color: white;padding-right: 0.2em;padding-left: 0.2em;position: relative;}#sk-container-id-15 div.sk-item {position: relative;z-index: 1;}#sk-container-id-15 div.sk-parallel {display: flex;align-items: stretch;justify-content: center;background-color: white;position: relative;}#sk-container-id-15 div.sk-item::before, #sk-container-id-15 div.sk-parallel-item::before {content: \"\";position: absolute;border-left: 1px solid gray;box-sizing: border-box;top: 0;bottom: 0;left: 50%;z-index: -1;}#sk-container-id-15 div.sk-parallel-item {display: flex;flex-direction: column;z-index: 1;position: relative;background-color: white;}#sk-container-id-15 div.sk-parallel-item:first-child::after {align-self: flex-end;width: 50%;}#sk-container-id-15 div.sk-parallel-item:last-child::after {align-self: flex-start;width: 50%;}#sk-container-id-15 div.sk-parallel-item:only-child::after {width: 0;}#sk-container-id-15 div.sk-dashed-wrapped {border: 1px dashed gray;margin: 0 0.4em 0.5em 0.4em;box-sizing: border-box;padding-bottom: 0.4em;background-color: white;}#sk-container-id-15 div.sk-label label {font-family: monospace;font-weight: bold;display: inline-block;line-height: 1.2em;}#sk-container-id-15 div.sk-label-container {text-align: center;}#sk-container-id-15 div.sk-container {/* jupyter's `normalize.less` sets `[hidden] { display: none; }` but bootstrap.min.css set `[hidden] { display: none !important; }` so we also need the `!important` here to be able to override the default hidden behavior on the sphinx rendered scikit-learn.org. See: https://github.com/scikit-learn/scikit-learn/issues/21755 */display: inline-block !important;position: relative;}#sk-container-id-15 div.sk-text-repr-fallback {display: none;}</style><div id=\"sk-container-id-15\" class=\"sk-top-container\"><div class=\"sk-text-repr-fallback\"><pre>LogisticRegression()</pre><b>In a Jupyter environment, please rerun this cell to show the HTML representation or trust the notebook. <br />On GitHub, the HTML representation is unable to render, please try loading this page with nbviewer.org.</b></div><div class=\"sk-container\" hidden><div class=\"sk-item\"><div class=\"sk-estimator sk-toggleable\"><input class=\"sk-toggleable__control sk-hidden--visually\" id=\"sk-estimator-id-15\" type=\"checkbox\" checked><label for=\"sk-estimator-id-15\" class=\"sk-toggleable__label sk-toggleable__label-arrow\">LogisticRegression</label><div class=\"sk-toggleable__content\"><pre>LogisticRegression()</pre></div></div></div></div></div>"
      ],
      "text/plain": [
       "LogisticRegression()"
      ]
     },
     "execution_count": 232,
     "metadata": {},
     "output_type": "execute_result"
    }
   ],
   "source": [
    "#Logistic Regression\n",
    "modeling(LogisticRegression, \"Logistic Regression\")"
   ]
  },
  {
   "cell_type": "code",
   "execution_count": 233,
   "metadata": {},
   "outputs": [
    {
     "name": "stdout",
     "output_type": "stream",
     "text": [
      "Support Vector Classification\n",
      "accuracy:  0.7475845410628019\n",
      "precision:  0.6201923076923077\n",
      "recall:  0.4980694980694981\n",
      "f1_score:  0.7392151359079605 \n",
      "\n",
      "\n"
     ]
    },
    {
     "data": {
      "text/html": [
       "<style>#sk-container-id-16 {color: black;}#sk-container-id-16 pre{padding: 0;}#sk-container-id-16 div.sk-toggleable {background-color: white;}#sk-container-id-16 label.sk-toggleable__label {cursor: pointer;display: block;width: 100%;margin-bottom: 0;padding: 0.3em;box-sizing: border-box;text-align: center;}#sk-container-id-16 label.sk-toggleable__label-arrow:before {content: \"▸\";float: left;margin-right: 0.25em;color: #696969;}#sk-container-id-16 label.sk-toggleable__label-arrow:hover:before {color: black;}#sk-container-id-16 div.sk-estimator:hover label.sk-toggleable__label-arrow:before {color: black;}#sk-container-id-16 div.sk-toggleable__content {max-height: 0;max-width: 0;overflow: hidden;text-align: left;background-color: #f0f8ff;}#sk-container-id-16 div.sk-toggleable__content pre {margin: 0.2em;color: black;border-radius: 0.25em;background-color: #f0f8ff;}#sk-container-id-16 input.sk-toggleable__control:checked~div.sk-toggleable__content {max-height: 200px;max-width: 100%;overflow: auto;}#sk-container-id-16 input.sk-toggleable__control:checked~label.sk-toggleable__label-arrow:before {content: \"▾\";}#sk-container-id-16 div.sk-estimator input.sk-toggleable__control:checked~label.sk-toggleable__label {background-color: #d4ebff;}#sk-container-id-16 div.sk-label input.sk-toggleable__control:checked~label.sk-toggleable__label {background-color: #d4ebff;}#sk-container-id-16 input.sk-hidden--visually {border: 0;clip: rect(1px 1px 1px 1px);clip: rect(1px, 1px, 1px, 1px);height: 1px;margin: -1px;overflow: hidden;padding: 0;position: absolute;width: 1px;}#sk-container-id-16 div.sk-estimator {font-family: monospace;background-color: #f0f8ff;border: 1px dotted black;border-radius: 0.25em;box-sizing: border-box;margin-bottom: 0.5em;}#sk-container-id-16 div.sk-estimator:hover {background-color: #d4ebff;}#sk-container-id-16 div.sk-parallel-item::after {content: \"\";width: 100%;border-bottom: 1px solid gray;flex-grow: 1;}#sk-container-id-16 div.sk-label:hover label.sk-toggleable__label {background-color: #d4ebff;}#sk-container-id-16 div.sk-serial::before {content: \"\";position: absolute;border-left: 1px solid gray;box-sizing: border-box;top: 0;bottom: 0;left: 50%;z-index: 0;}#sk-container-id-16 div.sk-serial {display: flex;flex-direction: column;align-items: center;background-color: white;padding-right: 0.2em;padding-left: 0.2em;position: relative;}#sk-container-id-16 div.sk-item {position: relative;z-index: 1;}#sk-container-id-16 div.sk-parallel {display: flex;align-items: stretch;justify-content: center;background-color: white;position: relative;}#sk-container-id-16 div.sk-item::before, #sk-container-id-16 div.sk-parallel-item::before {content: \"\";position: absolute;border-left: 1px solid gray;box-sizing: border-box;top: 0;bottom: 0;left: 50%;z-index: -1;}#sk-container-id-16 div.sk-parallel-item {display: flex;flex-direction: column;z-index: 1;position: relative;background-color: white;}#sk-container-id-16 div.sk-parallel-item:first-child::after {align-self: flex-end;width: 50%;}#sk-container-id-16 div.sk-parallel-item:last-child::after {align-self: flex-start;width: 50%;}#sk-container-id-16 div.sk-parallel-item:only-child::after {width: 0;}#sk-container-id-16 div.sk-dashed-wrapped {border: 1px dashed gray;margin: 0 0.4em 0.5em 0.4em;box-sizing: border-box;padding-bottom: 0.4em;background-color: white;}#sk-container-id-16 div.sk-label label {font-family: monospace;font-weight: bold;display: inline-block;line-height: 1.2em;}#sk-container-id-16 div.sk-label-container {text-align: center;}#sk-container-id-16 div.sk-container {/* jupyter's `normalize.less` sets `[hidden] { display: none; }` but bootstrap.min.css set `[hidden] { display: none !important; }` so we also need the `!important` here to be able to override the default hidden behavior on the sphinx rendered scikit-learn.org. See: https://github.com/scikit-learn/scikit-learn/issues/21755 */display: inline-block !important;position: relative;}#sk-container-id-16 div.sk-text-repr-fallback {display: none;}</style><div id=\"sk-container-id-16\" class=\"sk-top-container\"><div class=\"sk-text-repr-fallback\"><pre>SVC()</pre><b>In a Jupyter environment, please rerun this cell to show the HTML representation or trust the notebook. <br />On GitHub, the HTML representation is unable to render, please try loading this page with nbviewer.org.</b></div><div class=\"sk-container\" hidden><div class=\"sk-item\"><div class=\"sk-estimator sk-toggleable\"><input class=\"sk-toggleable__control sk-hidden--visually\" id=\"sk-estimator-id-16\" type=\"checkbox\" checked><label for=\"sk-estimator-id-16\" class=\"sk-toggleable__label sk-toggleable__label-arrow\">SVC</label><div class=\"sk-toggleable__content\"><pre>SVC()</pre></div></div></div></div></div>"
      ],
      "text/plain": [
       "SVC()"
      ]
     },
     "execution_count": 233,
     "metadata": {},
     "output_type": "execute_result"
    }
   ],
   "source": [
    "modeling(SVC, \"Support Vector Classification\")"
   ]
  },
  {
   "cell_type": "code",
   "execution_count": 234,
   "metadata": {},
   "outputs": [
    {
     "name": "stdout",
     "output_type": "stream",
     "text": [
      "Random Forest\n",
      "accuracy:  0.7421497584541062\n",
      "precision:  0.6096385542168675\n",
      "recall:  0.48841698841698844\n",
      "f1_score:  0.733498745172169 \n",
      "\n",
      "\n"
     ]
    },
    {
     "data": {
      "text/html": [
       "<style>#sk-container-id-17 {color: black;}#sk-container-id-17 pre{padding: 0;}#sk-container-id-17 div.sk-toggleable {background-color: white;}#sk-container-id-17 label.sk-toggleable__label {cursor: pointer;display: block;width: 100%;margin-bottom: 0;padding: 0.3em;box-sizing: border-box;text-align: center;}#sk-container-id-17 label.sk-toggleable__label-arrow:before {content: \"▸\";float: left;margin-right: 0.25em;color: #696969;}#sk-container-id-17 label.sk-toggleable__label-arrow:hover:before {color: black;}#sk-container-id-17 div.sk-estimator:hover label.sk-toggleable__label-arrow:before {color: black;}#sk-container-id-17 div.sk-toggleable__content {max-height: 0;max-width: 0;overflow: hidden;text-align: left;background-color: #f0f8ff;}#sk-container-id-17 div.sk-toggleable__content pre {margin: 0.2em;color: black;border-radius: 0.25em;background-color: #f0f8ff;}#sk-container-id-17 input.sk-toggleable__control:checked~div.sk-toggleable__content {max-height: 200px;max-width: 100%;overflow: auto;}#sk-container-id-17 input.sk-toggleable__control:checked~label.sk-toggleable__label-arrow:before {content: \"▾\";}#sk-container-id-17 div.sk-estimator input.sk-toggleable__control:checked~label.sk-toggleable__label {background-color: #d4ebff;}#sk-container-id-17 div.sk-label input.sk-toggleable__control:checked~label.sk-toggleable__label {background-color: #d4ebff;}#sk-container-id-17 input.sk-hidden--visually {border: 0;clip: rect(1px 1px 1px 1px);clip: rect(1px, 1px, 1px, 1px);height: 1px;margin: -1px;overflow: hidden;padding: 0;position: absolute;width: 1px;}#sk-container-id-17 div.sk-estimator {font-family: monospace;background-color: #f0f8ff;border: 1px dotted black;border-radius: 0.25em;box-sizing: border-box;margin-bottom: 0.5em;}#sk-container-id-17 div.sk-estimator:hover {background-color: #d4ebff;}#sk-container-id-17 div.sk-parallel-item::after {content: \"\";width: 100%;border-bottom: 1px solid gray;flex-grow: 1;}#sk-container-id-17 div.sk-label:hover label.sk-toggleable__label {background-color: #d4ebff;}#sk-container-id-17 div.sk-serial::before {content: \"\";position: absolute;border-left: 1px solid gray;box-sizing: border-box;top: 0;bottom: 0;left: 50%;z-index: 0;}#sk-container-id-17 div.sk-serial {display: flex;flex-direction: column;align-items: center;background-color: white;padding-right: 0.2em;padding-left: 0.2em;position: relative;}#sk-container-id-17 div.sk-item {position: relative;z-index: 1;}#sk-container-id-17 div.sk-parallel {display: flex;align-items: stretch;justify-content: center;background-color: white;position: relative;}#sk-container-id-17 div.sk-item::before, #sk-container-id-17 div.sk-parallel-item::before {content: \"\";position: absolute;border-left: 1px solid gray;box-sizing: border-box;top: 0;bottom: 0;left: 50%;z-index: -1;}#sk-container-id-17 div.sk-parallel-item {display: flex;flex-direction: column;z-index: 1;position: relative;background-color: white;}#sk-container-id-17 div.sk-parallel-item:first-child::after {align-self: flex-end;width: 50%;}#sk-container-id-17 div.sk-parallel-item:last-child::after {align-self: flex-start;width: 50%;}#sk-container-id-17 div.sk-parallel-item:only-child::after {width: 0;}#sk-container-id-17 div.sk-dashed-wrapped {border: 1px dashed gray;margin: 0 0.4em 0.5em 0.4em;box-sizing: border-box;padding-bottom: 0.4em;background-color: white;}#sk-container-id-17 div.sk-label label {font-family: monospace;font-weight: bold;display: inline-block;line-height: 1.2em;}#sk-container-id-17 div.sk-label-container {text-align: center;}#sk-container-id-17 div.sk-container {/* jupyter's `normalize.less` sets `[hidden] { display: none; }` but bootstrap.min.css set `[hidden] { display: none !important; }` so we also need the `!important` here to be able to override the default hidden behavior on the sphinx rendered scikit-learn.org. See: https://github.com/scikit-learn/scikit-learn/issues/21755 */display: inline-block !important;position: relative;}#sk-container-id-17 div.sk-text-repr-fallback {display: none;}</style><div id=\"sk-container-id-17\" class=\"sk-top-container\"><div class=\"sk-text-repr-fallback\"><pre>RandomForestClassifier()</pre><b>In a Jupyter environment, please rerun this cell to show the HTML representation or trust the notebook. <br />On GitHub, the HTML representation is unable to render, please try loading this page with nbviewer.org.</b></div><div class=\"sk-container\" hidden><div class=\"sk-item\"><div class=\"sk-estimator sk-toggleable\"><input class=\"sk-toggleable__control sk-hidden--visually\" id=\"sk-estimator-id-17\" type=\"checkbox\" checked><label for=\"sk-estimator-id-17\" class=\"sk-toggleable__label sk-toggleable__label-arrow\">RandomForestClassifier</label><div class=\"sk-toggleable__content\"><pre>RandomForestClassifier()</pre></div></div></div></div></div>"
      ],
      "text/plain": [
       "RandomForestClassifier()"
      ]
     },
     "execution_count": 234,
     "metadata": {},
     "output_type": "execute_result"
    }
   ],
   "source": [
    "modeling(RandomForestClassifier, \"Random Forest\")"
   ]
  },
  {
   "cell_type": "code",
   "execution_count": 235,
   "metadata": {},
   "outputs": [
    {
     "name": "stdout",
     "output_type": "stream",
     "text": [
      "Decision Tree\n",
      "accuracy:  0.6733091787439613\n",
      "precision:  0.4772277227722772\n",
      "recall:  0.46525096525096526\n",
      "f1_score:  0.6721611240764064 \n",
      "\n",
      "\n"
     ]
    },
    {
     "data": {
      "text/html": [
       "<style>#sk-container-id-18 {color: black;}#sk-container-id-18 pre{padding: 0;}#sk-container-id-18 div.sk-toggleable {background-color: white;}#sk-container-id-18 label.sk-toggleable__label {cursor: pointer;display: block;width: 100%;margin-bottom: 0;padding: 0.3em;box-sizing: border-box;text-align: center;}#sk-container-id-18 label.sk-toggleable__label-arrow:before {content: \"▸\";float: left;margin-right: 0.25em;color: #696969;}#sk-container-id-18 label.sk-toggleable__label-arrow:hover:before {color: black;}#sk-container-id-18 div.sk-estimator:hover label.sk-toggleable__label-arrow:before {color: black;}#sk-container-id-18 div.sk-toggleable__content {max-height: 0;max-width: 0;overflow: hidden;text-align: left;background-color: #f0f8ff;}#sk-container-id-18 div.sk-toggleable__content pre {margin: 0.2em;color: black;border-radius: 0.25em;background-color: #f0f8ff;}#sk-container-id-18 input.sk-toggleable__control:checked~div.sk-toggleable__content {max-height: 200px;max-width: 100%;overflow: auto;}#sk-container-id-18 input.sk-toggleable__control:checked~label.sk-toggleable__label-arrow:before {content: \"▾\";}#sk-container-id-18 div.sk-estimator input.sk-toggleable__control:checked~label.sk-toggleable__label {background-color: #d4ebff;}#sk-container-id-18 div.sk-label input.sk-toggleable__control:checked~label.sk-toggleable__label {background-color: #d4ebff;}#sk-container-id-18 input.sk-hidden--visually {border: 0;clip: rect(1px 1px 1px 1px);clip: rect(1px, 1px, 1px, 1px);height: 1px;margin: -1px;overflow: hidden;padding: 0;position: absolute;width: 1px;}#sk-container-id-18 div.sk-estimator {font-family: monospace;background-color: #f0f8ff;border: 1px dotted black;border-radius: 0.25em;box-sizing: border-box;margin-bottom: 0.5em;}#sk-container-id-18 div.sk-estimator:hover {background-color: #d4ebff;}#sk-container-id-18 div.sk-parallel-item::after {content: \"\";width: 100%;border-bottom: 1px solid gray;flex-grow: 1;}#sk-container-id-18 div.sk-label:hover label.sk-toggleable__label {background-color: #d4ebff;}#sk-container-id-18 div.sk-serial::before {content: \"\";position: absolute;border-left: 1px solid gray;box-sizing: border-box;top: 0;bottom: 0;left: 50%;z-index: 0;}#sk-container-id-18 div.sk-serial {display: flex;flex-direction: column;align-items: center;background-color: white;padding-right: 0.2em;padding-left: 0.2em;position: relative;}#sk-container-id-18 div.sk-item {position: relative;z-index: 1;}#sk-container-id-18 div.sk-parallel {display: flex;align-items: stretch;justify-content: center;background-color: white;position: relative;}#sk-container-id-18 div.sk-item::before, #sk-container-id-18 div.sk-parallel-item::before {content: \"\";position: absolute;border-left: 1px solid gray;box-sizing: border-box;top: 0;bottom: 0;left: 50%;z-index: -1;}#sk-container-id-18 div.sk-parallel-item {display: flex;flex-direction: column;z-index: 1;position: relative;background-color: white;}#sk-container-id-18 div.sk-parallel-item:first-child::after {align-self: flex-end;width: 50%;}#sk-container-id-18 div.sk-parallel-item:last-child::after {align-self: flex-start;width: 50%;}#sk-container-id-18 div.sk-parallel-item:only-child::after {width: 0;}#sk-container-id-18 div.sk-dashed-wrapped {border: 1px dashed gray;margin: 0 0.4em 0.5em 0.4em;box-sizing: border-box;padding-bottom: 0.4em;background-color: white;}#sk-container-id-18 div.sk-label label {font-family: monospace;font-weight: bold;display: inline-block;line-height: 1.2em;}#sk-container-id-18 div.sk-label-container {text-align: center;}#sk-container-id-18 div.sk-container {/* jupyter's `normalize.less` sets `[hidden] { display: none; }` but bootstrap.min.css set `[hidden] { display: none !important; }` so we also need the `!important` here to be able to override the default hidden behavior on the sphinx rendered scikit-learn.org. See: https://github.com/scikit-learn/scikit-learn/issues/21755 */display: inline-block !important;position: relative;}#sk-container-id-18 div.sk-text-repr-fallback {display: none;}</style><div id=\"sk-container-id-18\" class=\"sk-top-container\"><div class=\"sk-text-repr-fallback\"><pre>DecisionTreeClassifier()</pre><b>In a Jupyter environment, please rerun this cell to show the HTML representation or trust the notebook. <br />On GitHub, the HTML representation is unable to render, please try loading this page with nbviewer.org.</b></div><div class=\"sk-container\" hidden><div class=\"sk-item\"><div class=\"sk-estimator sk-toggleable\"><input class=\"sk-toggleable__control sk-hidden--visually\" id=\"sk-estimator-id-18\" type=\"checkbox\" checked><label for=\"sk-estimator-id-18\" class=\"sk-toggleable__label sk-toggleable__label-arrow\">DecisionTreeClassifier</label><div class=\"sk-toggleable__content\"><pre>DecisionTreeClassifier()</pre></div></div></div></div></div>"
      ],
      "text/plain": [
       "DecisionTreeClassifier()"
      ]
     },
     "execution_count": 235,
     "metadata": {},
     "output_type": "execute_result"
    }
   ],
   "source": [
    "modeling(DecisionTreeClassifier, \"Decision Tree\")"
   ]
  },
  {
   "cell_type": "code",
   "execution_count": 236,
   "metadata": {},
   "outputs": [
    {
     "name": "stdout",
     "output_type": "stream",
     "text": [
      "Gaussian Naive Bayes\n",
      "accuracy:  0.7131642512077294\n",
      "precision:  0.5276705276705277\n",
      "recall:  0.7915057915057915\n",
      "f1_score:  0.7234317480162579 \n",
      "\n",
      "\n"
     ]
    },
    {
     "data": {
      "text/html": [
       "<style>#sk-container-id-19 {color: black;}#sk-container-id-19 pre{padding: 0;}#sk-container-id-19 div.sk-toggleable {background-color: white;}#sk-container-id-19 label.sk-toggleable__label {cursor: pointer;display: block;width: 100%;margin-bottom: 0;padding: 0.3em;box-sizing: border-box;text-align: center;}#sk-container-id-19 label.sk-toggleable__label-arrow:before {content: \"▸\";float: left;margin-right: 0.25em;color: #696969;}#sk-container-id-19 label.sk-toggleable__label-arrow:hover:before {color: black;}#sk-container-id-19 div.sk-estimator:hover label.sk-toggleable__label-arrow:before {color: black;}#sk-container-id-19 div.sk-toggleable__content {max-height: 0;max-width: 0;overflow: hidden;text-align: left;background-color: #f0f8ff;}#sk-container-id-19 div.sk-toggleable__content pre {margin: 0.2em;color: black;border-radius: 0.25em;background-color: #f0f8ff;}#sk-container-id-19 input.sk-toggleable__control:checked~div.sk-toggleable__content {max-height: 200px;max-width: 100%;overflow: auto;}#sk-container-id-19 input.sk-toggleable__control:checked~label.sk-toggleable__label-arrow:before {content: \"▾\";}#sk-container-id-19 div.sk-estimator input.sk-toggleable__control:checked~label.sk-toggleable__label {background-color: #d4ebff;}#sk-container-id-19 div.sk-label input.sk-toggleable__control:checked~label.sk-toggleable__label {background-color: #d4ebff;}#sk-container-id-19 input.sk-hidden--visually {border: 0;clip: rect(1px 1px 1px 1px);clip: rect(1px, 1px, 1px, 1px);height: 1px;margin: -1px;overflow: hidden;padding: 0;position: absolute;width: 1px;}#sk-container-id-19 div.sk-estimator {font-family: monospace;background-color: #f0f8ff;border: 1px dotted black;border-radius: 0.25em;box-sizing: border-box;margin-bottom: 0.5em;}#sk-container-id-19 div.sk-estimator:hover {background-color: #d4ebff;}#sk-container-id-19 div.sk-parallel-item::after {content: \"\";width: 100%;border-bottom: 1px solid gray;flex-grow: 1;}#sk-container-id-19 div.sk-label:hover label.sk-toggleable__label {background-color: #d4ebff;}#sk-container-id-19 div.sk-serial::before {content: \"\";position: absolute;border-left: 1px solid gray;box-sizing: border-box;top: 0;bottom: 0;left: 50%;z-index: 0;}#sk-container-id-19 div.sk-serial {display: flex;flex-direction: column;align-items: center;background-color: white;padding-right: 0.2em;padding-left: 0.2em;position: relative;}#sk-container-id-19 div.sk-item {position: relative;z-index: 1;}#sk-container-id-19 div.sk-parallel {display: flex;align-items: stretch;justify-content: center;background-color: white;position: relative;}#sk-container-id-19 div.sk-item::before, #sk-container-id-19 div.sk-parallel-item::before {content: \"\";position: absolute;border-left: 1px solid gray;box-sizing: border-box;top: 0;bottom: 0;left: 50%;z-index: -1;}#sk-container-id-19 div.sk-parallel-item {display: flex;flex-direction: column;z-index: 1;position: relative;background-color: white;}#sk-container-id-19 div.sk-parallel-item:first-child::after {align-self: flex-end;width: 50%;}#sk-container-id-19 div.sk-parallel-item:last-child::after {align-self: flex-start;width: 50%;}#sk-container-id-19 div.sk-parallel-item:only-child::after {width: 0;}#sk-container-id-19 div.sk-dashed-wrapped {border: 1px dashed gray;margin: 0 0.4em 0.5em 0.4em;box-sizing: border-box;padding-bottom: 0.4em;background-color: white;}#sk-container-id-19 div.sk-label label {font-family: monospace;font-weight: bold;display: inline-block;line-height: 1.2em;}#sk-container-id-19 div.sk-label-container {text-align: center;}#sk-container-id-19 div.sk-container {/* jupyter's `normalize.less` sets `[hidden] { display: none; }` but bootstrap.min.css set `[hidden] { display: none !important; }` so we also need the `!important` here to be able to override the default hidden behavior on the sphinx rendered scikit-learn.org. See: https://github.com/scikit-learn/scikit-learn/issues/21755 */display: inline-block !important;position: relative;}#sk-container-id-19 div.sk-text-repr-fallback {display: none;}</style><div id=\"sk-container-id-19\" class=\"sk-top-container\"><div class=\"sk-text-repr-fallback\"><pre>GaussianNB()</pre><b>In a Jupyter environment, please rerun this cell to show the HTML representation or trust the notebook. <br />On GitHub, the HTML representation is unable to render, please try loading this page with nbviewer.org.</b></div><div class=\"sk-container\" hidden><div class=\"sk-item\"><div class=\"sk-estimator sk-toggleable\"><input class=\"sk-toggleable__control sk-hidden--visually\" id=\"sk-estimator-id-19\" type=\"checkbox\" checked><label for=\"sk-estimator-id-19\" class=\"sk-toggleable__label sk-toggleable__label-arrow\">GaussianNB</label><div class=\"sk-toggleable__content\"><pre>GaussianNB()</pre></div></div></div></div></div>"
      ],
      "text/plain": [
       "GaussianNB()"
      ]
     },
     "execution_count": 236,
     "metadata": {},
     "output_type": "execute_result"
    }
   ],
   "source": [
    "modeling(GaussianNB, \"Gaussian Naive Bayes\")"
   ]
  },
  {
   "cell_type": "markdown",
   "metadata": {},
   "source": [
    "The best performing model: Logistic Regression model (According to my results, by the way). <br> But it could be better. So we are going to improve it by hyperparameter tuning."
   ]
  },
  {
   "cell_type": "code",
   "execution_count": 237,
   "metadata": {},
   "outputs": [
    {
     "name": "stdout",
     "output_type": "stream",
     "text": [
      "Best Score: 0.7718523413731729\n",
      "Best Hyperparameters: {'C': 8.752228362092895, 'penalty': 'l2', 'solver': 'saga'}\n"
     ]
    }
   ],
   "source": [
    "from sklearn.linear_model import LogisticRegression\n",
    "from sklearn.model_selection import RepeatedStratifiedKFold, RandomizedSearchCV\n",
    "from scipy.stats import loguniform\n",
    "\n",
    "# List of solvers for logistic regression models\n",
    "solvers = ['liblinear', 'newton-cg', 'lbfgs', 'sag', 'saga']\n",
    "\n",
    "# Dictionary mapping each solver to its compatible penalties\n",
    "solver_penalties = {\n",
    "    'liblinear': ['l1', 'l2'],\n",
    "    'newton-cg': ['l2'],\n",
    "    'lbfgs': ['l2'],\n",
    "    'sag': ['l2'],\n",
    "    'saga': ['l1', 'l2', 'elasticnet']\n",
    "}\n",
    "\n",
    "# Get compatible penalties for all solvers\n",
    "compatible_penalties = list(set.intersection(*[set(penalties) for penalties in solver_penalties.values()]))\n",
    "\n",
    "# define evaluation\n",
    "cv = RepeatedStratifiedKFold(n_splits=10, n_repeats=3, random_state=1)\n",
    "\n",
    "# define search space\n",
    "space = {\n",
    "    'solver': solvers,\n",
    "    'penalty': compatible_penalties,\n",
    "    'C': loguniform(1e-5, 1000)\n",
    "}\n",
    "\n",
    "# define search\n",
    "model = LogisticRegression()\n",
    "search = RandomizedSearchCV(model, space, n_iter=500, scoring='accuracy', n_jobs=-1, cv=cv, random_state=1)\n",
    "\n",
    "# execute search\n",
    "result = search.fit(X_rfe, y)\n",
    "\n",
    "# summarize result\n",
    "params = result.best_params_\n",
    "print('Best Score: %s' % result.best_score_)\n",
    "print('Best Hyperparameters: %s' % params)\n"
   ]
  },
  {
   "cell_type": "code",
   "execution_count": 238,
   "metadata": {},
   "outputs": [
    {
     "name": "stdout",
     "output_type": "stream",
     "text": [
      "{'C': 8.752228362092895, 'penalty': 'l2', 'solver': 'saga'}\n"
     ]
    }
   ],
   "source": [
    "print(params)"
   ]
  },
  {
   "cell_type": "code",
   "execution_count": 239,
   "metadata": {},
   "outputs": [
    {
     "name": "stdout",
     "output_type": "stream",
     "text": [
      "Logistic Regression\n",
      "accuracy:  0.7614734299516909\n",
      "precision:  0.6394557823129252\n",
      "recall:  0.5444015444015444\n",
      "f1_score:  0.7558003391852507 \n",
      "\n",
      "\n"
     ]
    },
    {
     "name": "stderr",
     "output_type": "stream",
     "text": [
      "C:\\Users\\Adedara\\AppData\\Roaming\\Python\\Python312\\site-packages\\sklearn\\linear_model\\_sag.py:350: ConvergenceWarning:\n",
      "\n",
      "The max_iter was reached which means the coef_ did not converge\n",
      "\n"
     ]
    }
   ],
   "source": [
    "log_model = modeling(LogisticRegression, \"Logistic Regression\",params=params)"
   ]
  },
  {
   "cell_type": "code",
   "execution_count": 240,
   "metadata": {},
   "outputs": [
    {
     "data": {
      "text/plain": [
       "['pickle_files/scaler.save']"
      ]
     },
     "execution_count": 240,
     "metadata": {},
     "output_type": "execute_result"
    }
   ],
   "source": [
    "import joblib\n",
    "\n",
    "model = \"pickle_files/Logmodel.save\"\n",
    "scaler = \"pickle_files/scaler.save\"\n",
    "joblib.dump(log_model, model)\n",
    "joblib.dump(sc, scaler)"
   ]
  }
 ],
 "metadata": {
  "kernelspec": {
   "display_name": "Python 3",
   "language": "python",
   "name": "python3"
  },
  "language_info": {
   "codemirror_mode": {
    "name": "ipython",
    "version": 3
   },
   "file_extension": ".py",
   "mimetype": "text/x-python",
   "name": "python",
   "nbconvert_exporter": "python",
   "pygments_lexer": "ipython3",
   "version": "3.12.0"
  }
 },
 "nbformat": 4,
 "nbformat_minor": 2
}
